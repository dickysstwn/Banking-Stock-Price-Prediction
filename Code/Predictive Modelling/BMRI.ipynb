{
  "nbformat": 4,
  "nbformat_minor": 0,
  "metadata": {
    "colab": {
      "provenance": []
    },
    "kernelspec": {
      "name": "python3",
      "display_name": "Python 3"
    },
    "language_info": {
      "name": "python"
    }
  },
  "cells": [
    {
      "cell_type": "markdown",
      "source": [
        "# **Stock (BMRI) Predictive Modelling**"
      ],
      "metadata": {
        "id": "KzE8pRhaC_T_"
      }
    },
    {
      "cell_type": "markdown",
      "source": [
        "## **Data Load & Understanding**"
      ],
      "metadata": {
        "id": "Ukec2hEYDHZZ"
      }
    },
    {
      "cell_type": "code",
      "execution_count": null,
      "metadata": {
        "id": "QnG8pxmUAnHP"
      },
      "outputs": [],
      "source": [
        "import os\n",
        "import pandas as pd\n",
        "import numpy as np\n",
        "import matplotlib.pyplot as plt\n",
        "import matplotlib.dates as mdates"
      ]
    },
    {
      "cell_type": "code",
      "source": [
        "# Connecting Google Drive and Google Colab\n",
        "from google.colab import drive\n",
        "drive.mount('/content/gdrive')\n",
        "\n",
        "# Retrieve the dataset\n",
        "dataset = '/content/gdrive/MyDrive/Project/Stock Prediction/Data/Cleaned Data/BMRI_Cleaned.csv'\n",
        "df = pd.read_csv(dataset)"
      ],
      "metadata": {
        "colab": {
          "base_uri": "https://localhost:8080/"
        },
        "id": "jwaY7SaFA9rj",
        "outputId": "15f478d3-81a7-433e-c0f7-811888a1db21"
      },
      "execution_count": null,
      "outputs": [
        {
          "output_type": "stream",
          "name": "stdout",
          "text": [
            "Mounted at /content/gdrive\n"
          ]
        }
      ]
    },
    {
      "cell_type": "markdown",
      "source": [
        "The data used in the research in this code is data that has been cleaned/pre-processed, so that the existing data is ready to be used in the modeling stage."
      ],
      "metadata": {
        "id": "34lJ4P7zDjR9"
      }
    },
    {
      "cell_type": "code",
      "source": [
        "# Display the contents of the dataset as a whole\n",
        "df"
      ],
      "metadata": {
        "colab": {
          "base_uri": "https://localhost:8080/",
          "height": 424
        },
        "id": "kRMHIR2XB4RH",
        "outputId": "292acfa6-db64-4317-f289-6cd15749c3ce"
      },
      "execution_count": null,
      "outputs": [
        {
          "output_type": "execute_result",
          "data": {
            "text/plain": [
              "            Date    Open    High     Low   Close    Adj Close    Volume\n",
              "0     2018-12-31  3687.5  3687.5  3687.5  3687.5  2986.018799         0\n",
              "1     2019-01-01  3687.5  3687.5  3687.5  3687.5  2986.018799         0\n",
              "2     2019-01-02  3700.0  3700.0  3625.0  3662.5  2965.774414  45319200\n",
              "3     2019-01-03  3637.5  3675.0  3550.0  3587.5  2905.041992  74174000\n",
              "4     2019-01-04  3587.5  3725.0  3575.0  3725.0  3016.385254  78514000\n",
              "...          ...     ...     ...     ...     ...          ...       ...\n",
              "1227  2023-12-21  5950.0  5975.0  5925.0  5975.0  5975.000000  50363900\n",
              "1228  2023-12-22  5950.0  5975.0  5925.0  5975.0  5975.000000  29975600\n",
              "1229  2023-12-27  6000.0  6025.0  5925.0  6000.0  6000.000000  43114900\n",
              "1230  2023-12-28  6050.0  6150.0  6000.0  6125.0  6125.000000  75118700\n",
              "1231  2023-12-29  6125.0  6125.0  6000.0  6050.0  6050.000000  63097100\n",
              "\n",
              "[1232 rows x 7 columns]"
            ],
            "text/html": [
              "\n",
              "  <div id=\"df-c189f51c-b43f-4313-878f-e8b5653a73bf\" class=\"colab-df-container\">\n",
              "    <div>\n",
              "<style scoped>\n",
              "    .dataframe tbody tr th:only-of-type {\n",
              "        vertical-align: middle;\n",
              "    }\n",
              "\n",
              "    .dataframe tbody tr th {\n",
              "        vertical-align: top;\n",
              "    }\n",
              "\n",
              "    .dataframe thead th {\n",
              "        text-align: right;\n",
              "    }\n",
              "</style>\n",
              "<table border=\"1\" class=\"dataframe\">\n",
              "  <thead>\n",
              "    <tr style=\"text-align: right;\">\n",
              "      <th></th>\n",
              "      <th>Date</th>\n",
              "      <th>Open</th>\n",
              "      <th>High</th>\n",
              "      <th>Low</th>\n",
              "      <th>Close</th>\n",
              "      <th>Adj Close</th>\n",
              "      <th>Volume</th>\n",
              "    </tr>\n",
              "  </thead>\n",
              "  <tbody>\n",
              "    <tr>\n",
              "      <th>0</th>\n",
              "      <td>2018-12-31</td>\n",
              "      <td>3687.5</td>\n",
              "      <td>3687.5</td>\n",
              "      <td>3687.5</td>\n",
              "      <td>3687.5</td>\n",
              "      <td>2986.018799</td>\n",
              "      <td>0</td>\n",
              "    </tr>\n",
              "    <tr>\n",
              "      <th>1</th>\n",
              "      <td>2019-01-01</td>\n",
              "      <td>3687.5</td>\n",
              "      <td>3687.5</td>\n",
              "      <td>3687.5</td>\n",
              "      <td>3687.5</td>\n",
              "      <td>2986.018799</td>\n",
              "      <td>0</td>\n",
              "    </tr>\n",
              "    <tr>\n",
              "      <th>2</th>\n",
              "      <td>2019-01-02</td>\n",
              "      <td>3700.0</td>\n",
              "      <td>3700.0</td>\n",
              "      <td>3625.0</td>\n",
              "      <td>3662.5</td>\n",
              "      <td>2965.774414</td>\n",
              "      <td>45319200</td>\n",
              "    </tr>\n",
              "    <tr>\n",
              "      <th>3</th>\n",
              "      <td>2019-01-03</td>\n",
              "      <td>3637.5</td>\n",
              "      <td>3675.0</td>\n",
              "      <td>3550.0</td>\n",
              "      <td>3587.5</td>\n",
              "      <td>2905.041992</td>\n",
              "      <td>74174000</td>\n",
              "    </tr>\n",
              "    <tr>\n",
              "      <th>4</th>\n",
              "      <td>2019-01-04</td>\n",
              "      <td>3587.5</td>\n",
              "      <td>3725.0</td>\n",
              "      <td>3575.0</td>\n",
              "      <td>3725.0</td>\n",
              "      <td>3016.385254</td>\n",
              "      <td>78514000</td>\n",
              "    </tr>\n",
              "    <tr>\n",
              "      <th>...</th>\n",
              "      <td>...</td>\n",
              "      <td>...</td>\n",
              "      <td>...</td>\n",
              "      <td>...</td>\n",
              "      <td>...</td>\n",
              "      <td>...</td>\n",
              "      <td>...</td>\n",
              "    </tr>\n",
              "    <tr>\n",
              "      <th>1227</th>\n",
              "      <td>2023-12-21</td>\n",
              "      <td>5950.0</td>\n",
              "      <td>5975.0</td>\n",
              "      <td>5925.0</td>\n",
              "      <td>5975.0</td>\n",
              "      <td>5975.000000</td>\n",
              "      <td>50363900</td>\n",
              "    </tr>\n",
              "    <tr>\n",
              "      <th>1228</th>\n",
              "      <td>2023-12-22</td>\n",
              "      <td>5950.0</td>\n",
              "      <td>5975.0</td>\n",
              "      <td>5925.0</td>\n",
              "      <td>5975.0</td>\n",
              "      <td>5975.000000</td>\n",
              "      <td>29975600</td>\n",
              "    </tr>\n",
              "    <tr>\n",
              "      <th>1229</th>\n",
              "      <td>2023-12-27</td>\n",
              "      <td>6000.0</td>\n",
              "      <td>6025.0</td>\n",
              "      <td>5925.0</td>\n",
              "      <td>6000.0</td>\n",
              "      <td>6000.000000</td>\n",
              "      <td>43114900</td>\n",
              "    </tr>\n",
              "    <tr>\n",
              "      <th>1230</th>\n",
              "      <td>2023-12-28</td>\n",
              "      <td>6050.0</td>\n",
              "      <td>6150.0</td>\n",
              "      <td>6000.0</td>\n",
              "      <td>6125.0</td>\n",
              "      <td>6125.000000</td>\n",
              "      <td>75118700</td>\n",
              "    </tr>\n",
              "    <tr>\n",
              "      <th>1231</th>\n",
              "      <td>2023-12-29</td>\n",
              "      <td>6125.0</td>\n",
              "      <td>6125.0</td>\n",
              "      <td>6000.0</td>\n",
              "      <td>6050.0</td>\n",
              "      <td>6050.000000</td>\n",
              "      <td>63097100</td>\n",
              "    </tr>\n",
              "  </tbody>\n",
              "</table>\n",
              "<p>1232 rows × 7 columns</p>\n",
              "</div>\n",
              "    <div class=\"colab-df-buttons\">\n",
              "\n",
              "  <div class=\"colab-df-container\">\n",
              "    <button class=\"colab-df-convert\" onclick=\"convertToInteractive('df-c189f51c-b43f-4313-878f-e8b5653a73bf')\"\n",
              "            title=\"Convert this dataframe to an interactive table.\"\n",
              "            style=\"display:none;\">\n",
              "\n",
              "  <svg xmlns=\"http://www.w3.org/2000/svg\" height=\"24px\" viewBox=\"0 -960 960 960\">\n",
              "    <path d=\"M120-120v-720h720v720H120Zm60-500h600v-160H180v160Zm220 220h160v-160H400v160Zm0 220h160v-160H400v160ZM180-400h160v-160H180v160Zm440 0h160v-160H620v160ZM180-180h160v-160H180v160Zm440 0h160v-160H620v160Z\"/>\n",
              "  </svg>\n",
              "    </button>\n",
              "\n",
              "  <style>\n",
              "    .colab-df-container {\n",
              "      display:flex;\n",
              "      gap: 12px;\n",
              "    }\n",
              "\n",
              "    .colab-df-convert {\n",
              "      background-color: #E8F0FE;\n",
              "      border: none;\n",
              "      border-radius: 50%;\n",
              "      cursor: pointer;\n",
              "      display: none;\n",
              "      fill: #1967D2;\n",
              "      height: 32px;\n",
              "      padding: 0 0 0 0;\n",
              "      width: 32px;\n",
              "    }\n",
              "\n",
              "    .colab-df-convert:hover {\n",
              "      background-color: #E2EBFA;\n",
              "      box-shadow: 0px 1px 2px rgba(60, 64, 67, 0.3), 0px 1px 3px 1px rgba(60, 64, 67, 0.15);\n",
              "      fill: #174EA6;\n",
              "    }\n",
              "\n",
              "    .colab-df-buttons div {\n",
              "      margin-bottom: 4px;\n",
              "    }\n",
              "\n",
              "    [theme=dark] .colab-df-convert {\n",
              "      background-color: #3B4455;\n",
              "      fill: #D2E3FC;\n",
              "    }\n",
              "\n",
              "    [theme=dark] .colab-df-convert:hover {\n",
              "      background-color: #434B5C;\n",
              "      box-shadow: 0px 1px 3px 1px rgba(0, 0, 0, 0.15);\n",
              "      filter: drop-shadow(0px 1px 2px rgba(0, 0, 0, 0.3));\n",
              "      fill: #FFFFFF;\n",
              "    }\n",
              "  </style>\n",
              "\n",
              "    <script>\n",
              "      const buttonEl =\n",
              "        document.querySelector('#df-c189f51c-b43f-4313-878f-e8b5653a73bf button.colab-df-convert');\n",
              "      buttonEl.style.display =\n",
              "        google.colab.kernel.accessAllowed ? 'block' : 'none';\n",
              "\n",
              "      async function convertToInteractive(key) {\n",
              "        const element = document.querySelector('#df-c189f51c-b43f-4313-878f-e8b5653a73bf');\n",
              "        const dataTable =\n",
              "          await google.colab.kernel.invokeFunction('convertToInteractive',\n",
              "                                                    [key], {});\n",
              "        if (!dataTable) return;\n",
              "\n",
              "        const docLinkHtml = 'Like what you see? Visit the ' +\n",
              "          '<a target=\"_blank\" href=https://colab.research.google.com/notebooks/data_table.ipynb>data table notebook</a>'\n",
              "          + ' to learn more about interactive tables.';\n",
              "        element.innerHTML = '';\n",
              "        dataTable['output_type'] = 'display_data';\n",
              "        await google.colab.output.renderOutput(dataTable, element);\n",
              "        const docLink = document.createElement('div');\n",
              "        docLink.innerHTML = docLinkHtml;\n",
              "        element.appendChild(docLink);\n",
              "      }\n",
              "    </script>\n",
              "  </div>\n",
              "\n",
              "\n",
              "<div id=\"df-6b4a7a66-22a9-4d08-8409-5c1bd37b9781\">\n",
              "  <button class=\"colab-df-quickchart\" onclick=\"quickchart('df-6b4a7a66-22a9-4d08-8409-5c1bd37b9781')\"\n",
              "            title=\"Suggest charts\"\n",
              "            style=\"display:none;\">\n",
              "\n",
              "<svg xmlns=\"http://www.w3.org/2000/svg\" height=\"24px\"viewBox=\"0 0 24 24\"\n",
              "     width=\"24px\">\n",
              "    <g>\n",
              "        <path d=\"M19 3H5c-1.1 0-2 .9-2 2v14c0 1.1.9 2 2 2h14c1.1 0 2-.9 2-2V5c0-1.1-.9-2-2-2zM9 17H7v-7h2v7zm4 0h-2V7h2v10zm4 0h-2v-4h2v4z\"/>\n",
              "    </g>\n",
              "</svg>\n",
              "  </button>\n",
              "\n",
              "<style>\n",
              "  .colab-df-quickchart {\n",
              "      --bg-color: #E8F0FE;\n",
              "      --fill-color: #1967D2;\n",
              "      --hover-bg-color: #E2EBFA;\n",
              "      --hover-fill-color: #174EA6;\n",
              "      --disabled-fill-color: #AAA;\n",
              "      --disabled-bg-color: #DDD;\n",
              "  }\n",
              "\n",
              "  [theme=dark] .colab-df-quickchart {\n",
              "      --bg-color: #3B4455;\n",
              "      --fill-color: #D2E3FC;\n",
              "      --hover-bg-color: #434B5C;\n",
              "      --hover-fill-color: #FFFFFF;\n",
              "      --disabled-bg-color: #3B4455;\n",
              "      --disabled-fill-color: #666;\n",
              "  }\n",
              "\n",
              "  .colab-df-quickchart {\n",
              "    background-color: var(--bg-color);\n",
              "    border: none;\n",
              "    border-radius: 50%;\n",
              "    cursor: pointer;\n",
              "    display: none;\n",
              "    fill: var(--fill-color);\n",
              "    height: 32px;\n",
              "    padding: 0;\n",
              "    width: 32px;\n",
              "  }\n",
              "\n",
              "  .colab-df-quickchart:hover {\n",
              "    background-color: var(--hover-bg-color);\n",
              "    box-shadow: 0 1px 2px rgba(60, 64, 67, 0.3), 0 1px 3px 1px rgba(60, 64, 67, 0.15);\n",
              "    fill: var(--button-hover-fill-color);\n",
              "  }\n",
              "\n",
              "  .colab-df-quickchart-complete:disabled,\n",
              "  .colab-df-quickchart-complete:disabled:hover {\n",
              "    background-color: var(--disabled-bg-color);\n",
              "    fill: var(--disabled-fill-color);\n",
              "    box-shadow: none;\n",
              "  }\n",
              "\n",
              "  .colab-df-spinner {\n",
              "    border: 2px solid var(--fill-color);\n",
              "    border-color: transparent;\n",
              "    border-bottom-color: var(--fill-color);\n",
              "    animation:\n",
              "      spin 1s steps(1) infinite;\n",
              "  }\n",
              "\n",
              "  @keyframes spin {\n",
              "    0% {\n",
              "      border-color: transparent;\n",
              "      border-bottom-color: var(--fill-color);\n",
              "      border-left-color: var(--fill-color);\n",
              "    }\n",
              "    20% {\n",
              "      border-color: transparent;\n",
              "      border-left-color: var(--fill-color);\n",
              "      border-top-color: var(--fill-color);\n",
              "    }\n",
              "    30% {\n",
              "      border-color: transparent;\n",
              "      border-left-color: var(--fill-color);\n",
              "      border-top-color: var(--fill-color);\n",
              "      border-right-color: var(--fill-color);\n",
              "    }\n",
              "    40% {\n",
              "      border-color: transparent;\n",
              "      border-right-color: var(--fill-color);\n",
              "      border-top-color: var(--fill-color);\n",
              "    }\n",
              "    60% {\n",
              "      border-color: transparent;\n",
              "      border-right-color: var(--fill-color);\n",
              "    }\n",
              "    80% {\n",
              "      border-color: transparent;\n",
              "      border-right-color: var(--fill-color);\n",
              "      border-bottom-color: var(--fill-color);\n",
              "    }\n",
              "    90% {\n",
              "      border-color: transparent;\n",
              "      border-bottom-color: var(--fill-color);\n",
              "    }\n",
              "  }\n",
              "</style>\n",
              "\n",
              "  <script>\n",
              "    async function quickchart(key) {\n",
              "      const quickchartButtonEl =\n",
              "        document.querySelector('#' + key + ' button');\n",
              "      quickchartButtonEl.disabled = true;  // To prevent multiple clicks.\n",
              "      quickchartButtonEl.classList.add('colab-df-spinner');\n",
              "      try {\n",
              "        const charts = await google.colab.kernel.invokeFunction(\n",
              "            'suggestCharts', [key], {});\n",
              "      } catch (error) {\n",
              "        console.error('Error during call to suggestCharts:', error);\n",
              "      }\n",
              "      quickchartButtonEl.classList.remove('colab-df-spinner');\n",
              "      quickchartButtonEl.classList.add('colab-df-quickchart-complete');\n",
              "    }\n",
              "    (() => {\n",
              "      let quickchartButtonEl =\n",
              "        document.querySelector('#df-6b4a7a66-22a9-4d08-8409-5c1bd37b9781 button');\n",
              "      quickchartButtonEl.style.display =\n",
              "        google.colab.kernel.accessAllowed ? 'block' : 'none';\n",
              "    })();\n",
              "  </script>\n",
              "</div>\n",
              "    </div>\n",
              "  </div>\n"
            ]
          },
          "metadata": {},
          "execution_count": 3
        }
      ]
    },
    {
      "cell_type": "code",
      "source": [
        "# Checking the data type\n",
        "df.info()"
      ],
      "metadata": {
        "colab": {
          "base_uri": "https://localhost:8080/"
        },
        "id": "i2zHdTLdC8gB",
        "outputId": "555371ac-373b-497f-af31-6e0ccb660162"
      },
      "execution_count": null,
      "outputs": [
        {
          "output_type": "stream",
          "name": "stdout",
          "text": [
            "<class 'pandas.core.frame.DataFrame'>\n",
            "RangeIndex: 1232 entries, 0 to 1231\n",
            "Data columns (total 7 columns):\n",
            " #   Column     Non-Null Count  Dtype  \n",
            "---  ------     --------------  -----  \n",
            " 0   Date       1232 non-null   object \n",
            " 1   Open       1232 non-null   float64\n",
            " 2   High       1232 non-null   float64\n",
            " 3   Low        1232 non-null   float64\n",
            " 4   Close      1232 non-null   float64\n",
            " 5   Adj Close  1232 non-null   float64\n",
            " 6   Volume     1232 non-null   int64  \n",
            "dtypes: float64(5), int64(1), object(1)\n",
            "memory usage: 67.5+ KB\n"
          ]
        }
      ]
    },
    {
      "cell_type": "code",
      "source": [
        "# Check the number of columns and rows in the data\n",
        "df.shape"
      ],
      "metadata": {
        "colab": {
          "base_uri": "https://localhost:8080/"
        },
        "id": "TBlx0iUtDPeb",
        "outputId": "39648d7a-201b-4c5b-cb39-50867be1cc0b"
      },
      "execution_count": null,
      "outputs": [
        {
          "output_type": "execute_result",
          "data": {
            "text/plain": [
              "(1232, 7)"
            ]
          },
          "metadata": {},
          "execution_count": 5
        }
      ]
    },
    {
      "cell_type": "code",
      "source": [
        "# Shows a description of the data\n",
        "df.describe()"
      ],
      "metadata": {
        "colab": {
          "base_uri": "https://localhost:8080/",
          "height": 300
        },
        "id": "wYrRToYvDc7g",
        "outputId": "8f53a63e-d7f1-418f-c2a3-23703aee403b"
      },
      "execution_count": null,
      "outputs": [
        {
          "output_type": "execute_result",
          "data": {
            "text/plain": [
              "              Open         High          Low        Close    Adj Close  \\\n",
              "count  1232.000000  1232.000000  1232.000000  1232.000000  1232.000000   \n",
              "mean   3906.919643  3951.680195  3857.217938  3904.502841  3570.321099   \n",
              "std     974.875551   979.128939   975.160970   978.628033  1098.047867   \n",
              "min    1880.000000  1900.000000  1830.000000  1860.000000  1633.401123   \n",
              "25%    3225.000000  3262.500000  3162.500000  3209.375000  2825.223694   \n",
              "50%    3725.000000  3756.250000  3675.000000  3712.500000  3201.196533   \n",
              "75%    4625.000000  4675.000000  4578.125000  4615.625000  4391.476196   \n",
              "max    6150.000000  6200.000000  6100.000000  6125.000000  6125.000000   \n",
              "\n",
              "             Volume  \n",
              "count  1.232000e+03  \n",
              "mean   1.010377e+08  \n",
              "std    6.222859e+07  \n",
              "min    0.000000e+00  \n",
              "25%    6.188525e+07  \n",
              "50%    8.710460e+07  \n",
              "75%    1.247298e+08  \n",
              "max    7.702524e+08  "
            ],
            "text/html": [
              "\n",
              "  <div id=\"df-547a9fe7-122f-4cbd-bfd1-0b9f91a17204\" class=\"colab-df-container\">\n",
              "    <div>\n",
              "<style scoped>\n",
              "    .dataframe tbody tr th:only-of-type {\n",
              "        vertical-align: middle;\n",
              "    }\n",
              "\n",
              "    .dataframe tbody tr th {\n",
              "        vertical-align: top;\n",
              "    }\n",
              "\n",
              "    .dataframe thead th {\n",
              "        text-align: right;\n",
              "    }\n",
              "</style>\n",
              "<table border=\"1\" class=\"dataframe\">\n",
              "  <thead>\n",
              "    <tr style=\"text-align: right;\">\n",
              "      <th></th>\n",
              "      <th>Open</th>\n",
              "      <th>High</th>\n",
              "      <th>Low</th>\n",
              "      <th>Close</th>\n",
              "      <th>Adj Close</th>\n",
              "      <th>Volume</th>\n",
              "    </tr>\n",
              "  </thead>\n",
              "  <tbody>\n",
              "    <tr>\n",
              "      <th>count</th>\n",
              "      <td>1232.000000</td>\n",
              "      <td>1232.000000</td>\n",
              "      <td>1232.000000</td>\n",
              "      <td>1232.000000</td>\n",
              "      <td>1232.000000</td>\n",
              "      <td>1.232000e+03</td>\n",
              "    </tr>\n",
              "    <tr>\n",
              "      <th>mean</th>\n",
              "      <td>3906.919643</td>\n",
              "      <td>3951.680195</td>\n",
              "      <td>3857.217938</td>\n",
              "      <td>3904.502841</td>\n",
              "      <td>3570.321099</td>\n",
              "      <td>1.010377e+08</td>\n",
              "    </tr>\n",
              "    <tr>\n",
              "      <th>std</th>\n",
              "      <td>974.875551</td>\n",
              "      <td>979.128939</td>\n",
              "      <td>975.160970</td>\n",
              "      <td>978.628033</td>\n",
              "      <td>1098.047867</td>\n",
              "      <td>6.222859e+07</td>\n",
              "    </tr>\n",
              "    <tr>\n",
              "      <th>min</th>\n",
              "      <td>1880.000000</td>\n",
              "      <td>1900.000000</td>\n",
              "      <td>1830.000000</td>\n",
              "      <td>1860.000000</td>\n",
              "      <td>1633.401123</td>\n",
              "      <td>0.000000e+00</td>\n",
              "    </tr>\n",
              "    <tr>\n",
              "      <th>25%</th>\n",
              "      <td>3225.000000</td>\n",
              "      <td>3262.500000</td>\n",
              "      <td>3162.500000</td>\n",
              "      <td>3209.375000</td>\n",
              "      <td>2825.223694</td>\n",
              "      <td>6.188525e+07</td>\n",
              "    </tr>\n",
              "    <tr>\n",
              "      <th>50%</th>\n",
              "      <td>3725.000000</td>\n",
              "      <td>3756.250000</td>\n",
              "      <td>3675.000000</td>\n",
              "      <td>3712.500000</td>\n",
              "      <td>3201.196533</td>\n",
              "      <td>8.710460e+07</td>\n",
              "    </tr>\n",
              "    <tr>\n",
              "      <th>75%</th>\n",
              "      <td>4625.000000</td>\n",
              "      <td>4675.000000</td>\n",
              "      <td>4578.125000</td>\n",
              "      <td>4615.625000</td>\n",
              "      <td>4391.476196</td>\n",
              "      <td>1.247298e+08</td>\n",
              "    </tr>\n",
              "    <tr>\n",
              "      <th>max</th>\n",
              "      <td>6150.000000</td>\n",
              "      <td>6200.000000</td>\n",
              "      <td>6100.000000</td>\n",
              "      <td>6125.000000</td>\n",
              "      <td>6125.000000</td>\n",
              "      <td>7.702524e+08</td>\n",
              "    </tr>\n",
              "  </tbody>\n",
              "</table>\n",
              "</div>\n",
              "    <div class=\"colab-df-buttons\">\n",
              "\n",
              "  <div class=\"colab-df-container\">\n",
              "    <button class=\"colab-df-convert\" onclick=\"convertToInteractive('df-547a9fe7-122f-4cbd-bfd1-0b9f91a17204')\"\n",
              "            title=\"Convert this dataframe to an interactive table.\"\n",
              "            style=\"display:none;\">\n",
              "\n",
              "  <svg xmlns=\"http://www.w3.org/2000/svg\" height=\"24px\" viewBox=\"0 -960 960 960\">\n",
              "    <path d=\"M120-120v-720h720v720H120Zm60-500h600v-160H180v160Zm220 220h160v-160H400v160Zm0 220h160v-160H400v160ZM180-400h160v-160H180v160Zm440 0h160v-160H620v160ZM180-180h160v-160H180v160Zm440 0h160v-160H620v160Z\"/>\n",
              "  </svg>\n",
              "    </button>\n",
              "\n",
              "  <style>\n",
              "    .colab-df-container {\n",
              "      display:flex;\n",
              "      gap: 12px;\n",
              "    }\n",
              "\n",
              "    .colab-df-convert {\n",
              "      background-color: #E8F0FE;\n",
              "      border: none;\n",
              "      border-radius: 50%;\n",
              "      cursor: pointer;\n",
              "      display: none;\n",
              "      fill: #1967D2;\n",
              "      height: 32px;\n",
              "      padding: 0 0 0 0;\n",
              "      width: 32px;\n",
              "    }\n",
              "\n",
              "    .colab-df-convert:hover {\n",
              "      background-color: #E2EBFA;\n",
              "      box-shadow: 0px 1px 2px rgba(60, 64, 67, 0.3), 0px 1px 3px 1px rgba(60, 64, 67, 0.15);\n",
              "      fill: #174EA6;\n",
              "    }\n",
              "\n",
              "    .colab-df-buttons div {\n",
              "      margin-bottom: 4px;\n",
              "    }\n",
              "\n",
              "    [theme=dark] .colab-df-convert {\n",
              "      background-color: #3B4455;\n",
              "      fill: #D2E3FC;\n",
              "    }\n",
              "\n",
              "    [theme=dark] .colab-df-convert:hover {\n",
              "      background-color: #434B5C;\n",
              "      box-shadow: 0px 1px 3px 1px rgba(0, 0, 0, 0.15);\n",
              "      filter: drop-shadow(0px 1px 2px rgba(0, 0, 0, 0.3));\n",
              "      fill: #FFFFFF;\n",
              "    }\n",
              "  </style>\n",
              "\n",
              "    <script>\n",
              "      const buttonEl =\n",
              "        document.querySelector('#df-547a9fe7-122f-4cbd-bfd1-0b9f91a17204 button.colab-df-convert');\n",
              "      buttonEl.style.display =\n",
              "        google.colab.kernel.accessAllowed ? 'block' : 'none';\n",
              "\n",
              "      async function convertToInteractive(key) {\n",
              "        const element = document.querySelector('#df-547a9fe7-122f-4cbd-bfd1-0b9f91a17204');\n",
              "        const dataTable =\n",
              "          await google.colab.kernel.invokeFunction('convertToInteractive',\n",
              "                                                    [key], {});\n",
              "        if (!dataTable) return;\n",
              "\n",
              "        const docLinkHtml = 'Like what you see? Visit the ' +\n",
              "          '<a target=\"_blank\" href=https://colab.research.google.com/notebooks/data_table.ipynb>data table notebook</a>'\n",
              "          + ' to learn more about interactive tables.';\n",
              "        element.innerHTML = '';\n",
              "        dataTable['output_type'] = 'display_data';\n",
              "        await google.colab.output.renderOutput(dataTable, element);\n",
              "        const docLink = document.createElement('div');\n",
              "        docLink.innerHTML = docLinkHtml;\n",
              "        element.appendChild(docLink);\n",
              "      }\n",
              "    </script>\n",
              "  </div>\n",
              "\n",
              "\n",
              "<div id=\"df-d050661e-2afb-46cc-8561-5e51711f7372\">\n",
              "  <button class=\"colab-df-quickchart\" onclick=\"quickchart('df-d050661e-2afb-46cc-8561-5e51711f7372')\"\n",
              "            title=\"Suggest charts\"\n",
              "            style=\"display:none;\">\n",
              "\n",
              "<svg xmlns=\"http://www.w3.org/2000/svg\" height=\"24px\"viewBox=\"0 0 24 24\"\n",
              "     width=\"24px\">\n",
              "    <g>\n",
              "        <path d=\"M19 3H5c-1.1 0-2 .9-2 2v14c0 1.1.9 2 2 2h14c1.1 0 2-.9 2-2V5c0-1.1-.9-2-2-2zM9 17H7v-7h2v7zm4 0h-2V7h2v10zm4 0h-2v-4h2v4z\"/>\n",
              "    </g>\n",
              "</svg>\n",
              "  </button>\n",
              "\n",
              "<style>\n",
              "  .colab-df-quickchart {\n",
              "      --bg-color: #E8F0FE;\n",
              "      --fill-color: #1967D2;\n",
              "      --hover-bg-color: #E2EBFA;\n",
              "      --hover-fill-color: #174EA6;\n",
              "      --disabled-fill-color: #AAA;\n",
              "      --disabled-bg-color: #DDD;\n",
              "  }\n",
              "\n",
              "  [theme=dark] .colab-df-quickchart {\n",
              "      --bg-color: #3B4455;\n",
              "      --fill-color: #D2E3FC;\n",
              "      --hover-bg-color: #434B5C;\n",
              "      --hover-fill-color: #FFFFFF;\n",
              "      --disabled-bg-color: #3B4455;\n",
              "      --disabled-fill-color: #666;\n",
              "  }\n",
              "\n",
              "  .colab-df-quickchart {\n",
              "    background-color: var(--bg-color);\n",
              "    border: none;\n",
              "    border-radius: 50%;\n",
              "    cursor: pointer;\n",
              "    display: none;\n",
              "    fill: var(--fill-color);\n",
              "    height: 32px;\n",
              "    padding: 0;\n",
              "    width: 32px;\n",
              "  }\n",
              "\n",
              "  .colab-df-quickchart:hover {\n",
              "    background-color: var(--hover-bg-color);\n",
              "    box-shadow: 0 1px 2px rgba(60, 64, 67, 0.3), 0 1px 3px 1px rgba(60, 64, 67, 0.15);\n",
              "    fill: var(--button-hover-fill-color);\n",
              "  }\n",
              "\n",
              "  .colab-df-quickchart-complete:disabled,\n",
              "  .colab-df-quickchart-complete:disabled:hover {\n",
              "    background-color: var(--disabled-bg-color);\n",
              "    fill: var(--disabled-fill-color);\n",
              "    box-shadow: none;\n",
              "  }\n",
              "\n",
              "  .colab-df-spinner {\n",
              "    border: 2px solid var(--fill-color);\n",
              "    border-color: transparent;\n",
              "    border-bottom-color: var(--fill-color);\n",
              "    animation:\n",
              "      spin 1s steps(1) infinite;\n",
              "  }\n",
              "\n",
              "  @keyframes spin {\n",
              "    0% {\n",
              "      border-color: transparent;\n",
              "      border-bottom-color: var(--fill-color);\n",
              "      border-left-color: var(--fill-color);\n",
              "    }\n",
              "    20% {\n",
              "      border-color: transparent;\n",
              "      border-left-color: var(--fill-color);\n",
              "      border-top-color: var(--fill-color);\n",
              "    }\n",
              "    30% {\n",
              "      border-color: transparent;\n",
              "      border-left-color: var(--fill-color);\n",
              "      border-top-color: var(--fill-color);\n",
              "      border-right-color: var(--fill-color);\n",
              "    }\n",
              "    40% {\n",
              "      border-color: transparent;\n",
              "      border-right-color: var(--fill-color);\n",
              "      border-top-color: var(--fill-color);\n",
              "    }\n",
              "    60% {\n",
              "      border-color: transparent;\n",
              "      border-right-color: var(--fill-color);\n",
              "    }\n",
              "    80% {\n",
              "      border-color: transparent;\n",
              "      border-right-color: var(--fill-color);\n",
              "      border-bottom-color: var(--fill-color);\n",
              "    }\n",
              "    90% {\n",
              "      border-color: transparent;\n",
              "      border-bottom-color: var(--fill-color);\n",
              "    }\n",
              "  }\n",
              "</style>\n",
              "\n",
              "  <script>\n",
              "    async function quickchart(key) {\n",
              "      const quickchartButtonEl =\n",
              "        document.querySelector('#' + key + ' button');\n",
              "      quickchartButtonEl.disabled = true;  // To prevent multiple clicks.\n",
              "      quickchartButtonEl.classList.add('colab-df-spinner');\n",
              "      try {\n",
              "        const charts = await google.colab.kernel.invokeFunction(\n",
              "            'suggestCharts', [key], {});\n",
              "      } catch (error) {\n",
              "        console.error('Error during call to suggestCharts:', error);\n",
              "      }\n",
              "      quickchartButtonEl.classList.remove('colab-df-spinner');\n",
              "      quickchartButtonEl.classList.add('colab-df-quickchart-complete');\n",
              "    }\n",
              "    (() => {\n",
              "      let quickchartButtonEl =\n",
              "        document.querySelector('#df-d050661e-2afb-46cc-8561-5e51711f7372 button');\n",
              "      quickchartButtonEl.style.display =\n",
              "        google.colab.kernel.accessAllowed ? 'block' : 'none';\n",
              "    })();\n",
              "  </script>\n",
              "</div>\n",
              "    </div>\n",
              "  </div>\n"
            ]
          },
          "metadata": {},
          "execution_count": 6
        }
      ]
    },
    {
      "cell_type": "code",
      "source": [
        "# Visualize the actual price of the 'Close' attribute by time\n",
        "\n",
        "# Make sure the 'Date' column is in datetime format\n",
        "df['Date'] = pd.to_datetime(df['Date'])\n",
        "\n",
        "plt.figure(figsize=(8, 6))\n",
        "plt.plot(df['Date'], df['Close'], linestyle='-', color='blue')\n",
        "\n",
        "# Label the x and y axes\n",
        "plt.xlabel('Year')\n",
        "plt.ylabel('Close Price')\n",
        "\n",
        "# Format the x-axis to display only the year\n",
        "plt.gca().xaxis.set_major_formatter(mdates.DateFormatter('%Y'))\n",
        "plt.gca().xaxis.set_major_locator(mdates.YearLocator())\n",
        "\n",
        "# Chart title\n",
        "plt.title('Close Price over Time')\n",
        "\n",
        "# Display the chart\n",
        "plt.grid(True)\n",
        "plt.tight_layout()\n",
        "plt.show()"
      ],
      "metadata": {
        "colab": {
          "base_uri": "https://localhost:8080/",
          "height": 607
        },
        "id": "EtzRVWWyGQ4G",
        "outputId": "ff9ee356-4b08-4600-c69b-d35915ca73ea"
      },
      "execution_count": null,
      "outputs": [
        {
          "output_type": "display_data",
          "data": {
            "text/plain": [
              "<Figure size 800x600 with 1 Axes>"
            ],
            "image/png": "[encoded data removed]"
          },
          "metadata": {}
        }
      ]
    },
    {
      "cell_type": "markdown",
      "source": [
        "The visualization is the closing price (close) of JKSE which has been summarized and later predictions will be made to determine the value with several models that will be tried."
      ],
      "metadata": {
        "id": "0CD6JaPbHOa_"
      }
    },
    {
      "cell_type": "markdown",
      "source": [
        "## **Data Pre-Processing**"
      ],
      "metadata": {
        "id": "6o523dMCQf8g"
      }
    },
    {
      "cell_type": "code",
      "source": [
        "from sklearn.preprocessing import MinMaxScaler\n",
        "from sklearn.model_selection import train_test_split"
      ],
      "metadata": {
        "id": "K9A-broiQiir"
      },
      "execution_count": null,
      "outputs": []
    },
    {
      "cell_type": "markdown",
      "source": [
        "### **Data Splitting**"
      ],
      "metadata": {
        "id": "YxBFAEh7RCMO"
      }
    },
    {
      "cell_type": "code",
      "source": [
        "training_set = df.iloc[:, 4:5].values #creates a numpy array training_set"
      ],
      "metadata": {
        "id": "DQ-9w2hoA1-r"
      },
      "execution_count": null,
      "outputs": []
    },
    {
      "cell_type": "code",
      "source": [
        "training_set.dtype"
      ],
      "metadata": {
        "colab": {
          "base_uri": "https://localhost:8080/"
        },
        "id": "I67zgS3uA_cl",
        "outputId": "d40326ee-810a-48ee-d15e-435441d535b4"
      },
      "execution_count": null,
      "outputs": [
        {
          "output_type": "execute_result",
          "data": {
            "text/plain": [
              "dtype('float64')"
            ]
          },
          "metadata": {},
          "execution_count": 10
        }
      ]
    },
    {
      "cell_type": "code",
      "source": [
        "training_set"
      ],
      "metadata": {
        "colab": {
          "base_uri": "https://localhost:8080/"
        },
        "id": "6sgKWNgwBQn9",
        "outputId": "0407c356-e446-4885-b496-09cbe6ba72fa"
      },
      "execution_count": null,
      "outputs": [
        {
          "output_type": "execute_result",
          "data": {
            "text/plain": [
              "array([[3687.5],\n",
              "       [3687.5],\n",
              "       [3662.5],\n",
              "       ...,\n",
              "       [6000. ],\n",
              "       [6125. ],\n",
              "       [6050. ]])"
            ]
          },
          "metadata": {},
          "execution_count": 11
        }
      ]
    },
    {
      "cell_type": "code",
      "source": [
        "training_set.shape"
      ],
      "metadata": {
        "colab": {
          "base_uri": "https://localhost:8080/"
        },
        "id": "vTLTluhTFzHE",
        "outputId": "47a24a17-0f0e-4741-c11f-b6893d40ad0f"
      },
      "execution_count": null,
      "outputs": [
        {
          "output_type": "execute_result",
          "data": {
            "text/plain": [
              "(1232, 1)"
            ]
          },
          "metadata": {},
          "execution_count": 12
        }
      ]
    },
    {
      "cell_type": "markdown",
      "source": [
        "### **Normalization (Feature Scaling)**"
      ],
      "metadata": {
        "id": "MVw-2b-BRFJC"
      }
    },
    {
      "cell_type": "code",
      "source": [
        "sc = MinMaxScaler()\n",
        "training_set_scaled = sc.fit_transform(training_set)"
      ],
      "metadata": {
        "id": "PINtltcoBeh_"
      },
      "execution_count": null,
      "outputs": []
    },
    {
      "cell_type": "code",
      "source": [
        "training_set_scaled"
      ],
      "metadata": {
        "colab": {
          "base_uri": "https://localhost:8080/"
        },
        "id": "TA12omBIBhhb",
        "outputId": "0e992b9f-b87e-4755-a737-9c52a89b45b6"
      },
      "execution_count": null,
      "outputs": [
        {
          "output_type": "execute_result",
          "data": {
            "text/plain": [
              "array([[0.42848769],\n",
              "       [0.42848769],\n",
              "       [0.42262603],\n",
              "       ...,\n",
              "       [0.97069168],\n",
              "       [1.        ],\n",
              "       [0.98241501]])"
            ]
          },
          "metadata": {},
          "execution_count": 14
        }
      ]
    },
    {
      "cell_type": "code",
      "source": [
        "training_set_scaled.shape"
      ],
      "metadata": {
        "colab": {
          "base_uri": "https://localhost:8080/"
        },
        "id": "dUVfc2raHIIH",
        "outputId": "d04f1e01-1a2f-4d04-abd2-66558fec5e6f"
      },
      "execution_count": null,
      "outputs": [
        {
          "output_type": "execute_result",
          "data": {
            "text/plain": [
              "(1232, 1)"
            ]
          },
          "metadata": {},
          "execution_count": 15
        }
      ]
    },
    {
      "cell_type": "markdown",
      "source": [
        "### **Creating Data Structure**"
      ],
      "metadata": {
        "id": "TVaHKF8NRZA8"
      }
    },
    {
      "cell_type": "code",
      "source": [
        "X_train = training_set_scaled\n",
        "Y_train = training_set_scaled\n",
        "\n",
        "# Turning lists into Numpy arrays\n",
        "X_train, Y_train = np.array(X_train), np.array(Y_train)"
      ],
      "metadata": {
        "id": "IIlDGjizBrJ8"
      },
      "execution_count": null,
      "outputs": []
    },
    {
      "cell_type": "code",
      "source": [
        "X_train"
      ],
      "metadata": {
        "colab": {
          "base_uri": "https://localhost:8080/"
        },
        "id": "-u7FqJAtBxXo",
        "outputId": "408f806d-3b3a-43ca-f047-a8ec7b4c7d78"
      },
      "execution_count": null,
      "outputs": [
        {
          "output_type": "execute_result",
          "data": {
            "text/plain": [
              "array([[0.42848769],\n",
              "       [0.42848769],\n",
              "       [0.42262603],\n",
              "       ...,\n",
              "       [0.97069168],\n",
              "       [1.        ],\n",
              "       [0.98241501]])"
            ]
          },
          "metadata": {},
          "execution_count": 17
        }
      ]
    },
    {
      "cell_type": "code",
      "source": [
        "X_train.shape"
      ],
      "metadata": {
        "colab": {
          "base_uri": "https://localhost:8080/"
        },
        "id": "bHGsDLmHCSf4",
        "outputId": "17d2abc9-37ef-48e9-ad6c-f78b9bf4ea79"
      },
      "execution_count": null,
      "outputs": [
        {
          "output_type": "execute_result",
          "data": {
            "text/plain": [
              "(1232, 1)"
            ]
          },
          "metadata": {},
          "execution_count": 18
        }
      ]
    },
    {
      "cell_type": "markdown",
      "source": [
        "### **Reshaping**"
      ],
      "metadata": {
        "id": "V1oLRY_cRlj2"
      }
    },
    {
      "cell_type": "code",
      "source": [
        "X_train = np.reshape(X_train,(X_train.shape[0],X_train.shape[1],1))"
      ],
      "metadata": {
        "id": "exTjyC0yCYUr"
      },
      "execution_count": null,
      "outputs": []
    },
    {
      "cell_type": "code",
      "source": [
        "X_train"
      ],
      "metadata": {
        "colab": {
          "base_uri": "https://localhost:8080/"
        },
        "id": "Yv1dMbE6CbSX",
        "outputId": "06050895-c7bd-47d5-9bac-56c4db96caa3"
      },
      "execution_count": null,
      "outputs": [
        {
          "output_type": "execute_result",
          "data": {
            "text/plain": [
              "array([[[0.42848769]],\n",
              "\n",
              "       [[0.42848769]],\n",
              "\n",
              "       [[0.42262603]],\n",
              "\n",
              "       ...,\n",
              "\n",
              "       [[0.97069168]],\n",
              "\n",
              "       [[1.        ]],\n",
              "\n",
              "       [[0.98241501]]])"
            ]
          },
          "metadata": {},
          "execution_count": 20
        }
      ]
    },
    {
      "cell_type": "markdown",
      "source": [
        "## **Modelling & Evaluation**"
      ],
      "metadata": {
        "id": "RG686OFOTOn8"
      }
    },
    {
      "cell_type": "markdown",
      "source": [
        "### **Long Short-Term Memory (LSTM)**"
      ],
      "metadata": {
        "id": "euJYOpKYTWDl"
      }
    },
    {
      "cell_type": "code",
      "source": [
        "from keras.models import Sequential\n",
        "from keras.layers import Dense\n",
        "from keras.layers import LSTM\n",
        "from keras.layers import Dropout"
      ],
      "metadata": {
        "id": "lyiyijJ5CisG"
      },
      "execution_count": null,
      "outputs": []
    },
    {
      "cell_type": "markdown",
      "source": [
        "#### **Building LSTM Architecture**"
      ],
      "metadata": {
        "id": "Ix7teyYkTiDS"
      }
    },
    {
      "cell_type": "code",
      "source": [
        "# Creating a LSTM model\n",
        "lstm_model = Sequential()\n",
        "\n",
        "# Adding a LSTM layer\n",
        "lstm_model.add(LSTM(units = 64, return_sequences = True, input_shape = (X_train.shape[1],1)))\n",
        "lstm_model.add(Dropout(0.25))\n",
        "lstm_model.add(LSTM(units = 64, return_sequences = True))\n",
        "lstm_model.add(Dropout(0.25))\n",
        "lstm_model.add(LSTM(units = 64, return_sequences = True))\n",
        "lstm_model.add(Dropout(0.25))\n",
        "lstm_model.add(LSTM(units = 64, return_sequences = False))\n",
        "lstm_model.add(Dropout(0.25))\n",
        "lstm_model.add(Dense(units= 1))\n",
        "\n",
        "# Compile the LSTM model\n",
        "lstm_model.compile(optimizer = 'adam', loss = 'mean_squared_error')"
      ],
      "metadata": {
        "id": "fx3AyResCmuo"
      },
      "execution_count": null,
      "outputs": []
    },
    {
      "cell_type": "markdown",
      "source": [
        "#### **Training LSTM Model**"
      ],
      "metadata": {
        "id": "t-0Lxt6eUMPX"
      }
    },
    {
      "cell_type": "code",
      "source": [
        "# Train the LSTM model\n",
        "lstm_model.fit(X_train,Y_train, epochs = 100, batch_size = 32)"
      ],
      "metadata": {
        "colab": {
          "base_uri": "https://localhost:8080/"
        },
        "id": "-S9-G13pCwho",
        "outputId": "ebbb6638-8f6e-46ee-bfd8-1386b0fa2377"
      },
      "execution_count": null,
      "outputs": [
        {
          "output_type": "stream",
          "name": "stdout",
          "text": [
            "Epoch 1/100\n",
            "39/39 [==============================] - 9s 14ms/step - loss: 0.1775\n",
            "Epoch 2/100\n",
            "39/39 [==============================] - 1s 14ms/step - loss: 0.0351\n",
            "Epoch 3/100\n",
            "39/39 [==============================] - 1s 14ms/step - loss: 0.0169\n",
            "Epoch 4/100\n",
            "39/39 [==============================] - 1s 13ms/step - loss: 0.0079\n",
            "Epoch 5/100\n",
            "39/39 [==============================] - 1s 14ms/step - loss: 0.0065\n",
            "Epoch 6/100\n",
            "39/39 [==============================] - 1s 14ms/step - loss: 0.0058\n",
            "Epoch 7/100\n",
            "39/39 [==============================] - 1s 14ms/step - loss: 0.0054\n",
            "Epoch 8/100\n",
            "39/39 [==============================] - 1s 14ms/step - loss: 0.0053\n",
            "Epoch 9/100\n",
            "39/39 [==============================] - 0s 11ms/step - loss: 0.0047\n",
            "Epoch 10/100\n",
            "39/39 [==============================] - 0s 9ms/step - loss: 0.0042\n",
            "Epoch 11/100\n",
            "39/39 [==============================] - 0s 9ms/step - loss: 0.0037\n",
            "Epoch 12/100\n",
            "39/39 [==============================] - 0s 9ms/step - loss: 0.0034\n",
            "Epoch 13/100\n",
            "39/39 [==============================] - 0s 9ms/step - loss: 0.0034\n",
            "Epoch 14/100\n",
            "39/39 [==============================] - 0s 9ms/step - loss: 0.0031\n",
            "Epoch 15/100\n",
            "39/39 [==============================] - 0s 9ms/step - loss: 0.0029\n",
            "Epoch 16/100\n",
            "39/39 [==============================] - 0s 11ms/step - loss: 0.0026\n",
            "Epoch 17/100\n",
            "39/39 [==============================] - 0s 9ms/step - loss: 0.0028\n",
            "Epoch 18/100\n",
            "39/39 [==============================] - 0s 10ms/step - loss: 0.0023\n",
            "Epoch 19/100\n",
            "39/39 [==============================] - 0s 9ms/step - loss: 0.0023\n",
            "Epoch 20/100\n",
            "39/39 [==============================] - 0s 9ms/step - loss: 0.0027\n",
            "Epoch 21/100\n",
            "39/39 [==============================] - 0s 9ms/step - loss: 0.0023\n",
            "Epoch 22/100\n",
            "39/39 [==============================] - 0s 10ms/step - loss: 0.0022\n",
            "Epoch 23/100\n",
            "39/39 [==============================] - 0s 9ms/step - loss: 0.0022\n",
            "Epoch 24/100\n",
            "39/39 [==============================] - 0s 9ms/step - loss: 0.0022\n",
            "Epoch 25/100\n",
            "39/39 [==============================] - 0s 9ms/step - loss: 0.0023\n",
            "Epoch 26/100\n",
            "39/39 [==============================] - 0s 9ms/step - loss: 0.0025\n",
            "Epoch 27/100\n",
            "39/39 [==============================] - 0s 9ms/step - loss: 0.0021\n",
            "Epoch 28/100\n",
            "39/39 [==============================] - 0s 10ms/step - loss: 0.0021\n",
            "Epoch 29/100\n",
            "39/39 [==============================] - 0s 9ms/step - loss: 0.0023\n",
            "Epoch 30/100\n",
            "39/39 [==============================] - 0s 9ms/step - loss: 0.0021\n",
            "Epoch 31/100\n",
            "39/39 [==============================] - 0s 9ms/step - loss: 0.0021\n",
            "Epoch 32/100\n",
            "39/39 [==============================] - 0s 9ms/step - loss: 0.0019\n",
            "Epoch 33/100\n",
            "39/39 [==============================] - 0s 9ms/step - loss: 0.0020\n",
            "Epoch 34/100\n",
            "39/39 [==============================] - 0s 9ms/step - loss: 0.0021\n",
            "Epoch 35/100\n",
            "39/39 [==============================] - 0s 9ms/step - loss: 0.0019\n",
            "Epoch 36/100\n",
            "39/39 [==============================] - 1s 13ms/step - loss: 0.0018\n",
            "Epoch 37/100\n",
            "39/39 [==============================] - 1s 14ms/step - loss: 0.0017\n",
            "Epoch 38/100\n",
            "39/39 [==============================] - 1s 13ms/step - loss: 0.0019\n",
            "Epoch 39/100\n",
            "39/39 [==============================] - 0s 13ms/step - loss: 0.0018\n",
            "Epoch 40/100\n",
            "39/39 [==============================] - 0s 12ms/step - loss: 0.0020\n",
            "Epoch 41/100\n",
            "39/39 [==============================] - 1s 14ms/step - loss: 0.0018\n",
            "Epoch 42/100\n",
            "39/39 [==============================] - 0s 12ms/step - loss: 0.0018\n",
            "Epoch 43/100\n",
            "39/39 [==============================] - 1s 13ms/step - loss: 0.0019\n",
            "Epoch 44/100\n",
            "39/39 [==============================] - 0s 13ms/step - loss: 0.0018\n",
            "Epoch 45/100\n",
            "39/39 [==============================] - 1s 13ms/step - loss: 0.0015\n",
            "Epoch 46/100\n",
            "39/39 [==============================] - 1s 13ms/step - loss: 0.0019\n",
            "Epoch 47/100\n",
            "39/39 [==============================] - 1s 14ms/step - loss: 0.0018\n",
            "Epoch 48/100\n",
            "39/39 [==============================] - 0s 10ms/step - loss: 0.0019\n",
            "Epoch 49/100\n",
            "39/39 [==============================] - 0s 9ms/step - loss: 0.0018\n",
            "Epoch 50/100\n",
            "39/39 [==============================] - 0s 9ms/step - loss: 0.0017\n",
            "Epoch 51/100\n",
            "39/39 [==============================] - 0s 9ms/step - loss: 0.0017\n",
            "Epoch 52/100\n",
            "39/39 [==============================] - 0s 10ms/step - loss: 0.0017\n",
            "Epoch 53/100\n",
            "39/39 [==============================] - 0s 9ms/step - loss: 0.0016\n",
            "Epoch 54/100\n",
            "39/39 [==============================] - 0s 9ms/step - loss: 0.0017\n",
            "Epoch 55/100\n",
            "39/39 [==============================] - 0s 9ms/step - loss: 0.0015\n",
            "Epoch 56/100\n",
            "39/39 [==============================] - 0s 9ms/step - loss: 0.0015\n",
            "Epoch 57/100\n",
            "39/39 [==============================] - 0s 10ms/step - loss: 0.0017\n",
            "Epoch 58/100\n",
            "39/39 [==============================] - 0s 9ms/step - loss: 0.0016\n",
            "Epoch 59/100\n",
            "39/39 [==============================] - 0s 9ms/step - loss: 0.0016\n",
            "Epoch 60/100\n",
            "39/39 [==============================] - 0s 9ms/step - loss: 0.0016\n",
            "Epoch 61/100\n",
            "39/39 [==============================] - 0s 9ms/step - loss: 0.0016\n",
            "Epoch 62/100\n",
            "39/39 [==============================] - 0s 9ms/step - loss: 0.0015\n",
            "Epoch 63/100\n",
            "39/39 [==============================] - 0s 9ms/step - loss: 0.0016\n",
            "Epoch 64/100\n",
            "39/39 [==============================] - 0s 9ms/step - loss: 0.0015\n",
            "Epoch 65/100\n",
            "39/39 [==============================] - 0s 9ms/step - loss: 0.0016\n",
            "Epoch 66/100\n",
            "39/39 [==============================] - 0s 9ms/step - loss: 0.0017\n",
            "Epoch 67/100\n",
            "39/39 [==============================] - 0s 10ms/step - loss: 0.0015\n",
            "Epoch 68/100\n",
            "39/39 [==============================] - 0s 9ms/step - loss: 0.0015\n",
            "Epoch 69/100\n",
            "39/39 [==============================] - 0s 9ms/step - loss: 0.0014\n",
            "Epoch 70/100\n",
            "39/39 [==============================] - 0s 9ms/step - loss: 0.0014\n",
            "Epoch 71/100\n",
            "39/39 [==============================] - 0s 9ms/step - loss: 0.0014\n",
            "Epoch 72/100\n",
            "39/39 [==============================] - 0s 9ms/step - loss: 0.0015\n",
            "Epoch 73/100\n",
            "39/39 [==============================] - 0s 9ms/step - loss: 0.0014\n",
            "Epoch 74/100\n",
            "39/39 [==============================] - 0s 9ms/step - loss: 0.0014\n",
            "Epoch 75/100\n",
            "39/39 [==============================] - 0s 10ms/step - loss: 0.0013\n",
            "Epoch 76/100\n",
            "39/39 [==============================] - 0s 13ms/step - loss: 0.0015\n",
            "Epoch 77/100\n",
            "39/39 [==============================] - 0s 13ms/step - loss: 0.0014\n",
            "Epoch 78/100\n",
            "39/39 [==============================] - 0s 12ms/step - loss: 0.0015\n",
            "Epoch 79/100\n",
            "39/39 [==============================] - 1s 13ms/step - loss: 0.0014\n",
            "Epoch 80/100\n",
            "39/39 [==============================] - 1s 13ms/step - loss: 0.0012\n",
            "Epoch 81/100\n",
            "39/39 [==============================] - 1s 13ms/step - loss: 0.0013\n",
            "Epoch 82/100\n",
            "39/39 [==============================] - 0s 13ms/step - loss: 0.0013\n",
            "Epoch 83/100\n",
            "39/39 [==============================] - 1s 14ms/step - loss: 0.0014\n",
            "Epoch 84/100\n",
            "39/39 [==============================] - 1s 13ms/step - loss: 0.0013\n",
            "Epoch 85/100\n",
            "39/39 [==============================] - 1s 13ms/step - loss: 0.0014\n",
            "Epoch 86/100\n",
            "39/39 [==============================] - 1s 14ms/step - loss: 0.0015\n",
            "Epoch 87/100\n",
            "39/39 [==============================] - 1s 14ms/step - loss: 0.0014\n",
            "Epoch 88/100\n",
            "39/39 [==============================] - 0s 10ms/step - loss: 0.0014\n",
            "Epoch 89/100\n",
            "39/39 [==============================] - 0s 9ms/step - loss: 0.0013\n",
            "Epoch 90/100\n",
            "39/39 [==============================] - 0s 9ms/step - loss: 0.0014\n",
            "Epoch 91/100\n",
            "39/39 [==============================] - 0s 9ms/step - loss: 0.0013\n",
            "Epoch 92/100\n",
            "39/39 [==============================] - 0s 9ms/step - loss: 0.0014\n",
            "Epoch 93/100\n",
            "39/39 [==============================] - 0s 9ms/step - loss: 0.0013\n",
            "Epoch 94/100\n",
            "39/39 [==============================] - 0s 9ms/step - loss: 0.0013\n",
            "Epoch 95/100\n",
            "39/39 [==============================] - 0s 10ms/step - loss: 0.0013\n",
            "Epoch 96/100\n",
            "39/39 [==============================] - 0s 9ms/step - loss: 0.0014\n",
            "Epoch 97/100\n",
            "39/39 [==============================] - 0s 9ms/step - loss: 0.0013\n",
            "Epoch 98/100\n",
            "39/39 [==============================] - 0s 9ms/step - loss: 0.0013\n",
            "Epoch 99/100\n",
            "39/39 [==============================] - 0s 9ms/step - loss: 0.0014\n",
            "Epoch 100/100\n",
            "39/39 [==============================] - 0s 9ms/step - loss: 0.0012\n"
          ]
        },
        {
          "output_type": "execute_result",
          "data": {
            "text/plain": [
              "<keras.src.callbacks.History at 0x7f3e7856c790>"
            ]
          },
          "metadata": {},
          "execution_count": 23
        }
      ]
    },
    {
      "cell_type": "markdown",
      "source": [
        "#### **Testing LSTM Model**"
      ],
      "metadata": {
        "id": "vgdupfLKUYYf"
      }
    },
    {
      "cell_type": "code",
      "source": [
        "dataset_test = df\n",
        "real_stock_price = dataset_test.iloc[:,4:5].values\n",
        "real_stock_price"
      ],
      "metadata": {
        "colab": {
          "base_uri": "https://localhost:8080/"
        },
        "id": "Qeg8zE7eDRW4",
        "outputId": "074fb4f6-c073-47dd-b1d8-6fefc371c29b"
      },
      "execution_count": null,
      "outputs": [
        {
          "output_type": "execute_result",
          "data": {
            "text/plain": [
              "array([[3687.5],\n",
              "       [3687.5],\n",
              "       [3662.5],\n",
              "       ...,\n",
              "       [6000. ],\n",
              "       [6125. ],\n",
              "       [6050. ]])"
            ]
          },
          "metadata": {},
          "execution_count": 24
        }
      ]
    },
    {
      "cell_type": "code",
      "source": [
        "dataset_total = pd.concat((df['Close'], dataset_test['Close']), axis = 0)\n",
        "inputs = dataset_total[len(dataset_total) - len(dataset_test):].values\n",
        "inputs = inputs.reshape(-1,1)\n",
        "inputs = sc.transform(inputs)"
      ],
      "metadata": {
        "id": "u5y1DPE2DVgC"
      },
      "execution_count": null,
      "outputs": []
    },
    {
      "cell_type": "code",
      "source": [
        "inputs"
      ],
      "metadata": {
        "colab": {
          "base_uri": "https://localhost:8080/"
        },
        "id": "Vb5ZJQ8SEK2M",
        "outputId": "1abc59ba-5528-4707-e2fb-9ac7eaa33812"
      },
      "execution_count": null,
      "outputs": [
        {
          "output_type": "execute_result",
          "data": {
            "text/plain": [
              "array([[0.42848769],\n",
              "       [0.42848769],\n",
              "       [0.42262603],\n",
              "       ...,\n",
              "       [0.97069168],\n",
              "       [1.        ],\n",
              "       [0.98241501]])"
            ]
          },
          "metadata": {},
          "execution_count": 26
        }
      ]
    },
    {
      "cell_type": "code",
      "source": [
        "inputs.shape"
      ],
      "metadata": {
        "colab": {
          "base_uri": "https://localhost:8080/"
        },
        "id": "TSuh3BPfPPjc",
        "outputId": "47ad4bc2-b4de-4306-ba1f-eb89fc5c2467"
      },
      "execution_count": null,
      "outputs": [
        {
          "output_type": "execute_result",
          "data": {
            "text/plain": [
              "(1232, 1)"
            ]
          },
          "metadata": {},
          "execution_count": 27
        }
      ]
    },
    {
      "cell_type": "code",
      "source": [
        "X_test = inputs\n",
        "X_test = np.array(X_test)\n",
        "X_test = np.reshape(X_test, (X_test.shape[0], X_test.shape[1], 1))"
      ],
      "metadata": {
        "id": "-kvARajLEQLv"
      },
      "execution_count": null,
      "outputs": []
    },
    {
      "cell_type": "code",
      "source": [
        "predicted_stock_price_lstm = lstm_model.predict(X_test)\n",
        "predicted_stock_price_lstm = sc.inverse_transform(predicted_stock_price_lstm)"
      ],
      "metadata": {
        "colab": {
          "base_uri": "https://localhost:8080/"
        },
        "id": "XtDXuIfzETnE",
        "outputId": "1f8458c6-9bb9-4683-8837-8b7d2455a0f2"
      },
      "execution_count": null,
      "outputs": [
        {
          "output_type": "stream",
          "name": "stdout",
          "text": [
            "39/39 [==============================] - 2s 3ms/step\n"
          ]
        }
      ]
    },
    {
      "cell_type": "code",
      "source": [
        "predicted_stock_price_lstm"
      ],
      "metadata": {
        "colab": {
          "base_uri": "https://localhost:8080/"
        },
        "id": "FWfgTh6QEX4V",
        "outputId": "2990665c-0f6b-4dc6-dd05-559146975a2d"
      },
      "execution_count": null,
      "outputs": [
        {
          "output_type": "execute_result",
          "data": {
            "text/plain": [
              "array([[3634.3857],\n",
              "       [3634.3857],\n",
              "       [3609.4321],\n",
              "       ...,\n",
              "       [5793.628 ],\n",
              "       [5869.659 ],\n",
              "       [5824.941 ]], dtype=float32)"
            ]
          },
          "metadata": {},
          "execution_count": 30
        }
      ]
    },
    {
      "cell_type": "code",
      "source": [
        "predicted_stock_price_lstm.shape"
      ],
      "metadata": {
        "colab": {
          "base_uri": "https://localhost:8080/"
        },
        "id": "oLMln0xlJ8dp",
        "outputId": "452430f5-3d41-4481-d9c6-7f0bd1357988"
      },
      "execution_count": null,
      "outputs": [
        {
          "output_type": "execute_result",
          "data": {
            "text/plain": [
              "(1232, 1)"
            ]
          },
          "metadata": {},
          "execution_count": 31
        }
      ]
    },
    {
      "cell_type": "code",
      "source": [
        "# Add the predicted values to the DataFrame\n",
        "df['LSTM Predictions'] = predicted_stock_price_lstm\n",
        "\n",
        "# Print or visualize the results as needed\n",
        "df[['Date', 'Close', 'LSTM Predictions']]"
      ],
      "metadata": {
        "colab": {
          "base_uri": "https://localhost:8080/",
          "height": 424
        },
        "id": "BkLq-2lUG19B",
        "outputId": "89f82304-c4b5-4add-fb17-6a0f3bd0387e"
      },
      "execution_count": null,
      "outputs": [
        {
          "output_type": "execute_result",
          "data": {
            "text/plain": [
              "           Date   Close  LSTM Predictions\n",
              "0    2018-12-31  3687.5       3634.385742\n",
              "1    2019-01-01  3687.5       3634.385742\n",
              "2    2019-01-02  3662.5       3609.432129\n",
              "3    2019-01-03  3587.5       3534.966797\n",
              "4    2019-01-04  3725.0       3671.932861\n",
              "...         ...     ...               ...\n",
              "1227 2023-12-21  5975.0       5777.531738\n",
              "1228 2023-12-22  5975.0       5777.531738\n",
              "1229 2023-12-27  6000.0       5793.627930\n",
              "1230 2023-12-28  6125.0       5869.659180\n",
              "1231 2023-12-29  6050.0       5824.940918\n",
              "\n",
              "[1232 rows x 3 columns]"
            ],
            "text/html": [
              "\n",
              "  <div id=\"df-f25d0a47-9488-4489-a4f8-133a5052b003\" class=\"colab-df-container\">\n",
              "    <div>\n",
              "<style scoped>\n",
              "    .dataframe tbody tr th:only-of-type {\n",
              "        vertical-align: middle;\n",
              "    }\n",
              "\n",
              "    .dataframe tbody tr th {\n",
              "        vertical-align: top;\n",
              "    }\n",
              "\n",
              "    .dataframe thead th {\n",
              "        text-align: right;\n",
              "    }\n",
              "</style>\n",
              "<table border=\"1\" class=\"dataframe\">\n",
              "  <thead>\n",
              "    <tr style=\"text-align: right;\">\n",
              "      <th></th>\n",
              "      <th>Date</th>\n",
              "      <th>Close</th>\n",
              "      <th>LSTM Predictions</th>\n",
              "    </tr>\n",
              "  </thead>\n",
              "  <tbody>\n",
              "    <tr>\n",
              "      <th>0</th>\n",
              "      <td>2018-12-31</td>\n",
              "      <td>3687.5</td>\n",
              "      <td>3634.385742</td>\n",
              "    </tr>\n",
              "    <tr>\n",
              "      <th>1</th>\n",
              "      <td>2019-01-01</td>\n",
              "      <td>3687.5</td>\n",
              "      <td>3634.385742</td>\n",
              "    </tr>\n",
              "    <tr>\n",
              "      <th>2</th>\n",
              "      <td>2019-01-02</td>\n",
              "      <td>3662.5</td>\n",
              "      <td>3609.432129</td>\n",
              "    </tr>\n",
              "    <tr>\n",
              "      <th>3</th>\n",
              "      <td>2019-01-03</td>\n",
              "      <td>3587.5</td>\n",
              "      <td>3534.966797</td>\n",
              "    </tr>\n",
              "    <tr>\n",
              "      <th>4</th>\n",
              "      <td>2019-01-04</td>\n",
              "      <td>3725.0</td>\n",
              "      <td>3671.932861</td>\n",
              "    </tr>\n",
              "    <tr>\n",
              "      <th>...</th>\n",
              "      <td>...</td>\n",
              "      <td>...</td>\n",
              "      <td>...</td>\n",
              "    </tr>\n",
              "    <tr>\n",
              "      <th>1227</th>\n",
              "      <td>2023-12-21</td>\n",
              "      <td>5975.0</td>\n",
              "      <td>5777.531738</td>\n",
              "    </tr>\n",
              "    <tr>\n",
              "      <th>1228</th>\n",
              "      <td>2023-12-22</td>\n",
              "      <td>5975.0</td>\n",
              "      <td>5777.531738</td>\n",
              "    </tr>\n",
              "    <tr>\n",
              "      <th>1229</th>\n",
              "      <td>2023-12-27</td>\n",
              "      <td>6000.0</td>\n",
              "      <td>5793.627930</td>\n",
              "    </tr>\n",
              "    <tr>\n",
              "      <th>1230</th>\n",
              "      <td>2023-12-28</td>\n",
              "      <td>6125.0</td>\n",
              "      <td>5869.659180</td>\n",
              "    </tr>\n",
              "    <tr>\n",
              "      <th>1231</th>\n",
              "      <td>2023-12-29</td>\n",
              "      <td>6050.0</td>\n",
              "      <td>5824.940918</td>\n",
              "    </tr>\n",
              "  </tbody>\n",
              "</table>\n",
              "<p>1232 rows × 3 columns</p>\n",
              "</div>\n",
              "    <div class=\"colab-df-buttons\">\n",
              "\n",
              "  <div class=\"colab-df-container\">\n",
              "    <button class=\"colab-df-convert\" onclick=\"convertToInteractive('df-f25d0a47-9488-4489-a4f8-133a5052b003')\"\n",
              "            title=\"Convert this dataframe to an interactive table.\"\n",
              "            style=\"display:none;\">\n",
              "\n",
              "  <svg xmlns=\"http://www.w3.org/2000/svg\" height=\"24px\" viewBox=\"0 -960 960 960\">\n",
              "    <path d=\"M120-120v-720h720v720H120Zm60-500h600v-160H180v160Zm220 220h160v-160H400v160Zm0 220h160v-160H400v160ZM180-400h160v-160H180v160Zm440 0h160v-160H620v160ZM180-180h160v-160H180v160Zm440 0h160v-160H620v160Z\"/>\n",
              "  </svg>\n",
              "    </button>\n",
              "\n",
              "  <style>\n",
              "    .colab-df-container {\n",
              "      display:flex;\n",
              "      gap: 12px;\n",
              "    }\n",
              "\n",
              "    .colab-df-convert {\n",
              "      background-color: #E8F0FE;\n",
              "      border: none;\n",
              "      border-radius: 50%;\n",
              "      cursor: pointer;\n",
              "      display: none;\n",
              "      fill: #1967D2;\n",
              "      height: 32px;\n",
              "      padding: 0 0 0 0;\n",
              "      width: 32px;\n",
              "    }\n",
              "\n",
              "    .colab-df-convert:hover {\n",
              "      background-color: #E2EBFA;\n",
              "      box-shadow: 0px 1px 2px rgba(60, 64, 67, 0.3), 0px 1px 3px 1px rgba(60, 64, 67, 0.15);\n",
              "      fill: #174EA6;\n",
              "    }\n",
              "\n",
              "    .colab-df-buttons div {\n",
              "      margin-bottom: 4px;\n",
              "    }\n",
              "\n",
              "    [theme=dark] .colab-df-convert {\n",
              "      background-color: #3B4455;\n",
              "      fill: #D2E3FC;\n",
              "    }\n",
              "\n",
              "    [theme=dark] .colab-df-convert:hover {\n",
              "      background-color: #434B5C;\n",
              "      box-shadow: 0px 1px 3px 1px rgba(0, 0, 0, 0.15);\n",
              "      filter: drop-shadow(0px 1px 2px rgba(0, 0, 0, 0.3));\n",
              "      fill: #FFFFFF;\n",
              "    }\n",
              "  </style>\n",
              "\n",
              "    <script>\n",
              "      const buttonEl =\n",
              "        document.querySelector('#df-f25d0a47-9488-4489-a4f8-133a5052b003 button.colab-df-convert');\n",
              "      buttonEl.style.display =\n",
              "        google.colab.kernel.accessAllowed ? 'block' : 'none';\n",
              "\n",
              "      async function convertToInteractive(key) {\n",
              "        const element = document.querySelector('#df-f25d0a47-9488-4489-a4f8-133a5052b003');\n",
              "        const dataTable =\n",
              "          await google.colab.kernel.invokeFunction('convertToInteractive',\n",
              "                                                    [key], {});\n",
              "        if (!dataTable) return;\n",
              "\n",
              "        const docLinkHtml = 'Like what you see? Visit the ' +\n",
              "          '<a target=\"_blank\" href=https://colab.research.google.com/notebooks/data_table.ipynb>data table notebook</a>'\n",
              "          + ' to learn more about interactive tables.';\n",
              "        element.innerHTML = '';\n",
              "        dataTable['output_type'] = 'display_data';\n",
              "        await google.colab.output.renderOutput(dataTable, element);\n",
              "        const docLink = document.createElement('div');\n",
              "        docLink.innerHTML = docLinkHtml;\n",
              "        element.appendChild(docLink);\n",
              "      }\n",
              "    </script>\n",
              "  </div>\n",
              "\n",
              "\n",
              "<div id=\"df-8f9e423b-0878-4f28-acba-caec103a747f\">\n",
              "  <button class=\"colab-df-quickchart\" onclick=\"quickchart('df-8f9e423b-0878-4f28-acba-caec103a747f')\"\n",
              "            title=\"Suggest charts\"\n",
              "            style=\"display:none;\">\n",
              "\n",
              "<svg xmlns=\"http://www.w3.org/2000/svg\" height=\"24px\"viewBox=\"0 0 24 24\"\n",
              "     width=\"24px\">\n",
              "    <g>\n",
              "        <path d=\"M19 3H5c-1.1 0-2 .9-2 2v14c0 1.1.9 2 2 2h14c1.1 0 2-.9 2-2V5c0-1.1-.9-2-2-2zM9 17H7v-7h2v7zm4 0h-2V7h2v10zm4 0h-2v-4h2v4z\"/>\n",
              "    </g>\n",
              "</svg>\n",
              "  </button>\n",
              "\n",
              "<style>\n",
              "  .colab-df-quickchart {\n",
              "      --bg-color: #E8F0FE;\n",
              "      --fill-color: #1967D2;\n",
              "      --hover-bg-color: #E2EBFA;\n",
              "      --hover-fill-color: #174EA6;\n",
              "      --disabled-fill-color: #AAA;\n",
              "      --disabled-bg-color: #DDD;\n",
              "  }\n",
              "\n",
              "  [theme=dark] .colab-df-quickchart {\n",
              "      --bg-color: #3B4455;\n",
              "      --fill-color: #D2E3FC;\n",
              "      --hover-bg-color: #434B5C;\n",
              "      --hover-fill-color: #FFFFFF;\n",
              "      --disabled-bg-color: #3B4455;\n",
              "      --disabled-fill-color: #666;\n",
              "  }\n",
              "\n",
              "  .colab-df-quickchart {\n",
              "    background-color: var(--bg-color);\n",
              "    border: none;\n",
              "    border-radius: 50%;\n",
              "    cursor: pointer;\n",
              "    display: none;\n",
              "    fill: var(--fill-color);\n",
              "    height: 32px;\n",
              "    padding: 0;\n",
              "    width: 32px;\n",
              "  }\n",
              "\n",
              "  .colab-df-quickchart:hover {\n",
              "    background-color: var(--hover-bg-color);\n",
              "    box-shadow: 0 1px 2px rgba(60, 64, 67, 0.3), 0 1px 3px 1px rgba(60, 64, 67, 0.15);\n",
              "    fill: var(--button-hover-fill-color);\n",
              "  }\n",
              "\n",
              "  .colab-df-quickchart-complete:disabled,\n",
              "  .colab-df-quickchart-complete:disabled:hover {\n",
              "    background-color: var(--disabled-bg-color);\n",
              "    fill: var(--disabled-fill-color);\n",
              "    box-shadow: none;\n",
              "  }\n",
              "\n",
              "  .colab-df-spinner {\n",
              "    border: 2px solid var(--fill-color);\n",
              "    border-color: transparent;\n",
              "    border-bottom-color: var(--fill-color);\n",
              "    animation:\n",
              "      spin 1s steps(1) infinite;\n",
              "  }\n",
              "\n",
              "  @keyframes spin {\n",
              "    0% {\n",
              "      border-color: transparent;\n",
              "      border-bottom-color: var(--fill-color);\n",
              "      border-left-color: var(--fill-color);\n",
              "    }\n",
              "    20% {\n",
              "      border-color: transparent;\n",
              "      border-left-color: var(--fill-color);\n",
              "      border-top-color: var(--fill-color);\n",
              "    }\n",
              "    30% {\n",
              "      border-color: transparent;\n",
              "      border-left-color: var(--fill-color);\n",
              "      border-top-color: var(--fill-color);\n",
              "      border-right-color: var(--fill-color);\n",
              "    }\n",
              "    40% {\n",
              "      border-color: transparent;\n",
              "      border-right-color: var(--fill-color);\n",
              "      border-top-color: var(--fill-color);\n",
              "    }\n",
              "    60% {\n",
              "      border-color: transparent;\n",
              "      border-right-color: var(--fill-color);\n",
              "    }\n",
              "    80% {\n",
              "      border-color: transparent;\n",
              "      border-right-color: var(--fill-color);\n",
              "      border-bottom-color: var(--fill-color);\n",
              "    }\n",
              "    90% {\n",
              "      border-color: transparent;\n",
              "      border-bottom-color: var(--fill-color);\n",
              "    }\n",
              "  }\n",
              "</style>\n",
              "\n",
              "  <script>\n",
              "    async function quickchart(key) {\n",
              "      const quickchartButtonEl =\n",
              "        document.querySelector('#' + key + ' button');\n",
              "      quickchartButtonEl.disabled = true;  // To prevent multiple clicks.\n",
              "      quickchartButtonEl.classList.add('colab-df-spinner');\n",
              "      try {\n",
              "        const charts = await google.colab.kernel.invokeFunction(\n",
              "            'suggestCharts', [key], {});\n",
              "      } catch (error) {\n",
              "        console.error('Error during call to suggestCharts:', error);\n",
              "      }\n",
              "      quickchartButtonEl.classList.remove('colab-df-spinner');\n",
              "      quickchartButtonEl.classList.add('colab-df-quickchart-complete');\n",
              "    }\n",
              "    (() => {\n",
              "      let quickchartButtonEl =\n",
              "        document.querySelector('#df-8f9e423b-0878-4f28-acba-caec103a747f button');\n",
              "      quickchartButtonEl.style.display =\n",
              "        google.colab.kernel.accessAllowed ? 'block' : 'none';\n",
              "    })();\n",
              "  </script>\n",
              "</div>\n",
              "    </div>\n",
              "  </div>\n"
            ]
          },
          "metadata": {},
          "execution_count": 32
        }
      ]
    },
    {
      "cell_type": "code",
      "source": [
        "# Plot the actual closing prices and predictions\n",
        "plt.figure(figsize=(10, 6))\n",
        "plt.plot(df['Date'], df['Close'], label='Actual Close Price', color='blue')\n",
        "plt.plot(df['Date'], df['LSTM Predictions'], label='Predicted Close Price', color='red')\n",
        "plt.title('Close Price Prediction using LSTM')\n",
        "plt.xlabel('Date')\n",
        "plt.ylabel('Closing Price')\n",
        "plt.legend()\n",
        "plt.show()"
      ],
      "metadata": {
        "colab": {
          "base_uri": "https://localhost:8080/",
          "height": 564
        },
        "id": "Laq_qFPjL0V_",
        "outputId": "6b3d4768-f9c7-41a7-de50-c7b2db022612"
      },
      "execution_count": null,
      "outputs": [
        {
          "output_type": "display_data",
          "data": {
            "text/plain": [
              "<Figure size 1000x600 with 1 Axes>"
            ],
            "image/png": "[encoded data removed]"
          },
          "metadata": {}
        }
      ]
    },
    {
      "cell_type": "markdown",
      "source": [
        "#### **Model Evaluation**"
      ],
      "metadata": {
        "id": "TYygeJ7KWIcu"
      }
    },
    {
      "cell_type": "code",
      "source": [
        "from sklearn.metrics import mean_squared_error\n",
        "from math import sqrt"
      ],
      "metadata": {
        "id": "_o_AWGCUW7gO"
      },
      "execution_count": null,
      "outputs": []
    },
    {
      "cell_type": "code",
      "source": [
        "# Perform prediction on training data\n",
        "y_pred = lstm_model.predict(X_train)\n",
        "\n",
        "# Calculate MSE\n",
        "mse_lstm = mean_squared_error(Y_train, y_pred)\n",
        "\n",
        "# Calculating RMSE\n",
        "rmse_lstm = sqrt(mse_lstm)\n",
        "\n",
        "# Calculating MAPE\n",
        "mape_lstm = np.mean(np.abs((Y_train - y_pred) / np.maximum(1e-8, np.abs(Y_train)))) * 100\n",
        "\n",
        "# Displaying results\n",
        "print(f'Mean Squared Error (MSE): {mse_lstm}')\n",
        "print(f'Root Mean Squared Error (RMSE): {rmse_lstm}')\n",
        "print(f'Mean Absolute Percentage Error (MAPE): {mape_lstm}%')"
      ],
      "metadata": {
        "colab": {
          "base_uri": "https://localhost:8080/"
        },
        "id": "UcLOXtuRWMeX",
        "outputId": "539143b9-0f14-4313-ca6a-94b383a0a4ee"
      },
      "execution_count": null,
      "outputs": [
        {
          "output_type": "stream",
          "name": "stdout",
          "text": [
            "39/39 [==============================] - 0s 3ms/step\n",
            "Mean Squared Error (MSE): 0.00027603661663621844\n",
            "Root Mean Squared Error (RMSE): 0.01661434972053431\n",
            "Mean Absolute Percentage Error (MAPE): 375551.4115623108%\n"
          ]
        }
      ]
    },
    {
      "cell_type": "markdown",
      "source": [
        "#### **Saving LSTM Model**"
      ],
      "metadata": {
        "id": "EBC_Dp5gXdlm"
      }
    },
    {
      "cell_type": "code",
      "source": [
        "from keras.models import load_model\n",
        "lstm_model.save('BMRI_LSTM_Model.h5')"
      ],
      "metadata": {
        "id": "xgsWPx4xXgq5",
        "colab": {
          "base_uri": "https://localhost:8080/"
        },
        "outputId": "341c1681-cb78-494f-8211-ad851aeb1787"
      },
      "execution_count": null,
      "outputs": [
        {
          "output_type": "stream",
          "name": "stderr",
          "text": [
            "/usr/local/lib/python3.10/dist-packages/keras/src/engine/training.py:3103: UserWarning: You are saving your model as an HDF5 file via `model.save()`. This file format is considered legacy. We recommend using instead the native Keras format, e.g. `model.save('my_model.keras')`.\n",
            "  saving_api.save_model(\n"
          ]
        }
      ]
    },
    {
      "cell_type": "markdown",
      "source": [
        "### **Gated Recurrent Unit (GRU)**"
      ],
      "metadata": {
        "id": "ya8zy-MrZ-Ax"
      }
    },
    {
      "cell_type": "code",
      "source": [
        "from keras.models import Sequential\n",
        "from keras.layers import GRU, Dense, Dropout"
      ],
      "metadata": {
        "id": "ehv-wNxZazs5"
      },
      "execution_count": null,
      "outputs": []
    },
    {
      "cell_type": "markdown",
      "source": [
        "#### **Building GRU Architecture**"
      ],
      "metadata": {
        "id": "mTVjk30bgMsV"
      }
    },
    {
      "cell_type": "code",
      "source": [
        "# Creating a GRU model\n",
        "gru_model = Sequential()\n",
        "\n",
        "# Adding a GRU layer\n",
        "gru_model.add(GRU(units=64, return_sequences=True, input_shape=(X_train.shape[1], 1)))\n",
        "gru_model.add(Dropout(0.25))\n",
        "gru_model.add(GRU(units=64, return_sequences=True))\n",
        "gru_model.add(Dropout(0.25))\n",
        "gru_model.add(GRU(units=64, return_sequences=True))\n",
        "gru_model.add(Dropout(0.25))\n",
        "gru_model.add(GRU(units=64, return_sequences=False))\n",
        "gru_model.add(Dropout(0.25))\n",
        "gru_model.add(Dense(units=1))\n",
        "\n",
        "# Compile the GRU model\n",
        "gru_model.compile(optimizer='adam', loss='mean_squared_error')"
      ],
      "metadata": {
        "id": "_dqtl6CnaZkj"
      },
      "execution_count": null,
      "outputs": []
    },
    {
      "cell_type": "markdown",
      "source": [
        "#### **Training GRU Model**"
      ],
      "metadata": {
        "id": "f23N4gangVie"
      }
    },
    {
      "cell_type": "code",
      "source": [
        "# Train the GRU model\n",
        "gru_model.fit(X_train, Y_train, epochs=100, batch_size=32)"
      ],
      "metadata": {
        "colab": {
          "base_uri": "https://localhost:8080/"
        },
        "id": "Tg4AjJZNbM1J",
        "outputId": "14ad0057-f60e-46eb-a1ea-410409af01e6"
      },
      "execution_count": null,
      "outputs": [
        {
          "output_type": "stream",
          "name": "stdout",
          "text": [
            "Epoch 1/100\n",
            "39/39 [==============================] - 10s 9ms/step - loss: 0.0965\n",
            "Epoch 2/100\n",
            "39/39 [==============================] - 0s 8ms/step - loss: 0.0178\n",
            "Epoch 3/100\n",
            "39/39 [==============================] - 0s 8ms/step - loss: 0.0062\n",
            "Epoch 4/100\n",
            "39/39 [==============================] - 0s 9ms/step - loss: 0.0053\n",
            "Epoch 5/100\n",
            "39/39 [==============================] - 0s 9ms/step - loss: 0.0046\n",
            "Epoch 6/100\n",
            "39/39 [==============================] - 0s 10ms/step - loss: 0.0042\n",
            "Epoch 7/100\n",
            "39/39 [==============================] - 0s 10ms/step - loss: 0.0042\n",
            "Epoch 8/100\n",
            "39/39 [==============================] - 0s 9ms/step - loss: 0.0031\n",
            "Epoch 9/100\n",
            "39/39 [==============================] - 0s 9ms/step - loss: 0.0036\n",
            "Epoch 10/100\n",
            "39/39 [==============================] - 0s 9ms/step - loss: 0.0033\n",
            "Epoch 11/100\n",
            "39/39 [==============================] - 0s 9ms/step - loss: 0.0027\n",
            "Epoch 12/100\n",
            "39/39 [==============================] - 0s 9ms/step - loss: 0.0031\n",
            "Epoch 13/100\n",
            "39/39 [==============================] - 0s 9ms/step - loss: 0.0029\n",
            "Epoch 14/100\n",
            "39/39 [==============================] - 0s 9ms/step - loss: 0.0032\n",
            "Epoch 15/100\n",
            "39/39 [==============================] - 0s 9ms/step - loss: 0.0026\n",
            "Epoch 16/100\n",
            "39/39 [==============================] - 0s 9ms/step - loss: 0.0024\n",
            "Epoch 17/100\n",
            "39/39 [==============================] - 0s 9ms/step - loss: 0.0024\n",
            "Epoch 18/100\n",
            "39/39 [==============================] - 0s 10ms/step - loss: 0.0026\n",
            "Epoch 19/100\n",
            "39/39 [==============================] - 0s 10ms/step - loss: 0.0023\n",
            "Epoch 20/100\n",
            "39/39 [==============================] - 1s 14ms/step - loss: 0.0021\n",
            "Epoch 21/100\n",
            "39/39 [==============================] - 1s 13ms/step - loss: 0.0023\n",
            "Epoch 22/100\n",
            "39/39 [==============================] - 1s 13ms/step - loss: 0.0025\n",
            "Epoch 23/100\n",
            "39/39 [==============================] - 1s 13ms/step - loss: 0.0026\n",
            "Epoch 24/100\n",
            "39/39 [==============================] - 1s 14ms/step - loss: 0.0026\n",
            "Epoch 25/100\n",
            "39/39 [==============================] - 1s 13ms/step - loss: 0.0023\n",
            "Epoch 26/100\n",
            "39/39 [==============================] - 1s 14ms/step - loss: 0.0024\n",
            "Epoch 27/100\n",
            "39/39 [==============================] - 1s 14ms/step - loss: 0.0025\n",
            "Epoch 28/100\n",
            "39/39 [==============================] - 1s 13ms/step - loss: 0.0024\n",
            "Epoch 29/100\n",
            "39/39 [==============================] - 0s 13ms/step - loss: 0.0022\n",
            "Epoch 30/100\n",
            "39/39 [==============================] - 1s 14ms/step - loss: 0.0021\n",
            "Epoch 31/100\n",
            "39/39 [==============================] - 1s 14ms/step - loss: 0.0021\n",
            "Epoch 32/100\n",
            "39/39 [==============================] - 1s 23ms/step - loss: 0.0021\n",
            "Epoch 33/100\n",
            "39/39 [==============================] - 0s 12ms/step - loss: 0.0020\n",
            "Epoch 34/100\n",
            "39/39 [==============================] - 0s 10ms/step - loss: 0.0021\n",
            "Epoch 35/100\n",
            "39/39 [==============================] - 0s 9ms/step - loss: 0.0022\n",
            "Epoch 36/100\n",
            "39/39 [==============================] - 0s 10ms/step - loss: 0.0023\n",
            "Epoch 37/100\n",
            "39/39 [==============================] - 0s 9ms/step - loss: 0.0021\n",
            "Epoch 38/100\n",
            "39/39 [==============================] - 0s 9ms/step - loss: 0.0024\n",
            "Epoch 39/100\n",
            "39/39 [==============================] - 0s 9ms/step - loss: 0.0020\n",
            "Epoch 40/100\n",
            "39/39 [==============================] - 0s 9ms/step - loss: 0.0019\n",
            "Epoch 41/100\n",
            "39/39 [==============================] - 0s 9ms/step - loss: 0.0019\n",
            "Epoch 42/100\n",
            "39/39 [==============================] - 0s 10ms/step - loss: 0.0022\n",
            "Epoch 43/100\n",
            "39/39 [==============================] - 0s 9ms/step - loss: 0.0020\n",
            "Epoch 44/100\n",
            "39/39 [==============================] - 0s 9ms/step - loss: 0.0019\n",
            "Epoch 45/100\n",
            "39/39 [==============================] - 0s 10ms/step - loss: 0.0018\n",
            "Epoch 46/100\n",
            "39/39 [==============================] - 0s 9ms/step - loss: 0.0018\n",
            "Epoch 47/100\n",
            "39/39 [==============================] - 0s 10ms/step - loss: 0.0020\n",
            "Epoch 48/100\n",
            "39/39 [==============================] - 0s 10ms/step - loss: 0.0019\n",
            "Epoch 49/100\n",
            "39/39 [==============================] - 0s 10ms/step - loss: 0.0019\n",
            "Epoch 50/100\n",
            "39/39 [==============================] - 0s 10ms/step - loss: 0.0020\n",
            "Epoch 51/100\n",
            "39/39 [==============================] - 0s 10ms/step - loss: 0.0019\n",
            "Epoch 52/100\n",
            "39/39 [==============================] - 0s 9ms/step - loss: 0.0015\n",
            "Epoch 53/100\n",
            "39/39 [==============================] - 0s 10ms/step - loss: 0.0018\n",
            "Epoch 54/100\n",
            "39/39 [==============================] - 0s 9ms/step - loss: 0.0019\n",
            "Epoch 55/100\n",
            "39/39 [==============================] - 1s 16ms/step - loss: 0.0018\n",
            "Epoch 56/100\n",
            "39/39 [==============================] - 1s 32ms/step - loss: 0.0019\n",
            "Epoch 57/100\n",
            "39/39 [==============================] - 1s 27ms/step - loss: 0.0019\n",
            "Epoch 58/100\n",
            "39/39 [==============================] - 1s 29ms/step - loss: 0.0018\n",
            "Epoch 59/100\n",
            "39/39 [==============================] - 1s 14ms/step - loss: 0.0017\n",
            "Epoch 60/100\n",
            "39/39 [==============================] - 1s 15ms/step - loss: 0.0019\n",
            "Epoch 61/100\n",
            "39/39 [==============================] - 1s 13ms/step - loss: 0.0019\n",
            "Epoch 62/100\n",
            "39/39 [==============================] - 1s 14ms/step - loss: 0.0016\n",
            "Epoch 63/100\n",
            "39/39 [==============================] - 1s 14ms/step - loss: 0.0017\n",
            "Epoch 64/100\n",
            "39/39 [==============================] - 1s 13ms/step - loss: 0.0017\n",
            "Epoch 65/100\n",
            "39/39 [==============================] - 0s 9ms/step - loss: 0.0014\n",
            "Epoch 66/100\n",
            "39/39 [==============================] - 0s 9ms/step - loss: 0.0018\n",
            "Epoch 67/100\n",
            "39/39 [==============================] - 0s 9ms/step - loss: 0.0017\n",
            "Epoch 68/100\n",
            "39/39 [==============================] - 0s 9ms/step - loss: 0.0018\n",
            "Epoch 69/100\n",
            "39/39 [==============================] - 0s 10ms/step - loss: 0.0017\n",
            "Epoch 70/100\n",
            "39/39 [==============================] - 0s 10ms/step - loss: 0.0017\n",
            "Epoch 71/100\n",
            "39/39 [==============================] - 0s 11ms/step - loss: 0.0017\n",
            "Epoch 72/100\n",
            "39/39 [==============================] - 0s 9ms/step - loss: 0.0015\n",
            "Epoch 73/100\n",
            "39/39 [==============================] - 0s 10ms/step - loss: 0.0015\n",
            "Epoch 74/100\n",
            "39/39 [==============================] - 0s 10ms/step - loss: 0.0014\n",
            "Epoch 75/100\n",
            "39/39 [==============================] - 0s 9ms/step - loss: 0.0017\n",
            "Epoch 76/100\n",
            "39/39 [==============================] - 0s 9ms/step - loss: 0.0016\n",
            "Epoch 77/100\n",
            "39/39 [==============================] - 0s 10ms/step - loss: 0.0016\n",
            "Epoch 78/100\n",
            "39/39 [==============================] - 0s 9ms/step - loss: 0.0016\n",
            "Epoch 79/100\n",
            "39/39 [==============================] - 0s 10ms/step - loss: 0.0015\n",
            "Epoch 80/100\n",
            "39/39 [==============================] - 0s 10ms/step - loss: 0.0015\n",
            "Epoch 81/100\n",
            "39/39 [==============================] - 0s 10ms/step - loss: 0.0016\n",
            "Epoch 82/100\n",
            "39/39 [==============================] - 0s 10ms/step - loss: 0.0014\n",
            "Epoch 83/100\n",
            "39/39 [==============================] - 0s 9ms/step - loss: 0.0016\n",
            "Epoch 84/100\n",
            "39/39 [==============================] - 0s 10ms/step - loss: 0.0014\n",
            "Epoch 85/100\n",
            "39/39 [==============================] - 0s 10ms/step - loss: 0.0014\n",
            "Epoch 86/100\n",
            "39/39 [==============================] - 0s 10ms/step - loss: 0.0014\n",
            "Epoch 87/100\n",
            "39/39 [==============================] - 0s 9ms/step - loss: 0.0014\n",
            "Epoch 88/100\n",
            "39/39 [==============================] - 0s 9ms/step - loss: 0.0015\n",
            "Epoch 89/100\n",
            "39/39 [==============================] - 0s 9ms/step - loss: 0.0016\n",
            "Epoch 90/100\n",
            "39/39 [==============================] - 0s 11ms/step - loss: 0.0014\n",
            "Epoch 91/100\n",
            "39/39 [==============================] - 1s 14ms/step - loss: 0.0014\n",
            "Epoch 92/100\n",
            "39/39 [==============================] - 1s 14ms/step - loss: 0.0015\n",
            "Epoch 93/100\n",
            "39/39 [==============================] - 1s 14ms/step - loss: 0.0014\n",
            "Epoch 94/100\n",
            "39/39 [==============================] - 1s 14ms/step - loss: 0.0014\n",
            "Epoch 95/100\n",
            "39/39 [==============================] - 1s 13ms/step - loss: 0.0013\n",
            "Epoch 96/100\n",
            "39/39 [==============================] - 1s 14ms/step - loss: 0.0014\n",
            "Epoch 97/100\n",
            "39/39 [==============================] - 1s 13ms/step - loss: 0.0012\n",
            "Epoch 98/100\n",
            "39/39 [==============================] - 1s 14ms/step - loss: 0.0013\n",
            "Epoch 99/100\n",
            "39/39 [==============================] - 1s 13ms/step - loss: 0.0014\n",
            "Epoch 100/100\n",
            "39/39 [==============================] - 1s 14ms/step - loss: 0.0013\n"
          ]
        },
        {
          "output_type": "execute_result",
          "data": {
            "text/plain": [
              "<keras.src.callbacks.History at 0x7f3e71ee5f60>"
            ]
          },
          "metadata": {},
          "execution_count": 39
        }
      ]
    },
    {
      "cell_type": "markdown",
      "source": [
        "#### **Testing GRU Model**"
      ],
      "metadata": {
        "id": "Kxf1KHMigcGl"
      }
    },
    {
      "cell_type": "code",
      "source": [
        "dataset_test = df\n",
        "real_stock_price = dataset_test.iloc[:,4:5].values\n",
        "real_stock_price"
      ],
      "metadata": {
        "colab": {
          "base_uri": "https://localhost:8080/"
        },
        "id": "vEZoUBUveQ6J",
        "outputId": "117affa4-1191-4909-ff37-93d551c4aff9"
      },
      "execution_count": null,
      "outputs": [
        {
          "output_type": "execute_result",
          "data": {
            "text/plain": [
              "array([[3687.5],\n",
              "       [3687.5],\n",
              "       [3662.5],\n",
              "       ...,\n",
              "       [6000. ],\n",
              "       [6125. ],\n",
              "       [6050. ]])"
            ]
          },
          "metadata": {},
          "execution_count": 40
        }
      ]
    },
    {
      "cell_type": "code",
      "source": [
        "dataset_total = pd.concat((df['Close'], dataset_test['Close']), axis = 0)\n",
        "inputs = dataset_total[len(dataset_total) - len(dataset_test):].values\n",
        "inputs = inputs.reshape(-1,1)\n",
        "inputs = sc.transform(inputs)"
      ],
      "metadata": {
        "id": "kT7hhGUJeV4Q"
      },
      "execution_count": null,
      "outputs": []
    },
    {
      "cell_type": "code",
      "source": [
        "inputs"
      ],
      "metadata": {
        "colab": {
          "base_uri": "https://localhost:8080/"
        },
        "id": "gE2VUt1_eZ_3",
        "outputId": "279203a0-2680-46ea-d816-90923a4443eb"
      },
      "execution_count": null,
      "outputs": [
        {
          "output_type": "execute_result",
          "data": {
            "text/plain": [
              "array([[0.42848769],\n",
              "       [0.42848769],\n",
              "       [0.42262603],\n",
              "       ...,\n",
              "       [0.97069168],\n",
              "       [1.        ],\n",
              "       [0.98241501]])"
            ]
          },
          "metadata": {},
          "execution_count": 42
        }
      ]
    },
    {
      "cell_type": "code",
      "source": [
        "X_test = inputs\n",
        "X_test = np.array(X_test)\n",
        "X_test = np.reshape(X_test, (X_test.shape[0], X_test.shape[1], 1))"
      ],
      "metadata": {
        "id": "iimFc6KCefv3"
      },
      "execution_count": null,
      "outputs": []
    },
    {
      "cell_type": "code",
      "source": [
        "predicted_stock_price_gru = gru_model.predict(X_test)\n",
        "predicted_stock_price_gru = sc.inverse_transform(predicted_stock_price_gru)"
      ],
      "metadata": {
        "colab": {
          "base_uri": "https://localhost:8080/"
        },
        "id": "kiSRbO2Gek23",
        "outputId": "595cc5a6-bdf9-43d9-ba75-f85a6645a330"
      },
      "execution_count": null,
      "outputs": [
        {
          "output_type": "stream",
          "name": "stdout",
          "text": [
            "39/39 [==============================] - 2s 4ms/step\n"
          ]
        }
      ]
    },
    {
      "cell_type": "code",
      "source": [
        "predicted_stock_price_gru"
      ],
      "metadata": {
        "colab": {
          "base_uri": "https://localhost:8080/"
        },
        "id": "DJEY1BhQfKVz",
        "outputId": "dcd88d47-4e91-4192-914f-6e33ff1ec1cf"
      },
      "execution_count": null,
      "outputs": [
        {
          "output_type": "execute_result",
          "data": {
            "text/plain": [
              "array([[3705.777 ],\n",
              "       [3705.777 ],\n",
              "       [3681.0754],\n",
              "       ...,\n",
              "       [5845.1694],\n",
              "       [5920.1265],\n",
              "       [5876.061 ]], dtype=float32)"
            ]
          },
          "metadata": {},
          "execution_count": 45
        }
      ]
    },
    {
      "cell_type": "code",
      "source": [
        "# Add the predicted values to the DataFrame\n",
        "df['GRU Predictions'] = predicted_stock_price_gru\n",
        "\n",
        "# Print or visualize the results as needed\n",
        "df[['Date', 'Close', 'GRU Predictions']]"
      ],
      "metadata": {
        "colab": {
          "base_uri": "https://localhost:8080/",
          "height": 424
        },
        "id": "8RyB5Pc8ffVz",
        "outputId": "e022172e-3e0c-453d-c073-ea307c9e2877"
      },
      "execution_count": null,
      "outputs": [
        {
          "output_type": "execute_result",
          "data": {
            "text/plain": [
              "           Date   Close  GRU Predictions\n",
              "0    2018-12-31  3687.5      3705.777100\n",
              "1    2019-01-01  3687.5      3705.777100\n",
              "2    2019-01-02  3662.5      3681.075439\n",
              "3    2019-01-03  3587.5      3607.371582\n",
              "4    2019-01-04  3725.0      3742.947998\n",
              "...         ...     ...              ...\n",
              "1227 2023-12-21  5975.0      5829.280273\n",
              "1228 2023-12-22  5975.0      5829.280273\n",
              "1229 2023-12-27  6000.0      5845.169434\n",
              "1230 2023-12-28  6125.0      5920.126465\n",
              "1231 2023-12-29  6050.0      5876.061035\n",
              "\n",
              "[1232 rows x 3 columns]"
            ],
            "text/html": [
              "\n",
              "  <div id=\"df-360128b8-c417-479f-8e73-c9e9a7d84e72\" class=\"colab-df-container\">\n",
              "    <div>\n",
              "<style scoped>\n",
              "    .dataframe tbody tr th:only-of-type {\n",
              "        vertical-align: middle;\n",
              "    }\n",
              "\n",
              "    .dataframe tbody tr th {\n",
              "        vertical-align: top;\n",
              "    }\n",
              "\n",
              "    .dataframe thead th {\n",
              "        text-align: right;\n",
              "    }\n",
              "</style>\n",
              "<table border=\"1\" class=\"dataframe\">\n",
              "  <thead>\n",
              "    <tr style=\"text-align: right;\">\n",
              "      <th></th>\n",
              "      <th>Date</th>\n",
              "      <th>Close</th>\n",
              "      <th>GRU Predictions</th>\n",
              "    </tr>\n",
              "  </thead>\n",
              "  <tbody>\n",
              "    <tr>\n",
              "      <th>0</th>\n",
              "      <td>2018-12-31</td>\n",
              "      <td>3687.5</td>\n",
              "      <td>3705.777100</td>\n",
              "    </tr>\n",
              "    <tr>\n",
              "      <th>1</th>\n",
              "      <td>2019-01-01</td>\n",
              "      <td>3687.5</td>\n",
              "      <td>3705.777100</td>\n",
              "    </tr>\n",
              "    <tr>\n",
              "      <th>2</th>\n",
              "      <td>2019-01-02</td>\n",
              "      <td>3662.5</td>\n",
              "      <td>3681.075439</td>\n",
              "    </tr>\n",
              "    <tr>\n",
              "      <th>3</th>\n",
              "      <td>2019-01-03</td>\n",
              "      <td>3587.5</td>\n",
              "      <td>3607.371582</td>\n",
              "    </tr>\n",
              "    <tr>\n",
              "      <th>4</th>\n",
              "      <td>2019-01-04</td>\n",
              "      <td>3725.0</td>\n",
              "      <td>3742.947998</td>\n",
              "    </tr>\n",
              "    <tr>\n",
              "      <th>...</th>\n",
              "      <td>...</td>\n",
              "      <td>...</td>\n",
              "      <td>...</td>\n",
              "    </tr>\n",
              "    <tr>\n",
              "      <th>1227</th>\n",
              "      <td>2023-12-21</td>\n",
              "      <td>5975.0</td>\n",
              "      <td>5829.280273</td>\n",
              "    </tr>\n",
              "    <tr>\n",
              "      <th>1228</th>\n",
              "      <td>2023-12-22</td>\n",
              "      <td>5975.0</td>\n",
              "      <td>5829.280273</td>\n",
              "    </tr>\n",
              "    <tr>\n",
              "      <th>1229</th>\n",
              "      <td>2023-12-27</td>\n",
              "      <td>6000.0</td>\n",
              "      <td>5845.169434</td>\n",
              "    </tr>\n",
              "    <tr>\n",
              "      <th>1230</th>\n",
              "      <td>2023-12-28</td>\n",
              "      <td>6125.0</td>\n",
              "      <td>5920.126465</td>\n",
              "    </tr>\n",
              "    <tr>\n",
              "      <th>1231</th>\n",
              "      <td>2023-12-29</td>\n",
              "      <td>6050.0</td>\n",
              "      <td>5876.061035</td>\n",
              "    </tr>\n",
              "  </tbody>\n",
              "</table>\n",
              "<p>1232 rows × 3 columns</p>\n",
              "</div>\n",
              "    <div class=\"colab-df-buttons\">\n",
              "\n",
              "  <div class=\"colab-df-container\">\n",
              "    <button class=\"colab-df-convert\" onclick=\"convertToInteractive('df-360128b8-c417-479f-8e73-c9e9a7d84e72')\"\n",
              "            title=\"Convert this dataframe to an interactive table.\"\n",
              "            style=\"display:none;\">\n",
              "\n",
              "  <svg xmlns=\"http://www.w3.org/2000/svg\" height=\"24px\" viewBox=\"0 -960 960 960\">\n",
              "    <path d=\"M120-120v-720h720v720H120Zm60-500h600v-160H180v160Zm220 220h160v-160H400v160Zm0 220h160v-160H400v160ZM180-400h160v-160H180v160Zm440 0h160v-160H620v160ZM180-180h160v-160H180v160Zm440 0h160v-160H620v160Z\"/>\n",
              "  </svg>\n",
              "    </button>\n",
              "\n",
              "  <style>\n",
              "    .colab-df-container {\n",
              "      display:flex;\n",
              "      gap: 12px;\n",
              "    }\n",
              "\n",
              "    .colab-df-convert {\n",
              "      background-color: #E8F0FE;\n",
              "      border: none;\n",
              "      border-radius: 50%;\n",
              "      cursor: pointer;\n",
              "      display: none;\n",
              "      fill: #1967D2;\n",
              "      height: 32px;\n",
              "      padding: 0 0 0 0;\n",
              "      width: 32px;\n",
              "    }\n",
              "\n",
              "    .colab-df-convert:hover {\n",
              "      background-color: #E2EBFA;\n",
              "      box-shadow: 0px 1px 2px rgba(60, 64, 67, 0.3), 0px 1px 3px 1px rgba(60, 64, 67, 0.15);\n",
              "      fill: #174EA6;\n",
              "    }\n",
              "\n",
              "    .colab-df-buttons div {\n",
              "      margin-bottom: 4px;\n",
              "    }\n",
              "\n",
              "    [theme=dark] .colab-df-convert {\n",
              "      background-color: #3B4455;\n",
              "      fill: #D2E3FC;\n",
              "    }\n",
              "\n",
              "    [theme=dark] .colab-df-convert:hover {\n",
              "      background-color: #434B5C;\n",
              "      box-shadow: 0px 1px 3px 1px rgba(0, 0, 0, 0.15);\n",
              "      filter: drop-shadow(0px 1px 2px rgba(0, 0, 0, 0.3));\n",
              "      fill: #FFFFFF;\n",
              "    }\n",
              "  </style>\n",
              "\n",
              "    <script>\n",
              "      const buttonEl =\n",
              "        document.querySelector('#df-360128b8-c417-479f-8e73-c9e9a7d84e72 button.colab-df-convert');\n",
              "      buttonEl.style.display =\n",
              "        google.colab.kernel.accessAllowed ? 'block' : 'none';\n",
              "\n",
              "      async function convertToInteractive(key) {\n",
              "        const element = document.querySelector('#df-360128b8-c417-479f-8e73-c9e9a7d84e72');\n",
              "        const dataTable =\n",
              "          await google.colab.kernel.invokeFunction('convertToInteractive',\n",
              "                                                    [key], {});\n",
              "        if (!dataTable) return;\n",
              "\n",
              "        const docLinkHtml = 'Like what you see? Visit the ' +\n",
              "          '<a target=\"_blank\" href=https://colab.research.google.com/notebooks/data_table.ipynb>data table notebook</a>'\n",
              "          + ' to learn more about interactive tables.';\n",
              "        element.innerHTML = '';\n",
              "        dataTable['output_type'] = 'display_data';\n",
              "        await google.colab.output.renderOutput(dataTable, element);\n",
              "        const docLink = document.createElement('div');\n",
              "        docLink.innerHTML = docLinkHtml;\n",
              "        element.appendChild(docLink);\n",
              "      }\n",
              "    </script>\n",
              "  </div>\n",
              "\n",
              "\n",
              "<div id=\"df-6a2ed32b-14d8-437d-943f-5e8ceb5b685a\">\n",
              "  <button class=\"colab-df-quickchart\" onclick=\"quickchart('df-6a2ed32b-14d8-437d-943f-5e8ceb5b685a')\"\n",
              "            title=\"Suggest charts\"\n",
              "            style=\"display:none;\">\n",
              "\n",
              "<svg xmlns=\"http://www.w3.org/2000/svg\" height=\"24px\"viewBox=\"0 0 24 24\"\n",
              "     width=\"24px\">\n",
              "    <g>\n",
              "        <path d=\"M19 3H5c-1.1 0-2 .9-2 2v14c0 1.1.9 2 2 2h14c1.1 0 2-.9 2-2V5c0-1.1-.9-2-2-2zM9 17H7v-7h2v7zm4 0h-2V7h2v10zm4 0h-2v-4h2v4z\"/>\n",
              "    </g>\n",
              "</svg>\n",
              "  </button>\n",
              "\n",
              "<style>\n",
              "  .colab-df-quickchart {\n",
              "      --bg-color: #E8F0FE;\n",
              "      --fill-color: #1967D2;\n",
              "      --hover-bg-color: #E2EBFA;\n",
              "      --hover-fill-color: #174EA6;\n",
              "      --disabled-fill-color: #AAA;\n",
              "      --disabled-bg-color: #DDD;\n",
              "  }\n",
              "\n",
              "  [theme=dark] .colab-df-quickchart {\n",
              "      --bg-color: #3B4455;\n",
              "      --fill-color: #D2E3FC;\n",
              "      --hover-bg-color: #434B5C;\n",
              "      --hover-fill-color: #FFFFFF;\n",
              "      --disabled-bg-color: #3B4455;\n",
              "      --disabled-fill-color: #666;\n",
              "  }\n",
              "\n",
              "  .colab-df-quickchart {\n",
              "    background-color: var(--bg-color);\n",
              "    border: none;\n",
              "    border-radius: 50%;\n",
              "    cursor: pointer;\n",
              "    display: none;\n",
              "    fill: var(--fill-color);\n",
              "    height: 32px;\n",
              "    padding: 0;\n",
              "    width: 32px;\n",
              "  }\n",
              "\n",
              "  .colab-df-quickchart:hover {\n",
              "    background-color: var(--hover-bg-color);\n",
              "    box-shadow: 0 1px 2px rgba(60, 64, 67, 0.3), 0 1px 3px 1px rgba(60, 64, 67, 0.15);\n",
              "    fill: var(--button-hover-fill-color);\n",
              "  }\n",
              "\n",
              "  .colab-df-quickchart-complete:disabled,\n",
              "  .colab-df-quickchart-complete:disabled:hover {\n",
              "    background-color: var(--disabled-bg-color);\n",
              "    fill: var(--disabled-fill-color);\n",
              "    box-shadow: none;\n",
              "  }\n",
              "\n",
              "  .colab-df-spinner {\n",
              "    border: 2px solid var(--fill-color);\n",
              "    border-color: transparent;\n",
              "    border-bottom-color: var(--fill-color);\n",
              "    animation:\n",
              "      spin 1s steps(1) infinite;\n",
              "  }\n",
              "\n",
              "  @keyframes spin {\n",
              "    0% {\n",
              "      border-color: transparent;\n",
              "      border-bottom-color: var(--fill-color);\n",
              "      border-left-color: var(--fill-color);\n",
              "    }\n",
              "    20% {\n",
              "      border-color: transparent;\n",
              "      border-left-color: var(--fill-color);\n",
              "      border-top-color: var(--fill-color);\n",
              "    }\n",
              "    30% {\n",
              "      border-color: transparent;\n",
              "      border-left-color: var(--fill-color);\n",
              "      border-top-color: var(--fill-color);\n",
              "      border-right-color: var(--fill-color);\n",
              "    }\n",
              "    40% {\n",
              "      border-color: transparent;\n",
              "      border-right-color: var(--fill-color);\n",
              "      border-top-color: var(--fill-color);\n",
              "    }\n",
              "    60% {\n",
              "      border-color: transparent;\n",
              "      border-right-color: var(--fill-color);\n",
              "    }\n",
              "    80% {\n",
              "      border-color: transparent;\n",
              "      border-right-color: var(--fill-color);\n",
              "      border-bottom-color: var(--fill-color);\n",
              "    }\n",
              "    90% {\n",
              "      border-color: transparent;\n",
              "      border-bottom-color: var(--fill-color);\n",
              "    }\n",
              "  }\n",
              "</style>\n",
              "\n",
              "  <script>\n",
              "    async function quickchart(key) {\n",
              "      const quickchartButtonEl =\n",
              "        document.querySelector('#' + key + ' button');\n",
              "      quickchartButtonEl.disabled = true;  // To prevent multiple clicks.\n",
              "      quickchartButtonEl.classList.add('colab-df-spinner');\n",
              "      try {\n",
              "        const charts = await google.colab.kernel.invokeFunction(\n",
              "            'suggestCharts', [key], {});\n",
              "      } catch (error) {\n",
              "        console.error('Error during call to suggestCharts:', error);\n",
              "      }\n",
              "      quickchartButtonEl.classList.remove('colab-df-spinner');\n",
              "      quickchartButtonEl.classList.add('colab-df-quickchart-complete');\n",
              "    }\n",
              "    (() => {\n",
              "      let quickchartButtonEl =\n",
              "        document.querySelector('#df-6a2ed32b-14d8-437d-943f-5e8ceb5b685a button');\n",
              "      quickchartButtonEl.style.display =\n",
              "        google.colab.kernel.accessAllowed ? 'block' : 'none';\n",
              "    })();\n",
              "  </script>\n",
              "</div>\n",
              "    </div>\n",
              "  </div>\n"
            ]
          },
          "metadata": {},
          "execution_count": 46
        }
      ]
    },
    {
      "cell_type": "code",
      "source": [
        "# Plot the actual closing prices and predictions\n",
        "plt.figure(figsize=(10, 6))\n",
        "plt.plot(df['Date'], df['Close'], label='Actual Close Price', color='blue')\n",
        "plt.plot(df['Date'], df['GRU Predictions'], label='Predicted Close Price', color='red')\n",
        "plt.title('Close Price Prediction using GRU')\n",
        "plt.xlabel('Date')\n",
        "plt.ylabel('Closing Price')\n",
        "plt.legend()\n",
        "plt.show()"
      ],
      "metadata": {
        "colab": {
          "base_uri": "https://localhost:8080/",
          "height": 564
        },
        "id": "-QbHRXD2fyil",
        "outputId": "89d89090-9c10-4ff7-86f5-7e53804826b8"
      },
      "execution_count": null,
      "outputs": [
        {
          "output_type": "display_data",
          "data": {
            "text/plain": [
              "<Figure size 1000x600 with 1 Axes>"
            ],
            "image/png": "[encoded data removed]"
          },
          "metadata": {}
        }
      ]
    },
    {
      "cell_type": "markdown",
      "source": [
        "#### **Model Evaluation**"
      ],
      "metadata": {
        "id": "G8scK5qNgiMd"
      }
    },
    {
      "cell_type": "code",
      "source": [
        "from sklearn.metrics import mean_squared_error\n",
        "from math import sqrt"
      ],
      "metadata": {
        "id": "4OnldFvQgjDV"
      },
      "execution_count": null,
      "outputs": []
    },
    {
      "cell_type": "code",
      "source": [
        "# Perform prediction on training data\n",
        "y_pred = gru_model.predict(X_train)\n",
        "\n",
        "# Calculate MSE\n",
        "mse_gru = mean_squared_error(Y_train, y_pred)\n",
        "\n",
        "# Calculating RMSE\n",
        "rmse_gru = sqrt(mse_gru)\n",
        "\n",
        "# Calculating MAPE\n",
        "mape_gru = np.mean(np.abs((Y_train - y_pred) / np.maximum(1e-8, np.abs(Y_train)))) * 100\n",
        "\n",
        "# Displaying results\n",
        "print(f'Mean Squared Error (MSE): {mse_gru}')\n",
        "print(f'Root Mean Squared Error (RMSE): {rmse_gru}')\n",
        "print(f'Mean Absolute Percentage Error (MAPE): {mape_gru}%')"
      ],
      "metadata": {
        "colab": {
          "base_uri": "https://localhost:8080/"
        },
        "id": "8C_diGezguw_",
        "outputId": "ae93e23e-ac9b-451a-f31a-5a36af8c748d"
      },
      "execution_count": null,
      "outputs": [
        {
          "output_type": "stream",
          "name": "stdout",
          "text": [
            "39/39 [==============================] - 0s 4ms/step\n",
            "Mean Squared Error (MSE): 0.00025035795924240484\n",
            "Root Mean Squared Error (RMSE): 0.0158227039169165\n",
            "Mean Absolute Percentage Error (MAPE): 552744.4301090746%\n"
          ]
        }
      ]
    },
    {
      "cell_type": "markdown",
      "source": [
        "#### **Saving GRU Model**"
      ],
      "metadata": {
        "id": "732jn4_Kg9FL"
      }
    },
    {
      "cell_type": "code",
      "source": [
        "from keras.models import load_model\n",
        "gru_model.save('BMRI_GRU_Model.h5')"
      ],
      "metadata": {
        "id": "es8vVDX7g8M3",
        "colab": {
          "base_uri": "https://localhost:8080/"
        },
        "outputId": "4b64be18-b942-47da-d0d1-3ae02a9836c0"
      },
      "execution_count": null,
      "outputs": [
        {
          "output_type": "stream",
          "name": "stderr",
          "text": [
            "/usr/local/lib/python3.10/dist-packages/keras/src/engine/training.py:3103: UserWarning: You are saving your model as an HDF5 file via `model.save()`. This file format is considered legacy. We recommend using instead the native Keras format, e.g. `model.save('my_model.keras')`.\n",
            "  saving_api.save_model(\n"
          ]
        }
      ]
    },
    {
      "cell_type": "markdown",
      "source": [
        "## **Conclusion**"
      ],
      "metadata": {
        "id": "zO5PUkRinPPI"
      }
    },
    {
      "cell_type": "code",
      "source": [
        "model_comparison = pd.DataFrame({'Model': ['LSTM','GRU'], 'MSE': [mse_lstm,mse_gru], 'RMSE': [rmse_lstm,rmse_gru], 'MAPE': [mape_lstm*100,mape_gru*100]})\n",
        "model_comparison"
      ],
      "metadata": {
        "colab": {
          "base_uri": "https://localhost:8080/",
          "height": 112
        },
        "id": "sIdUxsxQnTOm",
        "outputId": "13d5ee2a-9b4a-4242-f38f-b60f6bcea30c"
      },
      "execution_count": null,
      "outputs": [
        {
          "output_type": "execute_result",
          "data": {
            "text/plain": [
              "  Model       MSE      RMSE          MAPE\n",
              "0  LSTM  0.000276  0.016614  3.755514e+07\n",
              "1   GRU  0.000250  0.015823  5.527444e+07"
            ],
            "text/html": [
              "\n",
              "  <div id=\"df-20c058d6-dd0e-4785-b800-a54c37b95dba\" class=\"colab-df-container\">\n",
              "    <div>\n",
              "<style scoped>\n",
              "    .dataframe tbody tr th:only-of-type {\n",
              "        vertical-align: middle;\n",
              "    }\n",
              "\n",
              "    .dataframe tbody tr th {\n",
              "        vertical-align: top;\n",
              "    }\n",
              "\n",
              "    .dataframe thead th {\n",
              "        text-align: right;\n",
              "    }\n",
              "</style>\n",
              "<table border=\"1\" class=\"dataframe\">\n",
              "  <thead>\n",
              "    <tr style=\"text-align: right;\">\n",
              "      <th></th>\n",
              "      <th>Model</th>\n",
              "      <th>MSE</th>\n",
              "      <th>RMSE</th>\n",
              "      <th>MAPE</th>\n",
              "    </tr>\n",
              "  </thead>\n",
              "  <tbody>\n",
              "    <tr>\n",
              "      <th>0</th>\n",
              "      <td>LSTM</td>\n",
              "      <td>0.000276</td>\n",
              "      <td>0.016614</td>\n",
              "      <td>3.755514e+07</td>\n",
              "    </tr>\n",
              "    <tr>\n",
              "      <th>1</th>\n",
              "      <td>GRU</td>\n",
              "      <td>0.000250</td>\n",
              "      <td>0.015823</td>\n",
              "      <td>5.527444e+07</td>\n",
              "    </tr>\n",
              "  </tbody>\n",
              "</table>\n",
              "</div>\n",
              "    <div class=\"colab-df-buttons\">\n",
              "\n",
              "  <div class=\"colab-df-container\">\n",
              "    <button class=\"colab-df-convert\" onclick=\"convertToInteractive('df-20c058d6-dd0e-4785-b800-a54c37b95dba')\"\n",
              "            title=\"Convert this dataframe to an interactive table.\"\n",
              "            style=\"display:none;\">\n",
              "\n",
              "  <svg xmlns=\"http://www.w3.org/2000/svg\" height=\"24px\" viewBox=\"0 -960 960 960\">\n",
              "    <path d=\"M120-120v-720h720v720H120Zm60-500h600v-160H180v160Zm220 220h160v-160H400v160Zm0 220h160v-160H400v160ZM180-400h160v-160H180v160Zm440 0h160v-160H620v160ZM180-180h160v-160H180v160Zm440 0h160v-160H620v160Z\"/>\n",
              "  </svg>\n",
              "    </button>\n",
              "\n",
              "  <style>\n",
              "    .colab-df-container {\n",
              "      display:flex;\n",
              "      gap: 12px;\n",
              "    }\n",
              "\n",
              "    .colab-df-convert {\n",
              "      background-color: #E8F0FE;\n",
              "      border: none;\n",
              "      border-radius: 50%;\n",
              "      cursor: pointer;\n",
              "      display: none;\n",
              "      fill: #1967D2;\n",
              "      height: 32px;\n",
              "      padding: 0 0 0 0;\n",
              "      width: 32px;\n",
              "    }\n",
              "\n",
              "    .colab-df-convert:hover {\n",
              "      background-color: #E2EBFA;\n",
              "      box-shadow: 0px 1px 2px rgba(60, 64, 67, 0.3), 0px 1px 3px 1px rgba(60, 64, 67, 0.15);\n",
              "      fill: #174EA6;\n",
              "    }\n",
              "\n",
              "    .colab-df-buttons div {\n",
              "      margin-bottom: 4px;\n",
              "    }\n",
              "\n",
              "    [theme=dark] .colab-df-convert {\n",
              "      background-color: #3B4455;\n",
              "      fill: #D2E3FC;\n",
              "    }\n",
              "\n",
              "    [theme=dark] .colab-df-convert:hover {\n",
              "      background-color: #434B5C;\n",
              "      box-shadow: 0px 1px 3px 1px rgba(0, 0, 0, 0.15);\n",
              "      filter: drop-shadow(0px 1px 2px rgba(0, 0, 0, 0.3));\n",
              "      fill: #FFFFFF;\n",
              "    }\n",
              "  </style>\n",
              "\n",
              "    <script>\n",
              "      const buttonEl =\n",
              "        document.querySelector('#df-20c058d6-dd0e-4785-b800-a54c37b95dba button.colab-df-convert');\n",
              "      buttonEl.style.display =\n",
              "        google.colab.kernel.accessAllowed ? 'block' : 'none';\n",
              "\n",
              "      async function convertToInteractive(key) {\n",
              "        const element = document.querySelector('#df-20c058d6-dd0e-4785-b800-a54c37b95dba');\n",
              "        const dataTable =\n",
              "          await google.colab.kernel.invokeFunction('convertToInteractive',\n",
              "                                                    [key], {});\n",
              "        if (!dataTable) return;\n",
              "\n",
              "        const docLinkHtml = 'Like what you see? Visit the ' +\n",
              "          '<a target=\"_blank\" href=https://colab.research.google.com/notebooks/data_table.ipynb>data table notebook</a>'\n",
              "          + ' to learn more about interactive tables.';\n",
              "        element.innerHTML = '';\n",
              "        dataTable['output_type'] = 'display_data';\n",
              "        await google.colab.output.renderOutput(dataTable, element);\n",
              "        const docLink = document.createElement('div');\n",
              "        docLink.innerHTML = docLinkHtml;\n",
              "        element.appendChild(docLink);\n",
              "      }\n",
              "    </script>\n",
              "  </div>\n",
              "\n",
              "\n",
              "<div id=\"df-9a4bda38-cc66-4452-b5de-388420cd51aa\">\n",
              "  <button class=\"colab-df-quickchart\" onclick=\"quickchart('df-9a4bda38-cc66-4452-b5de-388420cd51aa')\"\n",
              "            title=\"Suggest charts\"\n",
              "            style=\"display:none;\">\n",
              "\n",
              "<svg xmlns=\"http://www.w3.org/2000/svg\" height=\"24px\"viewBox=\"0 0 24 24\"\n",
              "     width=\"24px\">\n",
              "    <g>\n",
              "        <path d=\"M19 3H5c-1.1 0-2 .9-2 2v14c0 1.1.9 2 2 2h14c1.1 0 2-.9 2-2V5c0-1.1-.9-2-2-2zM9 17H7v-7h2v7zm4 0h-2V7h2v10zm4 0h-2v-4h2v4z\"/>\n",
              "    </g>\n",
              "</svg>\n",
              "  </button>\n",
              "\n",
              "<style>\n",
              "  .colab-df-quickchart {\n",
              "      --bg-color: #E8F0FE;\n",
              "      --fill-color: #1967D2;\n",
              "      --hover-bg-color: #E2EBFA;\n",
              "      --hover-fill-color: #174EA6;\n",
              "      --disabled-fill-color: #AAA;\n",
              "      --disabled-bg-color: #DDD;\n",
              "  }\n",
              "\n",
              "  [theme=dark] .colab-df-quickchart {\n",
              "      --bg-color: #3B4455;\n",
              "      --fill-color: #D2E3FC;\n",
              "      --hover-bg-color: #434B5C;\n",
              "      --hover-fill-color: #FFFFFF;\n",
              "      --disabled-bg-color: #3B4455;\n",
              "      --disabled-fill-color: #666;\n",
              "  }\n",
              "\n",
              "  .colab-df-quickchart {\n",
              "    background-color: var(--bg-color);\n",
              "    border: none;\n",
              "    border-radius: 50%;\n",
              "    cursor: pointer;\n",
              "    display: none;\n",
              "    fill: var(--fill-color);\n",
              "    height: 32px;\n",
              "    padding: 0;\n",
              "    width: 32px;\n",
              "  }\n",
              "\n",
              "  .colab-df-quickchart:hover {\n",
              "    background-color: var(--hover-bg-color);\n",
              "    box-shadow: 0 1px 2px rgba(60, 64, 67, 0.3), 0 1px 3px 1px rgba(60, 64, 67, 0.15);\n",
              "    fill: var(--button-hover-fill-color);\n",
              "  }\n",
              "\n",
              "  .colab-df-quickchart-complete:disabled,\n",
              "  .colab-df-quickchart-complete:disabled:hover {\n",
              "    background-color: var(--disabled-bg-color);\n",
              "    fill: var(--disabled-fill-color);\n",
              "    box-shadow: none;\n",
              "  }\n",
              "\n",
              "  .colab-df-spinner {\n",
              "    border: 2px solid var(--fill-color);\n",
              "    border-color: transparent;\n",
              "    border-bottom-color: var(--fill-color);\n",
              "    animation:\n",
              "      spin 1s steps(1) infinite;\n",
              "  }\n",
              "\n",
              "  @keyframes spin {\n",
              "    0% {\n",
              "      border-color: transparent;\n",
              "      border-bottom-color: var(--fill-color);\n",
              "      border-left-color: var(--fill-color);\n",
              "    }\n",
              "    20% {\n",
              "      border-color: transparent;\n",
              "      border-left-color: var(--fill-color);\n",
              "      border-top-color: var(--fill-color);\n",
              "    }\n",
              "    30% {\n",
              "      border-color: transparent;\n",
              "      border-left-color: var(--fill-color);\n",
              "      border-top-color: var(--fill-color);\n",
              "      border-right-color: var(--fill-color);\n",
              "    }\n",
              "    40% {\n",
              "      border-color: transparent;\n",
              "      border-right-color: var(--fill-color);\n",
              "      border-top-color: var(--fill-color);\n",
              "    }\n",
              "    60% {\n",
              "      border-color: transparent;\n",
              "      border-right-color: var(--fill-color);\n",
              "    }\n",
              "    80% {\n",
              "      border-color: transparent;\n",
              "      border-right-color: var(--fill-color);\n",
              "      border-bottom-color: var(--fill-color);\n",
              "    }\n",
              "    90% {\n",
              "      border-color: transparent;\n",
              "      border-bottom-color: var(--fill-color);\n",
              "    }\n",
              "  }\n",
              "</style>\n",
              "\n",
              "  <script>\n",
              "    async function quickchart(key) {\n",
              "      const quickchartButtonEl =\n",
              "        document.querySelector('#' + key + ' button');\n",
              "      quickchartButtonEl.disabled = true;  // To prevent multiple clicks.\n",
              "      quickchartButtonEl.classList.add('colab-df-spinner');\n",
              "      try {\n",
              "        const charts = await google.colab.kernel.invokeFunction(\n",
              "            'suggestCharts', [key], {});\n",
              "      } catch (error) {\n",
              "        console.error('Error during call to suggestCharts:', error);\n",
              "      }\n",
              "      quickchartButtonEl.classList.remove('colab-df-spinner');\n",
              "      quickchartButtonEl.classList.add('colab-df-quickchart-complete');\n",
              "    }\n",
              "    (() => {\n",
              "      let quickchartButtonEl =\n",
              "        document.querySelector('#df-9a4bda38-cc66-4452-b5de-388420cd51aa button');\n",
              "      quickchartButtonEl.style.display =\n",
              "        google.colab.kernel.accessAllowed ? 'block' : 'none';\n",
              "    })();\n",
              "  </script>\n",
              "</div>\n",
              "    </div>\n",
              "  </div>\n"
            ]
          },
          "metadata": {},
          "execution_count": 51
        }
      ]
    }
  ]
}