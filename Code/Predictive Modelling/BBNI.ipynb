{
  "nbformat": 4,
  "nbformat_minor": 0,
  "metadata": {
    "colab": {
      "provenance": []
    },
    "kernelspec": {
      "name": "python3",
      "display_name": "Python 3"
    },
    "language_info": {
      "name": "python"
    }
  },
  "cells": [
    {
      "cell_type": "markdown",
      "source": [
        "# **Stock (BBNI) Predictive Modelling**"
      ],
      "metadata": {
        "id": "KzE8pRhaC_T_"
      }
    },
    {
      "cell_type": "markdown",
      "source": [
        "## **Data Load & Understanding**"
      ],
      "metadata": {
        "id": "Ukec2hEYDHZZ"
      }
    },
    {
      "cell_type": "code",
      "execution_count": null,
      "metadata": {
        "id": "QnG8pxmUAnHP"
      },
      "outputs": [],
      "source": [
        "import os\n",
        "import pandas as pd\n",
        "import numpy as np\n",
        "import matplotlib.pyplot as plt\n",
        "import matplotlib.dates as mdates"
      ]
    },
    {
      "cell_type": "code",
      "source": [
        "# Connecting Google Drive and Google Colab\n",
        "from google.colab import drive\n",
        "drive.mount('/content/gdrive')\n",
        "\n",
        "# Retrieve the dataset\n",
        "dataset = '/content/gdrive/MyDrive/Project/Stock Prediction/Data/Cleaned Data/BBNI_Cleaned.csv'\n",
        "df = pd.read_csv(dataset)"
      ],
      "metadata": {
        "colab": {
          "base_uri": "https://localhost:8080/"
        },
        "id": "jwaY7SaFA9rj",
        "outputId": "8f6df2ad-8c9c-4248-d0df-3e1db0f7ebf0"
      },
      "execution_count": null,
      "outputs": [
        {
          "output_type": "stream",
          "name": "stdout",
          "text": [
            "Mounted at /content/gdrive\n"
          ]
        }
      ]
    },
    {
      "cell_type": "markdown",
      "source": [
        "The data used in the research in this code is data that has been cleaned/pre-processed, so that the existing data is ready to be used in the modeling stage."
      ],
      "metadata": {
        "id": "34lJ4P7zDjR9"
      }
    },
    {
      "cell_type": "code",
      "source": [
        "# Display the contents of the dataset as a whole\n",
        "df"
      ],
      "metadata": {
        "colab": {
          "base_uri": "https://localhost:8080/",
          "height": 424
        },
        "id": "kRMHIR2XB4RH",
        "outputId": "5c332263-8f66-4af5-e5e5-09c7074db251"
      },
      "execution_count": null,
      "outputs": [
        {
          "output_type": "execute_result",
          "data": {
            "text/plain": [
              "            Date    Open    High     Low   Close    Adj Close    Volume\n",
              "0     2018-12-31  4400.0  4400.0  4400.0  4400.0  3436.901367         0\n",
              "1     2019-01-01  4400.0  4400.0  4400.0  4400.0  3436.901367         0\n",
              "2     2019-01-02  4400.0  4400.0  4337.5  4362.5  3407.609375  15681200\n",
              "3     2019-01-03  4337.5  4387.5  4325.0  4362.5  3407.609375  21416600\n",
              "4     2019-01-04  4362.5  4400.0  4337.5  4362.5  3407.609375  41078600\n",
              "...          ...     ...     ...     ...     ...          ...       ...\n",
              "1228  2023-12-21  5225.0  5225.0  5125.0  5150.0  5150.000000  48767200\n",
              "1229  2023-12-22  5200.0  5250.0  5175.0  5250.0  5250.000000  35234900\n",
              "1230  2023-12-27  5300.0  5325.0  5250.0  5275.0  5275.000000  31289300\n",
              "1231  2023-12-28  5300.0  5400.0  5250.0  5350.0  5350.000000  37566900\n",
              "1232  2023-12-29  5375.0  5400.0  5325.0  5375.0  5375.000000  38423300\n",
              "\n",
              "[1233 rows x 7 columns]"
            ],
            "text/html": [
              "\n",
              "  <div id=\"df-56616b6d-7097-460b-9664-927fd65536bc\" class=\"colab-df-container\">\n",
              "    <div>\n",
              "<style scoped>\n",
              "    .dataframe tbody tr th:only-of-type {\n",
              "        vertical-align: middle;\n",
              "    }\n",
              "\n",
              "    .dataframe tbody tr th {\n",
              "        vertical-align: top;\n",
              "    }\n",
              "\n",
              "    .dataframe thead th {\n",
              "        text-align: right;\n",
              "    }\n",
              "</style>\n",
              "<table border=\"1\" class=\"dataframe\">\n",
              "  <thead>\n",
              "    <tr style=\"text-align: right;\">\n",
              "      <th></th>\n",
              "      <th>Date</th>\n",
              "      <th>Open</th>\n",
              "      <th>High</th>\n",
              "      <th>Low</th>\n",
              "      <th>Close</th>\n",
              "      <th>Adj Close</th>\n",
              "      <th>Volume</th>\n",
              "    </tr>\n",
              "  </thead>\n",
              "  <tbody>\n",
              "    <tr>\n",
              "      <th>0</th>\n",
              "      <td>2018-12-31</td>\n",
              "      <td>4400.0</td>\n",
              "      <td>4400.0</td>\n",
              "      <td>4400.0</td>\n",
              "      <td>4400.0</td>\n",
              "      <td>3436.901367</td>\n",
              "      <td>0</td>\n",
              "    </tr>\n",
              "    <tr>\n",
              "      <th>1</th>\n",
              "      <td>2019-01-01</td>\n",
              "      <td>4400.0</td>\n",
              "      <td>4400.0</td>\n",
              "      <td>4400.0</td>\n",
              "      <td>4400.0</td>\n",
              "      <td>3436.901367</td>\n",
              "      <td>0</td>\n",
              "    </tr>\n",
              "    <tr>\n",
              "      <th>2</th>\n",
              "      <td>2019-01-02</td>\n",
              "      <td>4400.0</td>\n",
              "      <td>4400.0</td>\n",
              "      <td>4337.5</td>\n",
              "      <td>4362.5</td>\n",
              "      <td>3407.609375</td>\n",
              "      <td>15681200</td>\n",
              "    </tr>\n",
              "    <tr>\n",
              "      <th>3</th>\n",
              "      <td>2019-01-03</td>\n",
              "      <td>4337.5</td>\n",
              "      <td>4387.5</td>\n",
              "      <td>4325.0</td>\n",
              "      <td>4362.5</td>\n",
              "      <td>3407.609375</td>\n",
              "      <td>21416600</td>\n",
              "    </tr>\n",
              "    <tr>\n",
              "      <th>4</th>\n",
              "      <td>2019-01-04</td>\n",
              "      <td>4362.5</td>\n",
              "      <td>4400.0</td>\n",
              "      <td>4337.5</td>\n",
              "      <td>4362.5</td>\n",
              "      <td>3407.609375</td>\n",
              "      <td>41078600</td>\n",
              "    </tr>\n",
              "    <tr>\n",
              "      <th>...</th>\n",
              "      <td>...</td>\n",
              "      <td>...</td>\n",
              "      <td>...</td>\n",
              "      <td>...</td>\n",
              "      <td>...</td>\n",
              "      <td>...</td>\n",
              "      <td>...</td>\n",
              "    </tr>\n",
              "    <tr>\n",
              "      <th>1228</th>\n",
              "      <td>2023-12-21</td>\n",
              "      <td>5225.0</td>\n",
              "      <td>5225.0</td>\n",
              "      <td>5125.0</td>\n",
              "      <td>5150.0</td>\n",
              "      <td>5150.000000</td>\n",
              "      <td>48767200</td>\n",
              "    </tr>\n",
              "    <tr>\n",
              "      <th>1229</th>\n",
              "      <td>2023-12-22</td>\n",
              "      <td>5200.0</td>\n",
              "      <td>5250.0</td>\n",
              "      <td>5175.0</td>\n",
              "      <td>5250.0</td>\n",
              "      <td>5250.000000</td>\n",
              "      <td>35234900</td>\n",
              "    </tr>\n",
              "    <tr>\n",
              "      <th>1230</th>\n",
              "      <td>2023-12-27</td>\n",
              "      <td>5300.0</td>\n",
              "      <td>5325.0</td>\n",
              "      <td>5250.0</td>\n",
              "      <td>5275.0</td>\n",
              "      <td>5275.000000</td>\n",
              "      <td>31289300</td>\n",
              "    </tr>\n",
              "    <tr>\n",
              "      <th>1231</th>\n",
              "      <td>2023-12-28</td>\n",
              "      <td>5300.0</td>\n",
              "      <td>5400.0</td>\n",
              "      <td>5250.0</td>\n",
              "      <td>5350.0</td>\n",
              "      <td>5350.000000</td>\n",
              "      <td>37566900</td>\n",
              "    </tr>\n",
              "    <tr>\n",
              "      <th>1232</th>\n",
              "      <td>2023-12-29</td>\n",
              "      <td>5375.0</td>\n",
              "      <td>5400.0</td>\n",
              "      <td>5325.0</td>\n",
              "      <td>5375.0</td>\n",
              "      <td>5375.000000</td>\n",
              "      <td>38423300</td>\n",
              "    </tr>\n",
              "  </tbody>\n",
              "</table>\n",
              "<p>1233 rows × 7 columns</p>\n",
              "</div>\n",
              "    <div class=\"colab-df-buttons\">\n",
              "\n",
              "  <div class=\"colab-df-container\">\n",
              "    <button class=\"colab-df-convert\" onclick=\"convertToInteractive('df-56616b6d-7097-460b-9664-927fd65536bc')\"\n",
              "            title=\"Convert this dataframe to an interactive table.\"\n",
              "            style=\"display:none;\">\n",
              "\n",
              "  <svg xmlns=\"http://www.w3.org/2000/svg\" height=\"24px\" viewBox=\"0 -960 960 960\">\n",
              "    <path d=\"M120-120v-720h720v720H120Zm60-500h600v-160H180v160Zm220 220h160v-160H400v160Zm0 220h160v-160H400v160ZM180-400h160v-160H180v160Zm440 0h160v-160H620v160ZM180-180h160v-160H180v160Zm440 0h160v-160H620v160Z\"/>\n",
              "  </svg>\n",
              "    </button>\n",
              "\n",
              "  <style>\n",
              "    .colab-df-container {\n",
              "      display:flex;\n",
              "      gap: 12px;\n",
              "    }\n",
              "\n",
              "    .colab-df-convert {\n",
              "      background-color: #E8F0FE;\n",
              "      border: none;\n",
              "      border-radius: 50%;\n",
              "      cursor: pointer;\n",
              "      display: none;\n",
              "      fill: #1967D2;\n",
              "      height: 32px;\n",
              "      padding: 0 0 0 0;\n",
              "      width: 32px;\n",
              "    }\n",
              "\n",
              "    .colab-df-convert:hover {\n",
              "      background-color: #E2EBFA;\n",
              "      box-shadow: 0px 1px 2px rgba(60, 64, 67, 0.3), 0px 1px 3px 1px rgba(60, 64, 67, 0.15);\n",
              "      fill: #174EA6;\n",
              "    }\n",
              "\n",
              "    .colab-df-buttons div {\n",
              "      margin-bottom: 4px;\n",
              "    }\n",
              "\n",
              "    [theme=dark] .colab-df-convert {\n",
              "      background-color: #3B4455;\n",
              "      fill: #D2E3FC;\n",
              "    }\n",
              "\n",
              "    [theme=dark] .colab-df-convert:hover {\n",
              "      background-color: #434B5C;\n",
              "      box-shadow: 0px 1px 3px 1px rgba(0, 0, 0, 0.15);\n",
              "      filter: drop-shadow(0px 1px 2px rgba(0, 0, 0, 0.3));\n",
              "      fill: #FFFFFF;\n",
              "    }\n",
              "  </style>\n",
              "\n",
              "    <script>\n",
              "      const buttonEl =\n",
              "        document.querySelector('#df-56616b6d-7097-460b-9664-927fd65536bc button.colab-df-convert');\n",
              "      buttonEl.style.display =\n",
              "        google.colab.kernel.accessAllowed ? 'block' : 'none';\n",
              "\n",
              "      async function convertToInteractive(key) {\n",
              "        const element = document.querySelector('#df-56616b6d-7097-460b-9664-927fd65536bc');\n",
              "        const dataTable =\n",
              "          await google.colab.kernel.invokeFunction('convertToInteractive',\n",
              "                                                    [key], {});\n",
              "        if (!dataTable) return;\n",
              "\n",
              "        const docLinkHtml = 'Like what you see? Visit the ' +\n",
              "          '<a target=\"_blank\" href=https://colab.research.google.com/notebooks/data_table.ipynb>data table notebook</a>'\n",
              "          + ' to learn more about interactive tables.';\n",
              "        element.innerHTML = '';\n",
              "        dataTable['output_type'] = 'display_data';\n",
              "        await google.colab.output.renderOutput(dataTable, element);\n",
              "        const docLink = document.createElement('div');\n",
              "        docLink.innerHTML = docLinkHtml;\n",
              "        element.appendChild(docLink);\n",
              "      }\n",
              "    </script>\n",
              "  </div>\n",
              "\n",
              "\n",
              "<div id=\"df-52580e4c-c4cd-45b3-a9ef-9573e3803b78\">\n",
              "  <button class=\"colab-df-quickchart\" onclick=\"quickchart('df-52580e4c-c4cd-45b3-a9ef-9573e3803b78')\"\n",
              "            title=\"Suggest charts\"\n",
              "            style=\"display:none;\">\n",
              "\n",
              "<svg xmlns=\"http://www.w3.org/2000/svg\" height=\"24px\"viewBox=\"0 0 24 24\"\n",
              "     width=\"24px\">\n",
              "    <g>\n",
              "        <path d=\"M19 3H5c-1.1 0-2 .9-2 2v14c0 1.1.9 2 2 2h14c1.1 0 2-.9 2-2V5c0-1.1-.9-2-2-2zM9 17H7v-7h2v7zm4 0h-2V7h2v10zm4 0h-2v-4h2v4z\"/>\n",
              "    </g>\n",
              "</svg>\n",
              "  </button>\n",
              "\n",
              "<style>\n",
              "  .colab-df-quickchart {\n",
              "      --bg-color: #E8F0FE;\n",
              "      --fill-color: #1967D2;\n",
              "      --hover-bg-color: #E2EBFA;\n",
              "      --hover-fill-color: #174EA6;\n",
              "      --disabled-fill-color: #AAA;\n",
              "      --disabled-bg-color: #DDD;\n",
              "  }\n",
              "\n",
              "  [theme=dark] .colab-df-quickchart {\n",
              "      --bg-color: #3B4455;\n",
              "      --fill-color: #D2E3FC;\n",
              "      --hover-bg-color: #434B5C;\n",
              "      --hover-fill-color: #FFFFFF;\n",
              "      --disabled-bg-color: #3B4455;\n",
              "      --disabled-fill-color: #666;\n",
              "  }\n",
              "\n",
              "  .colab-df-quickchart {\n",
              "    background-color: var(--bg-color);\n",
              "    border: none;\n",
              "    border-radius: 50%;\n",
              "    cursor: pointer;\n",
              "    display: none;\n",
              "    fill: var(--fill-color);\n",
              "    height: 32px;\n",
              "    padding: 0;\n",
              "    width: 32px;\n",
              "  }\n",
              "\n",
              "  .colab-df-quickchart:hover {\n",
              "    background-color: var(--hover-bg-color);\n",
              "    box-shadow: 0 1px 2px rgba(60, 64, 67, 0.3), 0 1px 3px 1px rgba(60, 64, 67, 0.15);\n",
              "    fill: var(--button-hover-fill-color);\n",
              "  }\n",
              "\n",
              "  .colab-df-quickchart-complete:disabled,\n",
              "  .colab-df-quickchart-complete:disabled:hover {\n",
              "    background-color: var(--disabled-bg-color);\n",
              "    fill: var(--disabled-fill-color);\n",
              "    box-shadow: none;\n",
              "  }\n",
              "\n",
              "  .colab-df-spinner {\n",
              "    border: 2px solid var(--fill-color);\n",
              "    border-color: transparent;\n",
              "    border-bottom-color: var(--fill-color);\n",
              "    animation:\n",
              "      spin 1s steps(1) infinite;\n",
              "  }\n",
              "\n",
              "  @keyframes spin {\n",
              "    0% {\n",
              "      border-color: transparent;\n",
              "      border-bottom-color: var(--fill-color);\n",
              "      border-left-color: var(--fill-color);\n",
              "    }\n",
              "    20% {\n",
              "      border-color: transparent;\n",
              "      border-left-color: var(--fill-color);\n",
              "      border-top-color: var(--fill-color);\n",
              "    }\n",
              "    30% {\n",
              "      border-color: transparent;\n",
              "      border-left-color: var(--fill-color);\n",
              "      border-top-color: var(--fill-color);\n",
              "      border-right-color: var(--fill-color);\n",
              "    }\n",
              "    40% {\n",
              "      border-color: transparent;\n",
              "      border-right-color: var(--fill-color);\n",
              "      border-top-color: var(--fill-color);\n",
              "    }\n",
              "    60% {\n",
              "      border-color: transparent;\n",
              "      border-right-color: var(--fill-color);\n",
              "    }\n",
              "    80% {\n",
              "      border-color: transparent;\n",
              "      border-right-color: var(--fill-color);\n",
              "      border-bottom-color: var(--fill-color);\n",
              "    }\n",
              "    90% {\n",
              "      border-color: transparent;\n",
              "      border-bottom-color: var(--fill-color);\n",
              "    }\n",
              "  }\n",
              "</style>\n",
              "\n",
              "  <script>\n",
              "    async function quickchart(key) {\n",
              "      const quickchartButtonEl =\n",
              "        document.querySelector('#' + key + ' button');\n",
              "      quickchartButtonEl.disabled = true;  // To prevent multiple clicks.\n",
              "      quickchartButtonEl.classList.add('colab-df-spinner');\n",
              "      try {\n",
              "        const charts = await google.colab.kernel.invokeFunction(\n",
              "            'suggestCharts', [key], {});\n",
              "      } catch (error) {\n",
              "        console.error('Error during call to suggestCharts:', error);\n",
              "      }\n",
              "      quickchartButtonEl.classList.remove('colab-df-spinner');\n",
              "      quickchartButtonEl.classList.add('colab-df-quickchart-complete');\n",
              "    }\n",
              "    (() => {\n",
              "      let quickchartButtonEl =\n",
              "        document.querySelector('#df-52580e4c-c4cd-45b3-a9ef-9573e3803b78 button');\n",
              "      quickchartButtonEl.style.display =\n",
              "        google.colab.kernel.accessAllowed ? 'block' : 'none';\n",
              "    })();\n",
              "  </script>\n",
              "</div>\n",
              "    </div>\n",
              "  </div>\n"
            ]
          },
          "metadata": {},
          "execution_count": 3
        }
      ]
    },
    {
      "cell_type": "code",
      "source": [
        "# Checking the data type\n",
        "df.info()"
      ],
      "metadata": {
        "colab": {
          "base_uri": "https://localhost:8080/"
        },
        "id": "i2zHdTLdC8gB",
        "outputId": "2c556dc3-3e25-463e-d798-5bb59c94d5cd"
      },
      "execution_count": null,
      "outputs": [
        {
          "output_type": "stream",
          "name": "stdout",
          "text": [
            "<class 'pandas.core.frame.DataFrame'>\n",
            "RangeIndex: 1233 entries, 0 to 1232\n",
            "Data columns (total 7 columns):\n",
            " #   Column     Non-Null Count  Dtype  \n",
            "---  ------     --------------  -----  \n",
            " 0   Date       1233 non-null   object \n",
            " 1   Open       1233 non-null   float64\n",
            " 2   High       1233 non-null   float64\n",
            " 3   Low        1233 non-null   float64\n",
            " 4   Close      1233 non-null   float64\n",
            " 5   Adj Close  1233 non-null   float64\n",
            " 6   Volume     1233 non-null   int64  \n",
            "dtypes: float64(5), int64(1), object(1)\n",
            "memory usage: 67.6+ KB\n"
          ]
        }
      ]
    },
    {
      "cell_type": "code",
      "source": [
        "# Check the number of columns and rows in the data\n",
        "df.shape"
      ],
      "metadata": {
        "colab": {
          "base_uri": "https://localhost:8080/"
        },
        "id": "TBlx0iUtDPeb",
        "outputId": "ab821143-6669-44bb-fa6c-3a4f89a3d83e"
      },
      "execution_count": null,
      "outputs": [
        {
          "output_type": "execute_result",
          "data": {
            "text/plain": [
              "(1233, 7)"
            ]
          },
          "metadata": {},
          "execution_count": 5
        }
      ]
    },
    {
      "cell_type": "code",
      "source": [
        "# Shows a description of the data\n",
        "df.describe()"
      ],
      "metadata": {
        "colab": {
          "base_uri": "https://localhost:8080/",
          "height": 300
        },
        "id": "wYrRToYvDc7g",
        "outputId": "5fac8992-f30e-452a-dee7-14b3bb71c9b4"
      },
      "execution_count": null,
      "outputs": [
        {
          "output_type": "execute_result",
          "data": {
            "text/plain": [
              "              Open         High          Low        Close    Adj Close  \\\n",
              "count  1233.000000  1233.000000  1233.000000  1233.000000  1233.000000   \n",
              "mean   3754.274128  3796.745742  3705.677210  3750.439984  3339.187703   \n",
              "std     903.165238   904.129909   902.960947   904.456984   919.502706   \n",
              "min    1580.000000  1705.000000  1485.000000  1580.000000  1375.536499   \n",
              "25%    3000.000000  3050.000000  2950.000000  2987.500000  2611.778076   \n",
              "50%    3900.000000  3937.500000  3850.000000  3887.500000  3288.142334   \n",
              "75%    4512.500000  4550.000000  4475.000000  4512.500000  4082.027100   \n",
              "max    5425.000000  5425.000000  5325.000000  5375.000000  5375.000000   \n",
              "\n",
              "             Volume  \n",
              "count  1.233000e+03  \n",
              "mean   6.717880e+07  \n",
              "std    5.236629e+07  \n",
              "min    0.000000e+00  \n",
              "25%    3.548320e+07  \n",
              "50%    5.146580e+07  \n",
              "75%    8.185640e+07  \n",
              "max    4.440854e+08  "
            ],
            "text/html": [
              "\n",
              "  <div id=\"df-f6dcecd3-170f-495a-86c3-669ed04980a8\" class=\"colab-df-container\">\n",
              "    <div>\n",
              "<style scoped>\n",
              "    .dataframe tbody tr th:only-of-type {\n",
              "        vertical-align: middle;\n",
              "    }\n",
              "\n",
              "    .dataframe tbody tr th {\n",
              "        vertical-align: top;\n",
              "    }\n",
              "\n",
              "    .dataframe thead th {\n",
              "        text-align: right;\n",
              "    }\n",
              "</style>\n",
              "<table border=\"1\" class=\"dataframe\">\n",
              "  <thead>\n",
              "    <tr style=\"text-align: right;\">\n",
              "      <th></th>\n",
              "      <th>Open</th>\n",
              "      <th>High</th>\n",
              "      <th>Low</th>\n",
              "      <th>Close</th>\n",
              "      <th>Adj Close</th>\n",
              "      <th>Volume</th>\n",
              "    </tr>\n",
              "  </thead>\n",
              "  <tbody>\n",
              "    <tr>\n",
              "      <th>count</th>\n",
              "      <td>1233.000000</td>\n",
              "      <td>1233.000000</td>\n",
              "      <td>1233.000000</td>\n",
              "      <td>1233.000000</td>\n",
              "      <td>1233.000000</td>\n",
              "      <td>1.233000e+03</td>\n",
              "    </tr>\n",
              "    <tr>\n",
              "      <th>mean</th>\n",
              "      <td>3754.274128</td>\n",
              "      <td>3796.745742</td>\n",
              "      <td>3705.677210</td>\n",
              "      <td>3750.439984</td>\n",
              "      <td>3339.187703</td>\n",
              "      <td>6.717880e+07</td>\n",
              "    </tr>\n",
              "    <tr>\n",
              "      <th>std</th>\n",
              "      <td>903.165238</td>\n",
              "      <td>904.129909</td>\n",
              "      <td>902.960947</td>\n",
              "      <td>904.456984</td>\n",
              "      <td>919.502706</td>\n",
              "      <td>5.236629e+07</td>\n",
              "    </tr>\n",
              "    <tr>\n",
              "      <th>min</th>\n",
              "      <td>1580.000000</td>\n",
              "      <td>1705.000000</td>\n",
              "      <td>1485.000000</td>\n",
              "      <td>1580.000000</td>\n",
              "      <td>1375.536499</td>\n",
              "      <td>0.000000e+00</td>\n",
              "    </tr>\n",
              "    <tr>\n",
              "      <th>25%</th>\n",
              "      <td>3000.000000</td>\n",
              "      <td>3050.000000</td>\n",
              "      <td>2950.000000</td>\n",
              "      <td>2987.500000</td>\n",
              "      <td>2611.778076</td>\n",
              "      <td>3.548320e+07</td>\n",
              "    </tr>\n",
              "    <tr>\n",
              "      <th>50%</th>\n",
              "      <td>3900.000000</td>\n",
              "      <td>3937.500000</td>\n",
              "      <td>3850.000000</td>\n",
              "      <td>3887.500000</td>\n",
              "      <td>3288.142334</td>\n",
              "      <td>5.146580e+07</td>\n",
              "    </tr>\n",
              "    <tr>\n",
              "      <th>75%</th>\n",
              "      <td>4512.500000</td>\n",
              "      <td>4550.000000</td>\n",
              "      <td>4475.000000</td>\n",
              "      <td>4512.500000</td>\n",
              "      <td>4082.027100</td>\n",
              "      <td>8.185640e+07</td>\n",
              "    </tr>\n",
              "    <tr>\n",
              "      <th>max</th>\n",
              "      <td>5425.000000</td>\n",
              "      <td>5425.000000</td>\n",
              "      <td>5325.000000</td>\n",
              "      <td>5375.000000</td>\n",
              "      <td>5375.000000</td>\n",
              "      <td>4.440854e+08</td>\n",
              "    </tr>\n",
              "  </tbody>\n",
              "</table>\n",
              "</div>\n",
              "    <div class=\"colab-df-buttons\">\n",
              "\n",
              "  <div class=\"colab-df-container\">\n",
              "    <button class=\"colab-df-convert\" onclick=\"convertToInteractive('df-f6dcecd3-170f-495a-86c3-669ed04980a8')\"\n",
              "            title=\"Convert this dataframe to an interactive table.\"\n",
              "            style=\"display:none;\">\n",
              "\n",
              "  <svg xmlns=\"http://www.w3.org/2000/svg\" height=\"24px\" viewBox=\"0 -960 960 960\">\n",
              "    <path d=\"M120-120v-720h720v720H120Zm60-500h600v-160H180v160Zm220 220h160v-160H400v160Zm0 220h160v-160H400v160ZM180-400h160v-160H180v160Zm440 0h160v-160H620v160ZM180-180h160v-160H180v160Zm440 0h160v-160H620v160Z\"/>\n",
              "  </svg>\n",
              "    </button>\n",
              "\n",
              "  <style>\n",
              "    .colab-df-container {\n",
              "      display:flex;\n",
              "      gap: 12px;\n",
              "    }\n",
              "\n",
              "    .colab-df-convert {\n",
              "      background-color: #E8F0FE;\n",
              "      border: none;\n",
              "      border-radius: 50%;\n",
              "      cursor: pointer;\n",
              "      display: none;\n",
              "      fill: #1967D2;\n",
              "      height: 32px;\n",
              "      padding: 0 0 0 0;\n",
              "      width: 32px;\n",
              "    }\n",
              "\n",
              "    .colab-df-convert:hover {\n",
              "      background-color: #E2EBFA;\n",
              "      box-shadow: 0px 1px 2px rgba(60, 64, 67, 0.3), 0px 1px 3px 1px rgba(60, 64, 67, 0.15);\n",
              "      fill: #174EA6;\n",
              "    }\n",
              "\n",
              "    .colab-df-buttons div {\n",
              "      margin-bottom: 4px;\n",
              "    }\n",
              "\n",
              "    [theme=dark] .colab-df-convert {\n",
              "      background-color: #3B4455;\n",
              "      fill: #D2E3FC;\n",
              "    }\n",
              "\n",
              "    [theme=dark] .colab-df-convert:hover {\n",
              "      background-color: #434B5C;\n",
              "      box-shadow: 0px 1px 3px 1px rgba(0, 0, 0, 0.15);\n",
              "      filter: drop-shadow(0px 1px 2px rgba(0, 0, 0, 0.3));\n",
              "      fill: #FFFFFF;\n",
              "    }\n",
              "  </style>\n",
              "\n",
              "    <script>\n",
              "      const buttonEl =\n",
              "        document.querySelector('#df-f6dcecd3-170f-495a-86c3-669ed04980a8 button.colab-df-convert');\n",
              "      buttonEl.style.display =\n",
              "        google.colab.kernel.accessAllowed ? 'block' : 'none';\n",
              "\n",
              "      async function convertToInteractive(key) {\n",
              "        const element = document.querySelector('#df-f6dcecd3-170f-495a-86c3-669ed04980a8');\n",
              "        const dataTable =\n",
              "          await google.colab.kernel.invokeFunction('convertToInteractive',\n",
              "                                                    [key], {});\n",
              "        if (!dataTable) return;\n",
              "\n",
              "        const docLinkHtml = 'Like what you see? Visit the ' +\n",
              "          '<a target=\"_blank\" href=https://colab.research.google.com/notebooks/data_table.ipynb>data table notebook</a>'\n",
              "          + ' to learn more about interactive tables.';\n",
              "        element.innerHTML = '';\n",
              "        dataTable['output_type'] = 'display_data';\n",
              "        await google.colab.output.renderOutput(dataTable, element);\n",
              "        const docLink = document.createElement('div');\n",
              "        docLink.innerHTML = docLinkHtml;\n",
              "        element.appendChild(docLink);\n",
              "      }\n",
              "    </script>\n",
              "  </div>\n",
              "\n",
              "\n",
              "<div id=\"df-48f8b25d-6798-4eae-bcb3-cc0a341bd9a3\">\n",
              "  <button class=\"colab-df-quickchart\" onclick=\"quickchart('df-48f8b25d-6798-4eae-bcb3-cc0a341bd9a3')\"\n",
              "            title=\"Suggest charts\"\n",
              "            style=\"display:none;\">\n",
              "\n",
              "<svg xmlns=\"http://www.w3.org/2000/svg\" height=\"24px\"viewBox=\"0 0 24 24\"\n",
              "     width=\"24px\">\n",
              "    <g>\n",
              "        <path d=\"M19 3H5c-1.1 0-2 .9-2 2v14c0 1.1.9 2 2 2h14c1.1 0 2-.9 2-2V5c0-1.1-.9-2-2-2zM9 17H7v-7h2v7zm4 0h-2V7h2v10zm4 0h-2v-4h2v4z\"/>\n",
              "    </g>\n",
              "</svg>\n",
              "  </button>\n",
              "\n",
              "<style>\n",
              "  .colab-df-quickchart {\n",
              "      --bg-color: #E8F0FE;\n",
              "      --fill-color: #1967D2;\n",
              "      --hover-bg-color: #E2EBFA;\n",
              "      --hover-fill-color: #174EA6;\n",
              "      --disabled-fill-color: #AAA;\n",
              "      --disabled-bg-color: #DDD;\n",
              "  }\n",
              "\n",
              "  [theme=dark] .colab-df-quickchart {\n",
              "      --bg-color: #3B4455;\n",
              "      --fill-color: #D2E3FC;\n",
              "      --hover-bg-color: #434B5C;\n",
              "      --hover-fill-color: #FFFFFF;\n",
              "      --disabled-bg-color: #3B4455;\n",
              "      --disabled-fill-color: #666;\n",
              "  }\n",
              "\n",
              "  .colab-df-quickchart {\n",
              "    background-color: var(--bg-color);\n",
              "    border: none;\n",
              "    border-radius: 50%;\n",
              "    cursor: pointer;\n",
              "    display: none;\n",
              "    fill: var(--fill-color);\n",
              "    height: 32px;\n",
              "    padding: 0;\n",
              "    width: 32px;\n",
              "  }\n",
              "\n",
              "  .colab-df-quickchart:hover {\n",
              "    background-color: var(--hover-bg-color);\n",
              "    box-shadow: 0 1px 2px rgba(60, 64, 67, 0.3), 0 1px 3px 1px rgba(60, 64, 67, 0.15);\n",
              "    fill: var(--button-hover-fill-color);\n",
              "  }\n",
              "\n",
              "  .colab-df-quickchart-complete:disabled,\n",
              "  .colab-df-quickchart-complete:disabled:hover {\n",
              "    background-color: var(--disabled-bg-color);\n",
              "    fill: var(--disabled-fill-color);\n",
              "    box-shadow: none;\n",
              "  }\n",
              "\n",
              "  .colab-df-spinner {\n",
              "    border: 2px solid var(--fill-color);\n",
              "    border-color: transparent;\n",
              "    border-bottom-color: var(--fill-color);\n",
              "    animation:\n",
              "      spin 1s steps(1) infinite;\n",
              "  }\n",
              "\n",
              "  @keyframes spin {\n",
              "    0% {\n",
              "      border-color: transparent;\n",
              "      border-bottom-color: var(--fill-color);\n",
              "      border-left-color: var(--fill-color);\n",
              "    }\n",
              "    20% {\n",
              "      border-color: transparent;\n",
              "      border-left-color: var(--fill-color);\n",
              "      border-top-color: var(--fill-color);\n",
              "    }\n",
              "    30% {\n",
              "      border-color: transparent;\n",
              "      border-left-color: var(--fill-color);\n",
              "      border-top-color: var(--fill-color);\n",
              "      border-right-color: var(--fill-color);\n",
              "    }\n",
              "    40% {\n",
              "      border-color: transparent;\n",
              "      border-right-color: var(--fill-color);\n",
              "      border-top-color: var(--fill-color);\n",
              "    }\n",
              "    60% {\n",
              "      border-color: transparent;\n",
              "      border-right-color: var(--fill-color);\n",
              "    }\n",
              "    80% {\n",
              "      border-color: transparent;\n",
              "      border-right-color: var(--fill-color);\n",
              "      border-bottom-color: var(--fill-color);\n",
              "    }\n",
              "    90% {\n",
              "      border-color: transparent;\n",
              "      border-bottom-color: var(--fill-color);\n",
              "    }\n",
              "  }\n",
              "</style>\n",
              "\n",
              "  <script>\n",
              "    async function quickchart(key) {\n",
              "      const quickchartButtonEl =\n",
              "        document.querySelector('#' + key + ' button');\n",
              "      quickchartButtonEl.disabled = true;  // To prevent multiple clicks.\n",
              "      quickchartButtonEl.classList.add('colab-df-spinner');\n",
              "      try {\n",
              "        const charts = await google.colab.kernel.invokeFunction(\n",
              "            'suggestCharts', [key], {});\n",
              "      } catch (error) {\n",
              "        console.error('Error during call to suggestCharts:', error);\n",
              "      }\n",
              "      quickchartButtonEl.classList.remove('colab-df-spinner');\n",
              "      quickchartButtonEl.classList.add('colab-df-quickchart-complete');\n",
              "    }\n",
              "    (() => {\n",
              "      let quickchartButtonEl =\n",
              "        document.querySelector('#df-48f8b25d-6798-4eae-bcb3-cc0a341bd9a3 button');\n",
              "      quickchartButtonEl.style.display =\n",
              "        google.colab.kernel.accessAllowed ? 'block' : 'none';\n",
              "    })();\n",
              "  </script>\n",
              "</div>\n",
              "    </div>\n",
              "  </div>\n"
            ]
          },
          "metadata": {},
          "execution_count": 6
        }
      ]
    },
    {
      "cell_type": "code",
      "source": [
        "# Visualize the actual price of the 'Close' attribute by time\n",
        "\n",
        "# Make sure the 'Date' column is in datetime format\n",
        "df['Date'] = pd.to_datetime(df['Date'])\n",
        "\n",
        "plt.figure(figsize=(8, 6))\n",
        "plt.plot(df['Date'], df['Close'], linestyle='-', color='blue')\n",
        "\n",
        "# Label the x and y axes\n",
        "plt.xlabel('Year')\n",
        "plt.ylabel('Close Price')\n",
        "\n",
        "# Format the x-axis to display only the year\n",
        "plt.gca().xaxis.set_major_formatter(mdates.DateFormatter('%Y'))\n",
        "plt.gca().xaxis.set_major_locator(mdates.YearLocator())\n",
        "\n",
        "# Chart title\n",
        "plt.title('Close Price over Time')\n",
        "\n",
        "# Display the chart\n",
        "plt.grid(True)\n",
        "plt.tight_layout()\n",
        "plt.show()"
      ],
      "metadata": {
        "colab": {
          "base_uri": "https://localhost:8080/",
          "height": 607
        },
        "id": "EtzRVWWyGQ4G",
        "outputId": "82744b8e-1f7e-45fa-fb30-ea2c66be0ff9"
      },
      "execution_count": null,
      "outputs": [
        {
          "output_type": "display_data",
          "data": {
            "text/plain": [
              "<Figure size 800x600 with 1 Axes>"
            ],
            "image/png": "[encoded data removed]"
          },
          "metadata": {}
        }
      ]
    },
    {
      "cell_type": "markdown",
      "source": [
        "The visualization is the closing price (close) of JKSE which has been summarized and later predictions will be made to determine the value with several models that will be tried."
      ],
      "metadata": {
        "id": "0CD6JaPbHOa_"
      }
    },
    {
      "cell_type": "markdown",
      "source": [
        "## **Data Pre-Processing**"
      ],
      "metadata": {
        "id": "6o523dMCQf8g"
      }
    },
    {
      "cell_type": "code",
      "source": [
        "from sklearn.preprocessing import MinMaxScaler\n",
        "from sklearn.model_selection import train_test_split"
      ],
      "metadata": {
        "id": "K9A-broiQiir"
      },
      "execution_count": null,
      "outputs": []
    },
    {
      "cell_type": "markdown",
      "source": [
        "### **Data Splitting**"
      ],
      "metadata": {
        "id": "YxBFAEh7RCMO"
      }
    },
    {
      "cell_type": "code",
      "source": [
        "training_set = df.iloc[:, 4:5].values #creates a numpy array training_set"
      ],
      "metadata": {
        "id": "DQ-9w2hoA1-r"
      },
      "execution_count": null,
      "outputs": []
    },
    {
      "cell_type": "code",
      "source": [
        "training_set.dtype"
      ],
      "metadata": {
        "colab": {
          "base_uri": "https://localhost:8080/"
        },
        "id": "I67zgS3uA_cl",
        "outputId": "a93f8c47-c8d2-4c80-9d88-954c5915ec8d"
      },
      "execution_count": null,
      "outputs": [
        {
          "output_type": "execute_result",
          "data": {
            "text/plain": [
              "dtype('float64')"
            ]
          },
          "metadata": {},
          "execution_count": 10
        }
      ]
    },
    {
      "cell_type": "code",
      "source": [
        "training_set"
      ],
      "metadata": {
        "colab": {
          "base_uri": "https://localhost:8080/"
        },
        "id": "6sgKWNgwBQn9",
        "outputId": "f7207a56-966e-41e7-ce29-e16e44e85bf8"
      },
      "execution_count": null,
      "outputs": [
        {
          "output_type": "execute_result",
          "data": {
            "text/plain": [
              "array([[4400. ],\n",
              "       [4400. ],\n",
              "       [4362.5],\n",
              "       ...,\n",
              "       [5275. ],\n",
              "       [5350. ],\n",
              "       [5375. ]])"
            ]
          },
          "metadata": {},
          "execution_count": 11
        }
      ]
    },
    {
      "cell_type": "code",
      "source": [
        "training_set.shape"
      ],
      "metadata": {
        "colab": {
          "base_uri": "https://localhost:8080/"
        },
        "id": "vTLTluhTFzHE",
        "outputId": "e5f3fdcc-2848-4f37-af9d-06b849e9cbcc"
      },
      "execution_count": null,
      "outputs": [
        {
          "output_type": "execute_result",
          "data": {
            "text/plain": [
              "(1233, 1)"
            ]
          },
          "metadata": {},
          "execution_count": 12
        }
      ]
    },
    {
      "cell_type": "markdown",
      "source": [
        "### **Normalization (Feature Scaling)**"
      ],
      "metadata": {
        "id": "MVw-2b-BRFJC"
      }
    },
    {
      "cell_type": "code",
      "source": [
        "sc = MinMaxScaler()\n",
        "training_set_scaled = sc.fit_transform(training_set)"
      ],
      "metadata": {
        "id": "PINtltcoBeh_"
      },
      "execution_count": null,
      "outputs": []
    },
    {
      "cell_type": "code",
      "source": [
        "training_set_scaled"
      ],
      "metadata": {
        "colab": {
          "base_uri": "https://localhost:8080/"
        },
        "id": "TA12omBIBhhb",
        "outputId": "9de704d1-07e5-4a3a-ac2c-7f8f9f644ffa"
      },
      "execution_count": null,
      "outputs": [
        {
          "output_type": "execute_result",
          "data": {
            "text/plain": [
              "array([[0.743083  ],\n",
              "       [0.743083  ],\n",
              "       [0.73320158],\n",
              "       ...,\n",
              "       [0.97364954],\n",
              "       [0.99341238],\n",
              "       [1.        ]])"
            ]
          },
          "metadata": {},
          "execution_count": 14
        }
      ]
    },
    {
      "cell_type": "code",
      "source": [
        "training_set_scaled.shape"
      ],
      "metadata": {
        "colab": {
          "base_uri": "https://localhost:8080/"
        },
        "id": "dUVfc2raHIIH",
        "outputId": "b86fb8a5-ac0f-4b70-a501-be517ef4d9b9"
      },
      "execution_count": null,
      "outputs": [
        {
          "output_type": "execute_result",
          "data": {
            "text/plain": [
              "(1233, 1)"
            ]
          },
          "metadata": {},
          "execution_count": 15
        }
      ]
    },
    {
      "cell_type": "markdown",
      "source": [
        "### **Creating Data Structure**"
      ],
      "metadata": {
        "id": "TVaHKF8NRZA8"
      }
    },
    {
      "cell_type": "code",
      "source": [
        "X_train = training_set_scaled\n",
        "Y_train = training_set_scaled\n",
        "\n",
        "# Turning lists into Numpy arrays\n",
        "X_train, Y_train = np.array(X_train), np.array(Y_train)"
      ],
      "metadata": {
        "id": "IIlDGjizBrJ8"
      },
      "execution_count": null,
      "outputs": []
    },
    {
      "cell_type": "code",
      "source": [
        "X_train"
      ],
      "metadata": {
        "colab": {
          "base_uri": "https://localhost:8080/"
        },
        "id": "-u7FqJAtBxXo",
        "outputId": "39afbea8-345c-4650-bde4-76d8ea31d7f4"
      },
      "execution_count": null,
      "outputs": [
        {
          "output_type": "execute_result",
          "data": {
            "text/plain": [
              "array([[0.743083  ],\n",
              "       [0.743083  ],\n",
              "       [0.73320158],\n",
              "       ...,\n",
              "       [0.97364954],\n",
              "       [0.99341238],\n",
              "       [1.        ]])"
            ]
          },
          "metadata": {},
          "execution_count": 17
        }
      ]
    },
    {
      "cell_type": "code",
      "source": [
        "X_train.shape"
      ],
      "metadata": {
        "colab": {
          "base_uri": "https://localhost:8080/"
        },
        "id": "bHGsDLmHCSf4",
        "outputId": "b245a0dc-b687-4446-e900-282dcde3fdfe"
      },
      "execution_count": null,
      "outputs": [
        {
          "output_type": "execute_result",
          "data": {
            "text/plain": [
              "(1233, 1)"
            ]
          },
          "metadata": {},
          "execution_count": 18
        }
      ]
    },
    {
      "cell_type": "markdown",
      "source": [
        "### **Reshaping**"
      ],
      "metadata": {
        "id": "V1oLRY_cRlj2"
      }
    },
    {
      "cell_type": "code",
      "source": [
        "X_train = np.reshape(X_train,(X_train.shape[0],X_train.shape[1],1))"
      ],
      "metadata": {
        "id": "exTjyC0yCYUr"
      },
      "execution_count": null,
      "outputs": []
    },
    {
      "cell_type": "code",
      "source": [
        "X_train"
      ],
      "metadata": {
        "colab": {
          "base_uri": "https://localhost:8080/"
        },
        "id": "Yv1dMbE6CbSX",
        "outputId": "b2bf487f-38b8-42a1-82a1-5aa383e7b77e"
      },
      "execution_count": null,
      "outputs": [
        {
          "output_type": "execute_result",
          "data": {
            "text/plain": [
              "array([[[0.743083  ]],\n",
              "\n",
              "       [[0.743083  ]],\n",
              "\n",
              "       [[0.73320158]],\n",
              "\n",
              "       ...,\n",
              "\n",
              "       [[0.97364954]],\n",
              "\n",
              "       [[0.99341238]],\n",
              "\n",
              "       [[1.        ]]])"
            ]
          },
          "metadata": {},
          "execution_count": 20
        }
      ]
    },
    {
      "cell_type": "markdown",
      "source": [
        "## **Modelling & Evaluation**"
      ],
      "metadata": {
        "id": "RG686OFOTOn8"
      }
    },
    {
      "cell_type": "markdown",
      "source": [
        "### **Long Short-Term Memory (LSTM)**"
      ],
      "metadata": {
        "id": "euJYOpKYTWDl"
      }
    },
    {
      "cell_type": "code",
      "source": [
        "from keras.models import Sequential\n",
        "from keras.layers import Dense\n",
        "from keras.layers import LSTM\n",
        "from keras.layers import Dropout"
      ],
      "metadata": {
        "id": "lyiyijJ5CisG"
      },
      "execution_count": null,
      "outputs": []
    },
    {
      "cell_type": "markdown",
      "source": [
        "#### **Building LSTM Architecture**"
      ],
      "metadata": {
        "id": "Ix7teyYkTiDS"
      }
    },
    {
      "cell_type": "code",
      "source": [
        "# Creating a LSTM model\n",
        "lstm_model = Sequential()\n",
        "\n",
        "# Adding a LSTM layer\n",
        "lstm_model.add(LSTM(units = 64, return_sequences = True, input_shape = (X_train.shape[1],1)))\n",
        "lstm_model.add(Dropout(0.25))\n",
        "lstm_model.add(LSTM(units = 64, return_sequences = True))\n",
        "lstm_model.add(Dropout(0.25))\n",
        "lstm_model.add(LSTM(units = 64, return_sequences = True))\n",
        "lstm_model.add(Dropout(0.25))\n",
        "lstm_model.add(LSTM(units = 64, return_sequences = False))\n",
        "lstm_model.add(Dropout(0.25))\n",
        "lstm_model.add(Dense(units= 1))\n",
        "\n",
        "# Compile the LSTM model\n",
        "lstm_model.compile(optimizer = 'adam', loss = 'mean_squared_error')"
      ],
      "metadata": {
        "id": "fx3AyResCmuo"
      },
      "execution_count": null,
      "outputs": []
    },
    {
      "cell_type": "markdown",
      "source": [
        "#### **Training LSTM Model**"
      ],
      "metadata": {
        "id": "t-0Lxt6eUMPX"
      }
    },
    {
      "cell_type": "code",
      "source": [
        "# Train the LSTM model\n",
        "lstm_model.fit(X_train,Y_train, epochs = 100, batch_size = 32)"
      ],
      "metadata": {
        "colab": {
          "base_uri": "https://localhost:8080/"
        },
        "id": "-S9-G13pCwho",
        "outputId": "6fec7a82-42f0-4edb-afe3-c3d6c4bcbfd9"
      },
      "execution_count": null,
      "outputs": [
        {
          "output_type": "stream",
          "name": "stdout",
          "text": [
            "Epoch 1/100\n",
            "39/39 [==============================] - 8s 13ms/step - loss: 0.2513\n",
            "Epoch 2/100\n",
            "39/39 [==============================] - 0s 11ms/step - loss: 0.0386\n",
            "Epoch 3/100\n",
            "39/39 [==============================] - 0s 11ms/step - loss: 0.0256\n",
            "Epoch 4/100\n",
            "39/39 [==============================] - 0s 12ms/step - loss: 0.0148\n",
            "Epoch 5/100\n",
            "39/39 [==============================] - 0s 12ms/step - loss: 0.0103\n",
            "Epoch 6/100\n",
            "39/39 [==============================] - 0s 12ms/step - loss: 0.0080\n",
            "Epoch 7/100\n",
            "39/39 [==============================] - 0s 12ms/step - loss: 0.0085\n",
            "Epoch 8/100\n",
            "39/39 [==============================] - 0s 11ms/step - loss: 0.0078\n",
            "Epoch 9/100\n",
            "39/39 [==============================] - 0s 11ms/step - loss: 0.0067\n",
            "Epoch 10/100\n",
            "39/39 [==============================] - 0s 11ms/step - loss: 0.0061\n",
            "Epoch 11/100\n",
            "39/39 [==============================] - 0s 12ms/step - loss: 0.0062\n",
            "Epoch 12/100\n",
            "39/39 [==============================] - 0s 11ms/step - loss: 0.0052\n",
            "Epoch 13/100\n",
            "39/39 [==============================] - 0s 8ms/step - loss: 0.0052\n",
            "Epoch 14/100\n",
            "39/39 [==============================] - 0s 8ms/step - loss: 0.0044\n",
            "Epoch 15/100\n",
            "39/39 [==============================] - 0s 8ms/step - loss: 0.0045\n",
            "Epoch 16/100\n",
            "39/39 [==============================] - 0s 8ms/step - loss: 0.0040\n",
            "Epoch 17/100\n",
            "39/39 [==============================] - 0s 8ms/step - loss: 0.0038\n",
            "Epoch 18/100\n",
            "39/39 [==============================] - 0s 8ms/step - loss: 0.0038\n",
            "Epoch 19/100\n",
            "39/39 [==============================] - 0s 8ms/step - loss: 0.0035\n",
            "Epoch 20/100\n",
            "39/39 [==============================] - 0s 8ms/step - loss: 0.0034\n",
            "Epoch 21/100\n",
            "39/39 [==============================] - 0s 8ms/step - loss: 0.0033\n",
            "Epoch 22/100\n",
            "39/39 [==============================] - 0s 8ms/step - loss: 0.0035\n",
            "Epoch 23/100\n",
            "39/39 [==============================] - 0s 8ms/step - loss: 0.0033\n",
            "Epoch 24/100\n",
            "39/39 [==============================] - 0s 8ms/step - loss: 0.0034\n",
            "Epoch 25/100\n",
            "39/39 [==============================] - 0s 8ms/step - loss: 0.0031\n",
            "Epoch 26/100\n",
            "39/39 [==============================] - 0s 8ms/step - loss: 0.0030\n",
            "Epoch 27/100\n",
            "39/39 [==============================] - 0s 8ms/step - loss: 0.0031\n",
            "Epoch 28/100\n",
            "39/39 [==============================] - 0s 8ms/step - loss: 0.0030\n",
            "Epoch 29/100\n",
            "39/39 [==============================] - 0s 9ms/step - loss: 0.0031\n",
            "Epoch 30/100\n",
            "39/39 [==============================] - 0s 8ms/step - loss: 0.0030\n",
            "Epoch 31/100\n",
            "39/39 [==============================] - 0s 11ms/step - loss: 0.0029\n",
            "Epoch 32/100\n",
            "39/39 [==============================] - 0s 10ms/step - loss: 0.0027\n",
            "Epoch 33/100\n",
            "39/39 [==============================] - 0s 7ms/step - loss: 0.0027\n",
            "Epoch 34/100\n",
            "39/39 [==============================] - 0s 8ms/step - loss: 0.0027\n",
            "Epoch 35/100\n",
            "39/39 [==============================] - 0s 9ms/step - loss: 0.0027\n",
            "Epoch 36/100\n",
            "39/39 [==============================] - 0s 8ms/step - loss: 0.0025\n",
            "Epoch 37/100\n",
            "39/39 [==============================] - 0s 8ms/step - loss: 0.0025\n",
            "Epoch 38/100\n",
            "39/39 [==============================] - 0s 9ms/step - loss: 0.0026\n",
            "Epoch 39/100\n",
            "39/39 [==============================] - 0s 8ms/step - loss: 0.0025\n",
            "Epoch 40/100\n",
            "39/39 [==============================] - 0s 8ms/step - loss: 0.0024\n",
            "Epoch 41/100\n",
            "39/39 [==============================] - 0s 8ms/step - loss: 0.0023\n",
            "Epoch 42/100\n",
            "39/39 [==============================] - 0s 8ms/step - loss: 0.0026\n",
            "Epoch 43/100\n",
            "39/39 [==============================] - 0s 11ms/step - loss: 0.0023\n",
            "Epoch 44/100\n",
            "39/39 [==============================] - 0s 11ms/step - loss: 0.0024\n",
            "Epoch 45/100\n",
            "39/39 [==============================] - 0s 11ms/step - loss: 0.0022\n",
            "Epoch 46/100\n",
            "39/39 [==============================] - 0s 12ms/step - loss: 0.0023\n",
            "Epoch 47/100\n",
            "39/39 [==============================] - 0s 11ms/step - loss: 0.0024\n",
            "Epoch 48/100\n",
            "39/39 [==============================] - 0s 11ms/step - loss: 0.0022\n",
            "Epoch 49/100\n",
            "39/39 [==============================] - 0s 12ms/step - loss: 0.0024\n",
            "Epoch 50/100\n",
            "39/39 [==============================] - 0s 11ms/step - loss: 0.0024\n",
            "Epoch 51/100\n",
            "39/39 [==============================] - 0s 11ms/step - loss: 0.0022\n",
            "Epoch 52/100\n",
            "39/39 [==============================] - 0s 11ms/step - loss: 0.0020\n",
            "Epoch 53/100\n",
            "39/39 [==============================] - 0s 11ms/step - loss: 0.0021\n",
            "Epoch 54/100\n",
            "39/39 [==============================] - 0s 11ms/step - loss: 0.0023\n",
            "Epoch 55/100\n",
            "39/39 [==============================] - 0s 12ms/step - loss: 0.0022\n",
            "Epoch 56/100\n",
            "39/39 [==============================] - 0s 11ms/step - loss: 0.0022\n",
            "Epoch 57/100\n",
            "39/39 [==============================] - 0s 9ms/step - loss: 0.0021\n",
            "Epoch 58/100\n",
            "39/39 [==============================] - 0s 8ms/step - loss: 0.0022\n",
            "Epoch 59/100\n",
            "39/39 [==============================] - 0s 8ms/step - loss: 0.0020\n",
            "Epoch 60/100\n",
            "39/39 [==============================] - 0s 8ms/step - loss: 0.0022\n",
            "Epoch 61/100\n",
            "39/39 [==============================] - 0s 8ms/step - loss: 0.0021\n",
            "Epoch 62/100\n",
            "39/39 [==============================] - 0s 8ms/step - loss: 0.0021\n",
            "Epoch 63/100\n",
            "39/39 [==============================] - 0s 8ms/step - loss: 0.0020\n",
            "Epoch 64/100\n",
            "39/39 [==============================] - 0s 8ms/step - loss: 0.0020\n",
            "Epoch 65/100\n",
            "39/39 [==============================] - 0s 8ms/step - loss: 0.0021\n",
            "Epoch 66/100\n",
            "39/39 [==============================] - 0s 8ms/step - loss: 0.0020\n",
            "Epoch 67/100\n",
            "39/39 [==============================] - 0s 8ms/step - loss: 0.0019\n",
            "Epoch 68/100\n",
            "39/39 [==============================] - 0s 8ms/step - loss: 0.0020\n",
            "Epoch 69/100\n",
            "39/39 [==============================] - 0s 8ms/step - loss: 0.0021\n",
            "Epoch 70/100\n",
            "39/39 [==============================] - 0s 8ms/step - loss: 0.0018\n",
            "Epoch 71/100\n",
            "39/39 [==============================] - 0s 8ms/step - loss: 0.0020\n",
            "Epoch 72/100\n",
            "39/39 [==============================] - 0s 8ms/step - loss: 0.0020\n",
            "Epoch 73/100\n",
            "39/39 [==============================] - 0s 8ms/step - loss: 0.0019\n",
            "Epoch 74/100\n",
            "39/39 [==============================] - 0s 8ms/step - loss: 0.0019\n",
            "Epoch 75/100\n",
            "39/39 [==============================] - 0s 8ms/step - loss: 0.0018\n",
            "Epoch 76/100\n",
            "39/39 [==============================] - 0s 8ms/step - loss: 0.0020\n",
            "Epoch 77/100\n",
            "39/39 [==============================] - 0s 8ms/step - loss: 0.0019\n",
            "Epoch 78/100\n",
            "39/39 [==============================] - 0s 9ms/step - loss: 0.0018\n",
            "Epoch 79/100\n",
            "39/39 [==============================] - 0s 8ms/step - loss: 0.0018\n",
            "Epoch 80/100\n",
            "39/39 [==============================] - 0s 8ms/step - loss: 0.0018\n",
            "Epoch 81/100\n",
            "39/39 [==============================] - 0s 8ms/step - loss: 0.0021\n",
            "Epoch 82/100\n",
            "39/39 [==============================] - 0s 8ms/step - loss: 0.0021\n",
            "Epoch 83/100\n",
            "39/39 [==============================] - 0s 8ms/step - loss: 0.0018\n",
            "Epoch 84/100\n",
            "39/39 [==============================] - 0s 8ms/step - loss: 0.0020\n",
            "Epoch 85/100\n",
            "39/39 [==============================] - 0s 8ms/step - loss: 0.0018\n",
            "Epoch 86/100\n",
            "39/39 [==============================] - 0s 8ms/step - loss: 0.0018\n",
            "Epoch 87/100\n",
            "39/39 [==============================] - 0s 8ms/step - loss: 0.0018\n",
            "Epoch 88/100\n",
            "39/39 [==============================] - 0s 11ms/step - loss: 0.0018\n",
            "Epoch 89/100\n",
            "39/39 [==============================] - 0s 11ms/step - loss: 0.0018\n",
            "Epoch 90/100\n",
            "39/39 [==============================] - 0s 12ms/step - loss: 0.0018\n",
            "Epoch 91/100\n",
            "39/39 [==============================] - 0s 11ms/step - loss: 0.0017\n",
            "Epoch 92/100\n",
            "39/39 [==============================] - 0s 11ms/step - loss: 0.0017\n",
            "Epoch 93/100\n",
            "39/39 [==============================] - 0s 11ms/step - loss: 0.0018\n",
            "Epoch 94/100\n",
            "39/39 [==============================] - 0s 11ms/step - loss: 0.0017\n",
            "Epoch 95/100\n",
            "39/39 [==============================] - 0s 12ms/step - loss: 0.0017\n",
            "Epoch 96/100\n",
            "39/39 [==============================] - 0s 11ms/step - loss: 0.0018\n",
            "Epoch 97/100\n",
            "39/39 [==============================] - 0s 11ms/step - loss: 0.0017\n",
            "Epoch 98/100\n",
            "39/39 [==============================] - 0s 11ms/step - loss: 0.0018\n",
            "Epoch 99/100\n",
            "39/39 [==============================] - 0s 11ms/step - loss: 0.0017\n",
            "Epoch 100/100\n",
            "39/39 [==============================] - 0s 12ms/step - loss: 0.0017\n"
          ]
        },
        {
          "output_type": "execute_result",
          "data": {
            "text/plain": [
              "<keras.src.callbacks.History at 0x79dc800dd7e0>"
            ]
          },
          "metadata": {},
          "execution_count": 23
        }
      ]
    },
    {
      "cell_type": "markdown",
      "source": [
        "#### **Testing LSTM Model**"
      ],
      "metadata": {
        "id": "vgdupfLKUYYf"
      }
    },
    {
      "cell_type": "code",
      "source": [
        "dataset_test = df\n",
        "real_stock_price = dataset_test.iloc[:,4:5].values\n",
        "real_stock_price"
      ],
      "metadata": {
        "colab": {
          "base_uri": "https://localhost:8080/"
        },
        "id": "Qeg8zE7eDRW4",
        "outputId": "337ac29c-19e0-47a1-86ad-db02841b5a62"
      },
      "execution_count": null,
      "outputs": [
        {
          "output_type": "execute_result",
          "data": {
            "text/plain": [
              "array([[4400. ],\n",
              "       [4400. ],\n",
              "       [4362.5],\n",
              "       ...,\n",
              "       [5275. ],\n",
              "       [5350. ],\n",
              "       [5375. ]])"
            ]
          },
          "metadata": {},
          "execution_count": 24
        }
      ]
    },
    {
      "cell_type": "code",
      "source": [
        "dataset_total = pd.concat((df['Close'], dataset_test['Close']), axis = 0)\n",
        "inputs = dataset_total[len(dataset_total) - len(dataset_test):].values\n",
        "inputs = inputs.reshape(-1,1)\n",
        "inputs = sc.transform(inputs)"
      ],
      "metadata": {
        "id": "u5y1DPE2DVgC"
      },
      "execution_count": null,
      "outputs": []
    },
    {
      "cell_type": "code",
      "source": [
        "inputs"
      ],
      "metadata": {
        "colab": {
          "base_uri": "https://localhost:8080/"
        },
        "id": "Vb5ZJQ8SEK2M",
        "outputId": "b419ad47-0c49-462f-a639-771db5b7568a"
      },
      "execution_count": null,
      "outputs": [
        {
          "output_type": "execute_result",
          "data": {
            "text/plain": [
              "array([[0.743083  ],\n",
              "       [0.743083  ],\n",
              "       [0.73320158],\n",
              "       ...,\n",
              "       [0.97364954],\n",
              "       [0.99341238],\n",
              "       [1.        ]])"
            ]
          },
          "metadata": {},
          "execution_count": 26
        }
      ]
    },
    {
      "cell_type": "code",
      "source": [
        "inputs.shape"
      ],
      "metadata": {
        "colab": {
          "base_uri": "https://localhost:8080/"
        },
        "id": "TSuh3BPfPPjc",
        "outputId": "dff8231e-481f-44c8-9857-fa239be37169"
      },
      "execution_count": null,
      "outputs": [
        {
          "output_type": "execute_result",
          "data": {
            "text/plain": [
              "(1233, 1)"
            ]
          },
          "metadata": {},
          "execution_count": 27
        }
      ]
    },
    {
      "cell_type": "code",
      "source": [
        "X_test = inputs\n",
        "X_test = np.array(X_test)\n",
        "X_test = np.reshape(X_test, (X_test.shape[0], X_test.shape[1], 1))"
      ],
      "metadata": {
        "id": "-kvARajLEQLv"
      },
      "execution_count": null,
      "outputs": []
    },
    {
      "cell_type": "code",
      "source": [
        "predicted_stock_price_lstm = lstm_model.predict(X_test)\n",
        "predicted_stock_price_lstm = sc.inverse_transform(predicted_stock_price_lstm)"
      ],
      "metadata": {
        "colab": {
          "base_uri": "https://localhost:8080/"
        },
        "id": "XtDXuIfzETnE",
        "outputId": "e632ec84-b74d-45f6-db0d-60b7d131e7d6"
      },
      "execution_count": null,
      "outputs": [
        {
          "output_type": "stream",
          "name": "stdout",
          "text": [
            "39/39 [==============================] - 2s 3ms/step\n"
          ]
        }
      ]
    },
    {
      "cell_type": "code",
      "source": [
        "predicted_stock_price_lstm"
      ],
      "metadata": {
        "colab": {
          "base_uri": "https://localhost:8080/"
        },
        "id": "FWfgTh6QEX4V",
        "outputId": "bfc794e6-5bc5-412b-fba0-70b0bf782ead"
      },
      "execution_count": null,
      "outputs": [
        {
          "output_type": "execute_result",
          "data": {
            "text/plain": [
              "array([[4387.818 ],\n",
              "       [4387.818 ],\n",
              "       [4350.1147],\n",
              "       ...,\n",
              "       [5114.3853],\n",
              "       [5157.683 ],\n",
              "       [5171.2856]], dtype=float32)"
            ]
          },
          "metadata": {},
          "execution_count": 30
        }
      ]
    },
    {
      "cell_type": "code",
      "source": [
        "predicted_stock_price_lstm.shape"
      ],
      "metadata": {
        "colab": {
          "base_uri": "https://localhost:8080/"
        },
        "id": "oLMln0xlJ8dp",
        "outputId": "4d1a5ad6-d148-425f-fcdc-d6c721200874"
      },
      "execution_count": null,
      "outputs": [
        {
          "output_type": "execute_result",
          "data": {
            "text/plain": [
              "(1233, 1)"
            ]
          },
          "metadata": {},
          "execution_count": 31
        }
      ]
    },
    {
      "cell_type": "code",
      "source": [
        "# Add the predicted values to the DataFrame\n",
        "df['LSTM Predictions'] = predicted_stock_price_lstm\n",
        "\n",
        "# Print or visualize the results as needed\n",
        "df[['Date', 'Close', 'LSTM Predictions']]"
      ],
      "metadata": {
        "colab": {
          "base_uri": "https://localhost:8080/",
          "height": 424
        },
        "id": "BkLq-2lUG19B",
        "outputId": "a121c582-dbb0-40b0-fdb9-8e5042bea606"
      },
      "execution_count": null,
      "outputs": [
        {
          "output_type": "execute_result",
          "data": {
            "text/plain": [
              "           Date   Close  LSTM Predictions\n",
              "0    2018-12-31  4400.0       4387.817871\n",
              "1    2019-01-01  4400.0       4387.817871\n",
              "2    2019-01-02  4362.5       4350.114746\n",
              "3    2019-01-03  4362.5       4350.114746\n",
              "4    2019-01-04  4362.5       4350.114746\n",
              "...         ...     ...               ...\n",
              "1228 2023-12-21  5150.0       5034.247070\n",
              "1229 2023-12-22  5250.0       5099.140137\n",
              "1230 2023-12-27  5275.0       5114.385254\n",
              "1231 2023-12-28  5350.0       5157.683105\n",
              "1232 2023-12-29  5375.0       5171.285645\n",
              "\n",
              "[1233 rows x 3 columns]"
            ],
            "text/html": [
              "\n",
              "  <div id=\"df-749aff50-87fa-4950-b0b3-30e0008ed57c\" class=\"colab-df-container\">\n",
              "    <div>\n",
              "<style scoped>\n",
              "    .dataframe tbody tr th:only-of-type {\n",
              "        vertical-align: middle;\n",
              "    }\n",
              "\n",
              "    .dataframe tbody tr th {\n",
              "        vertical-align: top;\n",
              "    }\n",
              "\n",
              "    .dataframe thead th {\n",
              "        text-align: right;\n",
              "    }\n",
              "</style>\n",
              "<table border=\"1\" class=\"dataframe\">\n",
              "  <thead>\n",
              "    <tr style=\"text-align: right;\">\n",
              "      <th></th>\n",
              "      <th>Date</th>\n",
              "      <th>Close</th>\n",
              "      <th>LSTM Predictions</th>\n",
              "    </tr>\n",
              "  </thead>\n",
              "  <tbody>\n",
              "    <tr>\n",
              "      <th>0</th>\n",
              "      <td>2018-12-31</td>\n",
              "      <td>4400.0</td>\n",
              "      <td>4387.817871</td>\n",
              "    </tr>\n",
              "    <tr>\n",
              "      <th>1</th>\n",
              "      <td>2019-01-01</td>\n",
              "      <td>4400.0</td>\n",
              "      <td>4387.817871</td>\n",
              "    </tr>\n",
              "    <tr>\n",
              "      <th>2</th>\n",
              "      <td>2019-01-02</td>\n",
              "      <td>4362.5</td>\n",
              "      <td>4350.114746</td>\n",
              "    </tr>\n",
              "    <tr>\n",
              "      <th>3</th>\n",
              "      <td>2019-01-03</td>\n",
              "      <td>4362.5</td>\n",
              "      <td>4350.114746</td>\n",
              "    </tr>\n",
              "    <tr>\n",
              "      <th>4</th>\n",
              "      <td>2019-01-04</td>\n",
              "      <td>4362.5</td>\n",
              "      <td>4350.114746</td>\n",
              "    </tr>\n",
              "    <tr>\n",
              "      <th>...</th>\n",
              "      <td>...</td>\n",
              "      <td>...</td>\n",
              "      <td>...</td>\n",
              "    </tr>\n",
              "    <tr>\n",
              "      <th>1228</th>\n",
              "      <td>2023-12-21</td>\n",
              "      <td>5150.0</td>\n",
              "      <td>5034.247070</td>\n",
              "    </tr>\n",
              "    <tr>\n",
              "      <th>1229</th>\n",
              "      <td>2023-12-22</td>\n",
              "      <td>5250.0</td>\n",
              "      <td>5099.140137</td>\n",
              "    </tr>\n",
              "    <tr>\n",
              "      <th>1230</th>\n",
              "      <td>2023-12-27</td>\n",
              "      <td>5275.0</td>\n",
              "      <td>5114.385254</td>\n",
              "    </tr>\n",
              "    <tr>\n",
              "      <th>1231</th>\n",
              "      <td>2023-12-28</td>\n",
              "      <td>5350.0</td>\n",
              "      <td>5157.683105</td>\n",
              "    </tr>\n",
              "    <tr>\n",
              "      <th>1232</th>\n",
              "      <td>2023-12-29</td>\n",
              "      <td>5375.0</td>\n",
              "      <td>5171.285645</td>\n",
              "    </tr>\n",
              "  </tbody>\n",
              "</table>\n",
              "<p>1233 rows × 3 columns</p>\n",
              "</div>\n",
              "    <div class=\"colab-df-buttons\">\n",
              "\n",
              "  <div class=\"colab-df-container\">\n",
              "    <button class=\"colab-df-convert\" onclick=\"convertToInteractive('df-749aff50-87fa-4950-b0b3-30e0008ed57c')\"\n",
              "            title=\"Convert this dataframe to an interactive table.\"\n",
              "            style=\"display:none;\">\n",
              "\n",
              "  <svg xmlns=\"http://www.w3.org/2000/svg\" height=\"24px\" viewBox=\"0 -960 960 960\">\n",
              "    <path d=\"M120-120v-720h720v720H120Zm60-500h600v-160H180v160Zm220 220h160v-160H400v160Zm0 220h160v-160H400v160ZM180-400h160v-160H180v160Zm440 0h160v-160H620v160ZM180-180h160v-160H180v160Zm440 0h160v-160H620v160Z\"/>\n",
              "  </svg>\n",
              "    </button>\n",
              "\n",
              "  <style>\n",
              "    .colab-df-container {\n",
              "      display:flex;\n",
              "      gap: 12px;\n",
              "    }\n",
              "\n",
              "    .colab-df-convert {\n",
              "      background-color: #E8F0FE;\n",
              "      border: none;\n",
              "      border-radius: 50%;\n",
              "      cursor: pointer;\n",
              "      display: none;\n",
              "      fill: #1967D2;\n",
              "      height: 32px;\n",
              "      padding: 0 0 0 0;\n",
              "      width: 32px;\n",
              "    }\n",
              "\n",
              "    .colab-df-convert:hover {\n",
              "      background-color: #E2EBFA;\n",
              "      box-shadow: 0px 1px 2px rgba(60, 64, 67, 0.3), 0px 1px 3px 1px rgba(60, 64, 67, 0.15);\n",
              "      fill: #174EA6;\n",
              "    }\n",
              "\n",
              "    .colab-df-buttons div {\n",
              "      margin-bottom: 4px;\n",
              "    }\n",
              "\n",
              "    [theme=dark] .colab-df-convert {\n",
              "      background-color: #3B4455;\n",
              "      fill: #D2E3FC;\n",
              "    }\n",
              "\n",
              "    [theme=dark] .colab-df-convert:hover {\n",
              "      background-color: #434B5C;\n",
              "      box-shadow: 0px 1px 3px 1px rgba(0, 0, 0, 0.15);\n",
              "      filter: drop-shadow(0px 1px 2px rgba(0, 0, 0, 0.3));\n",
              "      fill: #FFFFFF;\n",
              "    }\n",
              "  </style>\n",
              "\n",
              "    <script>\n",
              "      const buttonEl =\n",
              "        document.querySelector('#df-749aff50-87fa-4950-b0b3-30e0008ed57c button.colab-df-convert');\n",
              "      buttonEl.style.display =\n",
              "        google.colab.kernel.accessAllowed ? 'block' : 'none';\n",
              "\n",
              "      async function convertToInteractive(key) {\n",
              "        const element = document.querySelector('#df-749aff50-87fa-4950-b0b3-30e0008ed57c');\n",
              "        const dataTable =\n",
              "          await google.colab.kernel.invokeFunction('convertToInteractive',\n",
              "                                                    [key], {});\n",
              "        if (!dataTable) return;\n",
              "\n",
              "        const docLinkHtml = 'Like what you see? Visit the ' +\n",
              "          '<a target=\"_blank\" href=https://colab.research.google.com/notebooks/data_table.ipynb>data table notebook</a>'\n",
              "          + ' to learn more about interactive tables.';\n",
              "        element.innerHTML = '';\n",
              "        dataTable['output_type'] = 'display_data';\n",
              "        await google.colab.output.renderOutput(dataTable, element);\n",
              "        const docLink = document.createElement('div');\n",
              "        docLink.innerHTML = docLinkHtml;\n",
              "        element.appendChild(docLink);\n",
              "      }\n",
              "    </script>\n",
              "  </div>\n",
              "\n",
              "\n",
              "<div id=\"df-04925e87-2d7d-4fcd-b3a6-8c531fe17798\">\n",
              "  <button class=\"colab-df-quickchart\" onclick=\"quickchart('df-04925e87-2d7d-4fcd-b3a6-8c531fe17798')\"\n",
              "            title=\"Suggest charts\"\n",
              "            style=\"display:none;\">\n",
              "\n",
              "<svg xmlns=\"http://www.w3.org/2000/svg\" height=\"24px\"viewBox=\"0 0 24 24\"\n",
              "     width=\"24px\">\n",
              "    <g>\n",
              "        <path d=\"M19 3H5c-1.1 0-2 .9-2 2v14c0 1.1.9 2 2 2h14c1.1 0 2-.9 2-2V5c0-1.1-.9-2-2-2zM9 17H7v-7h2v7zm4 0h-2V7h2v10zm4 0h-2v-4h2v4z\"/>\n",
              "    </g>\n",
              "</svg>\n",
              "  </button>\n",
              "\n",
              "<style>\n",
              "  .colab-df-quickchart {\n",
              "      --bg-color: #E8F0FE;\n",
              "      --fill-color: #1967D2;\n",
              "      --hover-bg-color: #E2EBFA;\n",
              "      --hover-fill-color: #174EA6;\n",
              "      --disabled-fill-color: #AAA;\n",
              "      --disabled-bg-color: #DDD;\n",
              "  }\n",
              "\n",
              "  [theme=dark] .colab-df-quickchart {\n",
              "      --bg-color: #3B4455;\n",
              "      --fill-color: #D2E3FC;\n",
              "      --hover-bg-color: #434B5C;\n",
              "      --hover-fill-color: #FFFFFF;\n",
              "      --disabled-bg-color: #3B4455;\n",
              "      --disabled-fill-color: #666;\n",
              "  }\n",
              "\n",
              "  .colab-df-quickchart {\n",
              "    background-color: var(--bg-color);\n",
              "    border: none;\n",
              "    border-radius: 50%;\n",
              "    cursor: pointer;\n",
              "    display: none;\n",
              "    fill: var(--fill-color);\n",
              "    height: 32px;\n",
              "    padding: 0;\n",
              "    width: 32px;\n",
              "  }\n",
              "\n",
              "  .colab-df-quickchart:hover {\n",
              "    background-color: var(--hover-bg-color);\n",
              "    box-shadow: 0 1px 2px rgba(60, 64, 67, 0.3), 0 1px 3px 1px rgba(60, 64, 67, 0.15);\n",
              "    fill: var(--button-hover-fill-color);\n",
              "  }\n",
              "\n",
              "  .colab-df-quickchart-complete:disabled,\n",
              "  .colab-df-quickchart-complete:disabled:hover {\n",
              "    background-color: var(--disabled-bg-color);\n",
              "    fill: var(--disabled-fill-color);\n",
              "    box-shadow: none;\n",
              "  }\n",
              "\n",
              "  .colab-df-spinner {\n",
              "    border: 2px solid var(--fill-color);\n",
              "    border-color: transparent;\n",
              "    border-bottom-color: var(--fill-color);\n",
              "    animation:\n",
              "      spin 1s steps(1) infinite;\n",
              "  }\n",
              "\n",
              "  @keyframes spin {\n",
              "    0% {\n",
              "      border-color: transparent;\n",
              "      border-bottom-color: var(--fill-color);\n",
              "      border-left-color: var(--fill-color);\n",
              "    }\n",
              "    20% {\n",
              "      border-color: transparent;\n",
              "      border-left-color: var(--fill-color);\n",
              "      border-top-color: var(--fill-color);\n",
              "    }\n",
              "    30% {\n",
              "      border-color: transparent;\n",
              "      border-left-color: var(--fill-color);\n",
              "      border-top-color: var(--fill-color);\n",
              "      border-right-color: var(--fill-color);\n",
              "    }\n",
              "    40% {\n",
              "      border-color: transparent;\n",
              "      border-right-color: var(--fill-color);\n",
              "      border-top-color: var(--fill-color);\n",
              "    }\n",
              "    60% {\n",
              "      border-color: transparent;\n",
              "      border-right-color: var(--fill-color);\n",
              "    }\n",
              "    80% {\n",
              "      border-color: transparent;\n",
              "      border-right-color: var(--fill-color);\n",
              "      border-bottom-color: var(--fill-color);\n",
              "    }\n",
              "    90% {\n",
              "      border-color: transparent;\n",
              "      border-bottom-color: var(--fill-color);\n",
              "    }\n",
              "  }\n",
              "</style>\n",
              "\n",
              "  <script>\n",
              "    async function quickchart(key) {\n",
              "      const quickchartButtonEl =\n",
              "        document.querySelector('#' + key + ' button');\n",
              "      quickchartButtonEl.disabled = true;  // To prevent multiple clicks.\n",
              "      quickchartButtonEl.classList.add('colab-df-spinner');\n",
              "      try {\n",
              "        const charts = await google.colab.kernel.invokeFunction(\n",
              "            'suggestCharts', [key], {});\n",
              "      } catch (error) {\n",
              "        console.error('Error during call to suggestCharts:', error);\n",
              "      }\n",
              "      quickchartButtonEl.classList.remove('colab-df-spinner');\n",
              "      quickchartButtonEl.classList.add('colab-df-quickchart-complete');\n",
              "    }\n",
              "    (() => {\n",
              "      let quickchartButtonEl =\n",
              "        document.querySelector('#df-04925e87-2d7d-4fcd-b3a6-8c531fe17798 button');\n",
              "      quickchartButtonEl.style.display =\n",
              "        google.colab.kernel.accessAllowed ? 'block' : 'none';\n",
              "    })();\n",
              "  </script>\n",
              "</div>\n",
              "    </div>\n",
              "  </div>\n"
            ]
          },
          "metadata": {},
          "execution_count": 32
        }
      ]
    },
    {
      "cell_type": "code",
      "source": [
        "# Plot the actual closing prices and predictions\n",
        "plt.figure(figsize=(10, 6))\n",
        "plt.plot(df['Date'], df['Close'], label='Actual Close Price', color='blue')\n",
        "plt.plot(df['Date'], df['LSTM Predictions'], label='Predicted Close Price', color='red')\n",
        "plt.title('Close Price Prediction using LSTM')\n",
        "plt.xlabel('Date')\n",
        "plt.ylabel('Closing Price')\n",
        "plt.legend()\n",
        "plt.show()"
      ],
      "metadata": {
        "colab": {
          "base_uri": "https://localhost:8080/",
          "height": 564
        },
        "id": "Laq_qFPjL0V_",
        "outputId": "6e288d92-537b-45b0-dcef-9b9d411deeb5"
      },
      "execution_count": null,
      "outputs": [
        {
          "output_type": "display_data",
          "data": {
            "text/plain": [
              "<Figure size 1000x600 with 1 Axes>"
            ],
            "image/png": "[encoded data removed]"
          },
          "metadata": {}
        }
      ]
    },
    {
      "cell_type": "markdown",
      "source": [
        "#### **Model Evaluation**"
      ],
      "metadata": {
        "id": "TYygeJ7KWIcu"
      }
    },
    {
      "cell_type": "code",
      "source": [
        "from sklearn.metrics import mean_squared_error\n",
        "from math import sqrt"
      ],
      "metadata": {
        "id": "_o_AWGCUW7gO"
      },
      "execution_count": null,
      "outputs": []
    },
    {
      "cell_type": "code",
      "source": [
        "# Perform prediction on training data\n",
        "y_pred = lstm_model.predict(X_train)\n",
        "\n",
        "# Calculate MSE\n",
        "mse_lstm = mean_squared_error(Y_train, y_pred)\n",
        "\n",
        "# Calculating RMSE\n",
        "rmse_lstm = sqrt(mse_lstm)\n",
        "\n",
        "# Calculating MAPE\n",
        "mape_lstm = np.mean(np.abs((Y_train - y_pred) / np.maximum(1e-8, np.abs(Y_train)))) * 100\n",
        "\n",
        "# Displaying results\n",
        "print(f'Mean Squared Error (MSE): {mse_lstm}')\n",
        "print(f'Root Mean Squared Error (RMSE): {rmse_lstm}')\n",
        "print(f'Mean Absolute Percentage Error (MAPE): {mape_lstm}%')"
      ],
      "metadata": {
        "colab": {
          "base_uri": "https://localhost:8080/"
        },
        "id": "UcLOXtuRWMeX",
        "outputId": "3e5cf6ef-41fa-4a77-c8e0-edf7e436bacd"
      },
      "execution_count": null,
      "outputs": [
        {
          "output_type": "stream",
          "name": "stdout",
          "text": [
            "39/39 [==============================] - 0s 3ms/step\n",
            "Mean Squared Error (MSE): 0.0001931409760923563\n",
            "Root Mean Squared Error (RMSE): 0.013897516903834164\n",
            "Mean Absolute Percentage Error (MAPE): 284452.4871216262%\n"
          ]
        }
      ]
    },
    {
      "cell_type": "markdown",
      "source": [
        "#### **Saving LSTM Model**"
      ],
      "metadata": {
        "id": "EBC_Dp5gXdlm"
      }
    },
    {
      "cell_type": "code",
      "source": [
        "from keras.models import load_model\n",
        "lstm_model.save('BBNI_LSTM_Model.h5')"
      ],
      "metadata": {
        "id": "xgsWPx4xXgq5",
        "colab": {
          "base_uri": "https://localhost:8080/"
        },
        "outputId": "9ad06105-8761-43a6-bf59-8a507c9577fd"
      },
      "execution_count": null,
      "outputs": [
        {
          "output_type": "stream",
          "name": "stderr",
          "text": [
            "/usr/local/lib/python3.10/dist-packages/keras/src/engine/training.py:3103: UserWarning: You are saving your model as an HDF5 file via `model.save()`. This file format is considered legacy. We recommend using instead the native Keras format, e.g. `model.save('my_model.keras')`.\n",
            "  saving_api.save_model(\n"
          ]
        }
      ]
    },
    {
      "cell_type": "markdown",
      "source": [
        "### **Gated Recurrent Unit (GRU)**"
      ],
      "metadata": {
        "id": "ya8zy-MrZ-Ax"
      }
    },
    {
      "cell_type": "code",
      "source": [
        "from keras.models import Sequential\n",
        "from keras.layers import GRU, Dense, Dropout"
      ],
      "metadata": {
        "id": "ehv-wNxZazs5"
      },
      "execution_count": null,
      "outputs": []
    },
    {
      "cell_type": "markdown",
      "source": [
        "#### **Building GRU Architecture**"
      ],
      "metadata": {
        "id": "mTVjk30bgMsV"
      }
    },
    {
      "cell_type": "code",
      "source": [
        "# Creating a GRU model\n",
        "gru_model = Sequential()\n",
        "\n",
        "# Adding a GRU layer\n",
        "gru_model.add(GRU(units=64, return_sequences=True, input_shape=(X_train.shape[1], 1)))\n",
        "gru_model.add(Dropout(0.25))\n",
        "gru_model.add(GRU(units=64, return_sequences=True))\n",
        "gru_model.add(Dropout(0.25))\n",
        "gru_model.add(GRU(units=64, return_sequences=True))\n",
        "gru_model.add(Dropout(0.25))\n",
        "gru_model.add(GRU(units=64, return_sequences=False))\n",
        "gru_model.add(Dropout(0.25))\n",
        "gru_model.add(Dense(units=1))\n",
        "\n",
        "# Compile the GRU model\n",
        "gru_model.compile(optimizer='adam', loss='mean_squared_error')"
      ],
      "metadata": {
        "id": "_dqtl6CnaZkj"
      },
      "execution_count": null,
      "outputs": []
    },
    {
      "cell_type": "markdown",
      "source": [
        "#### **Training GRU Model**"
      ],
      "metadata": {
        "id": "f23N4gangVie"
      }
    },
    {
      "cell_type": "code",
      "source": [
        "# Train the GRU model\n",
        "gru_model.fit(X_train, Y_train, epochs=100, batch_size=32)"
      ],
      "metadata": {
        "colab": {
          "base_uri": "https://localhost:8080/"
        },
        "id": "Tg4AjJZNbM1J",
        "outputId": "8da992f5-8b8d-4c7e-9c6d-2c812ed00496"
      },
      "execution_count": null,
      "outputs": [
        {
          "output_type": "stream",
          "name": "stdout",
          "text": [
            "Epoch 1/100\n",
            "39/39 [==============================] - 10s 9ms/step - loss: 0.1304\n",
            "Epoch 2/100\n",
            "39/39 [==============================] - 0s 8ms/step - loss: 0.0250\n",
            "Epoch 3/100\n",
            "39/39 [==============================] - 0s 8ms/step - loss: 0.0084\n",
            "Epoch 4/100\n",
            "39/39 [==============================] - 0s 8ms/step - loss: 0.0066\n",
            "Epoch 5/100\n",
            "39/39 [==============================] - 0s 9ms/step - loss: 0.0067\n",
            "Epoch 6/100\n",
            "39/39 [==============================] - 0s 8ms/step - loss: 0.0054\n",
            "Epoch 7/100\n",
            "39/39 [==============================] - 0s 8ms/step - loss: 0.0048\n",
            "Epoch 8/100\n",
            "39/39 [==============================] - 0s 8ms/step - loss: 0.0045\n",
            "Epoch 9/100\n",
            "39/39 [==============================] - 0s 8ms/step - loss: 0.0039\n",
            "Epoch 10/100\n",
            "39/39 [==============================] - 0s 8ms/step - loss: 0.0040\n",
            "Epoch 11/100\n",
            "39/39 [==============================] - 0s 8ms/step - loss: 0.0034\n",
            "Epoch 12/100\n",
            "39/39 [==============================] - 0s 8ms/step - loss: 0.0035\n",
            "Epoch 13/100\n",
            "39/39 [==============================] - 0s 8ms/step - loss: 0.0036\n",
            "Epoch 14/100\n",
            "39/39 [==============================] - 0s 8ms/step - loss: 0.0036\n",
            "Epoch 15/100\n",
            "39/39 [==============================] - 0s 9ms/step - loss: 0.0033\n",
            "Epoch 16/100\n",
            "39/39 [==============================] - 0s 8ms/step - loss: 0.0035\n",
            "Epoch 17/100\n",
            "39/39 [==============================] - 0s 8ms/step - loss: 0.0032\n",
            "Epoch 18/100\n",
            "39/39 [==============================] - 0s 9ms/step - loss: 0.0028\n",
            "Epoch 19/100\n",
            "39/39 [==============================] - 0s 8ms/step - loss: 0.0031\n",
            "Epoch 20/100\n",
            "39/39 [==============================] - 0s 8ms/step - loss: 0.0029\n",
            "Epoch 21/100\n",
            "39/39 [==============================] - 0s 8ms/step - loss: 0.0032\n",
            "Epoch 22/100\n",
            "39/39 [==============================] - 0s 8ms/step - loss: 0.0027\n",
            "Epoch 23/100\n",
            "39/39 [==============================] - 0s 8ms/step - loss: 0.0028\n",
            "Epoch 24/100\n",
            "39/39 [==============================] - 0s 8ms/step - loss: 0.0028\n",
            "Epoch 25/100\n",
            "39/39 [==============================] - 0s 8ms/step - loss: 0.0027\n",
            "Epoch 26/100\n",
            "39/39 [==============================] - 0s 8ms/step - loss: 0.0027\n",
            "Epoch 27/100\n",
            "39/39 [==============================] - 0s 8ms/step - loss: 0.0027\n",
            "Epoch 28/100\n",
            "39/39 [==============================] - 0s 8ms/step - loss: 0.0029\n",
            "Epoch 29/100\n",
            "39/39 [==============================] - 0s 8ms/step - loss: 0.0030\n",
            "Epoch 30/100\n",
            "39/39 [==============================] - 0s 8ms/step - loss: 0.0026\n",
            "Epoch 31/100\n",
            "39/39 [==============================] - 1s 20ms/step - loss: 0.0029\n",
            "Epoch 32/100\n",
            "39/39 [==============================] - 1s 21ms/step - loss: 0.0029\n",
            "Epoch 33/100\n",
            "39/39 [==============================] - 1s 27ms/step - loss: 0.0027\n",
            "Epoch 34/100\n",
            "39/39 [==============================] - 1s 22ms/step - loss: 0.0026\n",
            "Epoch 35/100\n",
            "39/39 [==============================] - 1s 21ms/step - loss: 0.0028\n",
            "Epoch 36/100\n",
            "39/39 [==============================] - 1s 24ms/step - loss: 0.0027\n",
            "Epoch 37/100\n",
            "39/39 [==============================] - 0s 11ms/step - loss: 0.0026\n",
            "Epoch 38/100\n",
            "39/39 [==============================] - 0s 11ms/step - loss: 0.0028\n",
            "Epoch 39/100\n",
            "39/39 [==============================] - 0s 11ms/step - loss: 0.0026\n",
            "Epoch 40/100\n",
            "39/39 [==============================] - 0s 11ms/step - loss: 0.0027\n",
            "Epoch 41/100\n",
            "39/39 [==============================] - 0s 10ms/step - loss: 0.0025\n",
            "Epoch 42/100\n",
            "39/39 [==============================] - 0s 8ms/step - loss: 0.0026\n",
            "Epoch 43/100\n",
            "39/39 [==============================] - 0s 8ms/step - loss: 0.0026\n",
            "Epoch 44/100\n",
            "39/39 [==============================] - 0s 8ms/step - loss: 0.0025\n",
            "Epoch 45/100\n",
            "39/39 [==============================] - 0s 8ms/step - loss: 0.0026\n",
            "Epoch 46/100\n",
            "39/39 [==============================] - 0s 8ms/step - loss: 0.0025\n",
            "Epoch 47/100\n",
            "39/39 [==============================] - 0s 9ms/step - loss: 0.0024\n",
            "Epoch 48/100\n",
            "39/39 [==============================] - 0s 8ms/step - loss: 0.0026\n",
            "Epoch 49/100\n",
            "39/39 [==============================] - 0s 8ms/step - loss: 0.0026\n",
            "Epoch 50/100\n",
            "39/39 [==============================] - 0s 8ms/step - loss: 0.0025\n",
            "Epoch 51/100\n",
            "39/39 [==============================] - 0s 8ms/step - loss: 0.0022\n",
            "Epoch 52/100\n",
            "39/39 [==============================] - 0s 8ms/step - loss: 0.0023\n",
            "Epoch 53/100\n",
            "39/39 [==============================] - 0s 8ms/step - loss: 0.0023\n",
            "Epoch 54/100\n",
            "39/39 [==============================] - 0s 8ms/step - loss: 0.0023\n",
            "Epoch 55/100\n",
            "39/39 [==============================] - 0s 8ms/step - loss: 0.0021\n",
            "Epoch 56/100\n",
            "39/39 [==============================] - 0s 8ms/step - loss: 0.0023\n",
            "Epoch 57/100\n",
            "39/39 [==============================] - 0s 8ms/step - loss: 0.0025\n",
            "Epoch 58/100\n",
            "39/39 [==============================] - 0s 8ms/step - loss: 0.0023\n",
            "Epoch 59/100\n",
            "39/39 [==============================] - 0s 8ms/step - loss: 0.0023\n",
            "Epoch 60/100\n",
            "39/39 [==============================] - 0s 8ms/step - loss: 0.0023\n",
            "Epoch 61/100\n",
            "39/39 [==============================] - 0s 8ms/step - loss: 0.0025\n",
            "Epoch 62/100\n",
            "39/39 [==============================] - 0s 8ms/step - loss: 0.0021\n",
            "Epoch 63/100\n",
            "39/39 [==============================] - 0s 8ms/step - loss: 0.0024\n",
            "Epoch 64/100\n",
            "39/39 [==============================] - 0s 9ms/step - loss: 0.0022\n",
            "Epoch 65/100\n",
            "39/39 [==============================] - 0s 8ms/step - loss: 0.0024\n",
            "Epoch 66/100\n",
            "39/39 [==============================] - 0s 8ms/step - loss: 0.0025\n",
            "Epoch 67/100\n",
            "39/39 [==============================] - 0s 8ms/step - loss: 0.0020\n",
            "Epoch 68/100\n",
            "39/39 [==============================] - 0s 8ms/step - loss: 0.0021\n",
            "Epoch 69/100\n",
            "39/39 [==============================] - 0s 8ms/step - loss: 0.0022\n",
            "Epoch 70/100\n",
            "39/39 [==============================] - 0s 8ms/step - loss: 0.0022\n",
            "Epoch 71/100\n",
            "39/39 [==============================] - 0s 8ms/step - loss: 0.0020\n",
            "Epoch 72/100\n",
            "39/39 [==============================] - 0s 12ms/step - loss: 0.0021\n",
            "Epoch 73/100\n",
            "39/39 [==============================] - 0s 13ms/step - loss: 0.0021\n",
            "Epoch 74/100\n",
            "39/39 [==============================] - 0s 11ms/step - loss: 0.0020\n",
            "Epoch 75/100\n",
            "39/39 [==============================] - 0s 11ms/step - loss: 0.0021\n",
            "Epoch 76/100\n",
            "39/39 [==============================] - 0s 10ms/step - loss: 0.0020\n",
            "Epoch 77/100\n",
            "39/39 [==============================] - 0s 11ms/step - loss: 0.0022\n",
            "Epoch 78/100\n",
            "39/39 [==============================] - 0s 12ms/step - loss: 0.0019\n",
            "Epoch 79/100\n",
            "39/39 [==============================] - 0s 11ms/step - loss: 0.0020\n",
            "Epoch 80/100\n",
            "39/39 [==============================] - 0s 11ms/step - loss: 0.0020\n",
            "Epoch 81/100\n",
            "39/39 [==============================] - 0s 11ms/step - loss: 0.0020\n",
            "Epoch 82/100\n",
            "39/39 [==============================] - 0s 11ms/step - loss: 0.0018\n",
            "Epoch 83/100\n",
            "39/39 [==============================] - 0s 11ms/step - loss: 0.0019\n",
            "Epoch 84/100\n",
            "39/39 [==============================] - 0s 11ms/step - loss: 0.0019\n",
            "Epoch 85/100\n",
            "39/39 [==============================] - 0s 11ms/step - loss: 0.0018\n",
            "Epoch 86/100\n",
            "39/39 [==============================] - 0s 8ms/step - loss: 0.0018\n",
            "Epoch 87/100\n",
            "39/39 [==============================] - 0s 8ms/step - loss: 0.0019\n",
            "Epoch 88/100\n",
            "39/39 [==============================] - 0s 8ms/step - loss: 0.0017\n",
            "Epoch 89/100\n",
            "39/39 [==============================] - 0s 8ms/step - loss: 0.0020\n",
            "Epoch 90/100\n",
            "39/39 [==============================] - 0s 8ms/step - loss: 0.0019\n",
            "Epoch 91/100\n",
            "39/39 [==============================] - 0s 8ms/step - loss: 0.0018\n",
            "Epoch 92/100\n",
            "39/39 [==============================] - 0s 8ms/step - loss: 0.0017\n",
            "Epoch 93/100\n",
            "39/39 [==============================] - 0s 8ms/step - loss: 0.0018\n",
            "Epoch 94/100\n",
            "39/39 [==============================] - 0s 8ms/step - loss: 0.0017\n",
            "Epoch 95/100\n",
            "39/39 [==============================] - 0s 9ms/step - loss: 0.0018\n",
            "Epoch 96/100\n",
            "39/39 [==============================] - 0s 8ms/step - loss: 0.0016\n",
            "Epoch 97/100\n",
            "39/39 [==============================] - 0s 8ms/step - loss: 0.0018\n",
            "Epoch 98/100\n",
            "39/39 [==============================] - 0s 8ms/step - loss: 0.0017\n",
            "Epoch 99/100\n",
            "39/39 [==============================] - 0s 9ms/step - loss: 0.0018\n",
            "Epoch 100/100\n",
            "39/39 [==============================] - 0s 8ms/step - loss: 0.0020\n"
          ]
        },
        {
          "output_type": "execute_result",
          "data": {
            "text/plain": [
              "<keras.src.callbacks.History at 0x79dc7a6ed900>"
            ]
          },
          "metadata": {},
          "execution_count": 39
        }
      ]
    },
    {
      "cell_type": "markdown",
      "source": [
        "#### **Testing GRU Model**"
      ],
      "metadata": {
        "id": "Kxf1KHMigcGl"
      }
    },
    {
      "cell_type": "code",
      "source": [
        "dataset_test = df\n",
        "real_stock_price = dataset_test.iloc[:,4:5].values\n",
        "real_stock_price"
      ],
      "metadata": {
        "colab": {
          "base_uri": "https://localhost:8080/"
        },
        "id": "vEZoUBUveQ6J",
        "outputId": "600017c4-58ed-4cf6-a762-3c38a08af6bf"
      },
      "execution_count": null,
      "outputs": [
        {
          "output_type": "execute_result",
          "data": {
            "text/plain": [
              "array([[4400. ],\n",
              "       [4400. ],\n",
              "       [4362.5],\n",
              "       ...,\n",
              "       [5275. ],\n",
              "       [5350. ],\n",
              "       [5375. ]])"
            ]
          },
          "metadata": {},
          "execution_count": 40
        }
      ]
    },
    {
      "cell_type": "code",
      "source": [
        "dataset_total = pd.concat((df['Close'], dataset_test['Close']), axis = 0)\n",
        "inputs = dataset_total[len(dataset_total) - len(dataset_test):].values\n",
        "inputs = inputs.reshape(-1,1)\n",
        "inputs = sc.transform(inputs)"
      ],
      "metadata": {
        "id": "kT7hhGUJeV4Q"
      },
      "execution_count": null,
      "outputs": []
    },
    {
      "cell_type": "code",
      "source": [
        "inputs"
      ],
      "metadata": {
        "colab": {
          "base_uri": "https://localhost:8080/"
        },
        "id": "gE2VUt1_eZ_3",
        "outputId": "e27ff64b-3b88-47eb-aabe-65c7f092fa9f"
      },
      "execution_count": null,
      "outputs": [
        {
          "output_type": "execute_result",
          "data": {
            "text/plain": [
              "array([[0.743083  ],\n",
              "       [0.743083  ],\n",
              "       [0.73320158],\n",
              "       ...,\n",
              "       [0.97364954],\n",
              "       [0.99341238],\n",
              "       [1.        ]])"
            ]
          },
          "metadata": {},
          "execution_count": 42
        }
      ]
    },
    {
      "cell_type": "code",
      "source": [
        "X_test = inputs\n",
        "X_test = np.array(X_test)\n",
        "X_test = np.reshape(X_test, (X_test.shape[0], X_test.shape[1], 1))"
      ],
      "metadata": {
        "id": "iimFc6KCefv3"
      },
      "execution_count": null,
      "outputs": []
    },
    {
      "cell_type": "code",
      "source": [
        "predicted_stock_price_gru = gru_model.predict(X_test)\n",
        "predicted_stock_price_gru = sc.inverse_transform(predicted_stock_price_gru)"
      ],
      "metadata": {
        "colab": {
          "base_uri": "https://localhost:8080/"
        },
        "id": "kiSRbO2Gek23",
        "outputId": "10fbc981-ea84-4e3f-818a-af5b58614d28"
      },
      "execution_count": null,
      "outputs": [
        {
          "output_type": "stream",
          "name": "stdout",
          "text": [
            "39/39 [==============================] - 1s 3ms/step\n"
          ]
        }
      ]
    },
    {
      "cell_type": "code",
      "source": [
        "predicted_stock_price_gru"
      ],
      "metadata": {
        "colab": {
          "base_uri": "https://localhost:8080/"
        },
        "id": "DJEY1BhQfKVz",
        "outputId": "fc705ece-7717-4fbc-bd0b-919b546b317e"
      },
      "execution_count": null,
      "outputs": [
        {
          "output_type": "execute_result",
          "data": {
            "text/plain": [
              "array([[4430.03  ],\n",
              "       [4430.03  ],\n",
              "       [4392.6187],\n",
              "       ...,\n",
              "       [5280.2256],\n",
              "       [5350.609 ],\n",
              "       [5373.9683]], dtype=float32)"
            ]
          },
          "metadata": {},
          "execution_count": 45
        }
      ]
    },
    {
      "cell_type": "code",
      "source": [
        "# Add the predicted values to the DataFrame\n",
        "df['GRU Predictions'] = predicted_stock_price_gru\n",
        "\n",
        "# Print or visualize the results as needed\n",
        "df[['Date', 'Close', 'GRU Predictions']]"
      ],
      "metadata": {
        "colab": {
          "base_uri": "https://localhost:8080/",
          "height": 424
        },
        "id": "8RyB5Pc8ffVz",
        "outputId": "95beef07-70c4-46ba-ee40-4ec43d42a65f"
      },
      "execution_count": null,
      "outputs": [
        {
          "output_type": "execute_result",
          "data": {
            "text/plain": [
              "           Date   Close  GRU Predictions\n",
              "0    2018-12-31  4400.0      4430.029785\n",
              "1    2019-01-01  4400.0      4430.029785\n",
              "2    2019-01-02  4362.5      4392.618652\n",
              "3    2019-01-03  4362.5      4392.618652\n",
              "4    2019-01-04  4362.5      4392.618652\n",
              "...         ...     ...              ...\n",
              "1228 2023-12-21  5150.0      5161.930176\n",
              "1229 2023-12-22  5250.0      5256.663574\n",
              "1230 2023-12-27  5275.0      5280.225586\n",
              "1231 2023-12-28  5350.0      5350.608887\n",
              "1232 2023-12-29  5375.0      5373.968262\n",
              "\n",
              "[1233 rows x 3 columns]"
            ],
            "text/html": [
              "\n",
              "  <div id=\"df-6a64207a-795b-435b-a726-a5c0b5bf8cd7\" class=\"colab-df-container\">\n",
              "    <div>\n",
              "<style scoped>\n",
              "    .dataframe tbody tr th:only-of-type {\n",
              "        vertical-align: middle;\n",
              "    }\n",
              "\n",
              "    .dataframe tbody tr th {\n",
              "        vertical-align: top;\n",
              "    }\n",
              "\n",
              "    .dataframe thead th {\n",
              "        text-align: right;\n",
              "    }\n",
              "</style>\n",
              "<table border=\"1\" class=\"dataframe\">\n",
              "  <thead>\n",
              "    <tr style=\"text-align: right;\">\n",
              "      <th></th>\n",
              "      <th>Date</th>\n",
              "      <th>Close</th>\n",
              "      <th>GRU Predictions</th>\n",
              "    </tr>\n",
              "  </thead>\n",
              "  <tbody>\n",
              "    <tr>\n",
              "      <th>0</th>\n",
              "      <td>2018-12-31</td>\n",
              "      <td>4400.0</td>\n",
              "      <td>4430.029785</td>\n",
              "    </tr>\n",
              "    <tr>\n",
              "      <th>1</th>\n",
              "      <td>2019-01-01</td>\n",
              "      <td>4400.0</td>\n",
              "      <td>4430.029785</td>\n",
              "    </tr>\n",
              "    <tr>\n",
              "      <th>2</th>\n",
              "      <td>2019-01-02</td>\n",
              "      <td>4362.5</td>\n",
              "      <td>4392.618652</td>\n",
              "    </tr>\n",
              "    <tr>\n",
              "      <th>3</th>\n",
              "      <td>2019-01-03</td>\n",
              "      <td>4362.5</td>\n",
              "      <td>4392.618652</td>\n",
              "    </tr>\n",
              "    <tr>\n",
              "      <th>4</th>\n",
              "      <td>2019-01-04</td>\n",
              "      <td>4362.5</td>\n",
              "      <td>4392.618652</td>\n",
              "    </tr>\n",
              "    <tr>\n",
              "      <th>...</th>\n",
              "      <td>...</td>\n",
              "      <td>...</td>\n",
              "      <td>...</td>\n",
              "    </tr>\n",
              "    <tr>\n",
              "      <th>1228</th>\n",
              "      <td>2023-12-21</td>\n",
              "      <td>5150.0</td>\n",
              "      <td>5161.930176</td>\n",
              "    </tr>\n",
              "    <tr>\n",
              "      <th>1229</th>\n",
              "      <td>2023-12-22</td>\n",
              "      <td>5250.0</td>\n",
              "      <td>5256.663574</td>\n",
              "    </tr>\n",
              "    <tr>\n",
              "      <th>1230</th>\n",
              "      <td>2023-12-27</td>\n",
              "      <td>5275.0</td>\n",
              "      <td>5280.225586</td>\n",
              "    </tr>\n",
              "    <tr>\n",
              "      <th>1231</th>\n",
              "      <td>2023-12-28</td>\n",
              "      <td>5350.0</td>\n",
              "      <td>5350.608887</td>\n",
              "    </tr>\n",
              "    <tr>\n",
              "      <th>1232</th>\n",
              "      <td>2023-12-29</td>\n",
              "      <td>5375.0</td>\n",
              "      <td>5373.968262</td>\n",
              "    </tr>\n",
              "  </tbody>\n",
              "</table>\n",
              "<p>1233 rows × 3 columns</p>\n",
              "</div>\n",
              "    <div class=\"colab-df-buttons\">\n",
              "\n",
              "  <div class=\"colab-df-container\">\n",
              "    <button class=\"colab-df-convert\" onclick=\"convertToInteractive('df-6a64207a-795b-435b-a726-a5c0b5bf8cd7')\"\n",
              "            title=\"Convert this dataframe to an interactive table.\"\n",
              "            style=\"display:none;\">\n",
              "\n",
              "  <svg xmlns=\"http://www.w3.org/2000/svg\" height=\"24px\" viewBox=\"0 -960 960 960\">\n",
              "    <path d=\"M120-120v-720h720v720H120Zm60-500h600v-160H180v160Zm220 220h160v-160H400v160Zm0 220h160v-160H400v160ZM180-400h160v-160H180v160Zm440 0h160v-160H620v160ZM180-180h160v-160H180v160Zm440 0h160v-160H620v160Z\"/>\n",
              "  </svg>\n",
              "    </button>\n",
              "\n",
              "  <style>\n",
              "    .colab-df-container {\n",
              "      display:flex;\n",
              "      gap: 12px;\n",
              "    }\n",
              "\n",
              "    .colab-df-convert {\n",
              "      background-color: #E8F0FE;\n",
              "      border: none;\n",
              "      border-radius: 50%;\n",
              "      cursor: pointer;\n",
              "      display: none;\n",
              "      fill: #1967D2;\n",
              "      height: 32px;\n",
              "      padding: 0 0 0 0;\n",
              "      width: 32px;\n",
              "    }\n",
              "\n",
              "    .colab-df-convert:hover {\n",
              "      background-color: #E2EBFA;\n",
              "      box-shadow: 0px 1px 2px rgba(60, 64, 67, 0.3), 0px 1px 3px 1px rgba(60, 64, 67, 0.15);\n",
              "      fill: #174EA6;\n",
              "    }\n",
              "\n",
              "    .colab-df-buttons div {\n",
              "      margin-bottom: 4px;\n",
              "    }\n",
              "\n",
              "    [theme=dark] .colab-df-convert {\n",
              "      background-color: #3B4455;\n",
              "      fill: #D2E3FC;\n",
              "    }\n",
              "\n",
              "    [theme=dark] .colab-df-convert:hover {\n",
              "      background-color: #434B5C;\n",
              "      box-shadow: 0px 1px 3px 1px rgba(0, 0, 0, 0.15);\n",
              "      filter: drop-shadow(0px 1px 2px rgba(0, 0, 0, 0.3));\n",
              "      fill: #FFFFFF;\n",
              "    }\n",
              "  </style>\n",
              "\n",
              "    <script>\n",
              "      const buttonEl =\n",
              "        document.querySelector('#df-6a64207a-795b-435b-a726-a5c0b5bf8cd7 button.colab-df-convert');\n",
              "      buttonEl.style.display =\n",
              "        google.colab.kernel.accessAllowed ? 'block' : 'none';\n",
              "\n",
              "      async function convertToInteractive(key) {\n",
              "        const element = document.querySelector('#df-6a64207a-795b-435b-a726-a5c0b5bf8cd7');\n",
              "        const dataTable =\n",
              "          await google.colab.kernel.invokeFunction('convertToInteractive',\n",
              "                                                    [key], {});\n",
              "        if (!dataTable) return;\n",
              "\n",
              "        const docLinkHtml = 'Like what you see? Visit the ' +\n",
              "          '<a target=\"_blank\" href=https://colab.research.google.com/notebooks/data_table.ipynb>data table notebook</a>'\n",
              "          + ' to learn more about interactive tables.';\n",
              "        element.innerHTML = '';\n",
              "        dataTable['output_type'] = 'display_data';\n",
              "        await google.colab.output.renderOutput(dataTable, element);\n",
              "        const docLink = document.createElement('div');\n",
              "        docLink.innerHTML = docLinkHtml;\n",
              "        element.appendChild(docLink);\n",
              "      }\n",
              "    </script>\n",
              "  </div>\n",
              "\n",
              "\n",
              "<div id=\"df-2e0eac2c-888a-44e6-8250-8b612534890c\">\n",
              "  <button class=\"colab-df-quickchart\" onclick=\"quickchart('df-2e0eac2c-888a-44e6-8250-8b612534890c')\"\n",
              "            title=\"Suggest charts\"\n",
              "            style=\"display:none;\">\n",
              "\n",
              "<svg xmlns=\"http://www.w3.org/2000/svg\" height=\"24px\"viewBox=\"0 0 24 24\"\n",
              "     width=\"24px\">\n",
              "    <g>\n",
              "        <path d=\"M19 3H5c-1.1 0-2 .9-2 2v14c0 1.1.9 2 2 2h14c1.1 0 2-.9 2-2V5c0-1.1-.9-2-2-2zM9 17H7v-7h2v7zm4 0h-2V7h2v10zm4 0h-2v-4h2v4z\"/>\n",
              "    </g>\n",
              "</svg>\n",
              "  </button>\n",
              "\n",
              "<style>\n",
              "  .colab-df-quickchart {\n",
              "      --bg-color: #E8F0FE;\n",
              "      --fill-color: #1967D2;\n",
              "      --hover-bg-color: #E2EBFA;\n",
              "      --hover-fill-color: #174EA6;\n",
              "      --disabled-fill-color: #AAA;\n",
              "      --disabled-bg-color: #DDD;\n",
              "  }\n",
              "\n",
              "  [theme=dark] .colab-df-quickchart {\n",
              "      --bg-color: #3B4455;\n",
              "      --fill-color: #D2E3FC;\n",
              "      --hover-bg-color: #434B5C;\n",
              "      --hover-fill-color: #FFFFFF;\n",
              "      --disabled-bg-color: #3B4455;\n",
              "      --disabled-fill-color: #666;\n",
              "  }\n",
              "\n",
              "  .colab-df-quickchart {\n",
              "    background-color: var(--bg-color);\n",
              "    border: none;\n",
              "    border-radius: 50%;\n",
              "    cursor: pointer;\n",
              "    display: none;\n",
              "    fill: var(--fill-color);\n",
              "    height: 32px;\n",
              "    padding: 0;\n",
              "    width: 32px;\n",
              "  }\n",
              "\n",
              "  .colab-df-quickchart:hover {\n",
              "    background-color: var(--hover-bg-color);\n",
              "    box-shadow: 0 1px 2px rgba(60, 64, 67, 0.3), 0 1px 3px 1px rgba(60, 64, 67, 0.15);\n",
              "    fill: var(--button-hover-fill-color);\n",
              "  }\n",
              "\n",
              "  .colab-df-quickchart-complete:disabled,\n",
              "  .colab-df-quickchart-complete:disabled:hover {\n",
              "    background-color: var(--disabled-bg-color);\n",
              "    fill: var(--disabled-fill-color);\n",
              "    box-shadow: none;\n",
              "  }\n",
              "\n",
              "  .colab-df-spinner {\n",
              "    border: 2px solid var(--fill-color);\n",
              "    border-color: transparent;\n",
              "    border-bottom-color: var(--fill-color);\n",
              "    animation:\n",
              "      spin 1s steps(1) infinite;\n",
              "  }\n",
              "\n",
              "  @keyframes spin {\n",
              "    0% {\n",
              "      border-color: transparent;\n",
              "      border-bottom-color: var(--fill-color);\n",
              "      border-left-color: var(--fill-color);\n",
              "    }\n",
              "    20% {\n",
              "      border-color: transparent;\n",
              "      border-left-color: var(--fill-color);\n",
              "      border-top-color: var(--fill-color);\n",
              "    }\n",
              "    30% {\n",
              "      border-color: transparent;\n",
              "      border-left-color: var(--fill-color);\n",
              "      border-top-color: var(--fill-color);\n",
              "      border-right-color: var(--fill-color);\n",
              "    }\n",
              "    40% {\n",
              "      border-color: transparent;\n",
              "      border-right-color: var(--fill-color);\n",
              "      border-top-color: var(--fill-color);\n",
              "    }\n",
              "    60% {\n",
              "      border-color: transparent;\n",
              "      border-right-color: var(--fill-color);\n",
              "    }\n",
              "    80% {\n",
              "      border-color: transparent;\n",
              "      border-right-color: var(--fill-color);\n",
              "      border-bottom-color: var(--fill-color);\n",
              "    }\n",
              "    90% {\n",
              "      border-color: transparent;\n",
              "      border-bottom-color: var(--fill-color);\n",
              "    }\n",
              "  }\n",
              "</style>\n",
              "\n",
              "  <script>\n",
              "    async function quickchart(key) {\n",
              "      const quickchartButtonEl =\n",
              "        document.querySelector('#' + key + ' button');\n",
              "      quickchartButtonEl.disabled = true;  // To prevent multiple clicks.\n",
              "      quickchartButtonEl.classList.add('colab-df-spinner');\n",
              "      try {\n",
              "        const charts = await google.colab.kernel.invokeFunction(\n",
              "            'suggestCharts', [key], {});\n",
              "      } catch (error) {\n",
              "        console.error('Error during call to suggestCharts:', error);\n",
              "      }\n",
              "      quickchartButtonEl.classList.remove('colab-df-spinner');\n",
              "      quickchartButtonEl.classList.add('colab-df-quickchart-complete');\n",
              "    }\n",
              "    (() => {\n",
              "      let quickchartButtonEl =\n",
              "        document.querySelector('#df-2e0eac2c-888a-44e6-8250-8b612534890c button');\n",
              "      quickchartButtonEl.style.display =\n",
              "        google.colab.kernel.accessAllowed ? 'block' : 'none';\n",
              "    })();\n",
              "  </script>\n",
              "</div>\n",
              "    </div>\n",
              "  </div>\n"
            ]
          },
          "metadata": {},
          "execution_count": 46
        }
      ]
    },
    {
      "cell_type": "code",
      "source": [
        "# Plot the actual closing prices and predictions\n",
        "plt.figure(figsize=(10, 6))\n",
        "plt.plot(df['Date'], df['Close'], label='Actual Close Price', color='blue')\n",
        "plt.plot(df['Date'], df['GRU Predictions'], label='Predicted Close Price', color='red')\n",
        "plt.title('Close Price Prediction using GRU')\n",
        "plt.xlabel('Date')\n",
        "plt.ylabel('Closing Price')\n",
        "plt.legend()\n",
        "plt.show()"
      ],
      "metadata": {
        "colab": {
          "base_uri": "https://localhost:8080/",
          "height": 564
        },
        "id": "-QbHRXD2fyil",
        "outputId": "32c22e82-a041-4058-a795-a613c68ee3a0"
      },
      "execution_count": null,
      "outputs": [
        {
          "output_type": "display_data",
          "data": {
            "text/plain": [
              "<Figure size 1000x600 with 1 Axes>"
            ],
            "image/png": "[encoded data removed]"
          },
          "metadata": {}
        }
      ]
    },
    {
      "cell_type": "markdown",
      "source": [
        "#### **Model Evaluation**"
      ],
      "metadata": {
        "id": "G8scK5qNgiMd"
      }
    },
    {
      "cell_type": "code",
      "source": [
        "from sklearn.metrics import mean_squared_error\n",
        "from math import sqrt"
      ],
      "metadata": {
        "id": "4OnldFvQgjDV"
      },
      "execution_count": null,
      "outputs": []
    },
    {
      "cell_type": "code",
      "source": [
        "# Perform prediction on training data\n",
        "y_pred = gru_model.predict(X_train)\n",
        "\n",
        "# Calculate MSE\n",
        "mse_gru = mean_squared_error(Y_train, y_pred)\n",
        "\n",
        "# Calculating RMSE\n",
        "rmse_gru = sqrt(mse_gru)\n",
        "\n",
        "# Calculating MAPE\n",
        "mape_gru = np.mean(np.abs((Y_train - y_pred) / np.maximum(1e-8, np.abs(Y_train)))) * 100\n",
        "\n",
        "# Displaying results\n",
        "print(f'Mean Squared Error (MSE): {mse_gru}')\n",
        "print(f'Root Mean Squared Error (RMSE): {rmse_gru}')\n",
        "print(f'Mean Absolute Percentage Error (MAPE): {mape_gru}%')"
      ],
      "metadata": {
        "colab": {
          "base_uri": "https://localhost:8080/"
        },
        "id": "8C_diGezguw_",
        "outputId": "fdf908f2-0059-4a9e-bc86-319177b218a9"
      },
      "execution_count": null,
      "outputs": [
        {
          "output_type": "stream",
          "name": "stdout",
          "text": [
            "39/39 [==============================] - 0s 3ms/step\n",
            "Mean Squared Error (MSE): 3.723129663873931e-05\n",
            "Root Mean Squared Error (RMSE): 0.006101745376426266\n",
            "Mean Absolute Percentage Error (MAPE): 91929.05742049796%\n"
          ]
        }
      ]
    },
    {
      "cell_type": "markdown",
      "source": [
        "#### **Saving GRU Model**"
      ],
      "metadata": {
        "id": "732jn4_Kg9FL"
      }
    },
    {
      "cell_type": "code",
      "source": [
        "from keras.models import load_model\n",
        "gru_model.save('BBNI_GRU_Model.h5')"
      ],
      "metadata": {
        "id": "es8vVDX7g8M3",
        "colab": {
          "base_uri": "https://localhost:8080/"
        },
        "outputId": "b146248b-195c-4434-a2fe-6849ab26a9aa"
      },
      "execution_count": null,
      "outputs": [
        {
          "output_type": "stream",
          "name": "stderr",
          "text": [
            "/usr/local/lib/python3.10/dist-packages/keras/src/engine/training.py:3103: UserWarning: You are saving your model as an HDF5 file via `model.save()`. This file format is considered legacy. We recommend using instead the native Keras format, e.g. `model.save('my_model.keras')`.\n",
            "  saving_api.save_model(\n"
          ]
        }
      ]
    },
    {
      "cell_type": "markdown",
      "source": [
        "## **Conclusion**"
      ],
      "metadata": {
        "id": "zO5PUkRinPPI"
      }
    },
    {
      "cell_type": "code",
      "source": [
        "model_comparison = pd.DataFrame({'Model': ['LSTM','GRU'], 'MSE': [mse_lstm,mse_gru], 'RMSE': [rmse_lstm,rmse_gru], 'MAPE': [mape_lstm*100,mape_gru*100]})\n",
        "model_comparison"
      ],
      "metadata": {
        "colab": {
          "base_uri": "https://localhost:8080/",
          "height": 112
        },
        "id": "sIdUxsxQnTOm",
        "outputId": "c4bb9bf4-0d90-4b71-e0b6-03b5b5d00a2e"
      },
      "execution_count": null,
      "outputs": [
        {
          "output_type": "execute_result",
          "data": {
            "text/plain": [
              "  Model       MSE      RMSE          MAPE\n",
              "0  LSTM  0.000193  0.013898  2.844525e+07\n",
              "1   GRU  0.000037  0.006102  9.192906e+06"
            ],
            "text/html": [
              "\n",
              "  <div id=\"df-500c5e97-0f98-4613-996c-964b6cac5e66\" class=\"colab-df-container\">\n",
              "    <div>\n",
              "<style scoped>\n",
              "    .dataframe tbody tr th:only-of-type {\n",
              "        vertical-align: middle;\n",
              "    }\n",
              "\n",
              "    .dataframe tbody tr th {\n",
              "        vertical-align: top;\n",
              "    }\n",
              "\n",
              "    .dataframe thead th {\n",
              "        text-align: right;\n",
              "    }\n",
              "</style>\n",
              "<table border=\"1\" class=\"dataframe\">\n",
              "  <thead>\n",
              "    <tr style=\"text-align: right;\">\n",
              "      <th></th>\n",
              "      <th>Model</th>\n",
              "      <th>MSE</th>\n",
              "      <th>RMSE</th>\n",
              "      <th>MAPE</th>\n",
              "    </tr>\n",
              "  </thead>\n",
              "  <tbody>\n",
              "    <tr>\n",
              "      <th>0</th>\n",
              "      <td>LSTM</td>\n",
              "      <td>0.000193</td>\n",
              "      <td>0.013898</td>\n",
              "      <td>2.844525e+07</td>\n",
              "    </tr>\n",
              "    <tr>\n",
              "      <th>1</th>\n",
              "      <td>GRU</td>\n",
              "      <td>0.000037</td>\n",
              "      <td>0.006102</td>\n",
              "      <td>9.192906e+06</td>\n",
              "    </tr>\n",
              "  </tbody>\n",
              "</table>\n",
              "</div>\n",
              "    <div class=\"colab-df-buttons\">\n",
              "\n",
              "  <div class=\"colab-df-container\">\n",
              "    <button class=\"colab-df-convert\" onclick=\"convertToInteractive('df-500c5e97-0f98-4613-996c-964b6cac5e66')\"\n",
              "            title=\"Convert this dataframe to an interactive table.\"\n",
              "            style=\"display:none;\">\n",
              "\n",
              "  <svg xmlns=\"http://www.w3.org/2000/svg\" height=\"24px\" viewBox=\"0 -960 960 960\">\n",
              "    <path d=\"M120-120v-720h720v720H120Zm60-500h600v-160H180v160Zm220 220h160v-160H400v160Zm0 220h160v-160H400v160ZM180-400h160v-160H180v160Zm440 0h160v-160H620v160ZM180-180h160v-160H180v160Zm440 0h160v-160H620v160Z\"/>\n",
              "  </svg>\n",
              "    </button>\n",
              "\n",
              "  <style>\n",
              "    .colab-df-container {\n",
              "      display:flex;\n",
              "      gap: 12px;\n",
              "    }\n",
              "\n",
              "    .colab-df-convert {\n",
              "      background-color: #E8F0FE;\n",
              "      border: none;\n",
              "      border-radius: 50%;\n",
              "      cursor: pointer;\n",
              "      display: none;\n",
              "      fill: #1967D2;\n",
              "      height: 32px;\n",
              "      padding: 0 0 0 0;\n",
              "      width: 32px;\n",
              "    }\n",
              "\n",
              "    .colab-df-convert:hover {\n",
              "      background-color: #E2EBFA;\n",
              "      box-shadow: 0px 1px 2px rgba(60, 64, 67, 0.3), 0px 1px 3px 1px rgba(60, 64, 67, 0.15);\n",
              "      fill: #174EA6;\n",
              "    }\n",
              "\n",
              "    .colab-df-buttons div {\n",
              "      margin-bottom: 4px;\n",
              "    }\n",
              "\n",
              "    [theme=dark] .colab-df-convert {\n",
              "      background-color: #3B4455;\n",
              "      fill: #D2E3FC;\n",
              "    }\n",
              "\n",
              "    [theme=dark] .colab-df-convert:hover {\n",
              "      background-color: #434B5C;\n",
              "      box-shadow: 0px 1px 3px 1px rgba(0, 0, 0, 0.15);\n",
              "      filter: drop-shadow(0px 1px 2px rgba(0, 0, 0, 0.3));\n",
              "      fill: #FFFFFF;\n",
              "    }\n",
              "  </style>\n",
              "\n",
              "    <script>\n",
              "      const buttonEl =\n",
              "        document.querySelector('#df-500c5e97-0f98-4613-996c-964b6cac5e66 button.colab-df-convert');\n",
              "      buttonEl.style.display =\n",
              "        google.colab.kernel.accessAllowed ? 'block' : 'none';\n",
              "\n",
              "      async function convertToInteractive(key) {\n",
              "        const element = document.querySelector('#df-500c5e97-0f98-4613-996c-964b6cac5e66');\n",
              "        const dataTable =\n",
              "          await google.colab.kernel.invokeFunction('convertToInteractive',\n",
              "                                                    [key], {});\n",
              "        if (!dataTable) return;\n",
              "\n",
              "        const docLinkHtml = 'Like what you see? Visit the ' +\n",
              "          '<a target=\"_blank\" href=https://colab.research.google.com/notebooks/data_table.ipynb>data table notebook</a>'\n",
              "          + ' to learn more about interactive tables.';\n",
              "        element.innerHTML = '';\n",
              "        dataTable['output_type'] = 'display_data';\n",
              "        await google.colab.output.renderOutput(dataTable, element);\n",
              "        const docLink = document.createElement('div');\n",
              "        docLink.innerHTML = docLinkHtml;\n",
              "        element.appendChild(docLink);\n",
              "      }\n",
              "    </script>\n",
              "  </div>\n",
              "\n",
              "\n",
              "<div id=\"df-3fc8c594-bcbd-45ed-bfe8-6787bb6e0bd5\">\n",
              "  <button class=\"colab-df-quickchart\" onclick=\"quickchart('df-3fc8c594-bcbd-45ed-bfe8-6787bb6e0bd5')\"\n",
              "            title=\"Suggest charts\"\n",
              "            style=\"display:none;\">\n",
              "\n",
              "<svg xmlns=\"http://www.w3.org/2000/svg\" height=\"24px\"viewBox=\"0 0 24 24\"\n",
              "     width=\"24px\">\n",
              "    <g>\n",
              "        <path d=\"M19 3H5c-1.1 0-2 .9-2 2v14c0 1.1.9 2 2 2h14c1.1 0 2-.9 2-2V5c0-1.1-.9-2-2-2zM9 17H7v-7h2v7zm4 0h-2V7h2v10zm4 0h-2v-4h2v4z\"/>\n",
              "    </g>\n",
              "</svg>\n",
              "  </button>\n",
              "\n",
              "<style>\n",
              "  .colab-df-quickchart {\n",
              "      --bg-color: #E8F0FE;\n",
              "      --fill-color: #1967D2;\n",
              "      --hover-bg-color: #E2EBFA;\n",
              "      --hover-fill-color: #174EA6;\n",
              "      --disabled-fill-color: #AAA;\n",
              "      --disabled-bg-color: #DDD;\n",
              "  }\n",
              "\n",
              "  [theme=dark] .colab-df-quickchart {\n",
              "      --bg-color: #3B4455;\n",
              "      --fill-color: #D2E3FC;\n",
              "      --hover-bg-color: #434B5C;\n",
              "      --hover-fill-color: #FFFFFF;\n",
              "      --disabled-bg-color: #3B4455;\n",
              "      --disabled-fill-color: #666;\n",
              "  }\n",
              "\n",
              "  .colab-df-quickchart {\n",
              "    background-color: var(--bg-color);\n",
              "    border: none;\n",
              "    border-radius: 50%;\n",
              "    cursor: pointer;\n",
              "    display: none;\n",
              "    fill: var(--fill-color);\n",
              "    height: 32px;\n",
              "    padding: 0;\n",
              "    width: 32px;\n",
              "  }\n",
              "\n",
              "  .colab-df-quickchart:hover {\n",
              "    background-color: var(--hover-bg-color);\n",
              "    box-shadow: 0 1px 2px rgba(60, 64, 67, 0.3), 0 1px 3px 1px rgba(60, 64, 67, 0.15);\n",
              "    fill: var(--button-hover-fill-color);\n",
              "  }\n",
              "\n",
              "  .colab-df-quickchart-complete:disabled,\n",
              "  .colab-df-quickchart-complete:disabled:hover {\n",
              "    background-color: var(--disabled-bg-color);\n",
              "    fill: var(--disabled-fill-color);\n",
              "    box-shadow: none;\n",
              "  }\n",
              "\n",
              "  .colab-df-spinner {\n",
              "    border: 2px solid var(--fill-color);\n",
              "    border-color: transparent;\n",
              "    border-bottom-color: var(--fill-color);\n",
              "    animation:\n",
              "      spin 1s steps(1) infinite;\n",
              "  }\n",
              "\n",
              "  @keyframes spin {\n",
              "    0% {\n",
              "      border-color: transparent;\n",
              "      border-bottom-color: var(--fill-color);\n",
              "      border-left-color: var(--fill-color);\n",
              "    }\n",
              "    20% {\n",
              "      border-color: transparent;\n",
              "      border-left-color: var(--fill-color);\n",
              "      border-top-color: var(--fill-color);\n",
              "    }\n",
              "    30% {\n",
              "      border-color: transparent;\n",
              "      border-left-color: var(--fill-color);\n",
              "      border-top-color: var(--fill-color);\n",
              "      border-right-color: var(--fill-color);\n",
              "    }\n",
              "    40% {\n",
              "      border-color: transparent;\n",
              "      border-right-color: var(--fill-color);\n",
              "      border-top-color: var(--fill-color);\n",
              "    }\n",
              "    60% {\n",
              "      border-color: transparent;\n",
              "      border-right-color: var(--fill-color);\n",
              "    }\n",
              "    80% {\n",
              "      border-color: transparent;\n",
              "      border-right-color: var(--fill-color);\n",
              "      border-bottom-color: var(--fill-color);\n",
              "    }\n",
              "    90% {\n",
              "      border-color: transparent;\n",
              "      border-bottom-color: var(--fill-color);\n",
              "    }\n",
              "  }\n",
              "</style>\n",
              "\n",
              "  <script>\n",
              "    async function quickchart(key) {\n",
              "      const quickchartButtonEl =\n",
              "        document.querySelector('#' + key + ' button');\n",
              "      quickchartButtonEl.disabled = true;  // To prevent multiple clicks.\n",
              "      quickchartButtonEl.classList.add('colab-df-spinner');\n",
              "      try {\n",
              "        const charts = await google.colab.kernel.invokeFunction(\n",
              "            'suggestCharts', [key], {});\n",
              "      } catch (error) {\n",
              "        console.error('Error during call to suggestCharts:', error);\n",
              "      }\n",
              "      quickchartButtonEl.classList.remove('colab-df-spinner');\n",
              "      quickchartButtonEl.classList.add('colab-df-quickchart-complete');\n",
              "    }\n",
              "    (() => {\n",
              "      let quickchartButtonEl =\n",
              "        document.querySelector('#df-3fc8c594-bcbd-45ed-bfe8-6787bb6e0bd5 button');\n",
              "      quickchartButtonEl.style.display =\n",
              "        google.colab.kernel.accessAllowed ? 'block' : 'none';\n",
              "    })();\n",
              "  </script>\n",
              "</div>\n",
              "    </div>\n",
              "  </div>\n"
            ]
          },
          "metadata": {},
          "execution_count": 51
        }
      ]
    }
  ]
}