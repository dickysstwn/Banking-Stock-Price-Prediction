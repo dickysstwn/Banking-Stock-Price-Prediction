{
  "nbformat": 4,
  "nbformat_minor": 0,
  "metadata": {
    "colab": {
      "provenance": []
    },
    "kernelspec": {
      "name": "python3",
      "display_name": "Python 3"
    },
    "language_info": {
      "name": "python"
    }
  },
  "cells": [
    {
      "cell_type": "markdown",
      "source": [
        "# **Stock (ARTO) Predictive Modelling**"
      ],
      "metadata": {
        "id": "KzE8pRhaC_T_"
      }
    },
    {
      "cell_type": "markdown",
      "source": [
        "## **Data Load & Understanding**"
      ],
      "metadata": {
        "id": "Ukec2hEYDHZZ"
      }
    },
    {
      "cell_type": "code",
      "execution_count": null,
      "metadata": {
        "id": "QnG8pxmUAnHP"
      },
      "outputs": [],
      "source": [
        "import os\n",
        "import pandas as pd\n",
        "import numpy as np\n",
        "import matplotlib.pyplot as plt\n",
        "import matplotlib.dates as mdates"
      ]
    },
    {
      "cell_type": "code",
      "source": [
        "# Connecting Google Drive and Google Colab\n",
        "from google.colab import drive\n",
        "drive.mount('/content/gdrive')\n",
        "\n",
        "# Retrieve the dataset\n",
        "dataset = '/content/gdrive/MyDrive/Project/Stock Prediction/Data/Cleaned Data/ARTO_Cleaned.csv'\n",
        "df = pd.read_csv(dataset)"
      ],
      "metadata": {
        "colab": {
          "base_uri": "https://localhost:8080/"
        },
        "id": "jwaY7SaFA9rj",
        "outputId": "38a898e9-3ae3-462f-d138-6d513ba0757f"
      },
      "execution_count": null,
      "outputs": [
        {
          "output_type": "stream",
          "name": "stdout",
          "text": [
            "Mounted at /content/gdrive\n"
          ]
        }
      ]
    },
    {
      "cell_type": "markdown",
      "source": [
        "The data used in the research in this code is data that has been cleaned/pre-processed, so that the existing data is ready to be used in the modeling stage."
      ],
      "metadata": {
        "id": "34lJ4P7zDjR9"
      }
    },
    {
      "cell_type": "code",
      "source": [
        "# Display the contents of the dataset as a whole\n",
        "df"
      ],
      "metadata": {
        "colab": {
          "base_uri": "https://localhost:8080/",
          "height": 424
        },
        "id": "kRMHIR2XB4RH",
        "outputId": "eccff784-9a8d-46f5-bafa-030c306f244b"
      },
      "execution_count": null,
      "outputs": [
        {
          "output_type": "execute_result",
          "data": {
            "text/plain": [
              "            Date    Open    High     Low   Close  Adj Close      Volume\n",
              "0     2018-12-31   184.0   184.0   184.0   184.0      184.0         0.0\n",
              "1     2019-01-01   184.0   184.0   184.0   184.0      184.0         0.0\n",
              "2     2019-01-02   189.0   199.0   176.0   188.0      188.0    664200.0\n",
              "3     2019-01-03   188.0   188.0   178.0   182.0      182.0    296500.0\n",
              "4     2019-01-04   182.0   187.0   180.0   183.0      183.0    409100.0\n",
              "...          ...     ...     ...     ...     ...        ...         ...\n",
              "1156  2023-12-21  2950.0  3000.0  2900.0  2970.0     2970.0  11397400.0\n",
              "1157  2023-12-22  2970.0  3080.0  2920.0  2930.0     2930.0  14809300.0\n",
              "1158  2023-12-27  2960.0  3010.0  2940.0  2970.0     2970.0   7535000.0\n",
              "1159  2023-12-28  2990.0  3010.0  2920.0  2940.0     2940.0   7909800.0\n",
              "1160  2023-12-29  2960.0  2970.0  2860.0  2900.0     2900.0   7581900.0\n",
              "\n",
              "[1161 rows x 7 columns]"
            ],
            "text/html": [
              "\n",
              "  <div id=\"df-3e6eab4c-bc07-4fdb-bebd-b5d1cbdce100\" class=\"colab-df-container\">\n",
              "    <div>\n",
              "<style scoped>\n",
              "    .dataframe tbody tr th:only-of-type {\n",
              "        vertical-align: middle;\n",
              "    }\n",
              "\n",
              "    .dataframe tbody tr th {\n",
              "        vertical-align: top;\n",
              "    }\n",
              "\n",
              "    .dataframe thead th {\n",
              "        text-align: right;\n",
              "    }\n",
              "</style>\n",
              "<table border=\"1\" class=\"dataframe\">\n",
              "  <thead>\n",
              "    <tr style=\"text-align: right;\">\n",
              "      <th></th>\n",
              "      <th>Date</th>\n",
              "      <th>Open</th>\n",
              "      <th>High</th>\n",
              "      <th>Low</th>\n",
              "      <th>Close</th>\n",
              "      <th>Adj Close</th>\n",
              "      <th>Volume</th>\n",
              "    </tr>\n",
              "  </thead>\n",
              "  <tbody>\n",
              "    <tr>\n",
              "      <th>0</th>\n",
              "      <td>2018-12-31</td>\n",
              "      <td>184.0</td>\n",
              "      <td>184.0</td>\n",
              "      <td>184.0</td>\n",
              "      <td>184.0</td>\n",
              "      <td>184.0</td>\n",
              "      <td>0.0</td>\n",
              "    </tr>\n",
              "    <tr>\n",
              "      <th>1</th>\n",
              "      <td>2019-01-01</td>\n",
              "      <td>184.0</td>\n",
              "      <td>184.0</td>\n",
              "      <td>184.0</td>\n",
              "      <td>184.0</td>\n",
              "      <td>184.0</td>\n",
              "      <td>0.0</td>\n",
              "    </tr>\n",
              "    <tr>\n",
              "      <th>2</th>\n",
              "      <td>2019-01-02</td>\n",
              "      <td>189.0</td>\n",
              "      <td>199.0</td>\n",
              "      <td>176.0</td>\n",
              "      <td>188.0</td>\n",
              "      <td>188.0</td>\n",
              "      <td>664200.0</td>\n",
              "    </tr>\n",
              "    <tr>\n",
              "      <th>3</th>\n",
              "      <td>2019-01-03</td>\n",
              "      <td>188.0</td>\n",
              "      <td>188.0</td>\n",
              "      <td>178.0</td>\n",
              "      <td>182.0</td>\n",
              "      <td>182.0</td>\n",
              "      <td>296500.0</td>\n",
              "    </tr>\n",
              "    <tr>\n",
              "      <th>4</th>\n",
              "      <td>2019-01-04</td>\n",
              "      <td>182.0</td>\n",
              "      <td>187.0</td>\n",
              "      <td>180.0</td>\n",
              "      <td>183.0</td>\n",
              "      <td>183.0</td>\n",
              "      <td>409100.0</td>\n",
              "    </tr>\n",
              "    <tr>\n",
              "      <th>...</th>\n",
              "      <td>...</td>\n",
              "      <td>...</td>\n",
              "      <td>...</td>\n",
              "      <td>...</td>\n",
              "      <td>...</td>\n",
              "      <td>...</td>\n",
              "      <td>...</td>\n",
              "    </tr>\n",
              "    <tr>\n",
              "      <th>1156</th>\n",
              "      <td>2023-12-21</td>\n",
              "      <td>2950.0</td>\n",
              "      <td>3000.0</td>\n",
              "      <td>2900.0</td>\n",
              "      <td>2970.0</td>\n",
              "      <td>2970.0</td>\n",
              "      <td>11397400.0</td>\n",
              "    </tr>\n",
              "    <tr>\n",
              "      <th>1157</th>\n",
              "      <td>2023-12-22</td>\n",
              "      <td>2970.0</td>\n",
              "      <td>3080.0</td>\n",
              "      <td>2920.0</td>\n",
              "      <td>2930.0</td>\n",
              "      <td>2930.0</td>\n",
              "      <td>14809300.0</td>\n",
              "    </tr>\n",
              "    <tr>\n",
              "      <th>1158</th>\n",
              "      <td>2023-12-27</td>\n",
              "      <td>2960.0</td>\n",
              "      <td>3010.0</td>\n",
              "      <td>2940.0</td>\n",
              "      <td>2970.0</td>\n",
              "      <td>2970.0</td>\n",
              "      <td>7535000.0</td>\n",
              "    </tr>\n",
              "    <tr>\n",
              "      <th>1159</th>\n",
              "      <td>2023-12-28</td>\n",
              "      <td>2990.0</td>\n",
              "      <td>3010.0</td>\n",
              "      <td>2920.0</td>\n",
              "      <td>2940.0</td>\n",
              "      <td>2940.0</td>\n",
              "      <td>7909800.0</td>\n",
              "    </tr>\n",
              "    <tr>\n",
              "      <th>1160</th>\n",
              "      <td>2023-12-29</td>\n",
              "      <td>2960.0</td>\n",
              "      <td>2970.0</td>\n",
              "      <td>2860.0</td>\n",
              "      <td>2900.0</td>\n",
              "      <td>2900.0</td>\n",
              "      <td>7581900.0</td>\n",
              "    </tr>\n",
              "  </tbody>\n",
              "</table>\n",
              "<p>1161 rows × 7 columns</p>\n",
              "</div>\n",
              "    <div class=\"colab-df-buttons\">\n",
              "\n",
              "  <div class=\"colab-df-container\">\n",
              "    <button class=\"colab-df-convert\" onclick=\"convertToInteractive('df-3e6eab4c-bc07-4fdb-bebd-b5d1cbdce100')\"\n",
              "            title=\"Convert this dataframe to an interactive table.\"\n",
              "            style=\"display:none;\">\n",
              "\n",
              "  <svg xmlns=\"http://www.w3.org/2000/svg\" height=\"24px\" viewBox=\"0 -960 960 960\">\n",
              "    <path d=\"M120-120v-720h720v720H120Zm60-500h600v-160H180v160Zm220 220h160v-160H400v160Zm0 220h160v-160H400v160ZM180-400h160v-160H180v160Zm440 0h160v-160H620v160ZM180-180h160v-160H180v160Zm440 0h160v-160H620v160Z\"/>\n",
              "  </svg>\n",
              "    </button>\n",
              "\n",
              "  <style>\n",
              "    .colab-df-container {\n",
              "      display:flex;\n",
              "      gap: 12px;\n",
              "    }\n",
              "\n",
              "    .colab-df-convert {\n",
              "      background-color: #E8F0FE;\n",
              "      border: none;\n",
              "      border-radius: 50%;\n",
              "      cursor: pointer;\n",
              "      display: none;\n",
              "      fill: #1967D2;\n",
              "      height: 32px;\n",
              "      padding: 0 0 0 0;\n",
              "      width: 32px;\n",
              "    }\n",
              "\n",
              "    .colab-df-convert:hover {\n",
              "      background-color: #E2EBFA;\n",
              "      box-shadow: 0px 1px 2px rgba(60, 64, 67, 0.3), 0px 1px 3px 1px rgba(60, 64, 67, 0.15);\n",
              "      fill: #174EA6;\n",
              "    }\n",
              "\n",
              "    .colab-df-buttons div {\n",
              "      margin-bottom: 4px;\n",
              "    }\n",
              "\n",
              "    [theme=dark] .colab-df-convert {\n",
              "      background-color: #3B4455;\n",
              "      fill: #D2E3FC;\n",
              "    }\n",
              "\n",
              "    [theme=dark] .colab-df-convert:hover {\n",
              "      background-color: #434B5C;\n",
              "      box-shadow: 0px 1px 3px 1px rgba(0, 0, 0, 0.15);\n",
              "      filter: drop-shadow(0px 1px 2px rgba(0, 0, 0, 0.3));\n",
              "      fill: #FFFFFF;\n",
              "    }\n",
              "  </style>\n",
              "\n",
              "    <script>\n",
              "      const buttonEl =\n",
              "        document.querySelector('#df-3e6eab4c-bc07-4fdb-bebd-b5d1cbdce100 button.colab-df-convert');\n",
              "      buttonEl.style.display =\n",
              "        google.colab.kernel.accessAllowed ? 'block' : 'none';\n",
              "\n",
              "      async function convertToInteractive(key) {\n",
              "        const element = document.querySelector('#df-3e6eab4c-bc07-4fdb-bebd-b5d1cbdce100');\n",
              "        const dataTable =\n",
              "          await google.colab.kernel.invokeFunction('convertToInteractive',\n",
              "                                                    [key], {});\n",
              "        if (!dataTable) return;\n",
              "\n",
              "        const docLinkHtml = 'Like what you see? Visit the ' +\n",
              "          '<a target=\"_blank\" href=https://colab.research.google.com/notebooks/data_table.ipynb>data table notebook</a>'\n",
              "          + ' to learn more about interactive tables.';\n",
              "        element.innerHTML = '';\n",
              "        dataTable['output_type'] = 'display_data';\n",
              "        await google.colab.output.renderOutput(dataTable, element);\n",
              "        const docLink = document.createElement('div');\n",
              "        docLink.innerHTML = docLinkHtml;\n",
              "        element.appendChild(docLink);\n",
              "      }\n",
              "    </script>\n",
              "  </div>\n",
              "\n",
              "\n",
              "<div id=\"df-f38923c1-5d11-4c7f-8cfb-f2552f5961f9\">\n",
              "  <button class=\"colab-df-quickchart\" onclick=\"quickchart('df-f38923c1-5d11-4c7f-8cfb-f2552f5961f9')\"\n",
              "            title=\"Suggest charts\"\n",
              "            style=\"display:none;\">\n",
              "\n",
              "<svg xmlns=\"http://www.w3.org/2000/svg\" height=\"24px\"viewBox=\"0 0 24 24\"\n",
              "     width=\"24px\">\n",
              "    <g>\n",
              "        <path d=\"M19 3H5c-1.1 0-2 .9-2 2v14c0 1.1.9 2 2 2h14c1.1 0 2-.9 2-2V5c0-1.1-.9-2-2-2zM9 17H7v-7h2v7zm4 0h-2V7h2v10zm4 0h-2v-4h2v4z\"/>\n",
              "    </g>\n",
              "</svg>\n",
              "  </button>\n",
              "\n",
              "<style>\n",
              "  .colab-df-quickchart {\n",
              "      --bg-color: #E8F0FE;\n",
              "      --fill-color: #1967D2;\n",
              "      --hover-bg-color: #E2EBFA;\n",
              "      --hover-fill-color: #174EA6;\n",
              "      --disabled-fill-color: #AAA;\n",
              "      --disabled-bg-color: #DDD;\n",
              "  }\n",
              "\n",
              "  [theme=dark] .colab-df-quickchart {\n",
              "      --bg-color: #3B4455;\n",
              "      --fill-color: #D2E3FC;\n",
              "      --hover-bg-color: #434B5C;\n",
              "      --hover-fill-color: #FFFFFF;\n",
              "      --disabled-bg-color: #3B4455;\n",
              "      --disabled-fill-color: #666;\n",
              "  }\n",
              "\n",
              "  .colab-df-quickchart {\n",
              "    background-color: var(--bg-color);\n",
              "    border: none;\n",
              "    border-radius: 50%;\n",
              "    cursor: pointer;\n",
              "    display: none;\n",
              "    fill: var(--fill-color);\n",
              "    height: 32px;\n",
              "    padding: 0;\n",
              "    width: 32px;\n",
              "  }\n",
              "\n",
              "  .colab-df-quickchart:hover {\n",
              "    background-color: var(--hover-bg-color);\n",
              "    box-shadow: 0 1px 2px rgba(60, 64, 67, 0.3), 0 1px 3px 1px rgba(60, 64, 67, 0.15);\n",
              "    fill: var(--button-hover-fill-color);\n",
              "  }\n",
              "\n",
              "  .colab-df-quickchart-complete:disabled,\n",
              "  .colab-df-quickchart-complete:disabled:hover {\n",
              "    background-color: var(--disabled-bg-color);\n",
              "    fill: var(--disabled-fill-color);\n",
              "    box-shadow: none;\n",
              "  }\n",
              "\n",
              "  .colab-df-spinner {\n",
              "    border: 2px solid var(--fill-color);\n",
              "    border-color: transparent;\n",
              "    border-bottom-color: var(--fill-color);\n",
              "    animation:\n",
              "      spin 1s steps(1) infinite;\n",
              "  }\n",
              "\n",
              "  @keyframes spin {\n",
              "    0% {\n",
              "      border-color: transparent;\n",
              "      border-bottom-color: var(--fill-color);\n",
              "      border-left-color: var(--fill-color);\n",
              "    }\n",
              "    20% {\n",
              "      border-color: transparent;\n",
              "      border-left-color: var(--fill-color);\n",
              "      border-top-color: var(--fill-color);\n",
              "    }\n",
              "    30% {\n",
              "      border-color: transparent;\n",
              "      border-left-color: var(--fill-color);\n",
              "      border-top-color: var(--fill-color);\n",
              "      border-right-color: var(--fill-color);\n",
              "    }\n",
              "    40% {\n",
              "      border-color: transparent;\n",
              "      border-right-color: var(--fill-color);\n",
              "      border-top-color: var(--fill-color);\n",
              "    }\n",
              "    60% {\n",
              "      border-color: transparent;\n",
              "      border-right-color: var(--fill-color);\n",
              "    }\n",
              "    80% {\n",
              "      border-color: transparent;\n",
              "      border-right-color: var(--fill-color);\n",
              "      border-bottom-color: var(--fill-color);\n",
              "    }\n",
              "    90% {\n",
              "      border-color: transparent;\n",
              "      border-bottom-color: var(--fill-color);\n",
              "    }\n",
              "  }\n",
              "</style>\n",
              "\n",
              "  <script>\n",
              "    async function quickchart(key) {\n",
              "      const quickchartButtonEl =\n",
              "        document.querySelector('#' + key + ' button');\n",
              "      quickchartButtonEl.disabled = true;  // To prevent multiple clicks.\n",
              "      quickchartButtonEl.classList.add('colab-df-spinner');\n",
              "      try {\n",
              "        const charts = await google.colab.kernel.invokeFunction(\n",
              "            'suggestCharts', [key], {});\n",
              "      } catch (error) {\n",
              "        console.error('Error during call to suggestCharts:', error);\n",
              "      }\n",
              "      quickchartButtonEl.classList.remove('colab-df-spinner');\n",
              "      quickchartButtonEl.classList.add('colab-df-quickchart-complete');\n",
              "    }\n",
              "    (() => {\n",
              "      let quickchartButtonEl =\n",
              "        document.querySelector('#df-f38923c1-5d11-4c7f-8cfb-f2552f5961f9 button');\n",
              "      quickchartButtonEl.style.display =\n",
              "        google.colab.kernel.accessAllowed ? 'block' : 'none';\n",
              "    })();\n",
              "  </script>\n",
              "</div>\n",
              "    </div>\n",
              "  </div>\n"
            ]
          },
          "metadata": {},
          "execution_count": 3
        }
      ]
    },
    {
      "cell_type": "code",
      "source": [
        "# Checking the data type\n",
        "df.info()"
      ],
      "metadata": {
        "colab": {
          "base_uri": "https://localhost:8080/"
        },
        "id": "i2zHdTLdC8gB",
        "outputId": "cca96626-90bf-479e-e3d4-d463a2ea800c"
      },
      "execution_count": null,
      "outputs": [
        {
          "output_type": "stream",
          "name": "stdout",
          "text": [
            "<class 'pandas.core.frame.DataFrame'>\n",
            "RangeIndex: 1161 entries, 0 to 1160\n",
            "Data columns (total 7 columns):\n",
            " #   Column     Non-Null Count  Dtype  \n",
            "---  ------     --------------  -----  \n",
            " 0   Date       1161 non-null   object \n",
            " 1   Open       1161 non-null   float64\n",
            " 2   High       1161 non-null   float64\n",
            " 3   Low        1161 non-null   float64\n",
            " 4   Close      1161 non-null   float64\n",
            " 5   Adj Close  1161 non-null   float64\n",
            " 6   Volume     1161 non-null   float64\n",
            "dtypes: float64(6), object(1)\n",
            "memory usage: 63.6+ KB\n"
          ]
        }
      ]
    },
    {
      "cell_type": "code",
      "source": [
        "# Check the number of columns and rows in the data\n",
        "df.shape"
      ],
      "metadata": {
        "colab": {
          "base_uri": "https://localhost:8080/"
        },
        "id": "TBlx0iUtDPeb",
        "outputId": "873a8e82-c4eb-45cf-d812-efb74b8c1317"
      },
      "execution_count": null,
      "outputs": [
        {
          "output_type": "execute_result",
          "data": {
            "text/plain": [
              "(1161, 7)"
            ]
          },
          "metadata": {},
          "execution_count": 5
        }
      ]
    },
    {
      "cell_type": "code",
      "source": [
        "# Shows a description of the data\n",
        "df.describe()"
      ],
      "metadata": {
        "colab": {
          "base_uri": "https://localhost:8080/",
          "height": 300
        },
        "id": "wYrRToYvDc7g",
        "outputId": "dff52e39-1654-4d57-9a1f-4453493c4816"
      },
      "execution_count": null,
      "outputs": [
        {
          "output_type": "execute_result",
          "data": {
            "text/plain": [
              "               Open          High           Low         Close     Adj Close  \\\n",
              "count   1161.000000   1161.000000   1161.000000   1161.000000   1161.000000   \n",
              "mean    5430.102701   5564.801344   5285.336491   5413.831000   5413.831000   \n",
              "std     5268.099801   5378.661258   5128.797708   5250.811871   5250.811871   \n",
              "min      132.000000    147.000000    130.000000    145.000000    145.000000   \n",
              "25%     2010.000000   2080.000000   1935.000000   2010.000000   2010.000000   \n",
              "50%     2970.000000   3050.000000   2900.000000   2960.000000   2960.000000   \n",
              "75%     9250.000000   9550.000000   9000.000000   9205.544922   9205.544922   \n",
              "max    18950.000000  19150.000000  18650.000000  18950.000000  18950.000000   \n",
              "\n",
              "             Volume  \n",
              "count  1.161000e+03  \n",
              "mean   1.064272e+07  \n",
              "std    1.196015e+07  \n",
              "min    0.000000e+00  \n",
              "25%    6.710000e+04  \n",
              "50%    7.028800e+06  \n",
              "75%    1.873630e+07  \n",
              "max    4.632670e+07  "
            ],
            "text/html": [
              "\n",
              "  <div id=\"df-92436ecc-4d22-4d60-86fb-9d19a2cb3ec9\" class=\"colab-df-container\">\n",
              "    <div>\n",
              "<style scoped>\n",
              "    .dataframe tbody tr th:only-of-type {\n",
              "        vertical-align: middle;\n",
              "    }\n",
              "\n",
              "    .dataframe tbody tr th {\n",
              "        vertical-align: top;\n",
              "    }\n",
              "\n",
              "    .dataframe thead th {\n",
              "        text-align: right;\n",
              "    }\n",
              "</style>\n",
              "<table border=\"1\" class=\"dataframe\">\n",
              "  <thead>\n",
              "    <tr style=\"text-align: right;\">\n",
              "      <th></th>\n",
              "      <th>Open</th>\n",
              "      <th>High</th>\n",
              "      <th>Low</th>\n",
              "      <th>Close</th>\n",
              "      <th>Adj Close</th>\n",
              "      <th>Volume</th>\n",
              "    </tr>\n",
              "  </thead>\n",
              "  <tbody>\n",
              "    <tr>\n",
              "      <th>count</th>\n",
              "      <td>1161.000000</td>\n",
              "      <td>1161.000000</td>\n",
              "      <td>1161.000000</td>\n",
              "      <td>1161.000000</td>\n",
              "      <td>1161.000000</td>\n",
              "      <td>1.161000e+03</td>\n",
              "    </tr>\n",
              "    <tr>\n",
              "      <th>mean</th>\n",
              "      <td>5430.102701</td>\n",
              "      <td>5564.801344</td>\n",
              "      <td>5285.336491</td>\n",
              "      <td>5413.831000</td>\n",
              "      <td>5413.831000</td>\n",
              "      <td>1.064272e+07</td>\n",
              "    </tr>\n",
              "    <tr>\n",
              "      <th>std</th>\n",
              "      <td>5268.099801</td>\n",
              "      <td>5378.661258</td>\n",
              "      <td>5128.797708</td>\n",
              "      <td>5250.811871</td>\n",
              "      <td>5250.811871</td>\n",
              "      <td>1.196015e+07</td>\n",
              "    </tr>\n",
              "    <tr>\n",
              "      <th>min</th>\n",
              "      <td>132.000000</td>\n",
              "      <td>147.000000</td>\n",
              "      <td>130.000000</td>\n",
              "      <td>145.000000</td>\n",
              "      <td>145.000000</td>\n",
              "      <td>0.000000e+00</td>\n",
              "    </tr>\n",
              "    <tr>\n",
              "      <th>25%</th>\n",
              "      <td>2010.000000</td>\n",
              "      <td>2080.000000</td>\n",
              "      <td>1935.000000</td>\n",
              "      <td>2010.000000</td>\n",
              "      <td>2010.000000</td>\n",
              "      <td>6.710000e+04</td>\n",
              "    </tr>\n",
              "    <tr>\n",
              "      <th>50%</th>\n",
              "      <td>2970.000000</td>\n",
              "      <td>3050.000000</td>\n",
              "      <td>2900.000000</td>\n",
              "      <td>2960.000000</td>\n",
              "      <td>2960.000000</td>\n",
              "      <td>7.028800e+06</td>\n",
              "    </tr>\n",
              "    <tr>\n",
              "      <th>75%</th>\n",
              "      <td>9250.000000</td>\n",
              "      <td>9550.000000</td>\n",
              "      <td>9000.000000</td>\n",
              "      <td>9205.544922</td>\n",
              "      <td>9205.544922</td>\n",
              "      <td>1.873630e+07</td>\n",
              "    </tr>\n",
              "    <tr>\n",
              "      <th>max</th>\n",
              "      <td>18950.000000</td>\n",
              "      <td>19150.000000</td>\n",
              "      <td>18650.000000</td>\n",
              "      <td>18950.000000</td>\n",
              "      <td>18950.000000</td>\n",
              "      <td>4.632670e+07</td>\n",
              "    </tr>\n",
              "  </tbody>\n",
              "</table>\n",
              "</div>\n",
              "    <div class=\"colab-df-buttons\">\n",
              "\n",
              "  <div class=\"colab-df-container\">\n",
              "    <button class=\"colab-df-convert\" onclick=\"convertToInteractive('df-92436ecc-4d22-4d60-86fb-9d19a2cb3ec9')\"\n",
              "            title=\"Convert this dataframe to an interactive table.\"\n",
              "            style=\"display:none;\">\n",
              "\n",
              "  <svg xmlns=\"http://www.w3.org/2000/svg\" height=\"24px\" viewBox=\"0 -960 960 960\">\n",
              "    <path d=\"M120-120v-720h720v720H120Zm60-500h600v-160H180v160Zm220 220h160v-160H400v160Zm0 220h160v-160H400v160ZM180-400h160v-160H180v160Zm440 0h160v-160H620v160ZM180-180h160v-160H180v160Zm440 0h160v-160H620v160Z\"/>\n",
              "  </svg>\n",
              "    </button>\n",
              "\n",
              "  <style>\n",
              "    .colab-df-container {\n",
              "      display:flex;\n",
              "      gap: 12px;\n",
              "    }\n",
              "\n",
              "    .colab-df-convert {\n",
              "      background-color: #E8F0FE;\n",
              "      border: none;\n",
              "      border-radius: 50%;\n",
              "      cursor: pointer;\n",
              "      display: none;\n",
              "      fill: #1967D2;\n",
              "      height: 32px;\n",
              "      padding: 0 0 0 0;\n",
              "      width: 32px;\n",
              "    }\n",
              "\n",
              "    .colab-df-convert:hover {\n",
              "      background-color: #E2EBFA;\n",
              "      box-shadow: 0px 1px 2px rgba(60, 64, 67, 0.3), 0px 1px 3px 1px rgba(60, 64, 67, 0.15);\n",
              "      fill: #174EA6;\n",
              "    }\n",
              "\n",
              "    .colab-df-buttons div {\n",
              "      margin-bottom: 4px;\n",
              "    }\n",
              "\n",
              "    [theme=dark] .colab-df-convert {\n",
              "      background-color: #3B4455;\n",
              "      fill: #D2E3FC;\n",
              "    }\n",
              "\n",
              "    [theme=dark] .colab-df-convert:hover {\n",
              "      background-color: #434B5C;\n",
              "      box-shadow: 0px 1px 3px 1px rgba(0, 0, 0, 0.15);\n",
              "      filter: drop-shadow(0px 1px 2px rgba(0, 0, 0, 0.3));\n",
              "      fill: #FFFFFF;\n",
              "    }\n",
              "  </style>\n",
              "\n",
              "    <script>\n",
              "      const buttonEl =\n",
              "        document.querySelector('#df-92436ecc-4d22-4d60-86fb-9d19a2cb3ec9 button.colab-df-convert');\n",
              "      buttonEl.style.display =\n",
              "        google.colab.kernel.accessAllowed ? 'block' : 'none';\n",
              "\n",
              "      async function convertToInteractive(key) {\n",
              "        const element = document.querySelector('#df-92436ecc-4d22-4d60-86fb-9d19a2cb3ec9');\n",
              "        const dataTable =\n",
              "          await google.colab.kernel.invokeFunction('convertToInteractive',\n",
              "                                                    [key], {});\n",
              "        if (!dataTable) return;\n",
              "\n",
              "        const docLinkHtml = 'Like what you see? Visit the ' +\n",
              "          '<a target=\"_blank\" href=https://colab.research.google.com/notebooks/data_table.ipynb>data table notebook</a>'\n",
              "          + ' to learn more about interactive tables.';\n",
              "        element.innerHTML = '';\n",
              "        dataTable['output_type'] = 'display_data';\n",
              "        await google.colab.output.renderOutput(dataTable, element);\n",
              "        const docLink = document.createElement('div');\n",
              "        docLink.innerHTML = docLinkHtml;\n",
              "        element.appendChild(docLink);\n",
              "      }\n",
              "    </script>\n",
              "  </div>\n",
              "\n",
              "\n",
              "<div id=\"df-e67580e8-638a-4ab9-a6f7-ddc233cc07fe\">\n",
              "  <button class=\"colab-df-quickchart\" onclick=\"quickchart('df-e67580e8-638a-4ab9-a6f7-ddc233cc07fe')\"\n",
              "            title=\"Suggest charts\"\n",
              "            style=\"display:none;\">\n",
              "\n",
              "<svg xmlns=\"http://www.w3.org/2000/svg\" height=\"24px\"viewBox=\"0 0 24 24\"\n",
              "     width=\"24px\">\n",
              "    <g>\n",
              "        <path d=\"M19 3H5c-1.1 0-2 .9-2 2v14c0 1.1.9 2 2 2h14c1.1 0 2-.9 2-2V5c0-1.1-.9-2-2-2zM9 17H7v-7h2v7zm4 0h-2V7h2v10zm4 0h-2v-4h2v4z\"/>\n",
              "    </g>\n",
              "</svg>\n",
              "  </button>\n",
              "\n",
              "<style>\n",
              "  .colab-df-quickchart {\n",
              "      --bg-color: #E8F0FE;\n",
              "      --fill-color: #1967D2;\n",
              "      --hover-bg-color: #E2EBFA;\n",
              "      --hover-fill-color: #174EA6;\n",
              "      --disabled-fill-color: #AAA;\n",
              "      --disabled-bg-color: #DDD;\n",
              "  }\n",
              "\n",
              "  [theme=dark] .colab-df-quickchart {\n",
              "      --bg-color: #3B4455;\n",
              "      --fill-color: #D2E3FC;\n",
              "      --hover-bg-color: #434B5C;\n",
              "      --hover-fill-color: #FFFFFF;\n",
              "      --disabled-bg-color: #3B4455;\n",
              "      --disabled-fill-color: #666;\n",
              "  }\n",
              "\n",
              "  .colab-df-quickchart {\n",
              "    background-color: var(--bg-color);\n",
              "    border: none;\n",
              "    border-radius: 50%;\n",
              "    cursor: pointer;\n",
              "    display: none;\n",
              "    fill: var(--fill-color);\n",
              "    height: 32px;\n",
              "    padding: 0;\n",
              "    width: 32px;\n",
              "  }\n",
              "\n",
              "  .colab-df-quickchart:hover {\n",
              "    background-color: var(--hover-bg-color);\n",
              "    box-shadow: 0 1px 2px rgba(60, 64, 67, 0.3), 0 1px 3px 1px rgba(60, 64, 67, 0.15);\n",
              "    fill: var(--button-hover-fill-color);\n",
              "  }\n",
              "\n",
              "  .colab-df-quickchart-complete:disabled,\n",
              "  .colab-df-quickchart-complete:disabled:hover {\n",
              "    background-color: var(--disabled-bg-color);\n",
              "    fill: var(--disabled-fill-color);\n",
              "    box-shadow: none;\n",
              "  }\n",
              "\n",
              "  .colab-df-spinner {\n",
              "    border: 2px solid var(--fill-color);\n",
              "    border-color: transparent;\n",
              "    border-bottom-color: var(--fill-color);\n",
              "    animation:\n",
              "      spin 1s steps(1) infinite;\n",
              "  }\n",
              "\n",
              "  @keyframes spin {\n",
              "    0% {\n",
              "      border-color: transparent;\n",
              "      border-bottom-color: var(--fill-color);\n",
              "      border-left-color: var(--fill-color);\n",
              "    }\n",
              "    20% {\n",
              "      border-color: transparent;\n",
              "      border-left-color: var(--fill-color);\n",
              "      border-top-color: var(--fill-color);\n",
              "    }\n",
              "    30% {\n",
              "      border-color: transparent;\n",
              "      border-left-color: var(--fill-color);\n",
              "      border-top-color: var(--fill-color);\n",
              "      border-right-color: var(--fill-color);\n",
              "    }\n",
              "    40% {\n",
              "      border-color: transparent;\n",
              "      border-right-color: var(--fill-color);\n",
              "      border-top-color: var(--fill-color);\n",
              "    }\n",
              "    60% {\n",
              "      border-color: transparent;\n",
              "      border-right-color: var(--fill-color);\n",
              "    }\n",
              "    80% {\n",
              "      border-color: transparent;\n",
              "      border-right-color: var(--fill-color);\n",
              "      border-bottom-color: var(--fill-color);\n",
              "    }\n",
              "    90% {\n",
              "      border-color: transparent;\n",
              "      border-bottom-color: var(--fill-color);\n",
              "    }\n",
              "  }\n",
              "</style>\n",
              "\n",
              "  <script>\n",
              "    async function quickchart(key) {\n",
              "      const quickchartButtonEl =\n",
              "        document.querySelector('#' + key + ' button');\n",
              "      quickchartButtonEl.disabled = true;  // To prevent multiple clicks.\n",
              "      quickchartButtonEl.classList.add('colab-df-spinner');\n",
              "      try {\n",
              "        const charts = await google.colab.kernel.invokeFunction(\n",
              "            'suggestCharts', [key], {});\n",
              "      } catch (error) {\n",
              "        console.error('Error during call to suggestCharts:', error);\n",
              "      }\n",
              "      quickchartButtonEl.classList.remove('colab-df-spinner');\n",
              "      quickchartButtonEl.classList.add('colab-df-quickchart-complete');\n",
              "    }\n",
              "    (() => {\n",
              "      let quickchartButtonEl =\n",
              "        document.querySelector('#df-e67580e8-638a-4ab9-a6f7-ddc233cc07fe button');\n",
              "      quickchartButtonEl.style.display =\n",
              "        google.colab.kernel.accessAllowed ? 'block' : 'none';\n",
              "    })();\n",
              "  </script>\n",
              "</div>\n",
              "    </div>\n",
              "  </div>\n"
            ]
          },
          "metadata": {},
          "execution_count": 6
        }
      ]
    },
    {
      "cell_type": "code",
      "source": [
        "# Visualize the actual price of the 'Close' attribute by time\n",
        "\n",
        "# Make sure the 'Date' column is in datetime format\n",
        "df['Date'] = pd.to_datetime(df['Date'])\n",
        "\n",
        "plt.figure(figsize=(8, 6))\n",
        "plt.plot(df['Date'], df['Close'], linestyle='-', color='blue')\n",
        "\n",
        "# Label the x and y axes\n",
        "plt.xlabel('Year')\n",
        "plt.ylabel('Close Price')\n",
        "\n",
        "# Format the x-axis to display only the year\n",
        "plt.gca().xaxis.set_major_formatter(mdates.DateFormatter('%Y'))\n",
        "plt.gca().xaxis.set_major_locator(mdates.YearLocator())\n",
        "\n",
        "# Chart title\n",
        "plt.title('Close Price over Time')\n",
        "\n",
        "# Display the chart\n",
        "plt.grid(True)\n",
        "plt.tight_layout()\n",
        "plt.show()"
      ],
      "metadata": {
        "colab": {
          "base_uri": "https://localhost:8080/",
          "height": 607
        },
        "id": "EtzRVWWyGQ4G",
        "outputId": "9980d37b-b850-4ec1-e33f-ce743b3b547a"
      },
      "execution_count": null,
      "outputs": [
        {
          "output_type": "display_data",
          "data": {
            "text/plain": [
              "<Figure size 800x600 with 1 Axes>"
            ],
            "image/png": "[encoded data removed]"
          },
          "metadata": {}
        }
      ]
    },
    {
      "cell_type": "markdown",
      "source": [
        "The visualization is the closing price (close) of JKSE which has been summarized and later predictions will be made to determine the value with several models that will be tried."
      ],
      "metadata": {
        "id": "0CD6JaPbHOa_"
      }
    },
    {
      "cell_type": "markdown",
      "source": [
        "## **Data Pre-Processing**"
      ],
      "metadata": {
        "id": "6o523dMCQf8g"
      }
    },
    {
      "cell_type": "code",
      "source": [
        "from sklearn.preprocessing import MinMaxScaler\n",
        "from sklearn.model_selection import train_test_split"
      ],
      "metadata": {
        "id": "K9A-broiQiir"
      },
      "execution_count": null,
      "outputs": []
    },
    {
      "cell_type": "markdown",
      "source": [
        "### **Data Splitting**"
      ],
      "metadata": {
        "id": "YxBFAEh7RCMO"
      }
    },
    {
      "cell_type": "code",
      "source": [
        "training_set = df.iloc[:, 4:5].values #creates a numpy array training_set"
      ],
      "metadata": {
        "id": "DQ-9w2hoA1-r"
      },
      "execution_count": null,
      "outputs": []
    },
    {
      "cell_type": "code",
      "source": [
        "training_set.dtype"
      ],
      "metadata": {
        "colab": {
          "base_uri": "https://localhost:8080/"
        },
        "id": "I67zgS3uA_cl",
        "outputId": "25e3bebf-a15a-4e22-88e7-c560e5af7e82"
      },
      "execution_count": null,
      "outputs": [
        {
          "output_type": "execute_result",
          "data": {
            "text/plain": [
              "dtype('float64')"
            ]
          },
          "metadata": {},
          "execution_count": 10
        }
      ]
    },
    {
      "cell_type": "code",
      "source": [
        "training_set"
      ],
      "metadata": {
        "colab": {
          "base_uri": "https://localhost:8080/"
        },
        "id": "6sgKWNgwBQn9",
        "outputId": "54562e1c-8b7a-4d65-ae0e-48626f137491"
      },
      "execution_count": null,
      "outputs": [
        {
          "output_type": "execute_result",
          "data": {
            "text/plain": [
              "array([[ 184.],\n",
              "       [ 184.],\n",
              "       [ 188.],\n",
              "       ...,\n",
              "       [2970.],\n",
              "       [2940.],\n",
              "       [2900.]])"
            ]
          },
          "metadata": {},
          "execution_count": 11
        }
      ]
    },
    {
      "cell_type": "code",
      "source": [
        "training_set.shape"
      ],
      "metadata": {
        "colab": {
          "base_uri": "https://localhost:8080/"
        },
        "id": "vTLTluhTFzHE",
        "outputId": "b234bbc9-9983-4efc-a739-f186ef40be07"
      },
      "execution_count": null,
      "outputs": [
        {
          "output_type": "execute_result",
          "data": {
            "text/plain": [
              "(1161, 1)"
            ]
          },
          "metadata": {},
          "execution_count": 12
        }
      ]
    },
    {
      "cell_type": "markdown",
      "source": [
        "### **Normalization (Feature Scaling)**"
      ],
      "metadata": {
        "id": "MVw-2b-BRFJC"
      }
    },
    {
      "cell_type": "code",
      "source": [
        "sc = MinMaxScaler()\n",
        "training_set_scaled = sc.fit_transform(training_set)"
      ],
      "metadata": {
        "id": "PINtltcoBeh_"
      },
      "execution_count": null,
      "outputs": []
    },
    {
      "cell_type": "code",
      "source": [
        "training_set_scaled"
      ],
      "metadata": {
        "colab": {
          "base_uri": "https://localhost:8080/"
        },
        "id": "TA12omBIBhhb",
        "outputId": "453dcdec-a73e-4083-e46d-d5c81459a69b"
      },
      "execution_count": null,
      "outputs": [
        {
          "output_type": "execute_result",
          "data": {
            "text/plain": [
              "array([[0.00207392],\n",
              "       [0.00207392],\n",
              "       [0.00228663],\n",
              "       ...,\n",
              "       [0.150226  ],\n",
              "       [0.14863068],\n",
              "       [0.14650359]])"
            ]
          },
          "metadata": {},
          "execution_count": 14
        }
      ]
    },
    {
      "cell_type": "code",
      "source": [
        "training_set_scaled.shape"
      ],
      "metadata": {
        "colab": {
          "base_uri": "https://localhost:8080/"
        },
        "id": "dUVfc2raHIIH",
        "outputId": "8f0255f1-2cf5-4b30-e6b1-92a46203aee8"
      },
      "execution_count": null,
      "outputs": [
        {
          "output_type": "execute_result",
          "data": {
            "text/plain": [
              "(1161, 1)"
            ]
          },
          "metadata": {},
          "execution_count": 15
        }
      ]
    },
    {
      "cell_type": "markdown",
      "source": [
        "### **Creating Data Structure**"
      ],
      "metadata": {
        "id": "TVaHKF8NRZA8"
      }
    },
    {
      "cell_type": "code",
      "source": [
        "X_train = training_set_scaled\n",
        "Y_train = training_set_scaled\n",
        "\n",
        "# Turning lists into Numpy arrays\n",
        "X_train, Y_train = np.array(X_train), np.array(Y_train)"
      ],
      "metadata": {
        "id": "IIlDGjizBrJ8"
      },
      "execution_count": null,
      "outputs": []
    },
    {
      "cell_type": "code",
      "source": [
        "X_train"
      ],
      "metadata": {
        "colab": {
          "base_uri": "https://localhost:8080/"
        },
        "id": "-u7FqJAtBxXo",
        "outputId": "a468ee6f-2332-447c-d51e-401a147f7fe6"
      },
      "execution_count": null,
      "outputs": [
        {
          "output_type": "execute_result",
          "data": {
            "text/plain": [
              "array([[0.00207392],\n",
              "       [0.00207392],\n",
              "       [0.00228663],\n",
              "       ...,\n",
              "       [0.150226  ],\n",
              "       [0.14863068],\n",
              "       [0.14650359]])"
            ]
          },
          "metadata": {},
          "execution_count": 17
        }
      ]
    },
    {
      "cell_type": "code",
      "source": [
        "X_train.shape"
      ],
      "metadata": {
        "colab": {
          "base_uri": "https://localhost:8080/"
        },
        "id": "bHGsDLmHCSf4",
        "outputId": "ee9c3b66-3379-401b-95ef-5f0085d57e1c"
      },
      "execution_count": null,
      "outputs": [
        {
          "output_type": "execute_result",
          "data": {
            "text/plain": [
              "(1161, 1)"
            ]
          },
          "metadata": {},
          "execution_count": 18
        }
      ]
    },
    {
      "cell_type": "markdown",
      "source": [
        "### **Reshaping**"
      ],
      "metadata": {
        "id": "V1oLRY_cRlj2"
      }
    },
    {
      "cell_type": "code",
      "source": [
        "X_train = np.reshape(X_train,(X_train.shape[0],X_train.shape[1],1))"
      ],
      "metadata": {
        "id": "exTjyC0yCYUr"
      },
      "execution_count": null,
      "outputs": []
    },
    {
      "cell_type": "code",
      "source": [
        "X_train"
      ],
      "metadata": {
        "colab": {
          "base_uri": "https://localhost:8080/"
        },
        "id": "Yv1dMbE6CbSX",
        "outputId": "2d88be1e-02fe-4e03-ed93-eb2f3be4d26d"
      },
      "execution_count": null,
      "outputs": [
        {
          "output_type": "execute_result",
          "data": {
            "text/plain": [
              "array([[[0.00207392]],\n",
              "\n",
              "       [[0.00207392]],\n",
              "\n",
              "       [[0.00228663]],\n",
              "\n",
              "       ...,\n",
              "\n",
              "       [[0.150226  ]],\n",
              "\n",
              "       [[0.14863068]],\n",
              "\n",
              "       [[0.14650359]]])"
            ]
          },
          "metadata": {},
          "execution_count": 20
        }
      ]
    },
    {
      "cell_type": "markdown",
      "source": [
        "## **Modelling & Evaluation**"
      ],
      "metadata": {
        "id": "RG686OFOTOn8"
      }
    },
    {
      "cell_type": "markdown",
      "source": [
        "### **Long Short-Term Memory (LSTM)**"
      ],
      "metadata": {
        "id": "euJYOpKYTWDl"
      }
    },
    {
      "cell_type": "code",
      "source": [
        "from keras.models import Sequential\n",
        "from keras.layers import Dense\n",
        "from keras.layers import LSTM\n",
        "from keras.layers import Dropout"
      ],
      "metadata": {
        "id": "lyiyijJ5CisG"
      },
      "execution_count": null,
      "outputs": []
    },
    {
      "cell_type": "markdown",
      "source": [
        "#### **Building LSTM Architecture**"
      ],
      "metadata": {
        "id": "Ix7teyYkTiDS"
      }
    },
    {
      "cell_type": "code",
      "source": [
        "# Creating a LSTM model\n",
        "lstm_model = Sequential()\n",
        "\n",
        "# Adding a LSTM layer\n",
        "lstm_model.add(LSTM(units = 64, return_sequences = True, input_shape = (X_train.shape[1],1)))\n",
        "lstm_model.add(Dropout(0.25))\n",
        "lstm_model.add(LSTM(units = 64, return_sequences = True))\n",
        "lstm_model.add(Dropout(0.25))\n",
        "lstm_model.add(LSTM(units = 64, return_sequences = True))\n",
        "lstm_model.add(Dropout(0.25))\n",
        "lstm_model.add(LSTM(units = 64, return_sequences = False))\n",
        "lstm_model.add(Dropout(0.25))\n",
        "lstm_model.add(Dense(units= 1))\n",
        "\n",
        "# Compile the LSTM model\n",
        "lstm_model.compile(optimizer = 'adam', loss = 'mean_squared_error')"
      ],
      "metadata": {
        "id": "fx3AyResCmuo"
      },
      "execution_count": null,
      "outputs": []
    },
    {
      "cell_type": "markdown",
      "source": [
        "#### **Training LSTM Model**"
      ],
      "metadata": {
        "id": "t-0Lxt6eUMPX"
      }
    },
    {
      "cell_type": "code",
      "source": [
        "# Train the LSTM model\n",
        "lstm_model.fit(X_train,Y_train, epochs = 100, batch_size = 32)"
      ],
      "metadata": {
        "colab": {
          "base_uri": "https://localhost:8080/"
        },
        "id": "-S9-G13pCwho",
        "outputId": "5dbfcde0-0453-4dd4-c8fd-dfdb6d3713a9"
      },
      "execution_count": null,
      "outputs": [
        {
          "output_type": "stream",
          "name": "stdout",
          "text": [
            "Epoch 1/100\n",
            "37/37 [==============================] - 9s 7ms/step - loss: 0.1123\n",
            "Epoch 2/100\n",
            "37/37 [==============================] - 0s 8ms/step - loss: 0.0443\n",
            "Epoch 3/100\n",
            "37/37 [==============================] - 0s 8ms/step - loss: 0.0074\n",
            "Epoch 4/100\n",
            "37/37 [==============================] - 0s 8ms/step - loss: 0.0046\n",
            "Epoch 5/100\n",
            "37/37 [==============================] - 0s 8ms/step - loss: 0.0037\n",
            "Epoch 6/100\n",
            "37/37 [==============================] - 0s 8ms/step - loss: 0.0037\n",
            "Epoch 7/100\n",
            "37/37 [==============================] - 0s 8ms/step - loss: 0.0029\n",
            "Epoch 8/100\n",
            "37/37 [==============================] - 0s 8ms/step - loss: 0.0037\n",
            "Epoch 9/100\n",
            "37/37 [==============================] - 0s 8ms/step - loss: 0.0025\n",
            "Epoch 10/100\n",
            "37/37 [==============================] - 0s 8ms/step - loss: 0.0025\n",
            "Epoch 11/100\n",
            "37/37 [==============================] - 0s 8ms/step - loss: 0.0025\n",
            "Epoch 12/100\n",
            "37/37 [==============================] - 0s 8ms/step - loss: 0.0023\n",
            "Epoch 13/100\n",
            "37/37 [==============================] - 0s 8ms/step - loss: 0.0021\n",
            "Epoch 14/100\n",
            "37/37 [==============================] - 0s 8ms/step - loss: 0.0020\n",
            "Epoch 15/100\n",
            "37/37 [==============================] - 0s 8ms/step - loss: 0.0024\n",
            "Epoch 16/100\n",
            "37/37 [==============================] - 0s 8ms/step - loss: 0.0022\n",
            "Epoch 17/100\n",
            "37/37 [==============================] - 0s 8ms/step - loss: 0.0018\n",
            "Epoch 18/100\n",
            "37/37 [==============================] - 0s 8ms/step - loss: 0.0020\n",
            "Epoch 19/100\n",
            "37/37 [==============================] - 0s 8ms/step - loss: 0.0021\n",
            "Epoch 20/100\n",
            "37/37 [==============================] - 0s 12ms/step - loss: 0.0019\n",
            "Epoch 21/100\n",
            "37/37 [==============================] - 0s 11ms/step - loss: 0.0019\n",
            "Epoch 22/100\n",
            "37/37 [==============================] - 0s 11ms/step - loss: 0.0018\n",
            "Epoch 23/100\n",
            "37/37 [==============================] - 0s 11ms/step - loss: 0.0019\n",
            "Epoch 24/100\n",
            "37/37 [==============================] - 0s 11ms/step - loss: 0.0018\n",
            "Epoch 25/100\n",
            "37/37 [==============================] - 0s 11ms/step - loss: 0.0019\n",
            "Epoch 26/100\n",
            "37/37 [==============================] - 0s 11ms/step - loss: 0.0019\n",
            "Epoch 27/100\n",
            "37/37 [==============================] - 0s 11ms/step - loss: 0.0015\n",
            "Epoch 28/100\n",
            "37/37 [==============================] - 0s 11ms/step - loss: 0.0017\n",
            "Epoch 29/100\n",
            "37/37 [==============================] - 0s 12ms/step - loss: 0.0018\n",
            "Epoch 30/100\n",
            "37/37 [==============================] - 0s 11ms/step - loss: 0.0019\n",
            "Epoch 31/100\n",
            "37/37 [==============================] - 0s 11ms/step - loss: 0.0017\n",
            "Epoch 32/100\n",
            "37/37 [==============================] - 0s 11ms/step - loss: 0.0015\n",
            "Epoch 33/100\n",
            "37/37 [==============================] - 0s 11ms/step - loss: 0.0017\n",
            "Epoch 34/100\n",
            "37/37 [==============================] - 0s 10ms/step - loss: 0.0018\n",
            "Epoch 35/100\n",
            "37/37 [==============================] - 0s 8ms/step - loss: 0.0016\n",
            "Epoch 36/100\n",
            "37/37 [==============================] - 0s 8ms/step - loss: 0.0017\n",
            "Epoch 37/100\n",
            "37/37 [==============================] - 0s 8ms/step - loss: 0.0017\n",
            "Epoch 38/100\n",
            "37/37 [==============================] - 0s 8ms/step - loss: 0.0017\n",
            "Epoch 39/100\n",
            "37/37 [==============================] - 0s 8ms/step - loss: 0.0018\n",
            "Epoch 40/100\n",
            "37/37 [==============================] - 0s 8ms/step - loss: 0.0017\n",
            "Epoch 41/100\n",
            "37/37 [==============================] - 0s 8ms/step - loss: 0.0016\n",
            "Epoch 42/100\n",
            "37/37 [==============================] - 0s 8ms/step - loss: 0.0017\n",
            "Epoch 43/100\n",
            "37/37 [==============================] - 0s 8ms/step - loss: 0.0015\n",
            "Epoch 44/100\n",
            "37/37 [==============================] - 0s 8ms/step - loss: 0.0014\n",
            "Epoch 45/100\n",
            "37/37 [==============================] - 0s 8ms/step - loss: 0.0015\n",
            "Epoch 46/100\n",
            "37/37 [==============================] - 0s 8ms/step - loss: 0.0015\n",
            "Epoch 47/100\n",
            "37/37 [==============================] - 0s 8ms/step - loss: 0.0013\n",
            "Epoch 48/100\n",
            "37/37 [==============================] - 0s 8ms/step - loss: 0.0016\n",
            "Epoch 49/100\n",
            "37/37 [==============================] - 0s 8ms/step - loss: 0.0014\n",
            "Epoch 50/100\n",
            "37/37 [==============================] - 0s 8ms/step - loss: 0.0015\n",
            "Epoch 51/100\n",
            "37/37 [==============================] - 0s 8ms/step - loss: 0.0015\n",
            "Epoch 52/100\n",
            "37/37 [==============================] - 0s 8ms/step - loss: 0.0015\n",
            "Epoch 53/100\n",
            "37/37 [==============================] - 0s 8ms/step - loss: 0.0014\n",
            "Epoch 54/100\n",
            "37/37 [==============================] - 0s 8ms/step - loss: 0.0015\n",
            "Epoch 55/100\n",
            "37/37 [==============================] - 0s 8ms/step - loss: 0.0015\n",
            "Epoch 56/100\n",
            "37/37 [==============================] - 0s 8ms/step - loss: 0.0016\n",
            "Epoch 57/100\n",
            "37/37 [==============================] - 0s 8ms/step - loss: 0.0013\n",
            "Epoch 58/100\n",
            "37/37 [==============================] - 0s 8ms/step - loss: 0.0017\n",
            "Epoch 59/100\n",
            "37/37 [==============================] - 0s 8ms/step - loss: 0.0016\n",
            "Epoch 60/100\n",
            "37/37 [==============================] - 0s 8ms/step - loss: 0.0015\n",
            "Epoch 61/100\n",
            "37/37 [==============================] - 0s 8ms/step - loss: 0.0014\n",
            "Epoch 62/100\n",
            "37/37 [==============================] - 0s 8ms/step - loss: 0.0015\n",
            "Epoch 63/100\n",
            "37/37 [==============================] - 0s 8ms/step - loss: 0.0014\n",
            "Epoch 64/100\n",
            "37/37 [==============================] - 0s 8ms/step - loss: 0.0016\n",
            "Epoch 65/100\n",
            "37/37 [==============================] - 0s 8ms/step - loss: 0.0015\n",
            "Epoch 66/100\n",
            "37/37 [==============================] - 0s 8ms/step - loss: 0.0014\n",
            "Epoch 67/100\n",
            "37/37 [==============================] - 0s 10ms/step - loss: 0.0015\n",
            "Epoch 68/100\n",
            "37/37 [==============================] - 0s 12ms/step - loss: 0.0015\n",
            "Epoch 69/100\n",
            "37/37 [==============================] - 0s 12ms/step - loss: 0.0016\n",
            "Epoch 70/100\n",
            "37/37 [==============================] - 0s 11ms/step - loss: 0.0014\n",
            "Epoch 71/100\n",
            "37/37 [==============================] - 0s 12ms/step - loss: 0.0013\n",
            "Epoch 72/100\n",
            "37/37 [==============================] - 0s 11ms/step - loss: 0.0014\n",
            "Epoch 73/100\n",
            "37/37 [==============================] - 0s 11ms/step - loss: 0.0015\n",
            "Epoch 74/100\n",
            "37/37 [==============================] - 0s 11ms/step - loss: 0.0015\n",
            "Epoch 75/100\n",
            "37/37 [==============================] - 0s 12ms/step - loss: 0.0015\n",
            "Epoch 76/100\n",
            "37/37 [==============================] - 0s 12ms/step - loss: 0.0014\n",
            "Epoch 77/100\n",
            "37/37 [==============================] - 0s 12ms/step - loss: 0.0014\n",
            "Epoch 78/100\n",
            "37/37 [==============================] - 0s 12ms/step - loss: 0.0014\n",
            "Epoch 79/100\n",
            "37/37 [==============================] - 0s 12ms/step - loss: 0.0014\n",
            "Epoch 80/100\n",
            "37/37 [==============================] - 0s 12ms/step - loss: 0.0015\n",
            "Epoch 81/100\n",
            "37/37 [==============================] - 0s 12ms/step - loss: 0.0013\n",
            "Epoch 82/100\n",
            "37/37 [==============================] - 0s 8ms/step - loss: 0.0015\n",
            "Epoch 83/100\n",
            "37/37 [==============================] - 0s 8ms/step - loss: 0.0014\n",
            "Epoch 84/100\n",
            "37/37 [==============================] - 0s 8ms/step - loss: 0.0013\n",
            "Epoch 85/100\n",
            "37/37 [==============================] - 0s 8ms/step - loss: 0.0014\n",
            "Epoch 86/100\n",
            "37/37 [==============================] - 0s 8ms/step - loss: 0.0015\n",
            "Epoch 87/100\n",
            "37/37 [==============================] - 0s 9ms/step - loss: 0.0014\n",
            "Epoch 88/100\n",
            "37/37 [==============================] - 0s 8ms/step - loss: 0.0015\n",
            "Epoch 89/100\n",
            "37/37 [==============================] - 0s 8ms/step - loss: 0.0013\n",
            "Epoch 90/100\n",
            "37/37 [==============================] - 0s 8ms/step - loss: 0.0013\n",
            "Epoch 91/100\n",
            "37/37 [==============================] - 0s 8ms/step - loss: 0.0014\n",
            "Epoch 92/100\n",
            "37/37 [==============================] - 0s 8ms/step - loss: 0.0015\n",
            "Epoch 93/100\n",
            "37/37 [==============================] - 0s 8ms/step - loss: 0.0014\n",
            "Epoch 94/100\n",
            "37/37 [==============================] - 0s 8ms/step - loss: 0.0017\n",
            "Epoch 95/100\n",
            "37/37 [==============================] - 0s 8ms/step - loss: 0.0013\n",
            "Epoch 96/100\n",
            "37/37 [==============================] - 0s 8ms/step - loss: 0.0015\n",
            "Epoch 97/100\n",
            "37/37 [==============================] - 0s 8ms/step - loss: 0.0014\n",
            "Epoch 98/100\n",
            "37/37 [==============================] - 0s 8ms/step - loss: 0.0014\n",
            "Epoch 99/100\n",
            "37/37 [==============================] - 0s 8ms/step - loss: 0.0015\n",
            "Epoch 100/100\n",
            "37/37 [==============================] - 0s 8ms/step - loss: 0.0013\n"
          ]
        },
        {
          "output_type": "execute_result",
          "data": {
            "text/plain": [
              "<keras.src.callbacks.History at 0x7f95340d5cc0>"
            ]
          },
          "metadata": {},
          "execution_count": 23
        }
      ]
    },
    {
      "cell_type": "markdown",
      "source": [
        "#### **Testing LSTM Model**"
      ],
      "metadata": {
        "id": "vgdupfLKUYYf"
      }
    },
    {
      "cell_type": "code",
      "source": [
        "dataset_test = df\n",
        "real_stock_price = dataset_test.iloc[:,4:5].values\n",
        "real_stock_price"
      ],
      "metadata": {
        "colab": {
          "base_uri": "https://localhost:8080/"
        },
        "id": "Qeg8zE7eDRW4",
        "outputId": "625cdfa5-cffc-4171-c341-8034f35af9f3"
      },
      "execution_count": null,
      "outputs": [
        {
          "output_type": "execute_result",
          "data": {
            "text/plain": [
              "array([[ 184.],\n",
              "       [ 184.],\n",
              "       [ 188.],\n",
              "       ...,\n",
              "       [2970.],\n",
              "       [2940.],\n",
              "       [2900.]])"
            ]
          },
          "metadata": {},
          "execution_count": 24
        }
      ]
    },
    {
      "cell_type": "code",
      "source": [
        "dataset_total = pd.concat((df['Close'], dataset_test['Close']), axis = 0)\n",
        "inputs = dataset_total[len(dataset_total) - len(dataset_test):].values\n",
        "inputs = inputs.reshape(-1,1)\n",
        "inputs = sc.transform(inputs)"
      ],
      "metadata": {
        "id": "u5y1DPE2DVgC"
      },
      "execution_count": null,
      "outputs": []
    },
    {
      "cell_type": "code",
      "source": [
        "inputs"
      ],
      "metadata": {
        "colab": {
          "base_uri": "https://localhost:8080/"
        },
        "id": "Vb5ZJQ8SEK2M",
        "outputId": "9585d07a-d387-4e32-ebc4-1dc05ed14252"
      },
      "execution_count": null,
      "outputs": [
        {
          "output_type": "execute_result",
          "data": {
            "text/plain": [
              "array([[0.00207392],\n",
              "       [0.00207392],\n",
              "       [0.00228663],\n",
              "       ...,\n",
              "       [0.150226  ],\n",
              "       [0.14863068],\n",
              "       [0.14650359]])"
            ]
          },
          "metadata": {},
          "execution_count": 26
        }
      ]
    },
    {
      "cell_type": "code",
      "source": [
        "inputs.shape"
      ],
      "metadata": {
        "colab": {
          "base_uri": "https://localhost:8080/"
        },
        "id": "TSuh3BPfPPjc",
        "outputId": "51639f98-1491-4cd7-ca1b-43c12f022800"
      },
      "execution_count": null,
      "outputs": [
        {
          "output_type": "execute_result",
          "data": {
            "text/plain": [
              "(1161, 1)"
            ]
          },
          "metadata": {},
          "execution_count": 27
        }
      ]
    },
    {
      "cell_type": "code",
      "source": [
        "X_test = inputs\n",
        "X_test = np.array(X_test)\n",
        "X_test = np.reshape(X_test, (X_test.shape[0], X_test.shape[1], 1))"
      ],
      "metadata": {
        "id": "-kvARajLEQLv"
      },
      "execution_count": null,
      "outputs": []
    },
    {
      "cell_type": "code",
      "source": [
        "predicted_stock_price_lstm = lstm_model.predict(X_test)\n",
        "predicted_stock_price_lstm = sc.inverse_transform(predicted_stock_price_lstm)"
      ],
      "metadata": {
        "colab": {
          "base_uri": "https://localhost:8080/"
        },
        "id": "XtDXuIfzETnE",
        "outputId": "80985ce9-9b42-4b5c-cb09-dcd28c09330a"
      },
      "execution_count": null,
      "outputs": [
        {
          "output_type": "stream",
          "name": "stdout",
          "text": [
            "37/37 [==============================] - 2s 3ms/step\n"
          ]
        }
      ]
    },
    {
      "cell_type": "code",
      "source": [
        "predicted_stock_price_lstm"
      ],
      "metadata": {
        "colab": {
          "base_uri": "https://localhost:8080/"
        },
        "id": "FWfgTh6QEX4V",
        "outputId": "cc7825d7-5451-4896-a80e-a34e1bec4c79"
      },
      "execution_count": null,
      "outputs": [
        {
          "output_type": "execute_result",
          "data": {
            "text/plain": [
              "array([[ 587.4291 ],\n",
              "       [ 587.4291 ],\n",
              "       [ 590.55206],\n",
              "       ...,\n",
              "       [2954.2207 ],\n",
              "       [2926.7136 ],\n",
              "       [2890.1042 ]], dtype=float32)"
            ]
          },
          "metadata": {},
          "execution_count": 30
        }
      ]
    },
    {
      "cell_type": "code",
      "source": [
        "predicted_stock_price_lstm.shape"
      ],
      "metadata": {
        "colab": {
          "base_uri": "https://localhost:8080/"
        },
        "id": "oLMln0xlJ8dp",
        "outputId": "e5c255b5-c377-440e-b629-e87c2e84f22e"
      },
      "execution_count": null,
      "outputs": [
        {
          "output_type": "execute_result",
          "data": {
            "text/plain": [
              "(1161, 1)"
            ]
          },
          "metadata": {},
          "execution_count": 31
        }
      ]
    },
    {
      "cell_type": "code",
      "source": [
        "# Add the predicted values to the DataFrame\n",
        "df['LSTM Predictions'] = predicted_stock_price_lstm\n",
        "\n",
        "# Print or visualize the results as needed\n",
        "df[['Date', 'Close', 'LSTM Predictions']]"
      ],
      "metadata": {
        "colab": {
          "base_uri": "https://localhost:8080/",
          "height": 424
        },
        "id": "BkLq-2lUG19B",
        "outputId": "b1eca61b-dac7-40e1-ad33-49b0f8856fb2"
      },
      "execution_count": null,
      "outputs": [
        {
          "output_type": "execute_result",
          "data": {
            "text/plain": [
              "           Date   Close  LSTM Predictions\n",
              "0    2018-12-31   184.0        587.429077\n",
              "1    2019-01-01   184.0        587.429077\n",
              "2    2019-01-02   188.0        590.552063\n",
              "3    2019-01-03   182.0        585.868042\n",
              "4    2019-01-04   183.0        586.648438\n",
              "...         ...     ...               ...\n",
              "1156 2023-12-21  2970.0       2954.220703\n",
              "1157 2023-12-22  2930.0       2917.554443\n",
              "1158 2023-12-27  2970.0       2954.220703\n",
              "1159 2023-12-28  2940.0       2926.713623\n",
              "1160 2023-12-29  2900.0       2890.104248\n",
              "\n",
              "[1161 rows x 3 columns]"
            ],
            "text/html": [
              "\n",
              "  <div id=\"df-a40f1e05-aecf-48e8-86a3-af0263ef8df0\" class=\"colab-df-container\">\n",
              "    <div>\n",
              "<style scoped>\n",
              "    .dataframe tbody tr th:only-of-type {\n",
              "        vertical-align: middle;\n",
              "    }\n",
              "\n",
              "    .dataframe tbody tr th {\n",
              "        vertical-align: top;\n",
              "    }\n",
              "\n",
              "    .dataframe thead th {\n",
              "        text-align: right;\n",
              "    }\n",
              "</style>\n",
              "<table border=\"1\" class=\"dataframe\">\n",
              "  <thead>\n",
              "    <tr style=\"text-align: right;\">\n",
              "      <th></th>\n",
              "      <th>Date</th>\n",
              "      <th>Close</th>\n",
              "      <th>LSTM Predictions</th>\n",
              "    </tr>\n",
              "  </thead>\n",
              "  <tbody>\n",
              "    <tr>\n",
              "      <th>0</th>\n",
              "      <td>2018-12-31</td>\n",
              "      <td>184.0</td>\n",
              "      <td>587.429077</td>\n",
              "    </tr>\n",
              "    <tr>\n",
              "      <th>1</th>\n",
              "      <td>2019-01-01</td>\n",
              "      <td>184.0</td>\n",
              "      <td>587.429077</td>\n",
              "    </tr>\n",
              "    <tr>\n",
              "      <th>2</th>\n",
              "      <td>2019-01-02</td>\n",
              "      <td>188.0</td>\n",
              "      <td>590.552063</td>\n",
              "    </tr>\n",
              "    <tr>\n",
              "      <th>3</th>\n",
              "      <td>2019-01-03</td>\n",
              "      <td>182.0</td>\n",
              "      <td>585.868042</td>\n",
              "    </tr>\n",
              "    <tr>\n",
              "      <th>4</th>\n",
              "      <td>2019-01-04</td>\n",
              "      <td>183.0</td>\n",
              "      <td>586.648438</td>\n",
              "    </tr>\n",
              "    <tr>\n",
              "      <th>...</th>\n",
              "      <td>...</td>\n",
              "      <td>...</td>\n",
              "      <td>...</td>\n",
              "    </tr>\n",
              "    <tr>\n",
              "      <th>1156</th>\n",
              "      <td>2023-12-21</td>\n",
              "      <td>2970.0</td>\n",
              "      <td>2954.220703</td>\n",
              "    </tr>\n",
              "    <tr>\n",
              "      <th>1157</th>\n",
              "      <td>2023-12-22</td>\n",
              "      <td>2930.0</td>\n",
              "      <td>2917.554443</td>\n",
              "    </tr>\n",
              "    <tr>\n",
              "      <th>1158</th>\n",
              "      <td>2023-12-27</td>\n",
              "      <td>2970.0</td>\n",
              "      <td>2954.220703</td>\n",
              "    </tr>\n",
              "    <tr>\n",
              "      <th>1159</th>\n",
              "      <td>2023-12-28</td>\n",
              "      <td>2940.0</td>\n",
              "      <td>2926.713623</td>\n",
              "    </tr>\n",
              "    <tr>\n",
              "      <th>1160</th>\n",
              "      <td>2023-12-29</td>\n",
              "      <td>2900.0</td>\n",
              "      <td>2890.104248</td>\n",
              "    </tr>\n",
              "  </tbody>\n",
              "</table>\n",
              "<p>1161 rows × 3 columns</p>\n",
              "</div>\n",
              "    <div class=\"colab-df-buttons\">\n",
              "\n",
              "  <div class=\"colab-df-container\">\n",
              "    <button class=\"colab-df-convert\" onclick=\"convertToInteractive('df-a40f1e05-aecf-48e8-86a3-af0263ef8df0')\"\n",
              "            title=\"Convert this dataframe to an interactive table.\"\n",
              "            style=\"display:none;\">\n",
              "\n",
              "  <svg xmlns=\"http://www.w3.org/2000/svg\" height=\"24px\" viewBox=\"0 -960 960 960\">\n",
              "    <path d=\"M120-120v-720h720v720H120Zm60-500h600v-160H180v160Zm220 220h160v-160H400v160Zm0 220h160v-160H400v160ZM180-400h160v-160H180v160Zm440 0h160v-160H620v160ZM180-180h160v-160H180v160Zm440 0h160v-160H620v160Z\"/>\n",
              "  </svg>\n",
              "    </button>\n",
              "\n",
              "  <style>\n",
              "    .colab-df-container {\n",
              "      display:flex;\n",
              "      gap: 12px;\n",
              "    }\n",
              "\n",
              "    .colab-df-convert {\n",
              "      background-color: #E8F0FE;\n",
              "      border: none;\n",
              "      border-radius: 50%;\n",
              "      cursor: pointer;\n",
              "      display: none;\n",
              "      fill: #1967D2;\n",
              "      height: 32px;\n",
              "      padding: 0 0 0 0;\n",
              "      width: 32px;\n",
              "    }\n",
              "\n",
              "    .colab-df-convert:hover {\n",
              "      background-color: #E2EBFA;\n",
              "      box-shadow: 0px 1px 2px rgba(60, 64, 67, 0.3), 0px 1px 3px 1px rgba(60, 64, 67, 0.15);\n",
              "      fill: #174EA6;\n",
              "    }\n",
              "\n",
              "    .colab-df-buttons div {\n",
              "      margin-bottom: 4px;\n",
              "    }\n",
              "\n",
              "    [theme=dark] .colab-df-convert {\n",
              "      background-color: #3B4455;\n",
              "      fill: #D2E3FC;\n",
              "    }\n",
              "\n",
              "    [theme=dark] .colab-df-convert:hover {\n",
              "      background-color: #434B5C;\n",
              "      box-shadow: 0px 1px 3px 1px rgba(0, 0, 0, 0.15);\n",
              "      filter: drop-shadow(0px 1px 2px rgba(0, 0, 0, 0.3));\n",
              "      fill: #FFFFFF;\n",
              "    }\n",
              "  </style>\n",
              "\n",
              "    <script>\n",
              "      const buttonEl =\n",
              "        document.querySelector('#df-a40f1e05-aecf-48e8-86a3-af0263ef8df0 button.colab-df-convert');\n",
              "      buttonEl.style.display =\n",
              "        google.colab.kernel.accessAllowed ? 'block' : 'none';\n",
              "\n",
              "      async function convertToInteractive(key) {\n",
              "        const element = document.querySelector('#df-a40f1e05-aecf-48e8-86a3-af0263ef8df0');\n",
              "        const dataTable =\n",
              "          await google.colab.kernel.invokeFunction('convertToInteractive',\n",
              "                                                    [key], {});\n",
              "        if (!dataTable) return;\n",
              "\n",
              "        const docLinkHtml = 'Like what you see? Visit the ' +\n",
              "          '<a target=\"_blank\" href=https://colab.research.google.com/notebooks/data_table.ipynb>data table notebook</a>'\n",
              "          + ' to learn more about interactive tables.';\n",
              "        element.innerHTML = '';\n",
              "        dataTable['output_type'] = 'display_data';\n",
              "        await google.colab.output.renderOutput(dataTable, element);\n",
              "        const docLink = document.createElement('div');\n",
              "        docLink.innerHTML = docLinkHtml;\n",
              "        element.appendChild(docLink);\n",
              "      }\n",
              "    </script>\n",
              "  </div>\n",
              "\n",
              "\n",
              "<div id=\"df-c8e596f7-3fea-44f3-8887-d3d3816fbe54\">\n",
              "  <button class=\"colab-df-quickchart\" onclick=\"quickchart('df-c8e596f7-3fea-44f3-8887-d3d3816fbe54')\"\n",
              "            title=\"Suggest charts\"\n",
              "            style=\"display:none;\">\n",
              "\n",
              "<svg xmlns=\"http://www.w3.org/2000/svg\" height=\"24px\"viewBox=\"0 0 24 24\"\n",
              "     width=\"24px\">\n",
              "    <g>\n",
              "        <path d=\"M19 3H5c-1.1 0-2 .9-2 2v14c0 1.1.9 2 2 2h14c1.1 0 2-.9 2-2V5c0-1.1-.9-2-2-2zM9 17H7v-7h2v7zm4 0h-2V7h2v10zm4 0h-2v-4h2v4z\"/>\n",
              "    </g>\n",
              "</svg>\n",
              "  </button>\n",
              "\n",
              "<style>\n",
              "  .colab-df-quickchart {\n",
              "      --bg-color: #E8F0FE;\n",
              "      --fill-color: #1967D2;\n",
              "      --hover-bg-color: #E2EBFA;\n",
              "      --hover-fill-color: #174EA6;\n",
              "      --disabled-fill-color: #AAA;\n",
              "      --disabled-bg-color: #DDD;\n",
              "  }\n",
              "\n",
              "  [theme=dark] .colab-df-quickchart {\n",
              "      --bg-color: #3B4455;\n",
              "      --fill-color: #D2E3FC;\n",
              "      --hover-bg-color: #434B5C;\n",
              "      --hover-fill-color: #FFFFFF;\n",
              "      --disabled-bg-color: #3B4455;\n",
              "      --disabled-fill-color: #666;\n",
              "  }\n",
              "\n",
              "  .colab-df-quickchart {\n",
              "    background-color: var(--bg-color);\n",
              "    border: none;\n",
              "    border-radius: 50%;\n",
              "    cursor: pointer;\n",
              "    display: none;\n",
              "    fill: var(--fill-color);\n",
              "    height: 32px;\n",
              "    padding: 0;\n",
              "    width: 32px;\n",
              "  }\n",
              "\n",
              "  .colab-df-quickchart:hover {\n",
              "    background-color: var(--hover-bg-color);\n",
              "    box-shadow: 0 1px 2px rgba(60, 64, 67, 0.3), 0 1px 3px 1px rgba(60, 64, 67, 0.15);\n",
              "    fill: var(--button-hover-fill-color);\n",
              "  }\n",
              "\n",
              "  .colab-df-quickchart-complete:disabled,\n",
              "  .colab-df-quickchart-complete:disabled:hover {\n",
              "    background-color: var(--disabled-bg-color);\n",
              "    fill: var(--disabled-fill-color);\n",
              "    box-shadow: none;\n",
              "  }\n",
              "\n",
              "  .colab-df-spinner {\n",
              "    border: 2px solid var(--fill-color);\n",
              "    border-color: transparent;\n",
              "    border-bottom-color: var(--fill-color);\n",
              "    animation:\n",
              "      spin 1s steps(1) infinite;\n",
              "  }\n",
              "\n",
              "  @keyframes spin {\n",
              "    0% {\n",
              "      border-color: transparent;\n",
              "      border-bottom-color: var(--fill-color);\n",
              "      border-left-color: var(--fill-color);\n",
              "    }\n",
              "    20% {\n",
              "      border-color: transparent;\n",
              "      border-left-color: var(--fill-color);\n",
              "      border-top-color: var(--fill-color);\n",
              "    }\n",
              "    30% {\n",
              "      border-color: transparent;\n",
              "      border-left-color: var(--fill-color);\n",
              "      border-top-color: var(--fill-color);\n",
              "      border-right-color: var(--fill-color);\n",
              "    }\n",
              "    40% {\n",
              "      border-color: transparent;\n",
              "      border-right-color: var(--fill-color);\n",
              "      border-top-color: var(--fill-color);\n",
              "    }\n",
              "    60% {\n",
              "      border-color: transparent;\n",
              "      border-right-color: var(--fill-color);\n",
              "    }\n",
              "    80% {\n",
              "      border-color: transparent;\n",
              "      border-right-color: var(--fill-color);\n",
              "      border-bottom-color: var(--fill-color);\n",
              "    }\n",
              "    90% {\n",
              "      border-color: transparent;\n",
              "      border-bottom-color: var(--fill-color);\n",
              "    }\n",
              "  }\n",
              "</style>\n",
              "\n",
              "  <script>\n",
              "    async function quickchart(key) {\n",
              "      const quickchartButtonEl =\n",
              "        document.querySelector('#' + key + ' button');\n",
              "      quickchartButtonEl.disabled = true;  // To prevent multiple clicks.\n",
              "      quickchartButtonEl.classList.add('colab-df-spinner');\n",
              "      try {\n",
              "        const charts = await google.colab.kernel.invokeFunction(\n",
              "            'suggestCharts', [key], {});\n",
              "      } catch (error) {\n",
              "        console.error('Error during call to suggestCharts:', error);\n",
              "      }\n",
              "      quickchartButtonEl.classList.remove('colab-df-spinner');\n",
              "      quickchartButtonEl.classList.add('colab-df-quickchart-complete');\n",
              "    }\n",
              "    (() => {\n",
              "      let quickchartButtonEl =\n",
              "        document.querySelector('#df-c8e596f7-3fea-44f3-8887-d3d3816fbe54 button');\n",
              "      quickchartButtonEl.style.display =\n",
              "        google.colab.kernel.accessAllowed ? 'block' : 'none';\n",
              "    })();\n",
              "  </script>\n",
              "</div>\n",
              "    </div>\n",
              "  </div>\n"
            ]
          },
          "metadata": {},
          "execution_count": 32
        }
      ]
    },
    {
      "cell_type": "code",
      "source": [
        "# Plot the actual closing prices and predictions\n",
        "plt.figure(figsize=(10, 6))\n",
        "plt.plot(df['Date'], df['Close'], label='Actual Close Price', color='blue')\n",
        "plt.plot(df['Date'], df['LSTM Predictions'], label='Predicted Close Price', color='red')\n",
        "plt.title('Close Price Prediction using LSTM')\n",
        "plt.xlabel('Date')\n",
        "plt.ylabel('Closing Price')\n",
        "plt.legend()\n",
        "plt.show()"
      ],
      "metadata": {
        "colab": {
          "base_uri": "https://localhost:8080/",
          "height": 564
        },
        "id": "Laq_qFPjL0V_",
        "outputId": "61235b72-ad8f-417a-f107-e91315e493b7"
      },
      "execution_count": null,
      "outputs": [
        {
          "output_type": "display_data",
          "data": {
            "text/plain": [
              "<Figure size 1000x600 with 1 Axes>"
            ],
            "image/png": "[encoded data removed]"
          },
          "metadata": {}
        }
      ]
    },
    {
      "cell_type": "markdown",
      "source": [
        "#### **Model Evaluation**"
      ],
      "metadata": {
        "id": "TYygeJ7KWIcu"
      }
    },
    {
      "cell_type": "code",
      "source": [
        "from sklearn.metrics import mean_squared_error\n",
        "from math import sqrt"
      ],
      "metadata": {
        "id": "_o_AWGCUW7gO"
      },
      "execution_count": null,
      "outputs": []
    },
    {
      "cell_type": "code",
      "source": [
        "# Perform prediction on training data\n",
        "y_pred = lstm_model.predict(X_train)\n",
        "\n",
        "# Calculate MSE\n",
        "mse_lstm = mean_squared_error(Y_train, y_pred)\n",
        "\n",
        "# Calculating RMSE\n",
        "rmse_lstm = sqrt(mse_lstm)\n",
        "\n",
        "# Calculating MAPE\n",
        "mape_lstm = np.mean(np.abs((Y_train - y_pred) / np.maximum(1e-8, np.abs(Y_train)))) * 100\n",
        "\n",
        "# Displaying results\n",
        "print(f'Mean Squared Error (MSE): {mse_lstm}')\n",
        "print(f'Root Mean Squared Error (RMSE): {rmse_lstm}')\n",
        "print(f'Mean Absolute Percentage Error (MAPE): {mape_lstm}%')"
      ],
      "metadata": {
        "colab": {
          "base_uri": "https://localhost:8080/"
        },
        "id": "UcLOXtuRWMeX",
        "outputId": "b4eb277a-b102-4ee7-ba2e-c6be38c2ebc8"
      },
      "execution_count": null,
      "outputs": [
        {
          "output_type": "stream",
          "name": "stdout",
          "text": [
            "37/37 [==============================] - 0s 4ms/step\n",
            "Mean Squared Error (MSE): 0.0001894462188479953\n",
            "Root Mean Squared Error (RMSE): 0.013763946339912667\n",
            "Mean Absolute Percentage Error (MAPE): 377850.64141432394%\n"
          ]
        }
      ]
    },
    {
      "cell_type": "markdown",
      "source": [
        "#### **Saving LSTM Model**"
      ],
      "metadata": {
        "id": "EBC_Dp5gXdlm"
      }
    },
    {
      "cell_type": "code",
      "source": [
        "from keras.models import load_model\n",
        "lstm_model.save('ARTO_LSTM_Model.h5')"
      ],
      "metadata": {
        "id": "xgsWPx4xXgq5"
      },
      "execution_count": null,
      "outputs": []
    },
    {
      "cell_type": "markdown",
      "source": [
        "### **Gated Recurrent Unit (GRU)**"
      ],
      "metadata": {
        "id": "ya8zy-MrZ-Ax"
      }
    },
    {
      "cell_type": "code",
      "source": [
        "from keras.models import Sequential\n",
        "from keras.layers import GRU, Dense, Dropout"
      ],
      "metadata": {
        "id": "ehv-wNxZazs5"
      },
      "execution_count": null,
      "outputs": []
    },
    {
      "cell_type": "markdown",
      "source": [
        "#### **Building GRU Architecture**"
      ],
      "metadata": {
        "id": "mTVjk30bgMsV"
      }
    },
    {
      "cell_type": "code",
      "source": [
        "# Creating a GRU model\n",
        "gru_model = Sequential()\n",
        "\n",
        "# Adding a GRU layer\n",
        "gru_model.add(GRU(units=64, return_sequences=True, input_shape=(X_train.shape[1], 1)))\n",
        "gru_model.add(Dropout(0.25))\n",
        "gru_model.add(GRU(units=64, return_sequences=True))\n",
        "gru_model.add(Dropout(0.25))\n",
        "gru_model.add(GRU(units=64, return_sequences=True))\n",
        "gru_model.add(Dropout(0.25))\n",
        "gru_model.add(GRU(units=64, return_sequences=False))\n",
        "gru_model.add(Dropout(0.25))\n",
        "gru_model.add(Dense(units=1))\n",
        "\n",
        "# Compile the GRU model\n",
        "gru_model.compile(optimizer='adam', loss='mean_squared_error')"
      ],
      "metadata": {
        "id": "_dqtl6CnaZkj"
      },
      "execution_count": null,
      "outputs": []
    },
    {
      "cell_type": "markdown",
      "source": [
        "#### **Training GRU Model**"
      ],
      "metadata": {
        "id": "f23N4gangVie"
      }
    },
    {
      "cell_type": "code",
      "source": [
        "# Train the GRU model\n",
        "gru_model.fit(X_train, Y_train, epochs=100, batch_size=32)"
      ],
      "metadata": {
        "colab": {
          "base_uri": "https://localhost:8080/"
        },
        "id": "Tg4AjJZNbM1J",
        "outputId": "0cc71072-3fa7-4a99-f609-0ae6a3b2a74d"
      },
      "execution_count": null,
      "outputs": [
        {
          "output_type": "stream",
          "name": "stdout",
          "text": [
            "Epoch 1/100\n",
            "37/37 [==============================] - 9s 8ms/step - loss: 0.0787\n",
            "Epoch 2/100\n",
            "37/37 [==============================] - 0s 7ms/step - loss: 0.0081\n",
            "Epoch 3/100\n",
            "37/37 [==============================] - 0s 8ms/step - loss: 0.0037\n",
            "Epoch 4/100\n",
            "37/37 [==============================] - 0s 8ms/step - loss: 0.0040\n",
            "Epoch 5/100\n",
            "37/37 [==============================] - 0s 8ms/step - loss: 0.0038\n",
            "Epoch 6/100\n",
            "37/37 [==============================] - 0s 8ms/step - loss: 0.0028\n",
            "Epoch 7/100\n",
            "37/37 [==============================] - 0s 8ms/step - loss: 0.0031\n",
            "Epoch 8/100\n",
            "37/37 [==============================] - 0s 8ms/step - loss: 0.0025\n",
            "Epoch 9/100\n",
            "37/37 [==============================] - 0s 8ms/step - loss: 0.0028\n",
            "Epoch 10/100\n",
            "37/37 [==============================] - 0s 8ms/step - loss: 0.0028\n",
            "Epoch 11/100\n",
            "37/37 [==============================] - 0s 9ms/step - loss: 0.0024\n",
            "Epoch 12/100\n",
            "37/37 [==============================] - 0s 8ms/step - loss: 0.0026\n",
            "Epoch 13/100\n",
            "37/37 [==============================] - 0s 8ms/step - loss: 0.0023\n",
            "Epoch 14/100\n",
            "37/37 [==============================] - 0s 8ms/step - loss: 0.0021\n",
            "Epoch 15/100\n",
            "37/37 [==============================] - 0s 8ms/step - loss: 0.0023\n",
            "Epoch 16/100\n",
            "37/37 [==============================] - 0s 8ms/step - loss: 0.0024\n",
            "Epoch 17/100\n",
            "37/37 [==============================] - 0s 8ms/step - loss: 0.0022\n",
            "Epoch 18/100\n",
            "37/37 [==============================] - 0s 8ms/step - loss: 0.0023\n",
            "Epoch 19/100\n",
            "37/37 [==============================] - 0s 8ms/step - loss: 0.0021\n",
            "Epoch 20/100\n",
            "37/37 [==============================] - 0s 8ms/step - loss: 0.0026\n",
            "Epoch 21/100\n",
            "37/37 [==============================] - 0s 8ms/step - loss: 0.0024\n",
            "Epoch 22/100\n",
            "37/37 [==============================] - 0s 8ms/step - loss: 0.0021\n",
            "Epoch 23/100\n",
            "37/37 [==============================] - 0s 8ms/step - loss: 0.0021\n",
            "Epoch 24/100\n",
            "37/37 [==============================] - 0s 12ms/step - loss: 0.0023\n",
            "Epoch 25/100\n",
            "37/37 [==============================] - 0s 11ms/step - loss: 0.0021\n",
            "Epoch 26/100\n",
            "37/37 [==============================] - 0s 11ms/step - loss: 0.0023\n",
            "Epoch 27/100\n",
            "37/37 [==============================] - 0s 11ms/step - loss: 0.0021\n",
            "Epoch 28/100\n",
            "37/37 [==============================] - 0s 11ms/step - loss: 0.0024\n",
            "Epoch 29/100\n",
            "37/37 [==============================] - 0s 11ms/step - loss: 0.0024\n",
            "Epoch 30/100\n",
            "37/37 [==============================] - 0s 11ms/step - loss: 0.0021\n",
            "Epoch 31/100\n",
            "37/37 [==============================] - 0s 11ms/step - loss: 0.0019\n",
            "Epoch 32/100\n",
            "37/37 [==============================] - 0s 11ms/step - loss: 0.0018\n",
            "Epoch 33/100\n",
            "37/37 [==============================] - 0s 12ms/step - loss: 0.0021\n",
            "Epoch 34/100\n",
            "37/37 [==============================] - 0s 12ms/step - loss: 0.0021\n",
            "Epoch 35/100\n",
            "37/37 [==============================] - 0s 11ms/step - loss: 0.0020\n",
            "Epoch 36/100\n",
            "37/37 [==============================] - 0s 11ms/step - loss: 0.0018\n",
            "Epoch 37/100\n",
            "37/37 [==============================] - 0s 12ms/step - loss: 0.0022\n",
            "Epoch 38/100\n",
            "37/37 [==============================] - 0s 10ms/step - loss: 0.0019\n",
            "Epoch 39/100\n",
            "37/37 [==============================] - 0s 8ms/step - loss: 0.0017\n",
            "Epoch 40/100\n",
            "37/37 [==============================] - 0s 8ms/step - loss: 0.0020\n",
            "Epoch 41/100\n",
            "37/37 [==============================] - 0s 9ms/step - loss: 0.0019\n",
            "Epoch 42/100\n",
            "37/37 [==============================] - 0s 9ms/step - loss: 0.0021\n",
            "Epoch 43/100\n",
            "37/37 [==============================] - 0s 8ms/step - loss: 0.0016\n",
            "Epoch 44/100\n",
            "37/37 [==============================] - 0s 8ms/step - loss: 0.0017\n",
            "Epoch 45/100\n",
            "37/37 [==============================] - 0s 8ms/step - loss: 0.0018\n",
            "Epoch 46/100\n",
            "37/37 [==============================] - 0s 8ms/step - loss: 0.0018\n",
            "Epoch 47/100\n",
            "37/37 [==============================] - 0s 8ms/step - loss: 0.0017\n",
            "Epoch 48/100\n",
            "37/37 [==============================] - 0s 8ms/step - loss: 0.0018\n",
            "Epoch 49/100\n",
            "37/37 [==============================] - 0s 8ms/step - loss: 0.0016\n",
            "Epoch 50/100\n",
            "37/37 [==============================] - 0s 8ms/step - loss: 0.0013\n",
            "Epoch 51/100\n",
            "37/37 [==============================] - 0s 8ms/step - loss: 0.0017\n",
            "Epoch 52/100\n",
            "37/37 [==============================] - 0s 8ms/step - loss: 0.0016\n",
            "Epoch 53/100\n",
            "37/37 [==============================] - 0s 8ms/step - loss: 0.0019\n",
            "Epoch 54/100\n",
            "37/37 [==============================] - 0s 8ms/step - loss: 0.0017\n",
            "Epoch 55/100\n",
            "37/37 [==============================] - 0s 8ms/step - loss: 0.0015\n",
            "Epoch 56/100\n",
            "37/37 [==============================] - 0s 8ms/step - loss: 0.0019\n",
            "Epoch 57/100\n",
            "37/37 [==============================] - 0s 8ms/step - loss: 0.0016\n",
            "Epoch 58/100\n",
            "37/37 [==============================] - 0s 8ms/step - loss: 0.0018\n",
            "Epoch 59/100\n",
            "37/37 [==============================] - 0s 8ms/step - loss: 0.0017\n",
            "Epoch 60/100\n",
            "37/37 [==============================] - 0s 8ms/step - loss: 0.0016\n",
            "Epoch 61/100\n",
            "37/37 [==============================] - 0s 8ms/step - loss: 0.0017\n",
            "Epoch 62/100\n",
            "37/37 [==============================] - 0s 9ms/step - loss: 0.0016\n",
            "Epoch 63/100\n",
            "37/37 [==============================] - 0s 8ms/step - loss: 0.0016\n",
            "Epoch 64/100\n",
            "37/37 [==============================] - 0s 8ms/step - loss: 0.0015\n",
            "Epoch 65/100\n",
            "37/37 [==============================] - 0s 8ms/step - loss: 0.0016\n",
            "Epoch 66/100\n",
            "37/37 [==============================] - 0s 8ms/step - loss: 0.0016\n",
            "Epoch 67/100\n",
            "37/37 [==============================] - 0s 8ms/step - loss: 0.0013\n",
            "Epoch 68/100\n",
            "37/37 [==============================] - 0s 8ms/step - loss: 0.0015\n",
            "Epoch 69/100\n",
            "37/37 [==============================] - 0s 8ms/step - loss: 0.0016\n",
            "Epoch 70/100\n",
            "37/37 [==============================] - 0s 9ms/step - loss: 0.0014\n",
            "Epoch 71/100\n",
            "37/37 [==============================] - 0s 11ms/step - loss: 0.0015\n",
            "Epoch 72/100\n",
            "37/37 [==============================] - 0s 11ms/step - loss: 0.0014\n",
            "Epoch 73/100\n",
            "37/37 [==============================] - 0s 12ms/step - loss: 0.0016\n",
            "Epoch 74/100\n",
            "37/37 [==============================] - 0s 12ms/step - loss: 0.0016\n",
            "Epoch 75/100\n",
            "37/37 [==============================] - 0s 11ms/step - loss: 0.0016\n",
            "Epoch 76/100\n",
            "37/37 [==============================] - 0s 11ms/step - loss: 0.0016\n",
            "Epoch 77/100\n",
            "37/37 [==============================] - 0s 12ms/step - loss: 0.0014\n",
            "Epoch 78/100\n",
            "37/37 [==============================] - 0s 11ms/step - loss: 0.0016\n",
            "Epoch 79/100\n",
            "37/37 [==============================] - 0s 11ms/step - loss: 0.0016\n",
            "Epoch 80/100\n",
            "37/37 [==============================] - 0s 11ms/step - loss: 0.0015\n",
            "Epoch 81/100\n",
            "37/37 [==============================] - 0s 10ms/step - loss: 0.0018\n",
            "Epoch 82/100\n",
            "37/37 [==============================] - 0s 11ms/step - loss: 0.0014\n",
            "Epoch 83/100\n",
            "37/37 [==============================] - 0s 11ms/step - loss: 0.0017\n",
            "Epoch 84/100\n",
            "37/37 [==============================] - 0s 12ms/step - loss: 0.0015\n",
            "Epoch 85/100\n",
            "37/37 [==============================] - 0s 10ms/step - loss: 0.0015\n",
            "Epoch 86/100\n",
            "37/37 [==============================] - 0s 8ms/step - loss: 0.0015\n",
            "Epoch 87/100\n",
            "37/37 [==============================] - 0s 8ms/step - loss: 0.0014\n",
            "Epoch 88/100\n",
            "37/37 [==============================] - 0s 8ms/step - loss: 0.0016\n",
            "Epoch 89/100\n",
            "37/37 [==============================] - 0s 8ms/step - loss: 0.0016\n",
            "Epoch 90/100\n",
            "37/37 [==============================] - 0s 8ms/step - loss: 0.0016\n",
            "Epoch 91/100\n",
            "37/37 [==============================] - 0s 8ms/step - loss: 0.0014\n",
            "Epoch 92/100\n",
            "37/37 [==============================] - 0s 8ms/step - loss: 0.0015\n",
            "Epoch 93/100\n",
            "37/37 [==============================] - 0s 8ms/step - loss: 0.0014\n",
            "Epoch 94/100\n",
            "37/37 [==============================] - 0s 8ms/step - loss: 0.0016\n",
            "Epoch 95/100\n",
            "37/37 [==============================] - 0s 8ms/step - loss: 0.0014\n",
            "Epoch 96/100\n",
            "37/37 [==============================] - 0s 8ms/step - loss: 0.0014\n",
            "Epoch 97/100\n",
            "37/37 [==============================] - 0s 9ms/step - loss: 0.0017\n",
            "Epoch 98/100\n",
            "37/37 [==============================] - 0s 8ms/step - loss: 0.0016\n",
            "Epoch 99/100\n",
            "37/37 [==============================] - 0s 8ms/step - loss: 0.0014\n",
            "Epoch 100/100\n",
            "37/37 [==============================] - 0s 8ms/step - loss: 0.0016\n"
          ]
        },
        {
          "output_type": "execute_result",
          "data": {
            "text/plain": [
              "<keras.src.callbacks.History at 0x7f95342cdf30>"
            ]
          },
          "metadata": {},
          "execution_count": 40
        }
      ]
    },
    {
      "cell_type": "markdown",
      "source": [
        "#### **Testing GRU Model**"
      ],
      "metadata": {
        "id": "Kxf1KHMigcGl"
      }
    },
    {
      "cell_type": "code",
      "source": [
        "dataset_test = df\n",
        "real_stock_price = dataset_test.iloc[:,4:5].values\n",
        "real_stock_price"
      ],
      "metadata": {
        "colab": {
          "base_uri": "https://localhost:8080/"
        },
        "id": "vEZoUBUveQ6J",
        "outputId": "080a1dee-822f-4abd-f5bc-290cb1006ee6"
      },
      "execution_count": null,
      "outputs": [
        {
          "output_type": "execute_result",
          "data": {
            "text/plain": [
              "array([[ 184.],\n",
              "       [ 184.],\n",
              "       [ 188.],\n",
              "       ...,\n",
              "       [2970.],\n",
              "       [2940.],\n",
              "       [2900.]])"
            ]
          },
          "metadata": {},
          "execution_count": 41
        }
      ]
    },
    {
      "cell_type": "code",
      "source": [
        "dataset_total = pd.concat((df['Close'], dataset_test['Close']), axis = 0)\n",
        "inputs = dataset_total[len(dataset_total) - len(dataset_test):].values\n",
        "inputs = inputs.reshape(-1,1)\n",
        "inputs = sc.transform(inputs)"
      ],
      "metadata": {
        "id": "kT7hhGUJeV4Q"
      },
      "execution_count": null,
      "outputs": []
    },
    {
      "cell_type": "code",
      "source": [
        "inputs"
      ],
      "metadata": {
        "colab": {
          "base_uri": "https://localhost:8080/"
        },
        "id": "gE2VUt1_eZ_3",
        "outputId": "9b0399a5-5cb4-4916-d11e-4ce44787d7c3"
      },
      "execution_count": null,
      "outputs": [
        {
          "output_type": "execute_result",
          "data": {
            "text/plain": [
              "array([[0.00207392],\n",
              "       [0.00207392],\n",
              "       [0.00228663],\n",
              "       ...,\n",
              "       [0.150226  ],\n",
              "       [0.14863068],\n",
              "       [0.14650359]])"
            ]
          },
          "metadata": {},
          "execution_count": 43
        }
      ]
    },
    {
      "cell_type": "code",
      "source": [
        "X_test = inputs\n",
        "X_test = np.array(X_test)\n",
        "X_test = np.reshape(X_test, (X_test.shape[0], X_test.shape[1], 1))"
      ],
      "metadata": {
        "id": "iimFc6KCefv3"
      },
      "execution_count": null,
      "outputs": []
    },
    {
      "cell_type": "code",
      "source": [
        "predicted_stock_price_gru = gru_model.predict(X_test)\n",
        "predicted_stock_price_gru = sc.inverse_transform(predicted_stock_price_gru)"
      ],
      "metadata": {
        "colab": {
          "base_uri": "https://localhost:8080/"
        },
        "id": "kiSRbO2Gek23",
        "outputId": "26d74289-0f24-44c2-ca8d-4422930d552f"
      },
      "execution_count": null,
      "outputs": [
        {
          "output_type": "stream",
          "name": "stdout",
          "text": [
            "37/37 [==============================] - 1s 3ms/step\n"
          ]
        }
      ]
    },
    {
      "cell_type": "code",
      "source": [
        "predicted_stock_price_gru"
      ],
      "metadata": {
        "colab": {
          "base_uri": "https://localhost:8080/"
        },
        "id": "DJEY1BhQfKVz",
        "outputId": "d36315b5-3dae-4df4-8006-2245257ee873"
      },
      "execution_count": null,
      "outputs": [
        {
          "output_type": "execute_result",
          "data": {
            "text/plain": [
              "array([[ 839.34973],\n",
              "       [ 839.34973],\n",
              "       [ 842.31946],\n",
              "       ...,\n",
              "       [3086.8645 ],\n",
              "       [3060.782  ],\n",
              "       [3026.0667 ]], dtype=float32)"
            ]
          },
          "metadata": {},
          "execution_count": 46
        }
      ]
    },
    {
      "cell_type": "code",
      "source": [
        "# Add the predicted values to the DataFrame\n",
        "df['GRU Predictions'] = predicted_stock_price_gru\n",
        "\n",
        "# Print or visualize the results as needed\n",
        "df[['Date', 'Close', 'GRU Predictions']]"
      ],
      "metadata": {
        "colab": {
          "base_uri": "https://localhost:8080/",
          "height": 424
        },
        "id": "8RyB5Pc8ffVz",
        "outputId": "98894583-9cd4-4207-d629-7703d8e5bbb5"
      },
      "execution_count": null,
      "outputs": [
        {
          "output_type": "execute_result",
          "data": {
            "text/plain": [
              "           Date   Close  GRU Predictions\n",
              "0    2018-12-31   184.0       839.349731\n",
              "1    2019-01-01   184.0       839.349731\n",
              "2    2019-01-02   188.0       842.319458\n",
              "3    2019-01-03   182.0       837.864868\n",
              "4    2019-01-04   183.0       838.607117\n",
              "...         ...     ...              ...\n",
              "1156 2023-12-21  2970.0      3086.864502\n",
              "1157 2023-12-22  2930.0      3052.096680\n",
              "1158 2023-12-27  2970.0      3086.864502\n",
              "1159 2023-12-28  2940.0      3060.781982\n",
              "1160 2023-12-29  2900.0      3026.066650\n",
              "\n",
              "[1161 rows x 3 columns]"
            ],
            "text/html": [
              "\n",
              "  <div id=\"df-4955ea09-054b-4e3b-96df-db9958ab8f80\" class=\"colab-df-container\">\n",
              "    <div>\n",
              "<style scoped>\n",
              "    .dataframe tbody tr th:only-of-type {\n",
              "        vertical-align: middle;\n",
              "    }\n",
              "\n",
              "    .dataframe tbody tr th {\n",
              "        vertical-align: top;\n",
              "    }\n",
              "\n",
              "    .dataframe thead th {\n",
              "        text-align: right;\n",
              "    }\n",
              "</style>\n",
              "<table border=\"1\" class=\"dataframe\">\n",
              "  <thead>\n",
              "    <tr style=\"text-align: right;\">\n",
              "      <th></th>\n",
              "      <th>Date</th>\n",
              "      <th>Close</th>\n",
              "      <th>GRU Predictions</th>\n",
              "    </tr>\n",
              "  </thead>\n",
              "  <tbody>\n",
              "    <tr>\n",
              "      <th>0</th>\n",
              "      <td>2018-12-31</td>\n",
              "      <td>184.0</td>\n",
              "      <td>839.349731</td>\n",
              "    </tr>\n",
              "    <tr>\n",
              "      <th>1</th>\n",
              "      <td>2019-01-01</td>\n",
              "      <td>184.0</td>\n",
              "      <td>839.349731</td>\n",
              "    </tr>\n",
              "    <tr>\n",
              "      <th>2</th>\n",
              "      <td>2019-01-02</td>\n",
              "      <td>188.0</td>\n",
              "      <td>842.319458</td>\n",
              "    </tr>\n",
              "    <tr>\n",
              "      <th>3</th>\n",
              "      <td>2019-01-03</td>\n",
              "      <td>182.0</td>\n",
              "      <td>837.864868</td>\n",
              "    </tr>\n",
              "    <tr>\n",
              "      <th>4</th>\n",
              "      <td>2019-01-04</td>\n",
              "      <td>183.0</td>\n",
              "      <td>838.607117</td>\n",
              "    </tr>\n",
              "    <tr>\n",
              "      <th>...</th>\n",
              "      <td>...</td>\n",
              "      <td>...</td>\n",
              "      <td>...</td>\n",
              "    </tr>\n",
              "    <tr>\n",
              "      <th>1156</th>\n",
              "      <td>2023-12-21</td>\n",
              "      <td>2970.0</td>\n",
              "      <td>3086.864502</td>\n",
              "    </tr>\n",
              "    <tr>\n",
              "      <th>1157</th>\n",
              "      <td>2023-12-22</td>\n",
              "      <td>2930.0</td>\n",
              "      <td>3052.096680</td>\n",
              "    </tr>\n",
              "    <tr>\n",
              "      <th>1158</th>\n",
              "      <td>2023-12-27</td>\n",
              "      <td>2970.0</td>\n",
              "      <td>3086.864502</td>\n",
              "    </tr>\n",
              "    <tr>\n",
              "      <th>1159</th>\n",
              "      <td>2023-12-28</td>\n",
              "      <td>2940.0</td>\n",
              "      <td>3060.781982</td>\n",
              "    </tr>\n",
              "    <tr>\n",
              "      <th>1160</th>\n",
              "      <td>2023-12-29</td>\n",
              "      <td>2900.0</td>\n",
              "      <td>3026.066650</td>\n",
              "    </tr>\n",
              "  </tbody>\n",
              "</table>\n",
              "<p>1161 rows × 3 columns</p>\n",
              "</div>\n",
              "    <div class=\"colab-df-buttons\">\n",
              "\n",
              "  <div class=\"colab-df-container\">\n",
              "    <button class=\"colab-df-convert\" onclick=\"convertToInteractive('df-4955ea09-054b-4e3b-96df-db9958ab8f80')\"\n",
              "            title=\"Convert this dataframe to an interactive table.\"\n",
              "            style=\"display:none;\">\n",
              "\n",
              "  <svg xmlns=\"http://www.w3.org/2000/svg\" height=\"24px\" viewBox=\"0 -960 960 960\">\n",
              "    <path d=\"M120-120v-720h720v720H120Zm60-500h600v-160H180v160Zm220 220h160v-160H400v160Zm0 220h160v-160H400v160ZM180-400h160v-160H180v160Zm440 0h160v-160H620v160ZM180-180h160v-160H180v160Zm440 0h160v-160H620v160Z\"/>\n",
              "  </svg>\n",
              "    </button>\n",
              "\n",
              "  <style>\n",
              "    .colab-df-container {\n",
              "      display:flex;\n",
              "      gap: 12px;\n",
              "    }\n",
              "\n",
              "    .colab-df-convert {\n",
              "      background-color: #E8F0FE;\n",
              "      border: none;\n",
              "      border-radius: 50%;\n",
              "      cursor: pointer;\n",
              "      display: none;\n",
              "      fill: #1967D2;\n",
              "      height: 32px;\n",
              "      padding: 0 0 0 0;\n",
              "      width: 32px;\n",
              "    }\n",
              "\n",
              "    .colab-df-convert:hover {\n",
              "      background-color: #E2EBFA;\n",
              "      box-shadow: 0px 1px 2px rgba(60, 64, 67, 0.3), 0px 1px 3px 1px rgba(60, 64, 67, 0.15);\n",
              "      fill: #174EA6;\n",
              "    }\n",
              "\n",
              "    .colab-df-buttons div {\n",
              "      margin-bottom: 4px;\n",
              "    }\n",
              "\n",
              "    [theme=dark] .colab-df-convert {\n",
              "      background-color: #3B4455;\n",
              "      fill: #D2E3FC;\n",
              "    }\n",
              "\n",
              "    [theme=dark] .colab-df-convert:hover {\n",
              "      background-color: #434B5C;\n",
              "      box-shadow: 0px 1px 3px 1px rgba(0, 0, 0, 0.15);\n",
              "      filter: drop-shadow(0px 1px 2px rgba(0, 0, 0, 0.3));\n",
              "      fill: #FFFFFF;\n",
              "    }\n",
              "  </style>\n",
              "\n",
              "    <script>\n",
              "      const buttonEl =\n",
              "        document.querySelector('#df-4955ea09-054b-4e3b-96df-db9958ab8f80 button.colab-df-convert');\n",
              "      buttonEl.style.display =\n",
              "        google.colab.kernel.accessAllowed ? 'block' : 'none';\n",
              "\n",
              "      async function convertToInteractive(key) {\n",
              "        const element = document.querySelector('#df-4955ea09-054b-4e3b-96df-db9958ab8f80');\n",
              "        const dataTable =\n",
              "          await google.colab.kernel.invokeFunction('convertToInteractive',\n",
              "                                                    [key], {});\n",
              "        if (!dataTable) return;\n",
              "\n",
              "        const docLinkHtml = 'Like what you see? Visit the ' +\n",
              "          '<a target=\"_blank\" href=https://colab.research.google.com/notebooks/data_table.ipynb>data table notebook</a>'\n",
              "          + ' to learn more about interactive tables.';\n",
              "        element.innerHTML = '';\n",
              "        dataTable['output_type'] = 'display_data';\n",
              "        await google.colab.output.renderOutput(dataTable, element);\n",
              "        const docLink = document.createElement('div');\n",
              "        docLink.innerHTML = docLinkHtml;\n",
              "        element.appendChild(docLink);\n",
              "      }\n",
              "    </script>\n",
              "  </div>\n",
              "\n",
              "\n",
              "<div id=\"df-0ad683a3-96a4-4df0-8558-f479cc3dc659\">\n",
              "  <button class=\"colab-df-quickchart\" onclick=\"quickchart('df-0ad683a3-96a4-4df0-8558-f479cc3dc659')\"\n",
              "            title=\"Suggest charts\"\n",
              "            style=\"display:none;\">\n",
              "\n",
              "<svg xmlns=\"http://www.w3.org/2000/svg\" height=\"24px\"viewBox=\"0 0 24 24\"\n",
              "     width=\"24px\">\n",
              "    <g>\n",
              "        <path d=\"M19 3H5c-1.1 0-2 .9-2 2v14c0 1.1.9 2 2 2h14c1.1 0 2-.9 2-2V5c0-1.1-.9-2-2-2zM9 17H7v-7h2v7zm4 0h-2V7h2v10zm4 0h-2v-4h2v4z\"/>\n",
              "    </g>\n",
              "</svg>\n",
              "  </button>\n",
              "\n",
              "<style>\n",
              "  .colab-df-quickchart {\n",
              "      --bg-color: #E8F0FE;\n",
              "      --fill-color: #1967D2;\n",
              "      --hover-bg-color: #E2EBFA;\n",
              "      --hover-fill-color: #174EA6;\n",
              "      --disabled-fill-color: #AAA;\n",
              "      --disabled-bg-color: #DDD;\n",
              "  }\n",
              "\n",
              "  [theme=dark] .colab-df-quickchart {\n",
              "      --bg-color: #3B4455;\n",
              "      --fill-color: #D2E3FC;\n",
              "      --hover-bg-color: #434B5C;\n",
              "      --hover-fill-color: #FFFFFF;\n",
              "      --disabled-bg-color: #3B4455;\n",
              "      --disabled-fill-color: #666;\n",
              "  }\n",
              "\n",
              "  .colab-df-quickchart {\n",
              "    background-color: var(--bg-color);\n",
              "    border: none;\n",
              "    border-radius: 50%;\n",
              "    cursor: pointer;\n",
              "    display: none;\n",
              "    fill: var(--fill-color);\n",
              "    height: 32px;\n",
              "    padding: 0;\n",
              "    width: 32px;\n",
              "  }\n",
              "\n",
              "  .colab-df-quickchart:hover {\n",
              "    background-color: var(--hover-bg-color);\n",
              "    box-shadow: 0 1px 2px rgba(60, 64, 67, 0.3), 0 1px 3px 1px rgba(60, 64, 67, 0.15);\n",
              "    fill: var(--button-hover-fill-color);\n",
              "  }\n",
              "\n",
              "  .colab-df-quickchart-complete:disabled,\n",
              "  .colab-df-quickchart-complete:disabled:hover {\n",
              "    background-color: var(--disabled-bg-color);\n",
              "    fill: var(--disabled-fill-color);\n",
              "    box-shadow: none;\n",
              "  }\n",
              "\n",
              "  .colab-df-spinner {\n",
              "    border: 2px solid var(--fill-color);\n",
              "    border-color: transparent;\n",
              "    border-bottom-color: var(--fill-color);\n",
              "    animation:\n",
              "      spin 1s steps(1) infinite;\n",
              "  }\n",
              "\n",
              "  @keyframes spin {\n",
              "    0% {\n",
              "      border-color: transparent;\n",
              "      border-bottom-color: var(--fill-color);\n",
              "      border-left-color: var(--fill-color);\n",
              "    }\n",
              "    20% {\n",
              "      border-color: transparent;\n",
              "      border-left-color: var(--fill-color);\n",
              "      border-top-color: var(--fill-color);\n",
              "    }\n",
              "    30% {\n",
              "      border-color: transparent;\n",
              "      border-left-color: var(--fill-color);\n",
              "      border-top-color: var(--fill-color);\n",
              "      border-right-color: var(--fill-color);\n",
              "    }\n",
              "    40% {\n",
              "      border-color: transparent;\n",
              "      border-right-color: var(--fill-color);\n",
              "      border-top-color: var(--fill-color);\n",
              "    }\n",
              "    60% {\n",
              "      border-color: transparent;\n",
              "      border-right-color: var(--fill-color);\n",
              "    }\n",
              "    80% {\n",
              "      border-color: transparent;\n",
              "      border-right-color: var(--fill-color);\n",
              "      border-bottom-color: var(--fill-color);\n",
              "    }\n",
              "    90% {\n",
              "      border-color: transparent;\n",
              "      border-bottom-color: var(--fill-color);\n",
              "    }\n",
              "  }\n",
              "</style>\n",
              "\n",
              "  <script>\n",
              "    async function quickchart(key) {\n",
              "      const quickchartButtonEl =\n",
              "        document.querySelector('#' + key + ' button');\n",
              "      quickchartButtonEl.disabled = true;  // To prevent multiple clicks.\n",
              "      quickchartButtonEl.classList.add('colab-df-spinner');\n",
              "      try {\n",
              "        const charts = await google.colab.kernel.invokeFunction(\n",
              "            'suggestCharts', [key], {});\n",
              "      } catch (error) {\n",
              "        console.error('Error during call to suggestCharts:', error);\n",
              "      }\n",
              "      quickchartButtonEl.classList.remove('colab-df-spinner');\n",
              "      quickchartButtonEl.classList.add('colab-df-quickchart-complete');\n",
              "    }\n",
              "    (() => {\n",
              "      let quickchartButtonEl =\n",
              "        document.querySelector('#df-0ad683a3-96a4-4df0-8558-f479cc3dc659 button');\n",
              "      quickchartButtonEl.style.display =\n",
              "        google.colab.kernel.accessAllowed ? 'block' : 'none';\n",
              "    })();\n",
              "  </script>\n",
              "</div>\n",
              "    </div>\n",
              "  </div>\n"
            ]
          },
          "metadata": {},
          "execution_count": 47
        }
      ]
    },
    {
      "cell_type": "code",
      "source": [
        "# Plot the actual closing prices and predictions\n",
        "plt.figure(figsize=(10, 6))\n",
        "plt.plot(df['Date'], df['Close'], label='Actual Close Price', color='blue')\n",
        "plt.plot(df['Date'], df['GRU Predictions'], label='Predicted Close Price', color='red')\n",
        "plt.title('Close Price Prediction using GRU')\n",
        "plt.xlabel('Date')\n",
        "plt.ylabel('Closing Price')\n",
        "plt.legend()\n",
        "plt.show()"
      ],
      "metadata": {
        "colab": {
          "base_uri": "https://localhost:8080/",
          "height": 564
        },
        "id": "-QbHRXD2fyil",
        "outputId": "eb131e6b-8be3-42fa-edca-912434ee0424"
      },
      "execution_count": null,
      "outputs": [
        {
          "output_type": "display_data",
          "data": {
            "text/plain": [
              "<Figure size 1000x600 with 1 Axes>"
            ],
            "image/png": "[encoded data removed]"
          },
          "metadata": {}
        }
      ]
    },
    {
      "cell_type": "markdown",
      "source": [
        "#### **Model Evaluation**"
      ],
      "metadata": {
        "id": "G8scK5qNgiMd"
      }
    },
    {
      "cell_type": "code",
      "source": [
        "from sklearn.metrics import mean_squared_error\n",
        "from math import sqrt"
      ],
      "metadata": {
        "id": "4OnldFvQgjDV"
      },
      "execution_count": null,
      "outputs": []
    },
    {
      "cell_type": "code",
      "source": [
        "# Perform prediction on training data\n",
        "y_pred = gru_model.predict(X_train)\n",
        "\n",
        "# Calculate MSE\n",
        "mse_gru = mean_squared_error(Y_train, y_pred)\n",
        "\n",
        "# Calculating RMSE\n",
        "rmse_gru = sqrt(mse_gru)\n",
        "\n",
        "# Calculating MAPE\n",
        "mape_gru = np.mean(np.abs((Y_train - y_pred) / np.maximum(1e-8, np.abs(Y_train)))) * 100\n",
        "\n",
        "# Displaying results\n",
        "print(f'Mean Squared Error (MSE): {mse_gru}')\n",
        "print(f'Root Mean Squared Error (RMSE): {rmse_gru}')\n",
        "print(f'Mean Absolute Percentage Error (MAPE): {mape_gru}%')"
      ],
      "metadata": {
        "colab": {
          "base_uri": "https://localhost:8080/"
        },
        "id": "8C_diGezguw_",
        "outputId": "f341488c-d3b9-4026-f013-226e31f73c46"
      },
      "execution_count": null,
      "outputs": [
        {
          "output_type": "stream",
          "name": "stdout",
          "text": [
            "37/37 [==============================] - 0s 3ms/step\n",
            "Mean Squared Error (MSE): 0.00045935732667442576\n",
            "Root Mean Squared Error (RMSE): 0.021432622953675682\n",
            "Mean Absolute Percentage Error (MAPE): 610248.1363599781%\n"
          ]
        }
      ]
    },
    {
      "cell_type": "markdown",
      "source": [
        "#### **Saving GRU Model**"
      ],
      "metadata": {
        "id": "732jn4_Kg9FL"
      }
    },
    {
      "cell_type": "code",
      "source": [
        "from keras.models import load_model\n",
        "gru_model.save('ARTO_GRU_Model.h5')"
      ],
      "metadata": {
        "id": "es8vVDX7g8M3"
      },
      "execution_count": null,
      "outputs": []
    },
    {
      "cell_type": "markdown",
      "source": [
        "## **Conclusion**"
      ],
      "metadata": {
        "id": "zO5PUkRinPPI"
      }
    },
    {
      "cell_type": "code",
      "source": [
        "model_comparison = pd.DataFrame({'Model': ['LSTM','GRU'], 'MSE': [mse_lstm,mse_gru], 'RMSE': [rmse_lstm,rmse_gru], 'MAPE': [mape_lstm*100,mape_gru*100]})\n",
        "model_comparison"
      ],
      "metadata": {
        "colab": {
          "base_uri": "https://localhost:8080/",
          "height": 112
        },
        "id": "sIdUxsxQnTOm",
        "outputId": "6e4b2bf2-d466-4e7d-ae45-e606d7d281d0"
      },
      "execution_count": null,
      "outputs": [
        {
          "output_type": "execute_result",
          "data": {
            "text/plain": [
              "  Model       MSE      RMSE          MAPE\n",
              "0  LSTM  0.000189  0.013764  3.778506e+07\n",
              "1   GRU  0.000459  0.021433  6.102481e+07"
            ],
            "text/html": [
              "\n",
              "  <div id=\"df-7b66b88b-962d-485a-bb1c-06d02a95f648\" class=\"colab-df-container\">\n",
              "    <div>\n",
              "<style scoped>\n",
              "    .dataframe tbody tr th:only-of-type {\n",
              "        vertical-align: middle;\n",
              "    }\n",
              "\n",
              "    .dataframe tbody tr th {\n",
              "        vertical-align: top;\n",
              "    }\n",
              "\n",
              "    .dataframe thead th {\n",
              "        text-align: right;\n",
              "    }\n",
              "</style>\n",
              "<table border=\"1\" class=\"dataframe\">\n",
              "  <thead>\n",
              "    <tr style=\"text-align: right;\">\n",
              "      <th></th>\n",
              "      <th>Model</th>\n",
              "      <th>MSE</th>\n",
              "      <th>RMSE</th>\n",
              "      <th>MAPE</th>\n",
              "    </tr>\n",
              "  </thead>\n",
              "  <tbody>\n",
              "    <tr>\n",
              "      <th>0</th>\n",
              "      <td>LSTM</td>\n",
              "      <td>0.000189</td>\n",
              "      <td>0.013764</td>\n",
              "      <td>3.778506e+07</td>\n",
              "    </tr>\n",
              "    <tr>\n",
              "      <th>1</th>\n",
              "      <td>GRU</td>\n",
              "      <td>0.000459</td>\n",
              "      <td>0.021433</td>\n",
              "      <td>6.102481e+07</td>\n",
              "    </tr>\n",
              "  </tbody>\n",
              "</table>\n",
              "</div>\n",
              "    <div class=\"colab-df-buttons\">\n",
              "\n",
              "  <div class=\"colab-df-container\">\n",
              "    <button class=\"colab-df-convert\" onclick=\"convertToInteractive('df-7b66b88b-962d-485a-bb1c-06d02a95f648')\"\n",
              "            title=\"Convert this dataframe to an interactive table.\"\n",
              "            style=\"display:none;\">\n",
              "\n",
              "  <svg xmlns=\"http://www.w3.org/2000/svg\" height=\"24px\" viewBox=\"0 -960 960 960\">\n",
              "    <path d=\"M120-120v-720h720v720H120Zm60-500h600v-160H180v160Zm220 220h160v-160H400v160Zm0 220h160v-160H400v160ZM180-400h160v-160H180v160Zm440 0h160v-160H620v160ZM180-180h160v-160H180v160Zm440 0h160v-160H620v160Z\"/>\n",
              "  </svg>\n",
              "    </button>\n",
              "\n",
              "  <style>\n",
              "    .colab-df-container {\n",
              "      display:flex;\n",
              "      gap: 12px;\n",
              "    }\n",
              "\n",
              "    .colab-df-convert {\n",
              "      background-color: #E8F0FE;\n",
              "      border: none;\n",
              "      border-radius: 50%;\n",
              "      cursor: pointer;\n",
              "      display: none;\n",
              "      fill: #1967D2;\n",
              "      height: 32px;\n",
              "      padding: 0 0 0 0;\n",
              "      width: 32px;\n",
              "    }\n",
              "\n",
              "    .colab-df-convert:hover {\n",
              "      background-color: #E2EBFA;\n",
              "      box-shadow: 0px 1px 2px rgba(60, 64, 67, 0.3), 0px 1px 3px 1px rgba(60, 64, 67, 0.15);\n",
              "      fill: #174EA6;\n",
              "    }\n",
              "\n",
              "    .colab-df-buttons div {\n",
              "      margin-bottom: 4px;\n",
              "    }\n",
              "\n",
              "    [theme=dark] .colab-df-convert {\n",
              "      background-color: #3B4455;\n",
              "      fill: #D2E3FC;\n",
              "    }\n",
              "\n",
              "    [theme=dark] .colab-df-convert:hover {\n",
              "      background-color: #434B5C;\n",
              "      box-shadow: 0px 1px 3px 1px rgba(0, 0, 0, 0.15);\n",
              "      filter: drop-shadow(0px 1px 2px rgba(0, 0, 0, 0.3));\n",
              "      fill: #FFFFFF;\n",
              "    }\n",
              "  </style>\n",
              "\n",
              "    <script>\n",
              "      const buttonEl =\n",
              "        document.querySelector('#df-7b66b88b-962d-485a-bb1c-06d02a95f648 button.colab-df-convert');\n",
              "      buttonEl.style.display =\n",
              "        google.colab.kernel.accessAllowed ? 'block' : 'none';\n",
              "\n",
              "      async function convertToInteractive(key) {\n",
              "        const element = document.querySelector('#df-7b66b88b-962d-485a-bb1c-06d02a95f648');\n",
              "        const dataTable =\n",
              "          await google.colab.kernel.invokeFunction('convertToInteractive',\n",
              "                                                    [key], {});\n",
              "        if (!dataTable) return;\n",
              "\n",
              "        const docLinkHtml = 'Like what you see? Visit the ' +\n",
              "          '<a target=\"_blank\" href=https://colab.research.google.com/notebooks/data_table.ipynb>data table notebook</a>'\n",
              "          + ' to learn more about interactive tables.';\n",
              "        element.innerHTML = '';\n",
              "        dataTable['output_type'] = 'display_data';\n",
              "        await google.colab.output.renderOutput(dataTable, element);\n",
              "        const docLink = document.createElement('div');\n",
              "        docLink.innerHTML = docLinkHtml;\n",
              "        element.appendChild(docLink);\n",
              "      }\n",
              "    </script>\n",
              "  </div>\n",
              "\n",
              "\n",
              "<div id=\"df-0ebc90c5-6345-458f-8866-9baad1e638d3\">\n",
              "  <button class=\"colab-df-quickchart\" onclick=\"quickchart('df-0ebc90c5-6345-458f-8866-9baad1e638d3')\"\n",
              "            title=\"Suggest charts\"\n",
              "            style=\"display:none;\">\n",
              "\n",
              "<svg xmlns=\"http://www.w3.org/2000/svg\" height=\"24px\"viewBox=\"0 0 24 24\"\n",
              "     width=\"24px\">\n",
              "    <g>\n",
              "        <path d=\"M19 3H5c-1.1 0-2 .9-2 2v14c0 1.1.9 2 2 2h14c1.1 0 2-.9 2-2V5c0-1.1-.9-2-2-2zM9 17H7v-7h2v7zm4 0h-2V7h2v10zm4 0h-2v-4h2v4z\"/>\n",
              "    </g>\n",
              "</svg>\n",
              "  </button>\n",
              "\n",
              "<style>\n",
              "  .colab-df-quickchart {\n",
              "      --bg-color: #E8F0FE;\n",
              "      --fill-color: #1967D2;\n",
              "      --hover-bg-color: #E2EBFA;\n",
              "      --hover-fill-color: #174EA6;\n",
              "      --disabled-fill-color: #AAA;\n",
              "      --disabled-bg-color: #DDD;\n",
              "  }\n",
              "\n",
              "  [theme=dark] .colab-df-quickchart {\n",
              "      --bg-color: #3B4455;\n",
              "      --fill-color: #D2E3FC;\n",
              "      --hover-bg-color: #434B5C;\n",
              "      --hover-fill-color: #FFFFFF;\n",
              "      --disabled-bg-color: #3B4455;\n",
              "      --disabled-fill-color: #666;\n",
              "  }\n",
              "\n",
              "  .colab-df-quickchart {\n",
              "    background-color: var(--bg-color);\n",
              "    border: none;\n",
              "    border-radius: 50%;\n",
              "    cursor: pointer;\n",
              "    display: none;\n",
              "    fill: var(--fill-color);\n",
              "    height: 32px;\n",
              "    padding: 0;\n",
              "    width: 32px;\n",
              "  }\n",
              "\n",
              "  .colab-df-quickchart:hover {\n",
              "    background-color: var(--hover-bg-color);\n",
              "    box-shadow: 0 1px 2px rgba(60, 64, 67, 0.3), 0 1px 3px 1px rgba(60, 64, 67, 0.15);\n",
              "    fill: var(--button-hover-fill-color);\n",
              "  }\n",
              "\n",
              "  .colab-df-quickchart-complete:disabled,\n",
              "  .colab-df-quickchart-complete:disabled:hover {\n",
              "    background-color: var(--disabled-bg-color);\n",
              "    fill: var(--disabled-fill-color);\n",
              "    box-shadow: none;\n",
              "  }\n",
              "\n",
              "  .colab-df-spinner {\n",
              "    border: 2px solid var(--fill-color);\n",
              "    border-color: transparent;\n",
              "    border-bottom-color: var(--fill-color);\n",
              "    animation:\n",
              "      spin 1s steps(1) infinite;\n",
              "  }\n",
              "\n",
              "  @keyframes spin {\n",
              "    0% {\n",
              "      border-color: transparent;\n",
              "      border-bottom-color: var(--fill-color);\n",
              "      border-left-color: var(--fill-color);\n",
              "    }\n",
              "    20% {\n",
              "      border-color: transparent;\n",
              "      border-left-color: var(--fill-color);\n",
              "      border-top-color: var(--fill-color);\n",
              "    }\n",
              "    30% {\n",
              "      border-color: transparent;\n",
              "      border-left-color: var(--fill-color);\n",
              "      border-top-color: var(--fill-color);\n",
              "      border-right-color: var(--fill-color);\n",
              "    }\n",
              "    40% {\n",
              "      border-color: transparent;\n",
              "      border-right-color: var(--fill-color);\n",
              "      border-top-color: var(--fill-color);\n",
              "    }\n",
              "    60% {\n",
              "      border-color: transparent;\n",
              "      border-right-color: var(--fill-color);\n",
              "    }\n",
              "    80% {\n",
              "      border-color: transparent;\n",
              "      border-right-color: var(--fill-color);\n",
              "      border-bottom-color: var(--fill-color);\n",
              "    }\n",
              "    90% {\n",
              "      border-color: transparent;\n",
              "      border-bottom-color: var(--fill-color);\n",
              "    }\n",
              "  }\n",
              "</style>\n",
              "\n",
              "  <script>\n",
              "    async function quickchart(key) {\n",
              "      const quickchartButtonEl =\n",
              "        document.querySelector('#' + key + ' button');\n",
              "      quickchartButtonEl.disabled = true;  // To prevent multiple clicks.\n",
              "      quickchartButtonEl.classList.add('colab-df-spinner');\n",
              "      try {\n",
              "        const charts = await google.colab.kernel.invokeFunction(\n",
              "            'suggestCharts', [key], {});\n",
              "      } catch (error) {\n",
              "        console.error('Error during call to suggestCharts:', error);\n",
              "      }\n",
              "      quickchartButtonEl.classList.remove('colab-df-spinner');\n",
              "      quickchartButtonEl.classList.add('colab-df-quickchart-complete');\n",
              "    }\n",
              "    (() => {\n",
              "      let quickchartButtonEl =\n",
              "        document.querySelector('#df-0ebc90c5-6345-458f-8866-9baad1e638d3 button');\n",
              "      quickchartButtonEl.style.display =\n",
              "        google.colab.kernel.accessAllowed ? 'block' : 'none';\n",
              "    })();\n",
              "  </script>\n",
              "</div>\n",
              "    </div>\n",
              "  </div>\n"
            ]
          },
          "metadata": {},
          "execution_count": 56
        }
      ]
    }
  ]
}