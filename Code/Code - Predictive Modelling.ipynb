{
  "nbformat": 4,
  "nbformat_minor": 0,
  "metadata": {
    "colab": {
      "provenance": []
    },
    "kernelspec": {
      "name": "python3",
      "display_name": "Python 3"
    },
    "language_info": {
      "name": "python"
    }
  },
  "cells": [
    {
      "cell_type": "markdown",
      "source": [
        "# **Stock (IHSG/JKSE) Predictive Modelling**"
      ],
      "metadata": {
        "id": "KzE8pRhaC_T_"
      }
    },
    {
      "cell_type": "markdown",
      "source": [
        "## **Data Load & Understanding**"
      ],
      "metadata": {
        "id": "Ukec2hEYDHZZ"
      }
    },
    {
      "cell_type": "code",
      "execution_count": 443,
      "metadata": {
        "id": "QnG8pxmUAnHP"
      },
      "outputs": [],
      "source": [
        "import os\n",
        "import pandas as pd\n",
        "import numpy as np\n",
        "import matplotlib.pyplot as plt\n",
        "import matplotlib.dates as mdates"
      ]
    },
    {
      "cell_type": "code",
      "source": [
        "# Connecting Google Drive and Google Colab\n",
        "from google.colab import drive\n",
        "drive.mount('/content/gdrive')\n",
        "\n",
        "# Retrieve the dataset\n",
        "dataset = '/content/gdrive/MyDrive/Project/Stock (IHSG) Prediction/Data/jkse_data_cleaned.csv'\n",
        "df = pd.read_csv(dataset)"
      ],
      "metadata": {
        "colab": {
          "base_uri": "https://localhost:8080/"
        },
        "id": "jwaY7SaFA9rj",
        "outputId": "8258fc06-f937-4379-8df3-ea57084001ca"
      },
      "execution_count": 444,
      "outputs": [
        {
          "output_type": "stream",
          "name": "stdout",
          "text": [
            "Drive already mounted at /content/gdrive; to attempt to forcibly remount, call drive.mount(\"/content/gdrive\", force_remount=True).\n"
          ]
        }
      ]
    },
    {
      "cell_type": "markdown",
      "source": [
        "The data used in the research in this code is data that has been cleaned/pre-processed, so that the existing data is ready to be used in the modeling stage."
      ],
      "metadata": {
        "id": "34lJ4P7zDjR9"
      }
    },
    {
      "cell_type": "code",
      "source": [
        "# Display the contents of the dataset as a whole\n",
        "df"
      ],
      "metadata": {
        "colab": {
          "base_uri": "https://localhost:8080/",
          "height": 424
        },
        "id": "kRMHIR2XB4RH",
        "outputId": "71b1f8b1-6465-4891-c224-35cbaa8840e9"
      },
      "execution_count": 445,
      "outputs": [
        {
          "output_type": "execute_result",
          "data": {
            "text/plain": [
              "            Date         Open         High          Low        Close  \\\n",
              "0     2018-12-04  6118.633789  6152.859863  6118.469238  6152.859863   \n",
              "1     2018-12-05  6097.644043  6133.120117  6064.832031  6133.120117   \n",
              "2     2018-12-06  6095.006836  6131.631836  6086.131836  6115.493164   \n",
              "3     2018-12-07  6108.950195  6141.470215  6103.176758  6126.355957   \n",
              "4     2018-12-10  6103.097168  6121.780762  6078.631836  6111.359863   \n",
              "...          ...          ...          ...          ...          ...   \n",
              "1104  2023-11-27  7009.630859  7061.827148  7008.812988  7013.405762   \n",
              "1105  2023-11-28  7013.405762  7067.143066  7010.825195  7041.073242   \n",
              "1106  2023-11-29  7041.073242  7070.190918  7020.012207  7036.086914   \n",
              "1107  2023-11-30  7036.086914  7109.608887  7036.086914  7080.741211   \n",
              "1108  2023-12-01  7080.061035  7083.855957  7022.765137  7059.905762   \n",
              "\n",
              "        Adj Close       Volume  \n",
              "0     6152.859863   65189800.0  \n",
              "1     6133.120117   67897200.0  \n",
              "2     6115.493164   65929300.0  \n",
              "3     6126.355957   66079200.0  \n",
              "4     6111.359863   56866400.0  \n",
              "...           ...          ...  \n",
              "1104  7013.405762  163462500.0  \n",
              "1105  7041.073242  167633600.0  \n",
              "1106  7036.086914  167555900.0  \n",
              "1107  7080.741211  259745500.0  \n",
              "1108  7059.905762  265990100.0  \n",
              "\n",
              "[1109 rows x 7 columns]"
            ],
            "text/html": [
              "\n",
              "  <div id=\"df-2eafded0-2d54-48fe-948d-34d85106ae49\" class=\"colab-df-container\">\n",
              "    <div>\n",
              "<style scoped>\n",
              "    .dataframe tbody tr th:only-of-type {\n",
              "        vertical-align: middle;\n",
              "    }\n",
              "\n",
              "    .dataframe tbody tr th {\n",
              "        vertical-align: top;\n",
              "    }\n",
              "\n",
              "    .dataframe thead th {\n",
              "        text-align: right;\n",
              "    }\n",
              "</style>\n",
              "<table border=\"1\" class=\"dataframe\">\n",
              "  <thead>\n",
              "    <tr style=\"text-align: right;\">\n",
              "      <th></th>\n",
              "      <th>Date</th>\n",
              "      <th>Open</th>\n",
              "      <th>High</th>\n",
              "      <th>Low</th>\n",
              "      <th>Close</th>\n",
              "      <th>Adj Close</th>\n",
              "      <th>Volume</th>\n",
              "    </tr>\n",
              "  </thead>\n",
              "  <tbody>\n",
              "    <tr>\n",
              "      <th>0</th>\n",
              "      <td>2018-12-04</td>\n",
              "      <td>6118.633789</td>\n",
              "      <td>6152.859863</td>\n",
              "      <td>6118.469238</td>\n",
              "      <td>6152.859863</td>\n",
              "      <td>6152.859863</td>\n",
              "      <td>65189800.0</td>\n",
              "    </tr>\n",
              "    <tr>\n",
              "      <th>1</th>\n",
              "      <td>2018-12-05</td>\n",
              "      <td>6097.644043</td>\n",
              "      <td>6133.120117</td>\n",
              "      <td>6064.832031</td>\n",
              "      <td>6133.120117</td>\n",
              "      <td>6133.120117</td>\n",
              "      <td>67897200.0</td>\n",
              "    </tr>\n",
              "    <tr>\n",
              "      <th>2</th>\n",
              "      <td>2018-12-06</td>\n",
              "      <td>6095.006836</td>\n",
              "      <td>6131.631836</td>\n",
              "      <td>6086.131836</td>\n",
              "      <td>6115.493164</td>\n",
              "      <td>6115.493164</td>\n",
              "      <td>65929300.0</td>\n",
              "    </tr>\n",
              "    <tr>\n",
              "      <th>3</th>\n",
              "      <td>2018-12-07</td>\n",
              "      <td>6108.950195</td>\n",
              "      <td>6141.470215</td>\n",
              "      <td>6103.176758</td>\n",
              "      <td>6126.355957</td>\n",
              "      <td>6126.355957</td>\n",
              "      <td>66079200.0</td>\n",
              "    </tr>\n",
              "    <tr>\n",
              "      <th>4</th>\n",
              "      <td>2018-12-10</td>\n",
              "      <td>6103.097168</td>\n",
              "      <td>6121.780762</td>\n",
              "      <td>6078.631836</td>\n",
              "      <td>6111.359863</td>\n",
              "      <td>6111.359863</td>\n",
              "      <td>56866400.0</td>\n",
              "    </tr>\n",
              "    <tr>\n",
              "      <th>...</th>\n",
              "      <td>...</td>\n",
              "      <td>...</td>\n",
              "      <td>...</td>\n",
              "      <td>...</td>\n",
              "      <td>...</td>\n",
              "      <td>...</td>\n",
              "      <td>...</td>\n",
              "    </tr>\n",
              "    <tr>\n",
              "      <th>1104</th>\n",
              "      <td>2023-11-27</td>\n",
              "      <td>7009.630859</td>\n",
              "      <td>7061.827148</td>\n",
              "      <td>7008.812988</td>\n",
              "      <td>7013.405762</td>\n",
              "      <td>7013.405762</td>\n",
              "      <td>163462500.0</td>\n",
              "    </tr>\n",
              "    <tr>\n",
              "      <th>1105</th>\n",
              "      <td>2023-11-28</td>\n",
              "      <td>7013.405762</td>\n",
              "      <td>7067.143066</td>\n",
              "      <td>7010.825195</td>\n",
              "      <td>7041.073242</td>\n",
              "      <td>7041.073242</td>\n",
              "      <td>167633600.0</td>\n",
              "    </tr>\n",
              "    <tr>\n",
              "      <th>1106</th>\n",
              "      <td>2023-11-29</td>\n",
              "      <td>7041.073242</td>\n",
              "      <td>7070.190918</td>\n",
              "      <td>7020.012207</td>\n",
              "      <td>7036.086914</td>\n",
              "      <td>7036.086914</td>\n",
              "      <td>167555900.0</td>\n",
              "    </tr>\n",
              "    <tr>\n",
              "      <th>1107</th>\n",
              "      <td>2023-11-30</td>\n",
              "      <td>7036.086914</td>\n",
              "      <td>7109.608887</td>\n",
              "      <td>7036.086914</td>\n",
              "      <td>7080.741211</td>\n",
              "      <td>7080.741211</td>\n",
              "      <td>259745500.0</td>\n",
              "    </tr>\n",
              "    <tr>\n",
              "      <th>1108</th>\n",
              "      <td>2023-12-01</td>\n",
              "      <td>7080.061035</td>\n",
              "      <td>7083.855957</td>\n",
              "      <td>7022.765137</td>\n",
              "      <td>7059.905762</td>\n",
              "      <td>7059.905762</td>\n",
              "      <td>265990100.0</td>\n",
              "    </tr>\n",
              "  </tbody>\n",
              "</table>\n",
              "<p>1109 rows × 7 columns</p>\n",
              "</div>\n",
              "    <div class=\"colab-df-buttons\">\n",
              "\n",
              "  <div class=\"colab-df-container\">\n",
              "    <button class=\"colab-df-convert\" onclick=\"convertToInteractive('df-2eafded0-2d54-48fe-948d-34d85106ae49')\"\n",
              "            title=\"Convert this dataframe to an interactive table.\"\n",
              "            style=\"display:none;\">\n",
              "\n",
              "  <svg xmlns=\"http://www.w3.org/2000/svg\" height=\"24px\" viewBox=\"0 -960 960 960\">\n",
              "    <path d=\"M120-120v-720h720v720H120Zm60-500h600v-160H180v160Zm220 220h160v-160H400v160Zm0 220h160v-160H400v160ZM180-400h160v-160H180v160Zm440 0h160v-160H620v160ZM180-180h160v-160H180v160Zm440 0h160v-160H620v160Z\"/>\n",
              "  </svg>\n",
              "    </button>\n",
              "\n",
              "  <style>\n",
              "    .colab-df-container {\n",
              "      display:flex;\n",
              "      gap: 12px;\n",
              "    }\n",
              "\n",
              "    .colab-df-convert {\n",
              "      background-color: #E8F0FE;\n",
              "      border: none;\n",
              "      border-radius: 50%;\n",
              "      cursor: pointer;\n",
              "      display: none;\n",
              "      fill: #1967D2;\n",
              "      height: 32px;\n",
              "      padding: 0 0 0 0;\n",
              "      width: 32px;\n",
              "    }\n",
              "\n",
              "    .colab-df-convert:hover {\n",
              "      background-color: #E2EBFA;\n",
              "      box-shadow: 0px 1px 2px rgba(60, 64, 67, 0.3), 0px 1px 3px 1px rgba(60, 64, 67, 0.15);\n",
              "      fill: #174EA6;\n",
              "    }\n",
              "\n",
              "    .colab-df-buttons div {\n",
              "      margin-bottom: 4px;\n",
              "    }\n",
              "\n",
              "    [theme=dark] .colab-df-convert {\n",
              "      background-color: #3B4455;\n",
              "      fill: #D2E3FC;\n",
              "    }\n",
              "\n",
              "    [theme=dark] .colab-df-convert:hover {\n",
              "      background-color: #434B5C;\n",
              "      box-shadow: 0px 1px 3px 1px rgba(0, 0, 0, 0.15);\n",
              "      filter: drop-shadow(0px 1px 2px rgba(0, 0, 0, 0.3));\n",
              "      fill: #FFFFFF;\n",
              "    }\n",
              "  </style>\n",
              "\n",
              "    <script>\n",
              "      const buttonEl =\n",
              "        document.querySelector('#df-2eafded0-2d54-48fe-948d-34d85106ae49 button.colab-df-convert');\n",
              "      buttonEl.style.display =\n",
              "        google.colab.kernel.accessAllowed ? 'block' : 'none';\n",
              "\n",
              "      async function convertToInteractive(key) {\n",
              "        const element = document.querySelector('#df-2eafded0-2d54-48fe-948d-34d85106ae49');\n",
              "        const dataTable =\n",
              "          await google.colab.kernel.invokeFunction('convertToInteractive',\n",
              "                                                    [key], {});\n",
              "        if (!dataTable) return;\n",
              "\n",
              "        const docLinkHtml = 'Like what you see? Visit the ' +\n",
              "          '<a target=\"_blank\" href=https://colab.research.google.com/notebooks/data_table.ipynb>data table notebook</a>'\n",
              "          + ' to learn more about interactive tables.';\n",
              "        element.innerHTML = '';\n",
              "        dataTable['output_type'] = 'display_data';\n",
              "        await google.colab.output.renderOutput(dataTable, element);\n",
              "        const docLink = document.createElement('div');\n",
              "        docLink.innerHTML = docLinkHtml;\n",
              "        element.appendChild(docLink);\n",
              "      }\n",
              "    </script>\n",
              "  </div>\n",
              "\n",
              "\n",
              "<div id=\"df-607e4e1c-e343-41ab-bdc8-6dc84748b4f4\">\n",
              "  <button class=\"colab-df-quickchart\" onclick=\"quickchart('df-607e4e1c-e343-41ab-bdc8-6dc84748b4f4')\"\n",
              "            title=\"Suggest charts\"\n",
              "            style=\"display:none;\">\n",
              "\n",
              "<svg xmlns=\"http://www.w3.org/2000/svg\" height=\"24px\"viewBox=\"0 0 24 24\"\n",
              "     width=\"24px\">\n",
              "    <g>\n",
              "        <path d=\"M19 3H5c-1.1 0-2 .9-2 2v14c0 1.1.9 2 2 2h14c1.1 0 2-.9 2-2V5c0-1.1-.9-2-2-2zM9 17H7v-7h2v7zm4 0h-2V7h2v10zm4 0h-2v-4h2v4z\"/>\n",
              "    </g>\n",
              "</svg>\n",
              "  </button>\n",
              "\n",
              "<style>\n",
              "  .colab-df-quickchart {\n",
              "      --bg-color: #E8F0FE;\n",
              "      --fill-color: #1967D2;\n",
              "      --hover-bg-color: #E2EBFA;\n",
              "      --hover-fill-color: #174EA6;\n",
              "      --disabled-fill-color: #AAA;\n",
              "      --disabled-bg-color: #DDD;\n",
              "  }\n",
              "\n",
              "  [theme=dark] .colab-df-quickchart {\n",
              "      --bg-color: #3B4455;\n",
              "      --fill-color: #D2E3FC;\n",
              "      --hover-bg-color: #434B5C;\n",
              "      --hover-fill-color: #FFFFFF;\n",
              "      --disabled-bg-color: #3B4455;\n",
              "      --disabled-fill-color: #666;\n",
              "  }\n",
              "\n",
              "  .colab-df-quickchart {\n",
              "    background-color: var(--bg-color);\n",
              "    border: none;\n",
              "    border-radius: 50%;\n",
              "    cursor: pointer;\n",
              "    display: none;\n",
              "    fill: var(--fill-color);\n",
              "    height: 32px;\n",
              "    padding: 0;\n",
              "    width: 32px;\n",
              "  }\n",
              "\n",
              "  .colab-df-quickchart:hover {\n",
              "    background-color: var(--hover-bg-color);\n",
              "    box-shadow: 0 1px 2px rgba(60, 64, 67, 0.3), 0 1px 3px 1px rgba(60, 64, 67, 0.15);\n",
              "    fill: var(--button-hover-fill-color);\n",
              "  }\n",
              "\n",
              "  .colab-df-quickchart-complete:disabled,\n",
              "  .colab-df-quickchart-complete:disabled:hover {\n",
              "    background-color: var(--disabled-bg-color);\n",
              "    fill: var(--disabled-fill-color);\n",
              "    box-shadow: none;\n",
              "  }\n",
              "\n",
              "  .colab-df-spinner {\n",
              "    border: 2px solid var(--fill-color);\n",
              "    border-color: transparent;\n",
              "    border-bottom-color: var(--fill-color);\n",
              "    animation:\n",
              "      spin 1s steps(1) infinite;\n",
              "  }\n",
              "\n",
              "  @keyframes spin {\n",
              "    0% {\n",
              "      border-color: transparent;\n",
              "      border-bottom-color: var(--fill-color);\n",
              "      border-left-color: var(--fill-color);\n",
              "    }\n",
              "    20% {\n",
              "      border-color: transparent;\n",
              "      border-left-color: var(--fill-color);\n",
              "      border-top-color: var(--fill-color);\n",
              "    }\n",
              "    30% {\n",
              "      border-color: transparent;\n",
              "      border-left-color: var(--fill-color);\n",
              "      border-top-color: var(--fill-color);\n",
              "      border-right-color: var(--fill-color);\n",
              "    }\n",
              "    40% {\n",
              "      border-color: transparent;\n",
              "      border-right-color: var(--fill-color);\n",
              "      border-top-color: var(--fill-color);\n",
              "    }\n",
              "    60% {\n",
              "      border-color: transparent;\n",
              "      border-right-color: var(--fill-color);\n",
              "    }\n",
              "    80% {\n",
              "      border-color: transparent;\n",
              "      border-right-color: var(--fill-color);\n",
              "      border-bottom-color: var(--fill-color);\n",
              "    }\n",
              "    90% {\n",
              "      border-color: transparent;\n",
              "      border-bottom-color: var(--fill-color);\n",
              "    }\n",
              "  }\n",
              "</style>\n",
              "\n",
              "  <script>\n",
              "    async function quickchart(key) {\n",
              "      const quickchartButtonEl =\n",
              "        document.querySelector('#' + key + ' button');\n",
              "      quickchartButtonEl.disabled = true;  // To prevent multiple clicks.\n",
              "      quickchartButtonEl.classList.add('colab-df-spinner');\n",
              "      try {\n",
              "        const charts = await google.colab.kernel.invokeFunction(\n",
              "            'suggestCharts', [key], {});\n",
              "      } catch (error) {\n",
              "        console.error('Error during call to suggestCharts:', error);\n",
              "      }\n",
              "      quickchartButtonEl.classList.remove('colab-df-spinner');\n",
              "      quickchartButtonEl.classList.add('colab-df-quickchart-complete');\n",
              "    }\n",
              "    (() => {\n",
              "      let quickchartButtonEl =\n",
              "        document.querySelector('#df-607e4e1c-e343-41ab-bdc8-6dc84748b4f4 button');\n",
              "      quickchartButtonEl.style.display =\n",
              "        google.colab.kernel.accessAllowed ? 'block' : 'none';\n",
              "    })();\n",
              "  </script>\n",
              "</div>\n",
              "    </div>\n",
              "  </div>\n"
            ]
          },
          "metadata": {},
          "execution_count": 445
        }
      ]
    },
    {
      "cell_type": "code",
      "source": [
        "# Checking the data type\n",
        "df.info()"
      ],
      "metadata": {
        "colab": {
          "base_uri": "https://localhost:8080/"
        },
        "id": "i2zHdTLdC8gB",
        "outputId": "637812e0-18da-4391-85bf-50a33273fc70"
      },
      "execution_count": 446,
      "outputs": [
        {
          "output_type": "stream",
          "name": "stdout",
          "text": [
            "<class 'pandas.core.frame.DataFrame'>\n",
            "RangeIndex: 1109 entries, 0 to 1108\n",
            "Data columns (total 7 columns):\n",
            " #   Column     Non-Null Count  Dtype  \n",
            "---  ------     --------------  -----  \n",
            " 0   Date       1109 non-null   object \n",
            " 1   Open       1109 non-null   float64\n",
            " 2   High       1109 non-null   float64\n",
            " 3   Low        1109 non-null   float64\n",
            " 4   Close      1109 non-null   float64\n",
            " 5   Adj Close  1109 non-null   float64\n",
            " 6   Volume     1109 non-null   float64\n",
            "dtypes: float64(6), object(1)\n",
            "memory usage: 60.8+ KB\n"
          ]
        }
      ]
    },
    {
      "cell_type": "code",
      "source": [
        "# Check the number of columns and rows in the data\n",
        "df.shape"
      ],
      "metadata": {
        "colab": {
          "base_uri": "https://localhost:8080/"
        },
        "id": "TBlx0iUtDPeb",
        "outputId": "b849ad22-719a-44c4-9c8b-3c05cb748128"
      },
      "execution_count": 447,
      "outputs": [
        {
          "output_type": "execute_result",
          "data": {
            "text/plain": [
              "(1109, 7)"
            ]
          },
          "metadata": {},
          "execution_count": 447
        }
      ]
    },
    {
      "cell_type": "code",
      "source": [
        "# Shows a description of the data\n",
        "df.describe()"
      ],
      "metadata": {
        "colab": {
          "base_uri": "https://localhost:8080/",
          "height": 300
        },
        "id": "wYrRToYvDc7g",
        "outputId": "ac8fe427-45d7-4d7a-f572-fe4ecae46ac0"
      },
      "execution_count": 448,
      "outputs": [
        {
          "output_type": "execute_result",
          "data": {
            "text/plain": [
              "              Open         High          Low        Close    Adj Close  \\\n",
              "count  1109.000000  1109.000000  1109.000000  1109.000000  1109.000000   \n",
              "mean   6445.025133  6475.924740  6408.374643  6442.644916  6442.644916   \n",
              "std     481.718958   483.819788   481.615478   482.851872   482.851872   \n",
              "min    5075.001953  5093.825195  5059.088867  5075.797852  5075.797852   \n",
              "25%    6132.039063  6157.762207  6099.238770  6133.120117  6133.120117   \n",
              "50%    6460.265137  6484.195801  6428.470215  6455.352051  6455.352051   \n",
              "75%    6843.098145  6880.756836  6809.715820  6843.790039  6843.790039   \n",
              "max    7317.895996  7377.495117  7278.198242  7318.016113  7318.016113   \n",
              "\n",
              "             Volume  \n",
              "count  1.109000e+03  \n",
              "mean   1.507634e+08  \n",
              "std    5.844165e+07  \n",
              "min    0.000000e+00  \n",
              "25%    1.105886e+08  \n",
              "50%    1.511679e+08  \n",
              "75%    1.886988e+08  \n",
              "max    3.007784e+08  "
            ],
            "text/html": [
              "\n",
              "  <div id=\"df-c0c73477-0261-4a01-ac4f-6e9e13061221\" class=\"colab-df-container\">\n",
              "    <div>\n",
              "<style scoped>\n",
              "    .dataframe tbody tr th:only-of-type {\n",
              "        vertical-align: middle;\n",
              "    }\n",
              "\n",
              "    .dataframe tbody tr th {\n",
              "        vertical-align: top;\n",
              "    }\n",
              "\n",
              "    .dataframe thead th {\n",
              "        text-align: right;\n",
              "    }\n",
              "</style>\n",
              "<table border=\"1\" class=\"dataframe\">\n",
              "  <thead>\n",
              "    <tr style=\"text-align: right;\">\n",
              "      <th></th>\n",
              "      <th>Open</th>\n",
              "      <th>High</th>\n",
              "      <th>Low</th>\n",
              "      <th>Close</th>\n",
              "      <th>Adj Close</th>\n",
              "      <th>Volume</th>\n",
              "    </tr>\n",
              "  </thead>\n",
              "  <tbody>\n",
              "    <tr>\n",
              "      <th>count</th>\n",
              "      <td>1109.000000</td>\n",
              "      <td>1109.000000</td>\n",
              "      <td>1109.000000</td>\n",
              "      <td>1109.000000</td>\n",
              "      <td>1109.000000</td>\n",
              "      <td>1.109000e+03</td>\n",
              "    </tr>\n",
              "    <tr>\n",
              "      <th>mean</th>\n",
              "      <td>6445.025133</td>\n",
              "      <td>6475.924740</td>\n",
              "      <td>6408.374643</td>\n",
              "      <td>6442.644916</td>\n",
              "      <td>6442.644916</td>\n",
              "      <td>1.507634e+08</td>\n",
              "    </tr>\n",
              "    <tr>\n",
              "      <th>std</th>\n",
              "      <td>481.718958</td>\n",
              "      <td>483.819788</td>\n",
              "      <td>481.615478</td>\n",
              "      <td>482.851872</td>\n",
              "      <td>482.851872</td>\n",
              "      <td>5.844165e+07</td>\n",
              "    </tr>\n",
              "    <tr>\n",
              "      <th>min</th>\n",
              "      <td>5075.001953</td>\n",
              "      <td>5093.825195</td>\n",
              "      <td>5059.088867</td>\n",
              "      <td>5075.797852</td>\n",
              "      <td>5075.797852</td>\n",
              "      <td>0.000000e+00</td>\n",
              "    </tr>\n",
              "    <tr>\n",
              "      <th>25%</th>\n",
              "      <td>6132.039063</td>\n",
              "      <td>6157.762207</td>\n",
              "      <td>6099.238770</td>\n",
              "      <td>6133.120117</td>\n",
              "      <td>6133.120117</td>\n",
              "      <td>1.105886e+08</td>\n",
              "    </tr>\n",
              "    <tr>\n",
              "      <th>50%</th>\n",
              "      <td>6460.265137</td>\n",
              "      <td>6484.195801</td>\n",
              "      <td>6428.470215</td>\n",
              "      <td>6455.352051</td>\n",
              "      <td>6455.352051</td>\n",
              "      <td>1.511679e+08</td>\n",
              "    </tr>\n",
              "    <tr>\n",
              "      <th>75%</th>\n",
              "      <td>6843.098145</td>\n",
              "      <td>6880.756836</td>\n",
              "      <td>6809.715820</td>\n",
              "      <td>6843.790039</td>\n",
              "      <td>6843.790039</td>\n",
              "      <td>1.886988e+08</td>\n",
              "    </tr>\n",
              "    <tr>\n",
              "      <th>max</th>\n",
              "      <td>7317.895996</td>\n",
              "      <td>7377.495117</td>\n",
              "      <td>7278.198242</td>\n",
              "      <td>7318.016113</td>\n",
              "      <td>7318.016113</td>\n",
              "      <td>3.007784e+08</td>\n",
              "    </tr>\n",
              "  </tbody>\n",
              "</table>\n",
              "</div>\n",
              "    <div class=\"colab-df-buttons\">\n",
              "\n",
              "  <div class=\"colab-df-container\">\n",
              "    <button class=\"colab-df-convert\" onclick=\"convertToInteractive('df-c0c73477-0261-4a01-ac4f-6e9e13061221')\"\n",
              "            title=\"Convert this dataframe to an interactive table.\"\n",
              "            style=\"display:none;\">\n",
              "\n",
              "  <svg xmlns=\"http://www.w3.org/2000/svg\" height=\"24px\" viewBox=\"0 -960 960 960\">\n",
              "    <path d=\"M120-120v-720h720v720H120Zm60-500h600v-160H180v160Zm220 220h160v-160H400v160Zm0 220h160v-160H400v160ZM180-400h160v-160H180v160Zm440 0h160v-160H620v160ZM180-180h160v-160H180v160Zm440 0h160v-160H620v160Z\"/>\n",
              "  </svg>\n",
              "    </button>\n",
              "\n",
              "  <style>\n",
              "    .colab-df-container {\n",
              "      display:flex;\n",
              "      gap: 12px;\n",
              "    }\n",
              "\n",
              "    .colab-df-convert {\n",
              "      background-color: #E8F0FE;\n",
              "      border: none;\n",
              "      border-radius: 50%;\n",
              "      cursor: pointer;\n",
              "      display: none;\n",
              "      fill: #1967D2;\n",
              "      height: 32px;\n",
              "      padding: 0 0 0 0;\n",
              "      width: 32px;\n",
              "    }\n",
              "\n",
              "    .colab-df-convert:hover {\n",
              "      background-color: #E2EBFA;\n",
              "      box-shadow: 0px 1px 2px rgba(60, 64, 67, 0.3), 0px 1px 3px 1px rgba(60, 64, 67, 0.15);\n",
              "      fill: #174EA6;\n",
              "    }\n",
              "\n",
              "    .colab-df-buttons div {\n",
              "      margin-bottom: 4px;\n",
              "    }\n",
              "\n",
              "    [theme=dark] .colab-df-convert {\n",
              "      background-color: #3B4455;\n",
              "      fill: #D2E3FC;\n",
              "    }\n",
              "\n",
              "    [theme=dark] .colab-df-convert:hover {\n",
              "      background-color: #434B5C;\n",
              "      box-shadow: 0px 1px 3px 1px rgba(0, 0, 0, 0.15);\n",
              "      filter: drop-shadow(0px 1px 2px rgba(0, 0, 0, 0.3));\n",
              "      fill: #FFFFFF;\n",
              "    }\n",
              "  </style>\n",
              "\n",
              "    <script>\n",
              "      const buttonEl =\n",
              "        document.querySelector('#df-c0c73477-0261-4a01-ac4f-6e9e13061221 button.colab-df-convert');\n",
              "      buttonEl.style.display =\n",
              "        google.colab.kernel.accessAllowed ? 'block' : 'none';\n",
              "\n",
              "      async function convertToInteractive(key) {\n",
              "        const element = document.querySelector('#df-c0c73477-0261-4a01-ac4f-6e9e13061221');\n",
              "        const dataTable =\n",
              "          await google.colab.kernel.invokeFunction('convertToInteractive',\n",
              "                                                    [key], {});\n",
              "        if (!dataTable) return;\n",
              "\n",
              "        const docLinkHtml = 'Like what you see? Visit the ' +\n",
              "          '<a target=\"_blank\" href=https://colab.research.google.com/notebooks/data_table.ipynb>data table notebook</a>'\n",
              "          + ' to learn more about interactive tables.';\n",
              "        element.innerHTML = '';\n",
              "        dataTable['output_type'] = 'display_data';\n",
              "        await google.colab.output.renderOutput(dataTable, element);\n",
              "        const docLink = document.createElement('div');\n",
              "        docLink.innerHTML = docLinkHtml;\n",
              "        element.appendChild(docLink);\n",
              "      }\n",
              "    </script>\n",
              "  </div>\n",
              "\n",
              "\n",
              "<div id=\"df-a031cd24-6d4c-456d-95c0-3a8f8a3f2676\">\n",
              "  <button class=\"colab-df-quickchart\" onclick=\"quickchart('df-a031cd24-6d4c-456d-95c0-3a8f8a3f2676')\"\n",
              "            title=\"Suggest charts\"\n",
              "            style=\"display:none;\">\n",
              "\n",
              "<svg xmlns=\"http://www.w3.org/2000/svg\" height=\"24px\"viewBox=\"0 0 24 24\"\n",
              "     width=\"24px\">\n",
              "    <g>\n",
              "        <path d=\"M19 3H5c-1.1 0-2 .9-2 2v14c0 1.1.9 2 2 2h14c1.1 0 2-.9 2-2V5c0-1.1-.9-2-2-2zM9 17H7v-7h2v7zm4 0h-2V7h2v10zm4 0h-2v-4h2v4z\"/>\n",
              "    </g>\n",
              "</svg>\n",
              "  </button>\n",
              "\n",
              "<style>\n",
              "  .colab-df-quickchart {\n",
              "      --bg-color: #E8F0FE;\n",
              "      --fill-color: #1967D2;\n",
              "      --hover-bg-color: #E2EBFA;\n",
              "      --hover-fill-color: #174EA6;\n",
              "      --disabled-fill-color: #AAA;\n",
              "      --disabled-bg-color: #DDD;\n",
              "  }\n",
              "\n",
              "  [theme=dark] .colab-df-quickchart {\n",
              "      --bg-color: #3B4455;\n",
              "      --fill-color: #D2E3FC;\n",
              "      --hover-bg-color: #434B5C;\n",
              "      --hover-fill-color: #FFFFFF;\n",
              "      --disabled-bg-color: #3B4455;\n",
              "      --disabled-fill-color: #666;\n",
              "  }\n",
              "\n",
              "  .colab-df-quickchart {\n",
              "    background-color: var(--bg-color);\n",
              "    border: none;\n",
              "    border-radius: 50%;\n",
              "    cursor: pointer;\n",
              "    display: none;\n",
              "    fill: var(--fill-color);\n",
              "    height: 32px;\n",
              "    padding: 0;\n",
              "    width: 32px;\n",
              "  }\n",
              "\n",
              "  .colab-df-quickchart:hover {\n",
              "    background-color: var(--hover-bg-color);\n",
              "    box-shadow: 0 1px 2px rgba(60, 64, 67, 0.3), 0 1px 3px 1px rgba(60, 64, 67, 0.15);\n",
              "    fill: var(--button-hover-fill-color);\n",
              "  }\n",
              "\n",
              "  .colab-df-quickchart-complete:disabled,\n",
              "  .colab-df-quickchart-complete:disabled:hover {\n",
              "    background-color: var(--disabled-bg-color);\n",
              "    fill: var(--disabled-fill-color);\n",
              "    box-shadow: none;\n",
              "  }\n",
              "\n",
              "  .colab-df-spinner {\n",
              "    border: 2px solid var(--fill-color);\n",
              "    border-color: transparent;\n",
              "    border-bottom-color: var(--fill-color);\n",
              "    animation:\n",
              "      spin 1s steps(1) infinite;\n",
              "  }\n",
              "\n",
              "  @keyframes spin {\n",
              "    0% {\n",
              "      border-color: transparent;\n",
              "      border-bottom-color: var(--fill-color);\n",
              "      border-left-color: var(--fill-color);\n",
              "    }\n",
              "    20% {\n",
              "      border-color: transparent;\n",
              "      border-left-color: var(--fill-color);\n",
              "      border-top-color: var(--fill-color);\n",
              "    }\n",
              "    30% {\n",
              "      border-color: transparent;\n",
              "      border-left-color: var(--fill-color);\n",
              "      border-top-color: var(--fill-color);\n",
              "      border-right-color: var(--fill-color);\n",
              "    }\n",
              "    40% {\n",
              "      border-color: transparent;\n",
              "      border-right-color: var(--fill-color);\n",
              "      border-top-color: var(--fill-color);\n",
              "    }\n",
              "    60% {\n",
              "      border-color: transparent;\n",
              "      border-right-color: var(--fill-color);\n",
              "    }\n",
              "    80% {\n",
              "      border-color: transparent;\n",
              "      border-right-color: var(--fill-color);\n",
              "      border-bottom-color: var(--fill-color);\n",
              "    }\n",
              "    90% {\n",
              "      border-color: transparent;\n",
              "      border-bottom-color: var(--fill-color);\n",
              "    }\n",
              "  }\n",
              "</style>\n",
              "\n",
              "  <script>\n",
              "    async function quickchart(key) {\n",
              "      const quickchartButtonEl =\n",
              "        document.querySelector('#' + key + ' button');\n",
              "      quickchartButtonEl.disabled = true;  // To prevent multiple clicks.\n",
              "      quickchartButtonEl.classList.add('colab-df-spinner');\n",
              "      try {\n",
              "        const charts = await google.colab.kernel.invokeFunction(\n",
              "            'suggestCharts', [key], {});\n",
              "      } catch (error) {\n",
              "        console.error('Error during call to suggestCharts:', error);\n",
              "      }\n",
              "      quickchartButtonEl.classList.remove('colab-df-spinner');\n",
              "      quickchartButtonEl.classList.add('colab-df-quickchart-complete');\n",
              "    }\n",
              "    (() => {\n",
              "      let quickchartButtonEl =\n",
              "        document.querySelector('#df-a031cd24-6d4c-456d-95c0-3a8f8a3f2676 button');\n",
              "      quickchartButtonEl.style.display =\n",
              "        google.colab.kernel.accessAllowed ? 'block' : 'none';\n",
              "    })();\n",
              "  </script>\n",
              "</div>\n",
              "    </div>\n",
              "  </div>\n"
            ]
          },
          "metadata": {},
          "execution_count": 448
        }
      ]
    },
    {
      "cell_type": "code",
      "source": [
        "# Visualize the actual price of the 'Close' attribute by time\n",
        "\n",
        "# Make sure the 'Date' column is in datetime format\n",
        "df['Date'] = pd.to_datetime(df['Date'])\n",
        "\n",
        "plt.figure(figsize=(8, 6))\n",
        "plt.plot(df['Date'], df['Close'], linestyle='-', color='blue')\n",
        "\n",
        "# Label the x and y axes\n",
        "plt.xlabel('Year')\n",
        "plt.ylabel('Close Price')\n",
        "\n",
        "# Format the x-axis to display only the year\n",
        "plt.gca().xaxis.set_major_formatter(mdates.DateFormatter('%Y'))\n",
        "plt.gca().xaxis.set_major_locator(mdates.YearLocator())\n",
        "\n",
        "# Chart title\n",
        "plt.title('Close Price over Time')\n",
        "\n",
        "# Display the chart\n",
        "plt.grid(True)\n",
        "plt.tight_layout()\n",
        "plt.show()"
      ],
      "metadata": {
        "colab": {
          "base_uri": "https://localhost:8080/",
          "height": 607
        },
        "id": "EtzRVWWyGQ4G",
        "outputId": "a14df2d6-4b42-4208-f699-297ce3334892"
      },
      "execution_count": 449,
      "outputs": [
        {
          "output_type": "display_data",
          "data": {
            "text/plain": [
              "<Figure size 800x600 with 1 Axes>"
            ],
            "image/png": "[encoded data removed]"
          },
          "metadata": {}
        }
      ]
    },
    {
      "cell_type": "markdown",
      "source": [
        "The visualization is the closing price (close) of JKSE which has been summarized and later predictions will be made to determine the value with several models that will be tried."
      ],
      "metadata": {
        "id": "0CD6JaPbHOa_"
      }
    },
    {
      "cell_type": "markdown",
      "source": [
        "## **Data Pre-Processing**"
      ],
      "metadata": {
        "id": "6o523dMCQf8g"
      }
    },
    {
      "cell_type": "code",
      "source": [
        "from sklearn.preprocessing import MinMaxScaler\n",
        "from sklearn.model_selection import train_test_split"
      ],
      "metadata": {
        "id": "K9A-broiQiir"
      },
      "execution_count": 450,
      "outputs": []
    },
    {
      "cell_type": "markdown",
      "source": [
        "### **Data Splitting**"
      ],
      "metadata": {
        "id": "YxBFAEh7RCMO"
      }
    },
    {
      "cell_type": "code",
      "source": [
        "training_set = df.iloc[:, 4:5].values #creates a numpy array training_set"
      ],
      "metadata": {
        "id": "DQ-9w2hoA1-r"
      },
      "execution_count": 451,
      "outputs": []
    },
    {
      "cell_type": "code",
      "source": [
        "training_set.dtype"
      ],
      "metadata": {
        "colab": {
          "base_uri": "https://localhost:8080/"
        },
        "id": "I67zgS3uA_cl",
        "outputId": "a4acc09f-2116-4856-8ac3-f0484b93f9dd"
      },
      "execution_count": 452,
      "outputs": [
        {
          "output_type": "execute_result",
          "data": {
            "text/plain": [
              "dtype('float64')"
            ]
          },
          "metadata": {},
          "execution_count": 452
        }
      ]
    },
    {
      "cell_type": "code",
      "source": [
        "training_set"
      ],
      "metadata": {
        "colab": {
          "base_uri": "https://localhost:8080/"
        },
        "id": "6sgKWNgwBQn9",
        "outputId": "cd1d14e8-1480-4ecd-92ae-a045dec61123"
      },
      "execution_count": 453,
      "outputs": [
        {
          "output_type": "execute_result",
          "data": {
            "text/plain": [
              "array([[6152.859863],\n",
              "       [6133.120117],\n",
              "       [6115.493164],\n",
              "       ...,\n",
              "       [7036.086914],\n",
              "       [7080.741211],\n",
              "       [7059.905762]])"
            ]
          },
          "metadata": {},
          "execution_count": 453
        }
      ]
    },
    {
      "cell_type": "code",
      "source": [
        "training_set.shape"
      ],
      "metadata": {
        "colab": {
          "base_uri": "https://localhost:8080/"
        },
        "id": "vTLTluhTFzHE",
        "outputId": "acadcd2f-46a5-4a2a-e055-8a69fc2a65b5"
      },
      "execution_count": 454,
      "outputs": [
        {
          "output_type": "execute_result",
          "data": {
            "text/plain": [
              "(1109, 1)"
            ]
          },
          "metadata": {},
          "execution_count": 454
        }
      ]
    },
    {
      "cell_type": "markdown",
      "source": [
        "### **Normalization (Feature Scaling)**"
      ],
      "metadata": {
        "id": "MVw-2b-BRFJC"
      }
    },
    {
      "cell_type": "code",
      "source": [
        "sc = MinMaxScaler()\n",
        "training_set_scaled = sc.fit_transform(training_set)"
      ],
      "metadata": {
        "id": "PINtltcoBeh_"
      },
      "execution_count": 455,
      "outputs": []
    },
    {
      "cell_type": "code",
      "source": [
        "training_set_scaled"
      ],
      "metadata": {
        "colab": {
          "base_uri": "https://localhost:8080/"
        },
        "id": "TA12omBIBhhb",
        "outputId": "c847a1a1-9875-4a98-b415-03440113a062"
      },
      "execution_count": 456,
      "outputs": [
        {
          "output_type": "execute_result",
          "data": {
            "text/plain": [
              "array([[0.48035556],\n",
              "       [0.47155189],\n",
              "       [0.4636905 ],\n",
              "       ...,\n",
              "       [0.87426327],\n",
              "       [0.8941785 ],\n",
              "       [0.88488616]])"
            ]
          },
          "metadata": {},
          "execution_count": 456
        }
      ]
    },
    {
      "cell_type": "code",
      "source": [
        "training_set_scaled.shape"
      ],
      "metadata": {
        "colab": {
          "base_uri": "https://localhost:8080/"
        },
        "id": "dUVfc2raHIIH",
        "outputId": "1c126df2-7410-4f93-8061-f6dde5c056d7"
      },
      "execution_count": 457,
      "outputs": [
        {
          "output_type": "execute_result",
          "data": {
            "text/plain": [
              "(1109, 1)"
            ]
          },
          "metadata": {},
          "execution_count": 457
        }
      ]
    },
    {
      "cell_type": "markdown",
      "source": [
        "### **Creating Data Structure**"
      ],
      "metadata": {
        "id": "TVaHKF8NRZA8"
      }
    },
    {
      "cell_type": "code",
      "source": [
        "X_train = training_set_scaled\n",
        "Y_train = training_set_scaled\n",
        "\n",
        "# Turning lists into Numpy arrays\n",
        "X_train, Y_train = np.array(X_train), np.array(Y_train)"
      ],
      "metadata": {
        "id": "IIlDGjizBrJ8"
      },
      "execution_count": 458,
      "outputs": []
    },
    {
      "cell_type": "code",
      "source": [
        "X_train"
      ],
      "metadata": {
        "colab": {
          "base_uri": "https://localhost:8080/"
        },
        "id": "-u7FqJAtBxXo",
        "outputId": "1d9b50e6-6efa-44cf-ac2f-25a8b36e956b"
      },
      "execution_count": 459,
      "outputs": [
        {
          "output_type": "execute_result",
          "data": {
            "text/plain": [
              "array([[0.48035556],\n",
              "       [0.47155189],\n",
              "       [0.4636905 ],\n",
              "       ...,\n",
              "       [0.87426327],\n",
              "       [0.8941785 ],\n",
              "       [0.88488616]])"
            ]
          },
          "metadata": {},
          "execution_count": 459
        }
      ]
    },
    {
      "cell_type": "code",
      "source": [
        "X_train.shape"
      ],
      "metadata": {
        "colab": {
          "base_uri": "https://localhost:8080/"
        },
        "id": "bHGsDLmHCSf4",
        "outputId": "805ed7ed-d3bf-4265-dddd-9f4d1f17160e"
      },
      "execution_count": 460,
      "outputs": [
        {
          "output_type": "execute_result",
          "data": {
            "text/plain": [
              "(1109, 1)"
            ]
          },
          "metadata": {},
          "execution_count": 460
        }
      ]
    },
    {
      "cell_type": "markdown",
      "source": [
        "### **Reshaping**"
      ],
      "metadata": {
        "id": "V1oLRY_cRlj2"
      }
    },
    {
      "cell_type": "code",
      "source": [
        "X_train = np.reshape(X_train,(X_train.shape[0],X_train.shape[1],1))"
      ],
      "metadata": {
        "id": "exTjyC0yCYUr"
      },
      "execution_count": 461,
      "outputs": []
    },
    {
      "cell_type": "code",
      "source": [
        "X_train"
      ],
      "metadata": {
        "colab": {
          "base_uri": "https://localhost:8080/"
        },
        "id": "Yv1dMbE6CbSX",
        "outputId": "3dbceef5-db0a-4124-cc26-8b66ab7919bc"
      },
      "execution_count": 462,
      "outputs": [
        {
          "output_type": "execute_result",
          "data": {
            "text/plain": [
              "array([[[0.48035556]],\n",
              "\n",
              "       [[0.47155189]],\n",
              "\n",
              "       [[0.4636905 ]],\n",
              "\n",
              "       ...,\n",
              "\n",
              "       [[0.87426327]],\n",
              "\n",
              "       [[0.8941785 ]],\n",
              "\n",
              "       [[0.88488616]]])"
            ]
          },
          "metadata": {},
          "execution_count": 462
        }
      ]
    },
    {
      "cell_type": "markdown",
      "source": [
        "## **Modelling & Evaluation**"
      ],
      "metadata": {
        "id": "RG686OFOTOn8"
      }
    },
    {
      "cell_type": "markdown",
      "source": [
        "### **Long Short-Term Memory (LSTM)**"
      ],
      "metadata": {
        "id": "euJYOpKYTWDl"
      }
    },
    {
      "cell_type": "code",
      "source": [
        "from keras.models import Sequential\n",
        "from keras.layers import Dense\n",
        "from keras.layers import LSTM\n",
        "from keras.layers import Dropout"
      ],
      "metadata": {
        "id": "lyiyijJ5CisG"
      },
      "execution_count": 463,
      "outputs": []
    },
    {
      "cell_type": "markdown",
      "source": [
        "#### **Building LSTM Architecture**"
      ],
      "metadata": {
        "id": "Ix7teyYkTiDS"
      }
    },
    {
      "cell_type": "code",
      "source": [
        "# Creating a LSTM model\n",
        "lstm_model = Sequential()\n",
        "\n",
        "# Adding a LSTM layer\n",
        "lstm_model.add(LSTM(units = 64, return_sequences = True, input_shape = (X_train.shape[1],1)))\n",
        "lstm_model.add(Dropout(0.25))\n",
        "lstm_model.add(LSTM(units = 64, return_sequences = True))\n",
        "lstm_model.add(Dropout(0.25))\n",
        "lstm_model.add(LSTM(units = 64, return_sequences = True))\n",
        "lstm_model.add(Dropout(0.25))\n",
        "lstm_model.add(LSTM(units = 64, return_sequences = False))\n",
        "lstm_model.add(Dropout(0.25))\n",
        "lstm_model.add(Dense(units= 1))\n",
        "\n",
        "# Compile the LSTM model\n",
        "lstm_model.compile(optimizer = 'adam', loss = 'mean_squared_error')"
      ],
      "metadata": {
        "id": "fx3AyResCmuo"
      },
      "execution_count": 464,
      "outputs": []
    },
    {
      "cell_type": "markdown",
      "source": [
        "#### **Training LSTM Model**"
      ],
      "metadata": {
        "id": "t-0Lxt6eUMPX"
      }
    },
    {
      "cell_type": "code",
      "source": [
        "# Train the LSTM model\n",
        "lstm_model.fit(X_train,Y_train, epochs = 100, batch_size = 32)"
      ],
      "metadata": {
        "colab": {
          "base_uri": "https://localhost:8080/"
        },
        "id": "-S9-G13pCwho",
        "outputId": "ef4b440f-8f53-4b56-c54c-ec0cabf803ab"
      },
      "execution_count": 465,
      "outputs": [
        {
          "output_type": "stream",
          "name": "stdout",
          "text": [
            "Epoch 1/100\n",
            "35/35 [==============================] - 10s 13ms/step - loss: 0.2899\n",
            "Epoch 2/100\n",
            "35/35 [==============================] - 0s 9ms/step - loss: 0.0368\n",
            "Epoch 3/100\n",
            "35/35 [==============================] - 0s 7ms/step - loss: 0.0257\n",
            "Epoch 4/100\n",
            "35/35 [==============================] - 0s 8ms/step - loss: 0.0180\n",
            "Epoch 5/100\n",
            "35/35 [==============================] - 0s 9ms/step - loss: 0.0116\n",
            "Epoch 6/100\n",
            "35/35 [==============================] - 0s 8ms/step - loss: 0.0090\n",
            "Epoch 7/100\n",
            "35/35 [==============================] - 0s 8ms/step - loss: 0.0082\n",
            "Epoch 8/100\n",
            "35/35 [==============================] - 0s 8ms/step - loss: 0.0077\n",
            "Epoch 9/100\n",
            "35/35 [==============================] - 0s 8ms/step - loss: 0.0069\n",
            "Epoch 10/100\n",
            "35/35 [==============================] - 0s 8ms/step - loss: 0.0062\n",
            "Epoch 11/100\n",
            "35/35 [==============================] - 0s 8ms/step - loss: 0.0063\n",
            "Epoch 12/100\n",
            "35/35 [==============================] - 0s 8ms/step - loss: 0.0056\n",
            "Epoch 13/100\n",
            "35/35 [==============================] - 0s 8ms/step - loss: 0.0051\n",
            "Epoch 14/100\n",
            "35/35 [==============================] - 0s 8ms/step - loss: 0.0050\n",
            "Epoch 15/100\n",
            "35/35 [==============================] - 0s 8ms/step - loss: 0.0043\n",
            "Epoch 16/100\n",
            "35/35 [==============================] - 0s 7ms/step - loss: 0.0043\n",
            "Epoch 17/100\n",
            "35/35 [==============================] - 0s 8ms/step - loss: 0.0041\n",
            "Epoch 18/100\n",
            "35/35 [==============================] - 0s 8ms/step - loss: 0.0040\n",
            "Epoch 19/100\n",
            "35/35 [==============================] - 0s 8ms/step - loss: 0.0043\n",
            "Epoch 20/100\n",
            "35/35 [==============================] - 0s 8ms/step - loss: 0.0038\n",
            "Epoch 21/100\n",
            "35/35 [==============================] - 0s 8ms/step - loss: 0.0034\n",
            "Epoch 22/100\n",
            "35/35 [==============================] - 0s 8ms/step - loss: 0.0035\n",
            "Epoch 23/100\n",
            "35/35 [==============================] - 0s 8ms/step - loss: 0.0036\n",
            "Epoch 24/100\n",
            "35/35 [==============================] - 0s 8ms/step - loss: 0.0037\n",
            "Epoch 25/100\n",
            "35/35 [==============================] - 0s 8ms/step - loss: 0.0035\n",
            "Epoch 26/100\n",
            "35/35 [==============================] - 0s 8ms/step - loss: 0.0033\n",
            "Epoch 27/100\n",
            "35/35 [==============================] - 0s 8ms/step - loss: 0.0034\n",
            "Epoch 28/100\n",
            "35/35 [==============================] - 0s 8ms/step - loss: 0.0031\n",
            "Epoch 29/100\n",
            "35/35 [==============================] - 0s 8ms/step - loss: 0.0029\n",
            "Epoch 30/100\n",
            "35/35 [==============================] - 0s 8ms/step - loss: 0.0030\n",
            "Epoch 31/100\n",
            "35/35 [==============================] - 0s 8ms/step - loss: 0.0030\n",
            "Epoch 32/100\n",
            "35/35 [==============================] - 0s 8ms/step - loss: 0.0027\n",
            "Epoch 33/100\n",
            "35/35 [==============================] - 0s 8ms/step - loss: 0.0029\n",
            "Epoch 34/100\n",
            "35/35 [==============================] - 0s 8ms/step - loss: 0.0031\n",
            "Epoch 35/100\n",
            "35/35 [==============================] - 0s 8ms/step - loss: 0.0028\n",
            "Epoch 36/100\n",
            "35/35 [==============================] - 0s 7ms/step - loss: 0.0026\n",
            "Epoch 37/100\n",
            "35/35 [==============================] - 0s 10ms/step - loss: 0.0028\n",
            "Epoch 38/100\n",
            "35/35 [==============================] - 0s 11ms/step - loss: 0.0025\n",
            "Epoch 39/100\n",
            "35/35 [==============================] - 0s 11ms/step - loss: 0.0028\n",
            "Epoch 40/100\n",
            "35/35 [==============================] - 0s 11ms/step - loss: 0.0027\n",
            "Epoch 41/100\n",
            "35/35 [==============================] - 0s 12ms/step - loss: 0.0027\n",
            "Epoch 42/100\n",
            "35/35 [==============================] - 0s 11ms/step - loss: 0.0027\n",
            "Epoch 43/100\n",
            "35/35 [==============================] - 0s 11ms/step - loss: 0.0025\n",
            "Epoch 44/100\n",
            "35/35 [==============================] - 0s 11ms/step - loss: 0.0025\n",
            "Epoch 45/100\n",
            "35/35 [==============================] - 0s 11ms/step - loss: 0.0025\n",
            "Epoch 46/100\n",
            "35/35 [==============================] - 0s 11ms/step - loss: 0.0026\n",
            "Epoch 47/100\n",
            "35/35 [==============================] - 0s 11ms/step - loss: 0.0023\n",
            "Epoch 48/100\n",
            "35/35 [==============================] - 0s 11ms/step - loss: 0.0027\n",
            "Epoch 49/100\n",
            "35/35 [==============================] - 0s 11ms/step - loss: 0.0024\n",
            "Epoch 50/100\n",
            "35/35 [==============================] - 0s 11ms/step - loss: 0.0024\n",
            "Epoch 51/100\n",
            "35/35 [==============================] - 0s 11ms/step - loss: 0.0025\n",
            "Epoch 52/100\n",
            "35/35 [==============================] - 0s 8ms/step - loss: 0.0023\n",
            "Epoch 53/100\n",
            "35/35 [==============================] - 0s 8ms/step - loss: 0.0025\n",
            "Epoch 54/100\n",
            "35/35 [==============================] - 0s 8ms/step - loss: 0.0023\n",
            "Epoch 55/100\n",
            "35/35 [==============================] - 0s 8ms/step - loss: 0.0021\n",
            "Epoch 56/100\n",
            "35/35 [==============================] - 0s 8ms/step - loss: 0.0024\n",
            "Epoch 57/100\n",
            "35/35 [==============================] - 0s 8ms/step - loss: 0.0024\n",
            "Epoch 58/100\n",
            "35/35 [==============================] - 0s 8ms/step - loss: 0.0023\n",
            "Epoch 59/100\n",
            "35/35 [==============================] - 0s 8ms/step - loss: 0.0022\n",
            "Epoch 60/100\n",
            "35/35 [==============================] - 0s 8ms/step - loss: 0.0022\n",
            "Epoch 61/100\n",
            "35/35 [==============================] - 0s 8ms/step - loss: 0.0022\n",
            "Epoch 62/100\n",
            "35/35 [==============================] - 0s 8ms/step - loss: 0.0022\n",
            "Epoch 63/100\n",
            "35/35 [==============================] - 0s 8ms/step - loss: 0.0021\n",
            "Epoch 64/100\n",
            "35/35 [==============================] - 0s 8ms/step - loss: 0.0023\n",
            "Epoch 65/100\n",
            "35/35 [==============================] - 0s 8ms/step - loss: 0.0021\n",
            "Epoch 66/100\n",
            "35/35 [==============================] - 0s 8ms/step - loss: 0.0020\n",
            "Epoch 67/100\n",
            "35/35 [==============================] - 0s 8ms/step - loss: 0.0021\n",
            "Epoch 68/100\n",
            "35/35 [==============================] - 0s 8ms/step - loss: 0.0022\n",
            "Epoch 69/100\n",
            "35/35 [==============================] - 0s 8ms/step - loss: 0.0020\n",
            "Epoch 70/100\n",
            "35/35 [==============================] - 0s 8ms/step - loss: 0.0022\n",
            "Epoch 71/100\n",
            "35/35 [==============================] - 0s 8ms/step - loss: 0.0021\n",
            "Epoch 72/100\n",
            "35/35 [==============================] - 0s 8ms/step - loss: 0.0020\n",
            "Epoch 73/100\n",
            "35/35 [==============================] - 0s 8ms/step - loss: 0.0020\n",
            "Epoch 74/100\n",
            "35/35 [==============================] - 0s 8ms/step - loss: 0.0019\n",
            "Epoch 75/100\n",
            "35/35 [==============================] - 0s 8ms/step - loss: 0.0018\n",
            "Epoch 76/100\n",
            "35/35 [==============================] - 0s 9ms/step - loss: 0.0019\n",
            "Epoch 77/100\n",
            "35/35 [==============================] - 0s 9ms/step - loss: 0.0020\n",
            "Epoch 78/100\n",
            "35/35 [==============================] - 0s 9ms/step - loss: 0.0022\n",
            "Epoch 79/100\n",
            "35/35 [==============================] - 0s 10ms/step - loss: 0.0019\n",
            "Epoch 80/100\n",
            "35/35 [==============================] - 0s 9ms/step - loss: 0.0020\n",
            "Epoch 81/100\n",
            "35/35 [==============================] - 0s 10ms/step - loss: 0.0019\n",
            "Epoch 82/100\n",
            "35/35 [==============================] - 0s 11ms/step - loss: 0.0018\n",
            "Epoch 83/100\n",
            "35/35 [==============================] - 0s 11ms/step - loss: 0.0019\n",
            "Epoch 84/100\n",
            "35/35 [==============================] - 1s 16ms/step - loss: 0.0018\n",
            "Epoch 85/100\n",
            "35/35 [==============================] - 1s 16ms/step - loss: 0.0018\n",
            "Epoch 86/100\n",
            "35/35 [==============================] - 1s 16ms/step - loss: 0.0020\n",
            "Epoch 87/100\n",
            "35/35 [==============================] - 1s 17ms/step - loss: 0.0017\n",
            "Epoch 88/100\n",
            "35/35 [==============================] - 1s 17ms/step - loss: 0.0017\n",
            "Epoch 89/100\n",
            "35/35 [==============================] - 1s 18ms/step - loss: 0.0017\n",
            "Epoch 90/100\n",
            "35/35 [==============================] - 1s 22ms/step - loss: 0.0021\n",
            "Epoch 91/100\n",
            "35/35 [==============================] - 1s 31ms/step - loss: 0.0017\n",
            "Epoch 92/100\n",
            "35/35 [==============================] - 0s 13ms/step - loss: 0.0017\n",
            "Epoch 93/100\n",
            "35/35 [==============================] - 0s 12ms/step - loss: 0.0018\n",
            "Epoch 94/100\n",
            "35/35 [==============================] - 0s 10ms/step - loss: 0.0016\n",
            "Epoch 95/100\n",
            "35/35 [==============================] - 0s 8ms/step - loss: 0.0017\n",
            "Epoch 96/100\n",
            "35/35 [==============================] - 0s 8ms/step - loss: 0.0018\n",
            "Epoch 97/100\n",
            "35/35 [==============================] - 0s 8ms/step - loss: 0.0017\n",
            "Epoch 98/100\n",
            "35/35 [==============================] - 0s 8ms/step - loss: 0.0016\n",
            "Epoch 99/100\n",
            "35/35 [==============================] - 0s 8ms/step - loss: 0.0017\n",
            "Epoch 100/100\n",
            "35/35 [==============================] - 0s 7ms/step - loss: 0.0017\n"
          ]
        },
        {
          "output_type": "execute_result",
          "data": {
            "text/plain": [
              "<keras.src.callbacks.History at 0x7ef144f76110>"
            ]
          },
          "metadata": {},
          "execution_count": 465
        }
      ]
    },
    {
      "cell_type": "markdown",
      "source": [
        "#### **Testing LSTM Model**"
      ],
      "metadata": {
        "id": "vgdupfLKUYYf"
      }
    },
    {
      "cell_type": "code",
      "source": [
        "dataset_test = df\n",
        "real_stock_price = dataset_test.iloc[:,4:5].values\n",
        "real_stock_price"
      ],
      "metadata": {
        "colab": {
          "base_uri": "https://localhost:8080/"
        },
        "id": "Qeg8zE7eDRW4",
        "outputId": "81200a32-267c-404c-e098-4feb6fe3f58a"
      },
      "execution_count": 466,
      "outputs": [
        {
          "output_type": "execute_result",
          "data": {
            "text/plain": [
              "array([[6152.859863],\n",
              "       [6133.120117],\n",
              "       [6115.493164],\n",
              "       ...,\n",
              "       [7036.086914],\n",
              "       [7080.741211],\n",
              "       [7059.905762]])"
            ]
          },
          "metadata": {},
          "execution_count": 466
        }
      ]
    },
    {
      "cell_type": "code",
      "source": [
        "dataset_total = pd.concat((df['Close'], dataset_test['Close']), axis = 0)\n",
        "inputs = dataset_total[len(dataset_total) - len(dataset_test):].values\n",
        "inputs = inputs.reshape(-1,1)\n",
        "inputs = sc.transform(inputs)"
      ],
      "metadata": {
        "id": "u5y1DPE2DVgC"
      },
      "execution_count": 467,
      "outputs": []
    },
    {
      "cell_type": "code",
      "source": [
        "inputs"
      ],
      "metadata": {
        "colab": {
          "base_uri": "https://localhost:8080/"
        },
        "id": "Vb5ZJQ8SEK2M",
        "outputId": "82906156-26a3-4e23-b379-7102627d9afc"
      },
      "execution_count": 468,
      "outputs": [
        {
          "output_type": "execute_result",
          "data": {
            "text/plain": [
              "array([[0.48035556],\n",
              "       [0.47155189],\n",
              "       [0.4636905 ],\n",
              "       ...,\n",
              "       [0.87426327],\n",
              "       [0.8941785 ],\n",
              "       [0.88488616]])"
            ]
          },
          "metadata": {},
          "execution_count": 468
        }
      ]
    },
    {
      "cell_type": "code",
      "source": [
        "inputs.shape"
      ],
      "metadata": {
        "colab": {
          "base_uri": "https://localhost:8080/"
        },
        "id": "TSuh3BPfPPjc",
        "outputId": "a9801b8f-b3af-40b4-d3b8-521d3c1d6451"
      },
      "execution_count": 469,
      "outputs": [
        {
          "output_type": "execute_result",
          "data": {
            "text/plain": [
              "(1109, 1)"
            ]
          },
          "metadata": {},
          "execution_count": 469
        }
      ]
    },
    {
      "cell_type": "code",
      "source": [
        "X_test = inputs\n",
        "X_test = np.array(X_test)\n",
        "X_test = np.reshape(X_test, (X_test.shape[0], X_test.shape[1], 1))"
      ],
      "metadata": {
        "id": "-kvARajLEQLv"
      },
      "execution_count": 470,
      "outputs": []
    },
    {
      "cell_type": "code",
      "source": [
        "predicted_stock_price_lstm = lstm_model.predict(X_test)\n",
        "predicted_stock_price_lstm = sc.inverse_transform(predicted_stock_price_lstm)"
      ],
      "metadata": {
        "colab": {
          "base_uri": "https://localhost:8080/"
        },
        "id": "XtDXuIfzETnE",
        "outputId": "c82b084a-93a3-4894-b98c-15a11ebd8b16"
      },
      "execution_count": 471,
      "outputs": [
        {
          "output_type": "stream",
          "name": "stdout",
          "text": [
            "35/35 [==============================] - 2s 3ms/step\n"
          ]
        }
      ]
    },
    {
      "cell_type": "code",
      "source": [
        "predicted_stock_price_lstm"
      ],
      "metadata": {
        "colab": {
          "base_uri": "https://localhost:8080/"
        },
        "id": "FWfgTh6QEX4V",
        "outputId": "812549c4-1add-4375-ccc6-e37f99268942"
      },
      "execution_count": 472,
      "outputs": [
        {
          "output_type": "execute_result",
          "data": {
            "text/plain": [
              "array([[6137.7285],\n",
              "       [6118.3066],\n",
              "       [6100.993 ],\n",
              "       ...,\n",
              "       [6975.3813],\n",
              "       [7011.754 ],\n",
              "       [6994.909 ]], dtype=float32)"
            ]
          },
          "metadata": {},
          "execution_count": 472
        }
      ]
    },
    {
      "cell_type": "code",
      "source": [
        "predicted_stock_price_lstm.shape"
      ],
      "metadata": {
        "colab": {
          "base_uri": "https://localhost:8080/"
        },
        "id": "oLMln0xlJ8dp",
        "outputId": "8b93a95e-06cf-4199-99dc-a36693a31ab7"
      },
      "execution_count": 473,
      "outputs": [
        {
          "output_type": "execute_result",
          "data": {
            "text/plain": [
              "(1109, 1)"
            ]
          },
          "metadata": {},
          "execution_count": 473
        }
      ]
    },
    {
      "cell_type": "code",
      "source": [
        "# Add the predicted values to the DataFrame\n",
        "df['LSTM Predictions'] = predicted_stock_price_lstm\n",
        "\n",
        "# Print or visualize the results as needed\n",
        "df[['Date', 'Close', 'LSTM Predictions']]"
      ],
      "metadata": {
        "colab": {
          "base_uri": "https://localhost:8080/",
          "height": 424
        },
        "id": "BkLq-2lUG19B",
        "outputId": "bbcb7cc1-d4b0-45dd-9da3-4d9b4034cbed"
      },
      "execution_count": 474,
      "outputs": [
        {
          "output_type": "execute_result",
          "data": {
            "text/plain": [
              "           Date        Close  LSTM Predictions\n",
              "0    2018-12-04  6152.859863       6137.728516\n",
              "1    2018-12-05  6133.120117       6118.306641\n",
              "2    2018-12-06  6115.493164       6100.993164\n",
              "3    2018-12-07  6126.355957       6111.659180\n",
              "4    2018-12-10  6111.359863       6096.937988\n",
              "...         ...          ...               ...\n",
              "1104 2023-11-27  7013.405762       6956.526367\n",
              "1105 2023-11-28  7041.073242       6979.492676\n",
              "1106 2023-11-29  7036.086914       6975.381348\n",
              "1107 2023-11-30  7080.741211       7011.753906\n",
              "1108 2023-12-01  7059.905762       6994.909180\n",
              "\n",
              "[1109 rows x 3 columns]"
            ],
            "text/html": [
              "\n",
              "  <div id=\"df-da49564c-c6c4-479f-8aaf-9f6ab1070d0f\" class=\"colab-df-container\">\n",
              "    <div>\n",
              "<style scoped>\n",
              "    .dataframe tbody tr th:only-of-type {\n",
              "        vertical-align: middle;\n",
              "    }\n",
              "\n",
              "    .dataframe tbody tr th {\n",
              "        vertical-align: top;\n",
              "    }\n",
              "\n",
              "    .dataframe thead th {\n",
              "        text-align: right;\n",
              "    }\n",
              "</style>\n",
              "<table border=\"1\" class=\"dataframe\">\n",
              "  <thead>\n",
              "    <tr style=\"text-align: right;\">\n",
              "      <th></th>\n",
              "      <th>Date</th>\n",
              "      <th>Close</th>\n",
              "      <th>LSTM Predictions</th>\n",
              "    </tr>\n",
              "  </thead>\n",
              "  <tbody>\n",
              "    <tr>\n",
              "      <th>0</th>\n",
              "      <td>2018-12-04</td>\n",
              "      <td>6152.859863</td>\n",
              "      <td>6137.728516</td>\n",
              "    </tr>\n",
              "    <tr>\n",
              "      <th>1</th>\n",
              "      <td>2018-12-05</td>\n",
              "      <td>6133.120117</td>\n",
              "      <td>6118.306641</td>\n",
              "    </tr>\n",
              "    <tr>\n",
              "      <th>2</th>\n",
              "      <td>2018-12-06</td>\n",
              "      <td>6115.493164</td>\n",
              "      <td>6100.993164</td>\n",
              "    </tr>\n",
              "    <tr>\n",
              "      <th>3</th>\n",
              "      <td>2018-12-07</td>\n",
              "      <td>6126.355957</td>\n",
              "      <td>6111.659180</td>\n",
              "    </tr>\n",
              "    <tr>\n",
              "      <th>4</th>\n",
              "      <td>2018-12-10</td>\n",
              "      <td>6111.359863</td>\n",
              "      <td>6096.937988</td>\n",
              "    </tr>\n",
              "    <tr>\n",
              "      <th>...</th>\n",
              "      <td>...</td>\n",
              "      <td>...</td>\n",
              "      <td>...</td>\n",
              "    </tr>\n",
              "    <tr>\n",
              "      <th>1104</th>\n",
              "      <td>2023-11-27</td>\n",
              "      <td>7013.405762</td>\n",
              "      <td>6956.526367</td>\n",
              "    </tr>\n",
              "    <tr>\n",
              "      <th>1105</th>\n",
              "      <td>2023-11-28</td>\n",
              "      <td>7041.073242</td>\n",
              "      <td>6979.492676</td>\n",
              "    </tr>\n",
              "    <tr>\n",
              "      <th>1106</th>\n",
              "      <td>2023-11-29</td>\n",
              "      <td>7036.086914</td>\n",
              "      <td>6975.381348</td>\n",
              "    </tr>\n",
              "    <tr>\n",
              "      <th>1107</th>\n",
              "      <td>2023-11-30</td>\n",
              "      <td>7080.741211</td>\n",
              "      <td>7011.753906</td>\n",
              "    </tr>\n",
              "    <tr>\n",
              "      <th>1108</th>\n",
              "      <td>2023-12-01</td>\n",
              "      <td>7059.905762</td>\n",
              "      <td>6994.909180</td>\n",
              "    </tr>\n",
              "  </tbody>\n",
              "</table>\n",
              "<p>1109 rows × 3 columns</p>\n",
              "</div>\n",
              "    <div class=\"colab-df-buttons\">\n",
              "\n",
              "  <div class=\"colab-df-container\">\n",
              "    <button class=\"colab-df-convert\" onclick=\"convertToInteractive('df-da49564c-c6c4-479f-8aaf-9f6ab1070d0f')\"\n",
              "            title=\"Convert this dataframe to an interactive table.\"\n",
              "            style=\"display:none;\">\n",
              "\n",
              "  <svg xmlns=\"http://www.w3.org/2000/svg\" height=\"24px\" viewBox=\"0 -960 960 960\">\n",
              "    <path d=\"M120-120v-720h720v720H120Zm60-500h600v-160H180v160Zm220 220h160v-160H400v160Zm0 220h160v-160H400v160ZM180-400h160v-160H180v160Zm440 0h160v-160H620v160ZM180-180h160v-160H180v160Zm440 0h160v-160H620v160Z\"/>\n",
              "  </svg>\n",
              "    </button>\n",
              "\n",
              "  <style>\n",
              "    .colab-df-container {\n",
              "      display:flex;\n",
              "      gap: 12px;\n",
              "    }\n",
              "\n",
              "    .colab-df-convert {\n",
              "      background-color: #E8F0FE;\n",
              "      border: none;\n",
              "      border-radius: 50%;\n",
              "      cursor: pointer;\n",
              "      display: none;\n",
              "      fill: #1967D2;\n",
              "      height: 32px;\n",
              "      padding: 0 0 0 0;\n",
              "      width: 32px;\n",
              "    }\n",
              "\n",
              "    .colab-df-convert:hover {\n",
              "      background-color: #E2EBFA;\n",
              "      box-shadow: 0px 1px 2px rgba(60, 64, 67, 0.3), 0px 1px 3px 1px rgba(60, 64, 67, 0.15);\n",
              "      fill: #174EA6;\n",
              "    }\n",
              "\n",
              "    .colab-df-buttons div {\n",
              "      margin-bottom: 4px;\n",
              "    }\n",
              "\n",
              "    [theme=dark] .colab-df-convert {\n",
              "      background-color: #3B4455;\n",
              "      fill: #D2E3FC;\n",
              "    }\n",
              "\n",
              "    [theme=dark] .colab-df-convert:hover {\n",
              "      background-color: #434B5C;\n",
              "      box-shadow: 0px 1px 3px 1px rgba(0, 0, 0, 0.15);\n",
              "      filter: drop-shadow(0px 1px 2px rgba(0, 0, 0, 0.3));\n",
              "      fill: #FFFFFF;\n",
              "    }\n",
              "  </style>\n",
              "\n",
              "    <script>\n",
              "      const buttonEl =\n",
              "        document.querySelector('#df-da49564c-c6c4-479f-8aaf-9f6ab1070d0f button.colab-df-convert');\n",
              "      buttonEl.style.display =\n",
              "        google.colab.kernel.accessAllowed ? 'block' : 'none';\n",
              "\n",
              "      async function convertToInteractive(key) {\n",
              "        const element = document.querySelector('#df-da49564c-c6c4-479f-8aaf-9f6ab1070d0f');\n",
              "        const dataTable =\n",
              "          await google.colab.kernel.invokeFunction('convertToInteractive',\n",
              "                                                    [key], {});\n",
              "        if (!dataTable) return;\n",
              "\n",
              "        const docLinkHtml = 'Like what you see? Visit the ' +\n",
              "          '<a target=\"_blank\" href=https://colab.research.google.com/notebooks/data_table.ipynb>data table notebook</a>'\n",
              "          + ' to learn more about interactive tables.';\n",
              "        element.innerHTML = '';\n",
              "        dataTable['output_type'] = 'display_data';\n",
              "        await google.colab.output.renderOutput(dataTable, element);\n",
              "        const docLink = document.createElement('div');\n",
              "        docLink.innerHTML = docLinkHtml;\n",
              "        element.appendChild(docLink);\n",
              "      }\n",
              "    </script>\n",
              "  </div>\n",
              "\n",
              "\n",
              "<div id=\"df-a5c2f806-b7eb-417f-8dfc-475033b68988\">\n",
              "  <button class=\"colab-df-quickchart\" onclick=\"quickchart('df-a5c2f806-b7eb-417f-8dfc-475033b68988')\"\n",
              "            title=\"Suggest charts\"\n",
              "            style=\"display:none;\">\n",
              "\n",
              "<svg xmlns=\"http://www.w3.org/2000/svg\" height=\"24px\"viewBox=\"0 0 24 24\"\n",
              "     width=\"24px\">\n",
              "    <g>\n",
              "        <path d=\"M19 3H5c-1.1 0-2 .9-2 2v14c0 1.1.9 2 2 2h14c1.1 0 2-.9 2-2V5c0-1.1-.9-2-2-2zM9 17H7v-7h2v7zm4 0h-2V7h2v10zm4 0h-2v-4h2v4z\"/>\n",
              "    </g>\n",
              "</svg>\n",
              "  </button>\n",
              "\n",
              "<style>\n",
              "  .colab-df-quickchart {\n",
              "      --bg-color: #E8F0FE;\n",
              "      --fill-color: #1967D2;\n",
              "      --hover-bg-color: #E2EBFA;\n",
              "      --hover-fill-color: #174EA6;\n",
              "      --disabled-fill-color: #AAA;\n",
              "      --disabled-bg-color: #DDD;\n",
              "  }\n",
              "\n",
              "  [theme=dark] .colab-df-quickchart {\n",
              "      --bg-color: #3B4455;\n",
              "      --fill-color: #D2E3FC;\n",
              "      --hover-bg-color: #434B5C;\n",
              "      --hover-fill-color: #FFFFFF;\n",
              "      --disabled-bg-color: #3B4455;\n",
              "      --disabled-fill-color: #666;\n",
              "  }\n",
              "\n",
              "  .colab-df-quickchart {\n",
              "    background-color: var(--bg-color);\n",
              "    border: none;\n",
              "    border-radius: 50%;\n",
              "    cursor: pointer;\n",
              "    display: none;\n",
              "    fill: var(--fill-color);\n",
              "    height: 32px;\n",
              "    padding: 0;\n",
              "    width: 32px;\n",
              "  }\n",
              "\n",
              "  .colab-df-quickchart:hover {\n",
              "    background-color: var(--hover-bg-color);\n",
              "    box-shadow: 0 1px 2px rgba(60, 64, 67, 0.3), 0 1px 3px 1px rgba(60, 64, 67, 0.15);\n",
              "    fill: var(--button-hover-fill-color);\n",
              "  }\n",
              "\n",
              "  .colab-df-quickchart-complete:disabled,\n",
              "  .colab-df-quickchart-complete:disabled:hover {\n",
              "    background-color: var(--disabled-bg-color);\n",
              "    fill: var(--disabled-fill-color);\n",
              "    box-shadow: none;\n",
              "  }\n",
              "\n",
              "  .colab-df-spinner {\n",
              "    border: 2px solid var(--fill-color);\n",
              "    border-color: transparent;\n",
              "    border-bottom-color: var(--fill-color);\n",
              "    animation:\n",
              "      spin 1s steps(1) infinite;\n",
              "  }\n",
              "\n",
              "  @keyframes spin {\n",
              "    0% {\n",
              "      border-color: transparent;\n",
              "      border-bottom-color: var(--fill-color);\n",
              "      border-left-color: var(--fill-color);\n",
              "    }\n",
              "    20% {\n",
              "      border-color: transparent;\n",
              "      border-left-color: var(--fill-color);\n",
              "      border-top-color: var(--fill-color);\n",
              "    }\n",
              "    30% {\n",
              "      border-color: transparent;\n",
              "      border-left-color: var(--fill-color);\n",
              "      border-top-color: var(--fill-color);\n",
              "      border-right-color: var(--fill-color);\n",
              "    }\n",
              "    40% {\n",
              "      border-color: transparent;\n",
              "      border-right-color: var(--fill-color);\n",
              "      border-top-color: var(--fill-color);\n",
              "    }\n",
              "    60% {\n",
              "      border-color: transparent;\n",
              "      border-right-color: var(--fill-color);\n",
              "    }\n",
              "    80% {\n",
              "      border-color: transparent;\n",
              "      border-right-color: var(--fill-color);\n",
              "      border-bottom-color: var(--fill-color);\n",
              "    }\n",
              "    90% {\n",
              "      border-color: transparent;\n",
              "      border-bottom-color: var(--fill-color);\n",
              "    }\n",
              "  }\n",
              "</style>\n",
              "\n",
              "  <script>\n",
              "    async function quickchart(key) {\n",
              "      const quickchartButtonEl =\n",
              "        document.querySelector('#' + key + ' button');\n",
              "      quickchartButtonEl.disabled = true;  // To prevent multiple clicks.\n",
              "      quickchartButtonEl.classList.add('colab-df-spinner');\n",
              "      try {\n",
              "        const charts = await google.colab.kernel.invokeFunction(\n",
              "            'suggestCharts', [key], {});\n",
              "      } catch (error) {\n",
              "        console.error('Error during call to suggestCharts:', error);\n",
              "      }\n",
              "      quickchartButtonEl.classList.remove('colab-df-spinner');\n",
              "      quickchartButtonEl.classList.add('colab-df-quickchart-complete');\n",
              "    }\n",
              "    (() => {\n",
              "      let quickchartButtonEl =\n",
              "        document.querySelector('#df-a5c2f806-b7eb-417f-8dfc-475033b68988 button');\n",
              "      quickchartButtonEl.style.display =\n",
              "        google.colab.kernel.accessAllowed ? 'block' : 'none';\n",
              "    })();\n",
              "  </script>\n",
              "</div>\n",
              "    </div>\n",
              "  </div>\n"
            ]
          },
          "metadata": {},
          "execution_count": 474
        }
      ]
    },
    {
      "cell_type": "code",
      "source": [
        "# Plot the actual closing prices and predictions\n",
        "plt.figure(figsize=(10, 6))\n",
        "plt.plot(df['Date'], df['Close'], label='Actual Close Price', color='blue')\n",
        "plt.plot(df['Date'], df['LSTM Predictions'], label='Predicted Close Price', color='red')\n",
        "plt.title('Close Price Prediction using LSTM')\n",
        "plt.xlabel('Date')\n",
        "plt.ylabel('Closing Price')\n",
        "plt.legend()\n",
        "plt.show()"
      ],
      "metadata": {
        "colab": {
          "base_uri": "https://localhost:8080/",
          "height": 564
        },
        "id": "Laq_qFPjL0V_",
        "outputId": "72490dad-7e84-46f7-a672-dc0fe0f4df4d"
      },
      "execution_count": 475,
      "outputs": [
        {
          "output_type": "display_data",
          "data": {
            "text/plain": [
              "<Figure size 1000x600 with 1 Axes>"
            ],
            "image/png": "[encoded data removed]"
          },
          "metadata": {}
        }
      ]
    },
    {
      "cell_type": "markdown",
      "source": [
        "#### **Model Evaluation**"
      ],
      "metadata": {
        "id": "TYygeJ7KWIcu"
      }
    },
    {
      "cell_type": "code",
      "source": [
        "from sklearn.metrics import mean_squared_error\n",
        "from math import sqrt"
      ],
      "metadata": {
        "id": "_o_AWGCUW7gO"
      },
      "execution_count": 476,
      "outputs": []
    },
    {
      "cell_type": "code",
      "source": [
        "# Perform prediction on training data\n",
        "y_pred = lstm_model.predict(X_train)\n",
        "\n",
        "# Calculate MSE\n",
        "mse_lstm = mean_squared_error(Y_train, y_pred)\n",
        "\n",
        "# Calculating RMSE\n",
        "rmse_lstm = sqrt(mse_lstm)\n",
        "\n",
        "# Calculating MAPE\n",
        "mape_lstm = np.mean(np.abs((Y_train - y_pred) / np.maximum(1e-8, np.abs(Y_train)))) * 100\n",
        "\n",
        "# Displaying results\n",
        "print(f'Mean Squared Error (MSE): {mse_lstm}')\n",
        "print(f'Root Mean Squared Error (RMSE): {rmse_lstm}')\n",
        "print(f'Mean Absolute Percentage Error (MAPE): {mape_lstm}%')"
      ],
      "metadata": {
        "colab": {
          "base_uri": "https://localhost:8080/"
        },
        "id": "UcLOXtuRWMeX",
        "outputId": "38eef775-b021-42ea-84e8-a6bba8e36fd1"
      },
      "execution_count": 477,
      "outputs": [
        {
          "output_type": "stream",
          "name": "stdout",
          "text": [
            "35/35 [==============================] - 0s 3ms/step\n",
            "Mean Squared Error (MSE): 0.0003212247723150895\n",
            "Root Mean Squared Error (RMSE): 0.017922744553083646\n",
            "Mean Absolute Percentage Error (MAPE): 457155.3132602803%\n"
          ]
        }
      ]
    },
    {
      "cell_type": "markdown",
      "source": [
        "#### **Saving LSTM Model**"
      ],
      "metadata": {
        "id": "EBC_Dp5gXdlm"
      }
    },
    {
      "cell_type": "code",
      "source": [
        "from keras.models import load_model\n",
        "lstm_model.save('LSTM_model.h5')"
      ],
      "metadata": {
        "colab": {
          "base_uri": "https://localhost:8080/"
        },
        "id": "xgsWPx4xXgq5",
        "outputId": "ae2e1611-3d87-490a-abf7-931c540ab229"
      },
      "execution_count": 495,
      "outputs": [
        {
          "output_type": "stream",
          "name": "stderr",
          "text": [
            "/usr/local/lib/python3.10/dist-packages/keras/src/engine/training.py:3103: UserWarning: You are saving your model as an HDF5 file via `model.save()`. This file format is considered legacy. We recommend using instead the native Keras format, e.g. `model.save('my_model.keras')`.\n",
            "  saving_api.save_model(\n"
          ]
        }
      ]
    },
    {
      "cell_type": "markdown",
      "source": [
        "### **Gated Recurrent Unit (GRU)**"
      ],
      "metadata": {
        "id": "ya8zy-MrZ-Ax"
      }
    },
    {
      "cell_type": "code",
      "source": [
        "from keras.models import Sequential\n",
        "from keras.layers import GRU, Dense, Dropout"
      ],
      "metadata": {
        "id": "ehv-wNxZazs5"
      },
      "execution_count": 479,
      "outputs": []
    },
    {
      "cell_type": "markdown",
      "source": [
        "#### **Building GRU Architecture**"
      ],
      "metadata": {
        "id": "mTVjk30bgMsV"
      }
    },
    {
      "cell_type": "code",
      "source": [
        "# Creating a GRU model\n",
        "gru_model = Sequential()\n",
        "\n",
        "# Adding a GRU layer\n",
        "gru_model.add(GRU(units=64, return_sequences=True, input_shape=(X_train.shape[1], 1)))\n",
        "gru_model.add(Dropout(0.25))\n",
        "gru_model.add(GRU(units=64, return_sequences=True))\n",
        "gru_model.add(Dropout(0.25))\n",
        "gru_model.add(GRU(units=64, return_sequences=True))\n",
        "gru_model.add(Dropout(0.25))\n",
        "gru_model.add(GRU(units=64, return_sequences=False))\n",
        "gru_model.add(Dropout(0.25))\n",
        "gru_model.add(Dense(units=1))\n",
        "\n",
        "# Compile the GRU model\n",
        "gru_model.compile(optimizer='adam', loss='mean_squared_error')"
      ],
      "metadata": {
        "id": "_dqtl6CnaZkj"
      },
      "execution_count": 480,
      "outputs": []
    },
    {
      "cell_type": "markdown",
      "source": [
        "#### **Training GRU Model**"
      ],
      "metadata": {
        "id": "f23N4gangVie"
      }
    },
    {
      "cell_type": "code",
      "source": [
        "# Train the GRU model\n",
        "gru_model.fit(X_train, Y_train, epochs=100, batch_size=32)"
      ],
      "metadata": {
        "colab": {
          "base_uri": "https://localhost:8080/"
        },
        "id": "Tg4AjJZNbM1J",
        "outputId": "88e1e262-2052-4cab-d88a-a6cecde40112"
      },
      "execution_count": 481,
      "outputs": [
        {
          "output_type": "stream",
          "name": "stdout",
          "text": [
            "Epoch 1/100\n",
            "35/35 [==============================] - 13s 7ms/step - loss: 0.1571\n",
            "Epoch 2/100\n",
            "35/35 [==============================] - 0s 7ms/step - loss: 0.0289\n",
            "Epoch 3/100\n",
            "35/35 [==============================] - 0s 7ms/step - loss: 0.0157\n",
            "Epoch 4/100\n",
            "35/35 [==============================] - 0s 8ms/step - loss: 0.0080\n",
            "Epoch 5/100\n",
            "35/35 [==============================] - 0s 8ms/step - loss: 0.0070\n",
            "Epoch 6/100\n",
            "35/35 [==============================] - 0s 8ms/step - loss: 0.0065\n",
            "Epoch 7/100\n",
            "35/35 [==============================] - 0s 7ms/step - loss: 0.0064\n",
            "Epoch 8/100\n",
            "35/35 [==============================] - 0s 8ms/step - loss: 0.0044\n",
            "Epoch 9/100\n",
            "35/35 [==============================] - 0s 8ms/step - loss: 0.0049\n",
            "Epoch 10/100\n",
            "35/35 [==============================] - 0s 8ms/step - loss: 0.0044\n",
            "Epoch 11/100\n",
            "35/35 [==============================] - 0s 7ms/step - loss: 0.0045\n",
            "Epoch 12/100\n",
            "35/35 [==============================] - 0s 8ms/step - loss: 0.0037\n",
            "Epoch 13/100\n",
            "35/35 [==============================] - 0s 8ms/step - loss: 0.0040\n",
            "Epoch 14/100\n",
            "35/35 [==============================] - 0s 7ms/step - loss: 0.0033\n",
            "Epoch 15/100\n",
            "35/35 [==============================] - 0s 8ms/step - loss: 0.0036\n",
            "Epoch 16/100\n",
            "35/35 [==============================] - 0s 8ms/step - loss: 0.0033\n",
            "Epoch 17/100\n",
            "35/35 [==============================] - 0s 7ms/step - loss: 0.0032\n",
            "Epoch 18/100\n",
            "35/35 [==============================] - 0s 8ms/step - loss: 0.0035\n",
            "Epoch 19/100\n",
            "35/35 [==============================] - 0s 8ms/step - loss: 0.0031\n",
            "Epoch 20/100\n",
            "35/35 [==============================] - 0s 8ms/step - loss: 0.0031\n",
            "Epoch 21/100\n",
            "35/35 [==============================] - 0s 8ms/step - loss: 0.0032\n",
            "Epoch 22/100\n",
            "35/35 [==============================] - 0s 8ms/step - loss: 0.0032\n",
            "Epoch 23/100\n",
            "35/35 [==============================] - 0s 8ms/step - loss: 0.0029\n",
            "Epoch 24/100\n",
            "35/35 [==============================] - 0s 8ms/step - loss: 0.0030\n",
            "Epoch 25/100\n",
            "35/35 [==============================] - 0s 7ms/step - loss: 0.0026\n",
            "Epoch 26/100\n",
            "35/35 [==============================] - 0s 8ms/step - loss: 0.0028\n",
            "Epoch 27/100\n",
            "35/35 [==============================] - 0s 8ms/step - loss: 0.0030\n",
            "Epoch 28/100\n",
            "35/35 [==============================] - 0s 8ms/step - loss: 0.0029\n",
            "Epoch 29/100\n",
            "35/35 [==============================] - 0s 8ms/step - loss: 0.0030\n",
            "Epoch 30/100\n",
            "35/35 [==============================] - 0s 8ms/step - loss: 0.0029\n",
            "Epoch 31/100\n",
            "35/35 [==============================] - 0s 10ms/step - loss: 0.0033\n",
            "Epoch 32/100\n",
            "35/35 [==============================] - 0s 11ms/step - loss: 0.0030\n",
            "Epoch 33/100\n",
            "35/35 [==============================] - 0s 11ms/step - loss: 0.0027\n",
            "Epoch 34/100\n",
            "35/35 [==============================] - 0s 12ms/step - loss: 0.0030\n",
            "Epoch 35/100\n",
            "35/35 [==============================] - 0s 11ms/step - loss: 0.0026\n",
            "Epoch 36/100\n",
            "35/35 [==============================] - 0s 11ms/step - loss: 0.0026\n",
            "Epoch 37/100\n",
            "35/35 [==============================] - 0s 11ms/step - loss: 0.0026\n",
            "Epoch 38/100\n",
            "35/35 [==============================] - 0s 10ms/step - loss: 0.0026\n",
            "Epoch 39/100\n",
            "35/35 [==============================] - 0s 10ms/step - loss: 0.0029\n",
            "Epoch 40/100\n",
            "35/35 [==============================] - 0s 10ms/step - loss: 0.0023\n",
            "Epoch 41/100\n",
            "35/35 [==============================] - 0s 11ms/step - loss: 0.0028\n",
            "Epoch 42/100\n",
            "35/35 [==============================] - 0s 10ms/step - loss: 0.0027\n",
            "Epoch 43/100\n",
            "35/35 [==============================] - 0s 11ms/step - loss: 0.0026\n",
            "Epoch 44/100\n",
            "35/35 [==============================] - 0s 12ms/step - loss: 0.0024\n",
            "Epoch 45/100\n",
            "35/35 [==============================] - 0s 10ms/step - loss: 0.0025\n",
            "Epoch 46/100\n",
            "35/35 [==============================] - 0s 8ms/step - loss: 0.0026\n",
            "Epoch 47/100\n",
            "35/35 [==============================] - 0s 7ms/step - loss: 0.0026\n",
            "Epoch 48/100\n",
            "35/35 [==============================] - 0s 8ms/step - loss: 0.0026\n",
            "Epoch 49/100\n",
            "35/35 [==============================] - 0s 8ms/step - loss: 0.0023\n",
            "Epoch 50/100\n",
            "35/35 [==============================] - 0s 8ms/step - loss: 0.0024\n",
            "Epoch 51/100\n",
            "35/35 [==============================] - 0s 9ms/step - loss: 0.0024\n",
            "Epoch 52/100\n",
            "35/35 [==============================] - 0s 7ms/step - loss: 0.0023\n",
            "Epoch 53/100\n",
            "35/35 [==============================] - 0s 8ms/step - loss: 0.0025\n",
            "Epoch 54/100\n",
            "35/35 [==============================] - 0s 8ms/step - loss: 0.0025\n",
            "Epoch 55/100\n",
            "35/35 [==============================] - 0s 8ms/step - loss: 0.0023\n",
            "Epoch 56/100\n",
            "35/35 [==============================] - 0s 8ms/step - loss: 0.0024\n",
            "Epoch 57/100\n",
            "35/35 [==============================] - 0s 8ms/step - loss: 0.0025\n",
            "Epoch 58/100\n",
            "35/35 [==============================] - 0s 8ms/step - loss: 0.0024\n",
            "Epoch 59/100\n",
            "35/35 [==============================] - 0s 8ms/step - loss: 0.0024\n",
            "Epoch 60/100\n",
            "35/35 [==============================] - 0s 8ms/step - loss: 0.0023\n",
            "Epoch 61/100\n",
            "35/35 [==============================] - 0s 8ms/step - loss: 0.0026\n",
            "Epoch 62/100\n",
            "35/35 [==============================] - 0s 8ms/step - loss: 0.0022\n",
            "Epoch 63/100\n",
            "35/35 [==============================] - 0s 8ms/step - loss: 0.0024\n",
            "Epoch 64/100\n",
            "35/35 [==============================] - 0s 8ms/step - loss: 0.0024\n",
            "Epoch 65/100\n",
            "35/35 [==============================] - 0s 8ms/step - loss: 0.0026\n",
            "Epoch 66/100\n",
            "35/35 [==============================] - 0s 8ms/step - loss: 0.0027\n",
            "Epoch 67/100\n",
            "35/35 [==============================] - 0s 8ms/step - loss: 0.0024\n",
            "Epoch 68/100\n",
            "35/35 [==============================] - 0s 8ms/step - loss: 0.0022\n",
            "Epoch 69/100\n",
            "35/35 [==============================] - 0s 8ms/step - loss: 0.0021\n",
            "Epoch 70/100\n",
            "35/35 [==============================] - 0s 8ms/step - loss: 0.0020\n",
            "Epoch 71/100\n",
            "35/35 [==============================] - 0s 8ms/step - loss: 0.0024\n",
            "Epoch 72/100\n",
            "35/35 [==============================] - 0s 9ms/step - loss: 0.0023\n",
            "Epoch 73/100\n",
            "35/35 [==============================] - 0s 8ms/step - loss: 0.0021\n",
            "Epoch 74/100\n",
            "35/35 [==============================] - 0s 9ms/step - loss: 0.0022\n",
            "Epoch 75/100\n",
            "35/35 [==============================] - 0s 12ms/step - loss: 0.0021\n",
            "Epoch 76/100\n",
            "35/35 [==============================] - 0s 9ms/step - loss: 0.0019\n",
            "Epoch 77/100\n",
            "35/35 [==============================] - 0s 12ms/step - loss: 0.0020\n",
            "Epoch 78/100\n",
            "35/35 [==============================] - 0s 13ms/step - loss: 0.0022\n",
            "Epoch 79/100\n",
            "35/35 [==============================] - 1s 14ms/step - loss: 0.0020\n",
            "Epoch 80/100\n",
            "35/35 [==============================] - 1s 17ms/step - loss: 0.0018\n",
            "Epoch 81/100\n",
            "35/35 [==============================] - 1s 15ms/step - loss: 0.0020\n",
            "Epoch 82/100\n",
            "35/35 [==============================] - 1s 15ms/step - loss: 0.0019\n",
            "Epoch 83/100\n",
            "35/35 [==============================] - 0s 11ms/step - loss: 0.0018\n",
            "Epoch 84/100\n",
            "35/35 [==============================] - 0s 10ms/step - loss: 0.0020\n",
            "Epoch 85/100\n",
            "35/35 [==============================] - 0s 10ms/step - loss: 0.0019\n",
            "Epoch 86/100\n",
            "35/35 [==============================] - 0s 11ms/step - loss: 0.0018\n",
            "Epoch 87/100\n",
            "35/35 [==============================] - 0s 11ms/step - loss: 0.0018\n",
            "Epoch 88/100\n",
            "35/35 [==============================] - 0s 10ms/step - loss: 0.0019\n",
            "Epoch 89/100\n",
            "35/35 [==============================] - 0s 11ms/step - loss: 0.0020\n",
            "Epoch 90/100\n",
            "35/35 [==============================] - 0s 11ms/step - loss: 0.0021\n",
            "Epoch 91/100\n",
            "35/35 [==============================] - 0s 11ms/step - loss: 0.0017\n",
            "Epoch 92/100\n",
            "35/35 [==============================] - 0s 9ms/step - loss: 0.0018\n",
            "Epoch 93/100\n",
            "35/35 [==============================] - 0s 8ms/step - loss: 0.0017\n",
            "Epoch 94/100\n",
            "35/35 [==============================] - 0s 8ms/step - loss: 0.0017\n",
            "Epoch 95/100\n",
            "35/35 [==============================] - 0s 8ms/step - loss: 0.0017\n",
            "Epoch 96/100\n",
            "35/35 [==============================] - 0s 8ms/step - loss: 0.0017\n",
            "Epoch 97/100\n",
            "35/35 [==============================] - 0s 8ms/step - loss: 0.0017\n",
            "Epoch 98/100\n",
            "35/35 [==============================] - 0s 8ms/step - loss: 0.0018\n",
            "Epoch 99/100\n",
            "35/35 [==============================] - 0s 8ms/step - loss: 0.0017\n",
            "Epoch 100/100\n",
            "35/35 [==============================] - 0s 8ms/step - loss: 0.0016\n"
          ]
        },
        {
          "output_type": "execute_result",
          "data": {
            "text/plain": [
              "<keras.src.callbacks.History at 0x7ef14fa2b190>"
            ]
          },
          "metadata": {},
          "execution_count": 481
        }
      ]
    },
    {
      "cell_type": "markdown",
      "source": [
        "#### **Testing GRU Model**"
      ],
      "metadata": {
        "id": "Kxf1KHMigcGl"
      }
    },
    {
      "cell_type": "code",
      "source": [
        "dataset_test = df\n",
        "real_stock_price = dataset_test.iloc[:,4:5].values\n",
        "real_stock_price"
      ],
      "metadata": {
        "colab": {
          "base_uri": "https://localhost:8080/"
        },
        "id": "vEZoUBUveQ6J",
        "outputId": "a2a79ec0-637c-4060-9bb0-fcd38f805a9a"
      },
      "execution_count": 482,
      "outputs": [
        {
          "output_type": "execute_result",
          "data": {
            "text/plain": [
              "array([[6152.859863],\n",
              "       [6133.120117],\n",
              "       [6115.493164],\n",
              "       ...,\n",
              "       [7036.086914],\n",
              "       [7080.741211],\n",
              "       [7059.905762]])"
            ]
          },
          "metadata": {},
          "execution_count": 482
        }
      ]
    },
    {
      "cell_type": "code",
      "source": [
        "dataset_total = pd.concat((df['Close'], dataset_test['Close']), axis = 0)\n",
        "inputs = dataset_total[len(dataset_total) - len(dataset_test):].values\n",
        "inputs = inputs.reshape(-1,1)\n",
        "inputs = sc.transform(inputs)"
      ],
      "metadata": {
        "id": "kT7hhGUJeV4Q"
      },
      "execution_count": 483,
      "outputs": []
    },
    {
      "cell_type": "code",
      "source": [
        "inputs"
      ],
      "metadata": {
        "colab": {
          "base_uri": "https://localhost:8080/"
        },
        "id": "gE2VUt1_eZ_3",
        "outputId": "48025011-aa35-4e61-d8bf-dc85da2d586e"
      },
      "execution_count": 484,
      "outputs": [
        {
          "output_type": "execute_result",
          "data": {
            "text/plain": [
              "array([[0.48035556],\n",
              "       [0.47155189],\n",
              "       [0.4636905 ],\n",
              "       ...,\n",
              "       [0.87426327],\n",
              "       [0.8941785 ],\n",
              "       [0.88488616]])"
            ]
          },
          "metadata": {},
          "execution_count": 484
        }
      ]
    },
    {
      "cell_type": "code",
      "source": [
        "X_test = inputs\n",
        "X_test = np.array(X_test)\n",
        "X_test = np.reshape(X_test, (X_test.shape[0], X_test.shape[1], 1))"
      ],
      "metadata": {
        "id": "iimFc6KCefv3"
      },
      "execution_count": 485,
      "outputs": []
    },
    {
      "cell_type": "code",
      "source": [
        "predicted_stock_price_gru = gru_model.predict(X_test)\n",
        "predicted_stock_price_gru = sc.inverse_transform(predicted_stock_price_gru)"
      ],
      "metadata": {
        "colab": {
          "base_uri": "https://localhost:8080/"
        },
        "id": "kiSRbO2Gek23",
        "outputId": "c7f87c81-a8dc-4c13-9386-9b9b29ddfa8d"
      },
      "execution_count": 486,
      "outputs": [
        {
          "output_type": "stream",
          "name": "stdout",
          "text": [
            "35/35 [==============================] - 2s 4ms/step\n"
          ]
        }
      ]
    },
    {
      "cell_type": "code",
      "source": [
        "predicted_stock_price_gru"
      ],
      "metadata": {
        "colab": {
          "base_uri": "https://localhost:8080/"
        },
        "id": "DJEY1BhQfKVz",
        "outputId": "dc05a728-5998-40ce-99fd-4bb3b2895f23"
      },
      "execution_count": 487,
      "outputs": [
        {
          "output_type": "execute_result",
          "data": {
            "text/plain": [
              "array([[6142.057 ],\n",
              "       [6122.117 ],\n",
              "       [6104.32  ],\n",
              "       ...,\n",
              "       [7033.0386],\n",
              "       [7077.457 ],\n",
              "       [7056.7446]], dtype=float32)"
            ]
          },
          "metadata": {},
          "execution_count": 487
        }
      ]
    },
    {
      "cell_type": "code",
      "source": [
        "# Add the predicted values to the DataFrame\n",
        "df['GRU Predictions'] = predicted_stock_price_gru\n",
        "\n",
        "# Print or visualize the results as needed\n",
        "df[['Date', 'Close', 'GRU Predictions']]"
      ],
      "metadata": {
        "colab": {
          "base_uri": "https://localhost:8080/",
          "height": 424
        },
        "id": "8RyB5Pc8ffVz",
        "outputId": "f491b4af-f730-457a-b5af-27a0b8742f2c"
      },
      "execution_count": 488,
      "outputs": [
        {
          "output_type": "execute_result",
          "data": {
            "text/plain": [
              "           Date        Close  GRU Predictions\n",
              "0    2018-12-04  6152.859863      6142.057129\n",
              "1    2018-12-05  6133.120117      6122.117188\n",
              "2    2018-12-06  6115.493164      6104.319824\n",
              "3    2018-12-07  6126.355957      6115.286621\n",
              "4    2018-12-10  6111.359863      6100.146973\n",
              "...         ...          ...              ...\n",
              "1104 2023-11-27  7013.405762      7010.435547\n",
              "1105 2023-11-28  7041.073242      7038.003906\n",
              "1106 2023-11-29  7036.086914      7033.038574\n",
              "1107 2023-11-30  7080.741211      7077.457031\n",
              "1108 2023-12-01  7059.905762      7056.744629\n",
              "\n",
              "[1109 rows x 3 columns]"
            ],
            "text/html": [
              "\n",
              "  <div id=\"df-5d345f48-5437-456a-9b2c-a61a21f0c503\" class=\"colab-df-container\">\n",
              "    <div>\n",
              "<style scoped>\n",
              "    .dataframe tbody tr th:only-of-type {\n",
              "        vertical-align: middle;\n",
              "    }\n",
              "\n",
              "    .dataframe tbody tr th {\n",
              "        vertical-align: top;\n",
              "    }\n",
              "\n",
              "    .dataframe thead th {\n",
              "        text-align: right;\n",
              "    }\n",
              "</style>\n",
              "<table border=\"1\" class=\"dataframe\">\n",
              "  <thead>\n",
              "    <tr style=\"text-align: right;\">\n",
              "      <th></th>\n",
              "      <th>Date</th>\n",
              "      <th>Close</th>\n",
              "      <th>GRU Predictions</th>\n",
              "    </tr>\n",
              "  </thead>\n",
              "  <tbody>\n",
              "    <tr>\n",
              "      <th>0</th>\n",
              "      <td>2018-12-04</td>\n",
              "      <td>6152.859863</td>\n",
              "      <td>6142.057129</td>\n",
              "    </tr>\n",
              "    <tr>\n",
              "      <th>1</th>\n",
              "      <td>2018-12-05</td>\n",
              "      <td>6133.120117</td>\n",
              "      <td>6122.117188</td>\n",
              "    </tr>\n",
              "    <tr>\n",
              "      <th>2</th>\n",
              "      <td>2018-12-06</td>\n",
              "      <td>6115.493164</td>\n",
              "      <td>6104.319824</td>\n",
              "    </tr>\n",
              "    <tr>\n",
              "      <th>3</th>\n",
              "      <td>2018-12-07</td>\n",
              "      <td>6126.355957</td>\n",
              "      <td>6115.286621</td>\n",
              "    </tr>\n",
              "    <tr>\n",
              "      <th>4</th>\n",
              "      <td>2018-12-10</td>\n",
              "      <td>6111.359863</td>\n",
              "      <td>6100.146973</td>\n",
              "    </tr>\n",
              "    <tr>\n",
              "      <th>...</th>\n",
              "      <td>...</td>\n",
              "      <td>...</td>\n",
              "      <td>...</td>\n",
              "    </tr>\n",
              "    <tr>\n",
              "      <th>1104</th>\n",
              "      <td>2023-11-27</td>\n",
              "      <td>7013.405762</td>\n",
              "      <td>7010.435547</td>\n",
              "    </tr>\n",
              "    <tr>\n",
              "      <th>1105</th>\n",
              "      <td>2023-11-28</td>\n",
              "      <td>7041.073242</td>\n",
              "      <td>7038.003906</td>\n",
              "    </tr>\n",
              "    <tr>\n",
              "      <th>1106</th>\n",
              "      <td>2023-11-29</td>\n",
              "      <td>7036.086914</td>\n",
              "      <td>7033.038574</td>\n",
              "    </tr>\n",
              "    <tr>\n",
              "      <th>1107</th>\n",
              "      <td>2023-11-30</td>\n",
              "      <td>7080.741211</td>\n",
              "      <td>7077.457031</td>\n",
              "    </tr>\n",
              "    <tr>\n",
              "      <th>1108</th>\n",
              "      <td>2023-12-01</td>\n",
              "      <td>7059.905762</td>\n",
              "      <td>7056.744629</td>\n",
              "    </tr>\n",
              "  </tbody>\n",
              "</table>\n",
              "<p>1109 rows × 3 columns</p>\n",
              "</div>\n",
              "    <div class=\"colab-df-buttons\">\n",
              "\n",
              "  <div class=\"colab-df-container\">\n",
              "    <button class=\"colab-df-convert\" onclick=\"convertToInteractive('df-5d345f48-5437-456a-9b2c-a61a21f0c503')\"\n",
              "            title=\"Convert this dataframe to an interactive table.\"\n",
              "            style=\"display:none;\">\n",
              "\n",
              "  <svg xmlns=\"http://www.w3.org/2000/svg\" height=\"24px\" viewBox=\"0 -960 960 960\">\n",
              "    <path d=\"M120-120v-720h720v720H120Zm60-500h600v-160H180v160Zm220 220h160v-160H400v160Zm0 220h160v-160H400v160ZM180-400h160v-160H180v160Zm440 0h160v-160H620v160ZM180-180h160v-160H180v160Zm440 0h160v-160H620v160Z\"/>\n",
              "  </svg>\n",
              "    </button>\n",
              "\n",
              "  <style>\n",
              "    .colab-df-container {\n",
              "      display:flex;\n",
              "      gap: 12px;\n",
              "    }\n",
              "\n",
              "    .colab-df-convert {\n",
              "      background-color: #E8F0FE;\n",
              "      border: none;\n",
              "      border-radius: 50%;\n",
              "      cursor: pointer;\n",
              "      display: none;\n",
              "      fill: #1967D2;\n",
              "      height: 32px;\n",
              "      padding: 0 0 0 0;\n",
              "      width: 32px;\n",
              "    }\n",
              "\n",
              "    .colab-df-convert:hover {\n",
              "      background-color: #E2EBFA;\n",
              "      box-shadow: 0px 1px 2px rgba(60, 64, 67, 0.3), 0px 1px 3px 1px rgba(60, 64, 67, 0.15);\n",
              "      fill: #174EA6;\n",
              "    }\n",
              "\n",
              "    .colab-df-buttons div {\n",
              "      margin-bottom: 4px;\n",
              "    }\n",
              "\n",
              "    [theme=dark] .colab-df-convert {\n",
              "      background-color: #3B4455;\n",
              "      fill: #D2E3FC;\n",
              "    }\n",
              "\n",
              "    [theme=dark] .colab-df-convert:hover {\n",
              "      background-color: #434B5C;\n",
              "      box-shadow: 0px 1px 3px 1px rgba(0, 0, 0, 0.15);\n",
              "      filter: drop-shadow(0px 1px 2px rgba(0, 0, 0, 0.3));\n",
              "      fill: #FFFFFF;\n",
              "    }\n",
              "  </style>\n",
              "\n",
              "    <script>\n",
              "      const buttonEl =\n",
              "        document.querySelector('#df-5d345f48-5437-456a-9b2c-a61a21f0c503 button.colab-df-convert');\n",
              "      buttonEl.style.display =\n",
              "        google.colab.kernel.accessAllowed ? 'block' : 'none';\n",
              "\n",
              "      async function convertToInteractive(key) {\n",
              "        const element = document.querySelector('#df-5d345f48-5437-456a-9b2c-a61a21f0c503');\n",
              "        const dataTable =\n",
              "          await google.colab.kernel.invokeFunction('convertToInteractive',\n",
              "                                                    [key], {});\n",
              "        if (!dataTable) return;\n",
              "\n",
              "        const docLinkHtml = 'Like what you see? Visit the ' +\n",
              "          '<a target=\"_blank\" href=https://colab.research.google.com/notebooks/data_table.ipynb>data table notebook</a>'\n",
              "          + ' to learn more about interactive tables.';\n",
              "        element.innerHTML = '';\n",
              "        dataTable['output_type'] = 'display_data';\n",
              "        await google.colab.output.renderOutput(dataTable, element);\n",
              "        const docLink = document.createElement('div');\n",
              "        docLink.innerHTML = docLinkHtml;\n",
              "        element.appendChild(docLink);\n",
              "      }\n",
              "    </script>\n",
              "  </div>\n",
              "\n",
              "\n",
              "<div id=\"df-f5474e64-1b41-4a24-b8c5-1c0950d13b7e\">\n",
              "  <button class=\"colab-df-quickchart\" onclick=\"quickchart('df-f5474e64-1b41-4a24-b8c5-1c0950d13b7e')\"\n",
              "            title=\"Suggest charts\"\n",
              "            style=\"display:none;\">\n",
              "\n",
              "<svg xmlns=\"http://www.w3.org/2000/svg\" height=\"24px\"viewBox=\"0 0 24 24\"\n",
              "     width=\"24px\">\n",
              "    <g>\n",
              "        <path d=\"M19 3H5c-1.1 0-2 .9-2 2v14c0 1.1.9 2 2 2h14c1.1 0 2-.9 2-2V5c0-1.1-.9-2-2-2zM9 17H7v-7h2v7zm4 0h-2V7h2v10zm4 0h-2v-4h2v4z\"/>\n",
              "    </g>\n",
              "</svg>\n",
              "  </button>\n",
              "\n",
              "<style>\n",
              "  .colab-df-quickchart {\n",
              "      --bg-color: #E8F0FE;\n",
              "      --fill-color: #1967D2;\n",
              "      --hover-bg-color: #E2EBFA;\n",
              "      --hover-fill-color: #174EA6;\n",
              "      --disabled-fill-color: #AAA;\n",
              "      --disabled-bg-color: #DDD;\n",
              "  }\n",
              "\n",
              "  [theme=dark] .colab-df-quickchart {\n",
              "      --bg-color: #3B4455;\n",
              "      --fill-color: #D2E3FC;\n",
              "      --hover-bg-color: #434B5C;\n",
              "      --hover-fill-color: #FFFFFF;\n",
              "      --disabled-bg-color: #3B4455;\n",
              "      --disabled-fill-color: #666;\n",
              "  }\n",
              "\n",
              "  .colab-df-quickchart {\n",
              "    background-color: var(--bg-color);\n",
              "    border: none;\n",
              "    border-radius: 50%;\n",
              "    cursor: pointer;\n",
              "    display: none;\n",
              "    fill: var(--fill-color);\n",
              "    height: 32px;\n",
              "    padding: 0;\n",
              "    width: 32px;\n",
              "  }\n",
              "\n",
              "  .colab-df-quickchart:hover {\n",
              "    background-color: var(--hover-bg-color);\n",
              "    box-shadow: 0 1px 2px rgba(60, 64, 67, 0.3), 0 1px 3px 1px rgba(60, 64, 67, 0.15);\n",
              "    fill: var(--button-hover-fill-color);\n",
              "  }\n",
              "\n",
              "  .colab-df-quickchart-complete:disabled,\n",
              "  .colab-df-quickchart-complete:disabled:hover {\n",
              "    background-color: var(--disabled-bg-color);\n",
              "    fill: var(--disabled-fill-color);\n",
              "    box-shadow: none;\n",
              "  }\n",
              "\n",
              "  .colab-df-spinner {\n",
              "    border: 2px solid var(--fill-color);\n",
              "    border-color: transparent;\n",
              "    border-bottom-color: var(--fill-color);\n",
              "    animation:\n",
              "      spin 1s steps(1) infinite;\n",
              "  }\n",
              "\n",
              "  @keyframes spin {\n",
              "    0% {\n",
              "      border-color: transparent;\n",
              "      border-bottom-color: var(--fill-color);\n",
              "      border-left-color: var(--fill-color);\n",
              "    }\n",
              "    20% {\n",
              "      border-color: transparent;\n",
              "      border-left-color: var(--fill-color);\n",
              "      border-top-color: var(--fill-color);\n",
              "    }\n",
              "    30% {\n",
              "      border-color: transparent;\n",
              "      border-left-color: var(--fill-color);\n",
              "      border-top-color: var(--fill-color);\n",
              "      border-right-color: var(--fill-color);\n",
              "    }\n",
              "    40% {\n",
              "      border-color: transparent;\n",
              "      border-right-color: var(--fill-color);\n",
              "      border-top-color: var(--fill-color);\n",
              "    }\n",
              "    60% {\n",
              "      border-color: transparent;\n",
              "      border-right-color: var(--fill-color);\n",
              "    }\n",
              "    80% {\n",
              "      border-color: transparent;\n",
              "      border-right-color: var(--fill-color);\n",
              "      border-bottom-color: var(--fill-color);\n",
              "    }\n",
              "    90% {\n",
              "      border-color: transparent;\n",
              "      border-bottom-color: var(--fill-color);\n",
              "    }\n",
              "  }\n",
              "</style>\n",
              "\n",
              "  <script>\n",
              "    async function quickchart(key) {\n",
              "      const quickchartButtonEl =\n",
              "        document.querySelector('#' + key + ' button');\n",
              "      quickchartButtonEl.disabled = true;  // To prevent multiple clicks.\n",
              "      quickchartButtonEl.classList.add('colab-df-spinner');\n",
              "      try {\n",
              "        const charts = await google.colab.kernel.invokeFunction(\n",
              "            'suggestCharts', [key], {});\n",
              "      } catch (error) {\n",
              "        console.error('Error during call to suggestCharts:', error);\n",
              "      }\n",
              "      quickchartButtonEl.classList.remove('colab-df-spinner');\n",
              "      quickchartButtonEl.classList.add('colab-df-quickchart-complete');\n",
              "    }\n",
              "    (() => {\n",
              "      let quickchartButtonEl =\n",
              "        document.querySelector('#df-f5474e64-1b41-4a24-b8c5-1c0950d13b7e button');\n",
              "      quickchartButtonEl.style.display =\n",
              "        google.colab.kernel.accessAllowed ? 'block' : 'none';\n",
              "    })();\n",
              "  </script>\n",
              "</div>\n",
              "    </div>\n",
              "  </div>\n"
            ]
          },
          "metadata": {},
          "execution_count": 488
        }
      ]
    },
    {
      "cell_type": "code",
      "source": [
        "# Plot the actual closing prices and predictions\n",
        "plt.figure(figsize=(10, 6))\n",
        "plt.plot(df['Date'], df['Close'], label='Actual Close Price', color='blue')\n",
        "plt.plot(df['Date'], df['GRU Predictions'], label='Predicted Close Price', color='red')\n",
        "plt.title('Close Price Prediction using GRU')\n",
        "plt.xlabel('Date')\n",
        "plt.ylabel('Closing Price')\n",
        "plt.legend()\n",
        "plt.show()"
      ],
      "metadata": {
        "colab": {
          "base_uri": "https://localhost:8080/",
          "height": 564
        },
        "id": "-QbHRXD2fyil",
        "outputId": "0f316bdd-2d72-430d-900f-763e0a3a7efc"
      },
      "execution_count": 494,
      "outputs": [
        {
          "output_type": "display_data",
          "data": {
            "text/plain": [
              "<Figure size 1000x600 with 1 Axes>"
            ],
            "image/png": "[encoded data removed]"
          },
          "metadata": {}
        }
      ]
    },
    {
      "cell_type": "markdown",
      "source": [
        "#### **Model Evaluation**"
      ],
      "metadata": {
        "id": "G8scK5qNgiMd"
      }
    },
    {
      "cell_type": "code",
      "source": [
        "from sklearn.metrics import mean_squared_error\n",
        "from math import sqrt"
      ],
      "metadata": {
        "id": "4OnldFvQgjDV"
      },
      "execution_count": 490,
      "outputs": []
    },
    {
      "cell_type": "code",
      "source": [
        "# Perform prediction on training data\n",
        "y_pred = gru_model.predict(X_train)\n",
        "\n",
        "# Calculate MSE\n",
        "mse_gru = mean_squared_error(Y_train, y_pred)\n",
        "\n",
        "# Calculating RMSE\n",
        "rmse_gru = sqrt(mse_gru)\n",
        "\n",
        "# Calculating MAPE\n",
        "mape_gru = np.mean(np.abs((Y_train - y_pred) / np.maximum(1e-8, np.abs(Y_train)))) * 100\n",
        "\n",
        "# Displaying results\n",
        "print(f'Mean Squared Error (MSE): {mse_gru}')\n",
        "print(f'Root Mean Squared Error (RMSE): {rmse_gru}')\n",
        "print(f'Mean Absolute Percentage Error (MAPE): {mape_gru}%')"
      ],
      "metadata": {
        "colab": {
          "base_uri": "https://localhost:8080/"
        },
        "id": "8C_diGezguw_",
        "outputId": "93d158ed-54ff-4d45-b2a0-349cb8ab8e21"
      },
      "execution_count": 491,
      "outputs": [
        {
          "output_type": "stream",
          "name": "stdout",
          "text": [
            "35/35 [==============================] - 0s 4ms/step\n",
            "Mean Squared Error (MSE): 1.1704594627786685e-05\n",
            "Root Mean Squared Error (RMSE): 0.0034211978352306207\n",
            "Mean Absolute Percentage Error (MAPE): 38259.917382133826%\n"
          ]
        }
      ]
    },
    {
      "cell_type": "markdown",
      "source": [
        "#### **Saving GRU Model**"
      ],
      "metadata": {
        "id": "732jn4_Kg9FL"
      }
    },
    {
      "cell_type": "code",
      "source": [
        "from keras.models import load_model\n",
        "gru_model.save('GRU_model.h5')"
      ],
      "metadata": {
        "colab": {
          "base_uri": "https://localhost:8080/"
        },
        "id": "es8vVDX7g8M3",
        "outputId": "61da868d-f891-4207-d3e7-ded03ae6a3e3"
      },
      "execution_count": 492,
      "outputs": [
        {
          "output_type": "stream",
          "name": "stderr",
          "text": [
            "/usr/local/lib/python3.10/dist-packages/keras/src/engine/training.py:3103: UserWarning: You are saving your model as an HDF5 file via `model.save()`. This file format is considered legacy. We recommend using instead the native Keras format, e.g. `model.save('my_model.keras')`.\n",
            "  saving_api.save_model(\n"
          ]
        }
      ]
    },
    {
      "cell_type": "markdown",
      "source": [
        "## **Conclusion**"
      ],
      "metadata": {
        "id": "zO5PUkRinPPI"
      }
    },
    {
      "cell_type": "code",
      "source": [
        "model_comparison = pd.DataFrame({'Model': ['LSTM','GRU'], 'MSE': [mse_lstm*100,mse_gru*100], 'RMSE': [rmse_lstm*100,rmse_gru*100], 'MAPE': [mape_lstm*100,mape_gru*100]})\n",
        "model_comparison"
      ],
      "metadata": {
        "colab": {
          "base_uri": "https://localhost:8080/",
          "height": 112
        },
        "id": "sIdUxsxQnTOm",
        "outputId": "6357d3e0-49f5-4a87-a1de-582697bfe4b5"
      },
      "execution_count": 493,
      "outputs": [
        {
          "output_type": "execute_result",
          "data": {
            "text/plain": [
              "  Model       MSE      RMSE          MAPE\n",
              "0  LSTM  0.032122  1.792274  4.571553e+07\n",
              "1   GRU  0.001170  0.342120  3.825992e+06"
            ],
            "text/html": [
              "\n",
              "  <div id=\"df-da7ff47f-cc67-4320-8577-e199a0f62784\" class=\"colab-df-container\">\n",
              "    <div>\n",
              "<style scoped>\n",
              "    .dataframe tbody tr th:only-of-type {\n",
              "        vertical-align: middle;\n",
              "    }\n",
              "\n",
              "    .dataframe tbody tr th {\n",
              "        vertical-align: top;\n",
              "    }\n",
              "\n",
              "    .dataframe thead th {\n",
              "        text-align: right;\n",
              "    }\n",
              "</style>\n",
              "<table border=\"1\" class=\"dataframe\">\n",
              "  <thead>\n",
              "    <tr style=\"text-align: right;\">\n",
              "      <th></th>\n",
              "      <th>Model</th>\n",
              "      <th>MSE</th>\n",
              "      <th>RMSE</th>\n",
              "      <th>MAPE</th>\n",
              "    </tr>\n",
              "  </thead>\n",
              "  <tbody>\n",
              "    <tr>\n",
              "      <th>0</th>\n",
              "      <td>LSTM</td>\n",
              "      <td>0.032122</td>\n",
              "      <td>1.792274</td>\n",
              "      <td>4.571553e+07</td>\n",
              "    </tr>\n",
              "    <tr>\n",
              "      <th>1</th>\n",
              "      <td>GRU</td>\n",
              "      <td>0.001170</td>\n",
              "      <td>0.342120</td>\n",
              "      <td>3.825992e+06</td>\n",
              "    </tr>\n",
              "  </tbody>\n",
              "</table>\n",
              "</div>\n",
              "    <div class=\"colab-df-buttons\">\n",
              "\n",
              "  <div class=\"colab-df-container\">\n",
              "    <button class=\"colab-df-convert\" onclick=\"convertToInteractive('df-da7ff47f-cc67-4320-8577-e199a0f62784')\"\n",
              "            title=\"Convert this dataframe to an interactive table.\"\n",
              "            style=\"display:none;\">\n",
              "\n",
              "  <svg xmlns=\"http://www.w3.org/2000/svg\" height=\"24px\" viewBox=\"0 -960 960 960\">\n",
              "    <path d=\"M120-120v-720h720v720H120Zm60-500h600v-160H180v160Zm220 220h160v-160H400v160Zm0 220h160v-160H400v160ZM180-400h160v-160H180v160Zm440 0h160v-160H620v160ZM180-180h160v-160H180v160Zm440 0h160v-160H620v160Z\"/>\n",
              "  </svg>\n",
              "    </button>\n",
              "\n",
              "  <style>\n",
              "    .colab-df-container {\n",
              "      display:flex;\n",
              "      gap: 12px;\n",
              "    }\n",
              "\n",
              "    .colab-df-convert {\n",
              "      background-color: #E8F0FE;\n",
              "      border: none;\n",
              "      border-radius: 50%;\n",
              "      cursor: pointer;\n",
              "      display: none;\n",
              "      fill: #1967D2;\n",
              "      height: 32px;\n",
              "      padding: 0 0 0 0;\n",
              "      width: 32px;\n",
              "    }\n",
              "\n",
              "    .colab-df-convert:hover {\n",
              "      background-color: #E2EBFA;\n",
              "      box-shadow: 0px 1px 2px rgba(60, 64, 67, 0.3), 0px 1px 3px 1px rgba(60, 64, 67, 0.15);\n",
              "      fill: #174EA6;\n",
              "    }\n",
              "\n",
              "    .colab-df-buttons div {\n",
              "      margin-bottom: 4px;\n",
              "    }\n",
              "\n",
              "    [theme=dark] .colab-df-convert {\n",
              "      background-color: #3B4455;\n",
              "      fill: #D2E3FC;\n",
              "    }\n",
              "\n",
              "    [theme=dark] .colab-df-convert:hover {\n",
              "      background-color: #434B5C;\n",
              "      box-shadow: 0px 1px 3px 1px rgba(0, 0, 0, 0.15);\n",
              "      filter: drop-shadow(0px 1px 2px rgba(0, 0, 0, 0.3));\n",
              "      fill: #FFFFFF;\n",
              "    }\n",
              "  </style>\n",
              "\n",
              "    <script>\n",
              "      const buttonEl =\n",
              "        document.querySelector('#df-da7ff47f-cc67-4320-8577-e199a0f62784 button.colab-df-convert');\n",
              "      buttonEl.style.display =\n",
              "        google.colab.kernel.accessAllowed ? 'block' : 'none';\n",
              "\n",
              "      async function convertToInteractive(key) {\n",
              "        const element = document.querySelector('#df-da7ff47f-cc67-4320-8577-e199a0f62784');\n",
              "        const dataTable =\n",
              "          await google.colab.kernel.invokeFunction('convertToInteractive',\n",
              "                                                    [key], {});\n",
              "        if (!dataTable) return;\n",
              "\n",
              "        const docLinkHtml = 'Like what you see? Visit the ' +\n",
              "          '<a target=\"_blank\" href=https://colab.research.google.com/notebooks/data_table.ipynb>data table notebook</a>'\n",
              "          + ' to learn more about interactive tables.';\n",
              "        element.innerHTML = '';\n",
              "        dataTable['output_type'] = 'display_data';\n",
              "        await google.colab.output.renderOutput(dataTable, element);\n",
              "        const docLink = document.createElement('div');\n",
              "        docLink.innerHTML = docLinkHtml;\n",
              "        element.appendChild(docLink);\n",
              "      }\n",
              "    </script>\n",
              "  </div>\n",
              "\n",
              "\n",
              "<div id=\"df-ad6843e6-1c68-4ee1-893b-09244892f367\">\n",
              "  <button class=\"colab-df-quickchart\" onclick=\"quickchart('df-ad6843e6-1c68-4ee1-893b-09244892f367')\"\n",
              "            title=\"Suggest charts\"\n",
              "            style=\"display:none;\">\n",
              "\n",
              "<svg xmlns=\"http://www.w3.org/2000/svg\" height=\"24px\"viewBox=\"0 0 24 24\"\n",
              "     width=\"24px\">\n",
              "    <g>\n",
              "        <path d=\"M19 3H5c-1.1 0-2 .9-2 2v14c0 1.1.9 2 2 2h14c1.1 0 2-.9 2-2V5c0-1.1-.9-2-2-2zM9 17H7v-7h2v7zm4 0h-2V7h2v10zm4 0h-2v-4h2v4z\"/>\n",
              "    </g>\n",
              "</svg>\n",
              "  </button>\n",
              "\n",
              "<style>\n",
              "  .colab-df-quickchart {\n",
              "      --bg-color: #E8F0FE;\n",
              "      --fill-color: #1967D2;\n",
              "      --hover-bg-color: #E2EBFA;\n",
              "      --hover-fill-color: #174EA6;\n",
              "      --disabled-fill-color: #AAA;\n",
              "      --disabled-bg-color: #DDD;\n",
              "  }\n",
              "\n",
              "  [theme=dark] .colab-df-quickchart {\n",
              "      --bg-color: #3B4455;\n",
              "      --fill-color: #D2E3FC;\n",
              "      --hover-bg-color: #434B5C;\n",
              "      --hover-fill-color: #FFFFFF;\n",
              "      --disabled-bg-color: #3B4455;\n",
              "      --disabled-fill-color: #666;\n",
              "  }\n",
              "\n",
              "  .colab-df-quickchart {\n",
              "    background-color: var(--bg-color);\n",
              "    border: none;\n",
              "    border-radius: 50%;\n",
              "    cursor: pointer;\n",
              "    display: none;\n",
              "    fill: var(--fill-color);\n",
              "    height: 32px;\n",
              "    padding: 0;\n",
              "    width: 32px;\n",
              "  }\n",
              "\n",
              "  .colab-df-quickchart:hover {\n",
              "    background-color: var(--hover-bg-color);\n",
              "    box-shadow: 0 1px 2px rgba(60, 64, 67, 0.3), 0 1px 3px 1px rgba(60, 64, 67, 0.15);\n",
              "    fill: var(--button-hover-fill-color);\n",
              "  }\n",
              "\n",
              "  .colab-df-quickchart-complete:disabled,\n",
              "  .colab-df-quickchart-complete:disabled:hover {\n",
              "    background-color: var(--disabled-bg-color);\n",
              "    fill: var(--disabled-fill-color);\n",
              "    box-shadow: none;\n",
              "  }\n",
              "\n",
              "  .colab-df-spinner {\n",
              "    border: 2px solid var(--fill-color);\n",
              "    border-color: transparent;\n",
              "    border-bottom-color: var(--fill-color);\n",
              "    animation:\n",
              "      spin 1s steps(1) infinite;\n",
              "  }\n",
              "\n",
              "  @keyframes spin {\n",
              "    0% {\n",
              "      border-color: transparent;\n",
              "      border-bottom-color: var(--fill-color);\n",
              "      border-left-color: var(--fill-color);\n",
              "    }\n",
              "    20% {\n",
              "      border-color: transparent;\n",
              "      border-left-color: var(--fill-color);\n",
              "      border-top-color: var(--fill-color);\n",
              "    }\n",
              "    30% {\n",
              "      border-color: transparent;\n",
              "      border-left-color: var(--fill-color);\n",
              "      border-top-color: var(--fill-color);\n",
              "      border-right-color: var(--fill-color);\n",
              "    }\n",
              "    40% {\n",
              "      border-color: transparent;\n",
              "      border-right-color: var(--fill-color);\n",
              "      border-top-color: var(--fill-color);\n",
              "    }\n",
              "    60% {\n",
              "      border-color: transparent;\n",
              "      border-right-color: var(--fill-color);\n",
              "    }\n",
              "    80% {\n",
              "      border-color: transparent;\n",
              "      border-right-color: var(--fill-color);\n",
              "      border-bottom-color: var(--fill-color);\n",
              "    }\n",
              "    90% {\n",
              "      border-color: transparent;\n",
              "      border-bottom-color: var(--fill-color);\n",
              "    }\n",
              "  }\n",
              "</style>\n",
              "\n",
              "  <script>\n",
              "    async function quickchart(key) {\n",
              "      const quickchartButtonEl =\n",
              "        document.querySelector('#' + key + ' button');\n",
              "      quickchartButtonEl.disabled = true;  // To prevent multiple clicks.\n",
              "      quickchartButtonEl.classList.add('colab-df-spinner');\n",
              "      try {\n",
              "        const charts = await google.colab.kernel.invokeFunction(\n",
              "            'suggestCharts', [key], {});\n",
              "      } catch (error) {\n",
              "        console.error('Error during call to suggestCharts:', error);\n",
              "      }\n",
              "      quickchartButtonEl.classList.remove('colab-df-spinner');\n",
              "      quickchartButtonEl.classList.add('colab-df-quickchart-complete');\n",
              "    }\n",
              "    (() => {\n",
              "      let quickchartButtonEl =\n",
              "        document.querySelector('#df-ad6843e6-1c68-4ee1-893b-09244892f367 button');\n",
              "      quickchartButtonEl.style.display =\n",
              "        google.colab.kernel.accessAllowed ? 'block' : 'none';\n",
              "    })();\n",
              "  </script>\n",
              "</div>\n",
              "    </div>\n",
              "  </div>\n"
            ]
          },
          "metadata": {},
          "execution_count": 493
        }
      ]
    },
    {
      "cell_type": "markdown",
      "source": [
        "Based on the results given for LSTM and GRU models in stock price prediction, we can draw some conclusions:\n",
        "\n",
        "1. **Mean Squared Error (MSE):** The lower MSE value in the GRU model indicates that GRU has a better performance in minimising the mean squared error between the true and predicted values.\n",
        "\n",
        "2. **Root Mean Squared Error (RMSE):** The lower RMSE value in the GRU model indicates that GRU provides a more accurate estimate and approximates the true value better than LSTM.\n",
        "\n",
        "3. **Mean Absolute Percentage Error (MAPE):** The lower MAPE value in the GRU model indicates that GRU provides a more accurate estimate in absolute percentage error compared to LSTM.\n",
        "\n",
        "**General Conclusions:** The GRU model provides better performance in terms of prediction error based on MSE, RMSE and MAPE values, suggesting that, in this context, GRU may be more effective in capturing sequential patterns and modelling sequential relationships in stock price data."
      ],
      "metadata": {
        "id": "ZA07trdAqLel"
      }
    }
  ]
}